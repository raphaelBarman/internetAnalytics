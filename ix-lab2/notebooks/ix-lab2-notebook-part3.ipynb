{
 "cells": [
  {
   "cell_type": "markdown",
   "metadata": {},
   "source": [
    "# Networks: structure, evolution & processes\n",
    "**Internet Analytics - Lab 2**\n",
    "\n",
    "---\n",
    "\n",
    "**Group:** *Your group letter.*\n",
    "\n",
    "**Names:**\n",
    "\n",
    "* *Name 1*\n",
    "* *Name 2*\n",
    "* *Name 3*\n",
    "\n",
    "---\n",
    "\n",
    "#### Instructions\n",
    "\n",
    "*This is a template for part 3 of the lab. Clearly write your answers, comments and interpretations in Markodown cells. Don't forget that you can add $\\LaTeX$ equations in these cells. Feel free to add or remove any cell.*\n",
    "\n",
    "*Please properly comment your code. Code readability will be considered for grading. To avoid long cells of codes in the notebook, you can also embed long python functions and classes in a separate module. Don’t forget to hand in your module if that is the case. In multiple exercises, you are required to come up with your own method to solve various problems. Be creative and clearly motivate and explain your methods. Creativity and clarity will be considered for grading.*"
   ]
  },
  {
   "cell_type": "markdown",
   "metadata": {},
   "source": [
    "---\n",
    "\n",
    "## 2.3 Epdemics\n",
    "\n",
    "#### Exercise 2.9: Simulate an epidemic outbreak"
   ]
  },
  {
   "cell_type": "code",
   "execution_count": 59,
   "metadata": {
    "collapsed": false
   },
   "outputs": [],
   "source": [
    "import epidemics_helper\n",
    "import json\n",
    "import networkx as nx\n",
    "%matplotlib inline\n",
    "import matplotlib.pyplot as plt"
   ]
  },
  {
   "cell_type": "code",
   "execution_count": 42,
   "metadata": {
    "collapsed": false,
    "scrolled": true
   },
   "outputs": [
    {
     "name": "stdout",
     "output_type": "stream",
     "text": [
      "Number of nodes: 26481\n",
      "Number of edges: 43436\n"
     ]
    }
   ],
   "source": [
    "# Load the data of nyc network\n",
    "with open('../data/nyc_augmented_network.json') as data_file:    \n",
    "    data = json.load(data_file)\n",
    "    \n",
    "graph = nx.Graph()\n",
    "\n",
    "nb_nodes = len(data['links'])\n",
    "\n",
    "# Construct the graph edge by edge (there has to be a nicer way)\n",
    "for i in range(0, nb_nodes-1):\n",
    "    graph.add_edge(data['links'][i]['source'], data['links'][i]['target'])\n",
    "\n",
    "print(\"Number of nodes:\", nx.number_of_nodes(graph))\n",
    "print(\"Number of edges:\", nx.number_of_edges(graph))"
   ]
  },
  {
   "cell_type": "code",
   "execution_count": 43,
   "metadata": {
    "collapsed": false
   },
   "outputs": [
    {
     "name": "stdout",
     "output_type": "stream",
     "text": [
      "Epidemic stopped after 106.40 days | 106.40 days elapsed | 0.1% susceptible, 0.0% infected, 99.9% recovered\n"
     ]
    }
   ],
   "source": [
    "# Build the continuous-time SIR epidemic\n",
    "sir = epidemics_helper.SimulationSIR(graph, beta=10.0, gamma=0.1)\n",
    "\n",
    "# Launch epidemic\n",
    "sir.launch_epidemic(source=23654, max_time=100.0)"
   ]
  },
  {
   "cell_type": "code",
   "execution_count": 64,
   "metadata": {
    "collapsed": false
   },
   "outputs": [
    {
     "ename": "SyntaxError",
     "evalue": "unexpected EOF while parsing (<ipython-input-64-37d550f60de9>, line 9)",
     "output_type": "error",
     "traceback": [
      "\u001b[0;36m  File \u001b[0;32m\"<ipython-input-64-37d550f60de9>\"\u001b[0;36m, line \u001b[0;32m9\u001b[0m\n\u001b[0;31m    \u001b[0m\n\u001b[0m    ^\u001b[0m\n\u001b[0;31mSyntaxError\u001b[0m\u001b[0;31m:\u001b[0m unexpected EOF while parsing\n"
     ]
    }
   ],
   "source": [
    "# plotting values\n",
    "plt.plot(sorted(sir.inf_time))\n",
    "plt.plot(sorted(sir.rec_time))\n",
    "\n",
    "# finding number of infections, susceptible and recovered\n",
    "nb_susc = nb_nodes\n",
    "nb_inf = 0\n",
    "nb_rec = 0\n",
    "\n",
    "# on doit plot nb d'infectés ect en fonction du temps, donc on doit regarder pour chaque temps le nombre d'inf ect? \n",
    "# Idée: sort les inf et rec times \n",
    "\n",
    "for i in range(0, nb_nodes-1):\n",
    "    if(sir.inf_time[i] == inf):\n",
    "        nb_inf += 1\n",
    "    else if(sir.rec_time[i] != inf)\n",
    "        nb_rec += 1\n",
    "        nb_inf -= 1"
   ]
  },
  {
   "cell_type": "markdown",
   "metadata": {},
   "source": [
    "---\n",
    "\n",
    "### 2.3.1 Stop the apocalypse!\n",
    "\n",
    "#### Exercise 2.10: Strategy 1"
   ]
  },
  {
   "cell_type": "code",
   "execution_count": null,
   "metadata": {
    "collapsed": true
   },
   "outputs": [],
   "source": []
  },
  {
   "cell_type": "markdown",
   "metadata": {},
   "source": [
    "#### Exercise 2.11: Strategy 2"
   ]
  },
  {
   "cell_type": "code",
   "execution_count": null,
   "metadata": {
    "collapsed": true
   },
   "outputs": [],
   "source": []
  }
 ],
 "metadata": {
  "anaconda-cloud": {},
  "kernelspec": {
   "display_name": "Python 3",
   "language": "python",
   "name": "python3"
  },
  "language_info": {
   "codemirror_mode": {
    "name": "ipython",
    "version": 3
   },
   "file_extension": ".py",
   "mimetype": "text/x-python",
   "name": "python",
   "nbconvert_exporter": "python",
   "pygments_lexer": "ipython3",
   "version": "3.5.2"
  }
 },
 "nbformat": 4,
 "nbformat_minor": 2
}
