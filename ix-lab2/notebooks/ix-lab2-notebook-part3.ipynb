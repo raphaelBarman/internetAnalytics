{
 "cells": [
  {
   "cell_type": "markdown",
   "metadata": {},
   "source": [
    "# Networks: structure, evolution & processes\n",
    "**Internet Analytics - Lab 2**\n",
    "\n",
    "---\n",
    "\n",
    "**Group:** *R*\n",
    "\n",
    "**Names:**\n",
    "\n",
    "* *Raphael Barman*\n",
    "* *Thierry Bossy*\n",
    "* *Raphael Strebel*\n",
    "\n",
    "---\n",
    "\n",
    "#### Instructions\n",
    "\n",
    "*This is a template for part 3 of the lab. Clearly write your answers, comments and interpretations in Markodown cells. Don't forget that you can add $\\LaTeX$ equations in these cells. Feel free to add or remove any cell.*\n",
    "\n",
    "*Please properly comment your code. Code readability will be considered for grading. To avoid long cells of codes in the notebook, you can also embed long python functions and classes in a separate module. Don’t forget to hand in your module if that is the case. In multiple exercises, you are required to come up with your own method to solve various problems. Be creative and clearly motivate and explain your methods. Creativity and clarity will be considered for grading.*"
   ]
  },
  {
   "cell_type": "markdown",
   "metadata": {},
   "source": [
    "---\n",
    "\n",
    "## 2.3 Epdemics\n",
    "\n",
    "#### Exercise 2.9: Simulate an epidemic outbreak"
   ]
  },
  {
   "cell_type": "code",
   "execution_count": 97,
   "metadata": {
    "collapsed": false
   },
   "outputs": [],
   "source": [
    "import epidemics_helper\n",
    "import json\n",
    "import networkx as nx\n",
    "%matplotlib inline\n",
    "import matplotlib.pyplot as plt\n",
    "import numpy as np\n",
    "import matplotlib.ticker as mtick\n",
    "import operator as op\n",
    "import random as rand"
   ]
  },
  {
   "cell_type": "code",
   "execution_count": 98,
   "metadata": {
    "collapsed": true
   },
   "outputs": [],
   "source": [
    "def load_graph_from_file():\n",
    "    with open('../data/nyc_augmented_network.json') as data_file:    \n",
    "        data = json.load(data_file)\n",
    "    graph = nx.Graph()\n",
    "    nb_edges = len(data['links']) - 1\n",
    "    # Construct the graph edge by edge (there has to be a nicer way)\n",
    "    for i in range(0, nb_edges):\n",
    "        graph.add_edge(data['links'][i]['source'], data['links'][i]['target'])\n",
    "    return graph"
   ]
  },
  {
   "cell_type": "code",
   "execution_count": 99,
   "metadata": {
    "collapsed": false,
    "scrolled": true
   },
   "outputs": [
    {
     "name": "stdout",
     "output_type": "stream",
     "text": [
      "Number of nodes: 26481\n",
      "Number of edges: 43436\n"
     ]
    }
   ],
   "source": [
    "# Load the data of nyc network\n",
    "graph = load_graph_from_file()\n",
    "print(\"Number of nodes:\", nx.number_of_nodes(graph))\n",
    "print(\"Number of edges:\", nb_edges)"
   ]
  },
  {
   "cell_type": "code",
   "execution_count": 100,
   "metadata": {
    "collapsed": false
   },
   "outputs": [
    {
     "name": "stdout",
     "output_type": "stream",
     "text": [
      "Epidemic stopped after 105.12 days | 105.12 days elapsed | 0.1% susceptible, 0.0% infected, 99.9% recovered\n"
     ]
    }
   ],
   "source": [
    "# Build the continuous-time SIR epidemic\n",
    "sir = epidemics_helper.SimulationSIR(graph, beta=10.0, gamma=0.1)\n",
    "\n",
    "# Launch epidemic\n",
    "sir.launch_epidemic(source=23654, max_time=100.0)"
   ]
  },
  {
   "cell_type": "code",
   "execution_count": 101,
   "metadata": {
    "collapsed": false
   },
   "outputs": [],
   "source": [
    "nb_nodes = nx.number_of_nodes(graph)\n",
    "def number_recovered(simul,t):\n",
    "    return len([x for x in simul.rec_time if x < t])\n",
    "def number_infected(simul,t):\n",
    "    return len([x for x in simul.inf_time if x < t])-number_recovered(simul,t)\n",
    "def number_susceptible(simul,t):\n",
    "    return nb_nodes-number_infected(simul,t)-number_recovered(simul,t)\n",
    "\n",
    "def percentage_recovered(simul,t):\n",
    "    return number_recovered(simul,t)/nb_nodes\n",
    "def percentage_infected(simul,t):\n",
    "    return number_infected(simul,t)/nb_nodes\n",
    "def percentage_susceptible(simul,t):\n",
    "    return number_susceptible(simul,t)/nb_nodes"
   ]
  },
  {
   "cell_type": "code",
   "execution_count": 102,
   "metadata": {
    "collapsed": false
   },
   "outputs": [
    {
     "data": {
      "image/png": "[encoded data removed]",
      "text/plain": [
       "<matplotlib.figure.Figure at 0x7f6a85d22ac8>"
      ]
     },
     "metadata": {},
     "output_type": "display_data"
    }
   ],
   "source": [
    "time = np.arange(0.0,100.0,0.5)\n",
    "ax = plt.subplot(1,1,1)\n",
    "ax.plot(time,np.vectorize(percentage_recovered)(sir,time),label=\"Recovered\")\n",
    "ax.plot(time,np.vectorize(percentage_infected)(sir,time), label=\"infected\")\n",
    "ax.plot(time,np.vectorize(percentage_susceptible)(sir,time), label=\"susceptible\")\n",
    "ax.set_xlabel('Time (day)')\n",
    "ax.set_ylabel('Percentage of population')\n",
    "ax.legend(bbox_to_anchor=(1.05, 1), loc=2, borderaxespad=0.)\n",
    "def pct(x,pos): return \"{}%\".format(int(x*100))\n",
    "ax.yaxis.set_major_formatter(plt.FuncFormatter(pct))"
   ]
  },
  {
   "cell_type": "code",
   "execution_count": 103,
   "metadata": {
    "collapsed": false
   },
   "outputs": [],
   "source": [
    "def bisection(f, low, high, eps=0.001):\n",
    "    mid = (low+high)/2.0\n",
    "    if f(mid)==0 or (high-low)/2.0 < eps:\n",
    "        return mid\n",
    "    else:\n",
    "        if f(mid)*f(low) > 0:\n",
    "            return bisection(f,mid,high,eps)\n",
    "        else:\n",
    "            return bisection(f,low,mid,eps)"
   ]
  },
  {
   "cell_type": "code",
   "execution_count": 104,
   "metadata": {
    "collapsed": false
   },
   "outputs": [
    {
     "name": "stdout",
     "output_type": "stream",
     "text": [
      "It takes 7.16 days to have 60% of the population infected.\n",
      "It takes 14.99 days to have 60% of the population dead.\n"
     ]
    }
   ],
   "source": [
    "print(\"It takes %.2f\"% (bisection((lambda t:percentage_infected(sir,t)-0.6),0,20)), \"days to have 60% of the population infected.\")\n",
    "print(\"It takes %.2f\"% (bisection((lambda t:percentage_recovered(sir,t)-0.6),0,40)), \"days to have 60% of the population dead.\")"
   ]
  },
  {
   "cell_type": "markdown",
   "metadata": {},
   "source": [
    "---\n",
    "\n",
    "### 2.3.1 Stop the apocalypse!\n",
    "\n",
    "#### Exercise 2.10: Strategy 1"
   ]
  },
  {
   "cell_type": "code",
   "execution_count": 139,
   "metadata": {
    "collapsed": false
   },
   "outputs": [
    {
     "name": "stdout",
     "output_type": "stream",
     "text": [
      "Epidemic stopped after 101.93 days | 101.93 days elapsed | 0.4% susceptible, 0.0% infected, 99.6% recovered\n"
     ]
    }
   ],
   "source": [
    "graph = load_graph_from_file()\n",
    "# Build the continuous-time SIR epidemic\n",
    "sir = epidemics_helper.SimulationSIR(graph, beta=10.0, gamma=0.1)\n",
    "\n",
    "# Remove edges at random\n",
    "edges_to_remove = 1000\n",
    "randomSample = rand.sample(graph.edges(), edges_to_remove)\n",
    "graph.remove_edges_from(randomSample)\n",
    "\n",
    "# Launch epidemic\n",
    "sir.launch_epidemic(source=rand.randint(0, nx.number_of_nodes(graph) - 1), max_time=100.0)"
   ]
  },
  {
   "cell_type": "markdown",
   "metadata": {},
   "source": [
    "No, this strategy is not very effective since we remove edges between nodes that might not be infected instead of removing edges between nodes that will be infected with high probability."
   ]
  },
  {
   "cell_type": "code",
   "execution_count": 140,
   "metadata": {
    "collapsed": false
   },
   "outputs": [
    {
     "name": "stdout",
     "output_type": "stream",
     "text": [
      "Number of susceptible people after 30 days: 103\n",
      "Number of infected people after 30 days: 2460\n",
      "Number of recovered/dead people after 30 days: 23918\n"
     ]
    }
   ],
   "source": [
    "print(\"Number of susceptible people after 30 days:\", number_susceptible(sir,30))\n",
    "print(\"Number of infected people after 30 days:\", number_infected(sir,30))\n",
    "print(\"Number of recovered/dead people after 30 days:\", number_recovered(sir,30))"
   ]
  },
  {
   "cell_type": "code",
   "execution_count": 141,
   "metadata": {
    "collapsed": false
   },
   "outputs": [
    {
     "name": "stdout",
     "output_type": "stream",
     "text": [
      "Epidemic stopped after 100.25 days | 100.25 days elapsed | 24.4% susceptible, 0.0% infected, 75.6% recovered\n",
      "Number of susceptible people after 30 days: 6461\n",
      "Number of infected people after 30 days: 2643\n",
      "Number of recovered/dead people after 30 days: 17377\n"
     ]
    }
   ],
   "source": [
    "# We remove 9000 additional random edges\n",
    "edges_to_remove = 9000\n",
    "randomSample = rand.sample(graph.edges(), edges_to_remove)\n",
    "graph.remove_edges_from(randomSample)\n",
    "\n",
    "# Launch epidemic\n",
    "sir.launch_epidemic(source=rand.randint(0, nx.number_of_nodes(graph) - 1), max_time=100.0)\n",
    "\n",
    "print(\"Number of susceptible people after 30 days:\", number_susceptible(sir,30))\n",
    "print(\"Number of infected people after 30 days:\", number_infected(sir,30))\n",
    "print(\"Number of recovered/dead people after 30 days:\", number_recovered(sir,30))"
   ]
  },
  {
   "cell_type": "markdown",
   "metadata": {},
   "source": [
    "When removing 10000 edges, there are about 10% (wild guess) more healthy people than after removing 1000 edges."
   ]
  },
  {
   "cell_type": "markdown",
   "metadata": {},
   "source": [
    "#### Exercise 2.11: Strategy 2"
   ]
  },
  {
   "cell_type": "code",
   "execution_count": 143,
   "metadata": {
    "collapsed": false
   },
   "outputs": [],
   "source": [
    "# Algorithm: https://www.ncbi.nlm.nih.gov/pmc/articles/PMC4372451/\n",
    "\n",
    "# ISSUE : VERIFIY HOW WE REMOVE EDGES, WE MIGHT REMOVE 2500 MORE EVERY TIME WE RUN\n",
    "\n",
    "# INITIALIZATION\n",
    "graph = load_graph_from_file()\n",
    "\n",
    "# Consider only giant component\n",
    "giant_comp = max(nx.connected_component_subgraphs(graph), key=nx.number_of_nodes)\n",
    "nb_edges = nx.number_of_edges(giant_comp)\n",
    "nb_edges_to_delete = 2500"
   ]
  },
  {
   "cell_type": "code",
   "execution_count": 17,
   "metadata": {
    "collapsed": false
   },
   "outputs": [],
   "source": [
    "# Compute centrality of every edge\n",
    "centrality = nx.edge_betweenness_centrality(giant_comp) # took me approx 40min to run"
   ]
  },
  {
   "cell_type": "code",
   "execution_count": 85,
   "metadata": {
    "collapsed": false
   },
   "outputs": [
    {
     "name": "stdout",
     "output_type": "stream",
     "text": [
      "19776\n"
     ]
    }
   ],
   "source": [
    "# Use test_centrality and test_giant_component as a test, so that we don't have to compute centrality and giant_comp again\n",
    "test_centrality = centrality\n",
    "test_giant_component = giant_com"
   ]
  },
  {
   "cell_type": "code",
   "execution_count": 84,
   "metadata": {
    "collapsed": false
   },
   "outputs": [
    {
     "name": "stdout",
     "output_type": "stream",
     "text": [
      "19776\n"
     ]
    }
   ],
   "source": [
    "# Remove edges\n",
    "deleted_edges = []\n",
    "nb_edges_to_delete = 2500\n",
    "\n",
    "for i in range(0, nb_edges_to_delete):\n",
    "    # get index of edge with highest centrality\n",
    "    deleted_edges.append(keywithmaxval(test_centrality))\n",
    "    test_centrality.pop(max(test_centrality, key=test_centrality.get))\n",
    "    \n",
    "# delete edges with highest centrality\n",
    "test_giant_component.remove_edges_from(deleted_edges)"
   ]
  },
  {
   "cell_type": "code",
   "execution_count": 70,
   "metadata": {
    "collapsed": false
   },
   "outputs": [],
   "source": [
    "# Need to relable vertices, since we only have a subgraph of the network we have some node indices missing\n",
    "nb_nodes_test = nx.number_of_nodes(test_giant_component)\n",
    "ordered_mapping = {}\n",
    "for i in range(0, nb_nodes_test):\n",
    "    ordered_mapping[test_giant_component.nodes()[i]] = i \n",
    "giant_comp_fixed_indices = nx.relabel_nodes(test_giant_component, ordered_mapping)"
   ]
  },
  {
   "cell_type": "code",
   "execution_count": 77,
   "metadata": {
    "collapsed": false
   },
   "outputs": [
    {
     "name": "stdout",
     "output_type": "stream",
     "text": [
      "Epidemic stopped after 84.91 days | 84.91 days elapsed | 86.7% susceptible, 0.0% infected, 13.3% recovered\n"
     ]
    }
   ],
   "source": [
    "# Build the continuous-time SIR epidemic\n",
    "sir = epidemics_helper.SimulationSIR(giant_comp_fixed_indices, beta=10.0, gamma=0.1)\n",
    "\n",
    "# Launch epidemic\n",
    "sir.launch_epidemic(source=rand.randint(0, nb_nodes - 1), max_time=100.0)"
   ]
  },
  {
   "cell_type": "code",
   "execution_count": 42,
   "metadata": {
    "collapsed": true
   },
   "outputs": [],
   "source": [
    "# http://stackoverflow.com/questions/268272/getting-key-with-maximum-value-in-dictionary\n",
    "def findMaxValue(dic): \n",
    "    v=list(dic.values())\n",
    "    k=list(dic.keys())\n",
    "    return k[v.index(max(v))]"
   ]
  },
  {
   "cell_type": "markdown",
   "metadata": {},
   "source": [
    "We get the result:\n",
    "Epidemic stopped after 84.91 days | 84.91 days elapsed | 86.7% susceptible, 0.0% infected, 13.3% recovered\n",
    "with the new graph."
   ]
  }
 ],
 "metadata": {
  "anaconda-cloud": {},
  "kernelspec": {
   "display_name": "Python 3",
   "language": "python",
   "name": "python3"
  },
  "language_info": {
   "codemirror_mode": {
    "name": "ipython",
    "version": 3
   },
   "file_extension": ".py",
   "mimetype": "text/x-python",
   "name": "python",
   "nbconvert_exporter": "python",
   "pygments_lexer": "ipython3",
   "version": "3.6.0"
  }
 },
 "nbformat": 4,
 "nbformat_minor": 2
}
