{
 "cells": [
  {
   "cell_type": "markdown",
   "metadata": {},
   "source": [
    "# Networks: structure, evolution & processes\n",
    "**Internet Analytics - Lab 2**\n",
    "\n",
    "---\n",
    "\n",
    "**Group:** *R*\n",
    "\n",
    "**Names:**\n",
    "\n",
    "* *Raphael Barman*\n",
    "* *Thierry Bossy*\n",
    "* *Raphael Strebel*\n",
    "\n",
    "---\n",
    "\n",
    "#### Instructions\n",
    "\n",
    "*This is a template for part 3 of the lab. Clearly write your answers, comments and interpretations in Markodown cells. Don't forget that you can add $\\LaTeX$ equations in these cells. Feel free to add or remove any cell.*\n",
    "\n",
    "*Please properly comment your code. Code readability will be considered for grading. To avoid long cells of codes in the notebook, you can also embed long python functions and classes in a separate module. Don’t forget to hand in your module if that is the case. In multiple exercises, you are required to come up with your own method to solve various problems. Be creative and clearly motivate and explain your methods. Creativity and clarity will be considered for grading.*"
   ]
  },
  {
   "cell_type": "markdown",
   "metadata": {},
   "source": [
    "---\n",
    "\n",
    "## 2.3 Epdemics\n",
    "\n",
    "#### Exercise 2.9: Simulate an epidemic outbreak"
   ]
  },
  {
   "cell_type": "code",
   "execution_count": 4,
   "metadata": {
    "collapsed": false
   },
   "outputs": [],
   "source": [
    "import epidemics_helper\n",
    "import json\n",
    "import networkx as nx\n",
    "%matplotlib inline\n",
    "import matplotlib.pyplot as plt\n",
    "import numpy as np"
   ]
  },
  {
   "cell_type": "code",
   "execution_count": 5,
   "metadata": {
    "collapsed": false,
    "scrolled": true
   },
   "outputs": [
    {
     "name": "stdout",
     "output_type": "stream",
     "text": [
      "Number of nodes: 26481\n",
      "Number of edges: 43436\n"
     ]
    }
   ],
   "source": [
    "# Load the data of nyc network\n",
    "with open('../data/nyc_augmented_network.json') as data_file:    \n",
    "    data = json.load(data_file)\n",
    "    \n",
    "graph = nx.Graph()\n",
    "\n",
    "nb_edges = len(data['links']) - 1\n",
    "\n",
    "# Construct the graph edge by edge (there has to be a nicer way)\n",
    "for i in range(0, nb_edges):\n",
    "    graph.add_edge(data['links'][i]['source'], data['links'][i]['target'])\n",
    "\n",
    "print(\"Number of nodes:\", nx.number_of_nodes(graph))\n",
    "print(\"Number of edges:\", nb_edges)"
   ]
  },
  {
   "cell_type": "code",
   "execution_count": 6,
   "metadata": {
    "collapsed": false
   },
   "outputs": [
    {
     "name": "stdout",
     "output_type": "stream",
     "text": [
      "Epidemic stopped after 100.25 days | 100.25 days elapsed | 0.1% susceptible, 0.0% infected, 99.9% recovered\n"
     ]
    }
   ],
   "source": [
    "# Build the continuous-time SIR epidemic\n",
    "sir = epidemics_helper.SimulationSIR(graph, beta=10.0, gamma=0.1)\n",
    "\n",
    "# Launch epidemic\n",
    "sir.launch_epidemic(source=23654, max_time=100.0)"
   ]
  },
  {
   "cell_type": "code",
   "execution_count": 7,
   "metadata": {
    "collapsed": false
   },
   "outputs": [
    {
     "data": {
      "text/plain": [
       "[<matplotlib.lines.Line2D at 0x7fc51868dc88>]"
      ]
     },
     "execution_count": 7,
     "metadata": {},
     "output_type": "execute_result"
    },
    {
     "data": {
      "image/png": "[encoded data removed]",
      "text/plain": [
       "<matplotlib.figure.Figure at 0x7fc53d98add8>"
      ]
     },
     "metadata": {},
     "output_type": "display_data"
    }
   ],
   "source": [
    "# plotting value, need to inverse plot\n",
    "nb_nodes = nx.number_of_nodes(graph)\n",
    "susc_nodes = nb_nodes - 1 # all except source \n",
    "plt.plot(sorted(sir.inf_time))\n",
    "plt.plot(sorted(sir.rec_time))\n",
    "\n",
    "#susc_nodes = total nodes - nodes infected at time t, can a recovered node be infected again?"
   ]
  },
  {
   "cell_type": "markdown",
   "metadata": {},
   "source": [
    "---\n",
    "\n",
    "### 2.3.1 Stop the apocalypse!\n",
    "\n",
    "#### Exercise 2.10: Strategy 1"
   ]
  },
  {
   "cell_type": "code",
   "execution_count": 8,
   "metadata": {
    "collapsed": true
   },
   "outputs": [],
   "source": [
    "import random as rand"
   ]
  },
  {
   "cell_type": "code",
   "execution_count": 9,
   "metadata": {
    "collapsed": false
   },
   "outputs": [
    {
     "name": "stdout",
     "output_type": "stream",
     "text": [
      "Epidemic stopped after 109.41 days | 109.41 days elapsed | 0.3% susceptible, 0.0% infected, 99.7% recovered\n"
     ]
    }
   ],
   "source": [
    "# Build the continuous-time SIR epidemic\n",
    "sir = epidemics_helper.SimulationSIR(graph, beta=10.0, gamma=0.1)\n",
    "\n",
    "# Remove edges at random\n",
    "edges_to_remove = 1000\n",
    "randomSample = rand.sample(graph.edges(), edges_to_remove)\n",
    "graph.remove_edges_from(randomSample)\n",
    "\n",
    "# Launch epidemic\n",
    "sir.launch_epidemic(source=rand.randint(0, nb_nodes - 1), max_time=100.0)"
   ]
  },
  {
   "cell_type": "markdown",
   "metadata": {},
   "source": [
    "No, this strategy is not very effective since we remove edges between nodes that might not be infected instead of removing edges between nodes that will be infected with high probability."
   ]
  },
  {
   "cell_type": "code",
   "execution_count": 10,
   "metadata": {
    "collapsed": false
   },
   "outputs": [
    {
     "name": "stdout",
     "output_type": "stream",
     "text": [
      "Number of healthy people after 30 days: 88\n",
      "Number of infected people after 30 days: 26393\n",
      "Number of dead people after 30 days: 0\n"
     ]
    }
   ],
   "source": [
    "# Hypothesis: at time 0-eps, ALL edges are healthy\n",
    "nb_inf = 0\n",
    "nb_rec = 0\n",
    "nb_healthy = nb_nodes\n",
    "\n",
    "# Count the nodes that are infected or recovered after 30 days\n",
    "for i in range(0, nb_nodes - 1):\n",
    "    if(sir.inf_time[i] < 30):\n",
    "        nb_inf += 1\n",
    "        nb_healthy -= 1\n",
    "    elif(sir.rec_time[i] < 30):\n",
    "        nb_rec += 1\n",
    "        nb_healthy -= 1\n",
    "\n",
    "print(\"Number of healthy people after 30 days:\", nb_healthy)\n",
    "print(\"Number of infected people after 30 days:\", nb_inf)\n",
    "print(\"Number of dead people after 30 days:\", nb_rec)"
   ]
  },
  {
   "cell_type": "code",
   "execution_count": 11,
   "metadata": {
    "collapsed": false
   },
   "outputs": [
    {
     "name": "stdout",
     "output_type": "stream",
     "text": [
      "Epidemic stopped after 92.75 days | 92.75 days elapsed | 24.6% susceptible, 0.0% infected, 75.4% recovered\n"
     ]
    }
   ],
   "source": [
    "# We remove 9000 additional random edges\n",
    "edges_to_remove = 9000\n",
    "randomSample = rand.sample(graph.edges(), edges_to_remove)\n",
    "graph.remove_edges_from(randomSample)\n",
    "\n",
    "# Launch epidemic\n",
    "sir.launch_epidemic(source=rand.randint(0, nb_nodes - 1), max_time=100.0)"
   ]
  },
  {
   "cell_type": "markdown",
   "metadata": {},
   "source": [
    "When removing 10000 edges, there are about 10% (wild guess) more healthy people than after removing 1000 edges."
   ]
  },
  {
   "cell_type": "markdown",
   "metadata": {},
   "source": [
    "#### Exercise 2.11: Strategy 2"
   ]
  },
  {
   "cell_type": "code",
   "execution_count": 24,
   "metadata": {
    "collapsed": false
   },
   "outputs": [
    {
     "ename": "KeyboardInterrupt",
     "evalue": "",
     "output_type": "error",
     "traceback": [
      "\u001b[0;31m---------------------------------------------------------------------------\u001b[0m",
      "\u001b[0;31mKeyboardInterrupt\u001b[0m                         Traceback (most recent call last)",
      "\u001b[0;32m<ipython-input-24-3f14314eb472>\u001b[0m in \u001b[0;36m<module>\u001b[0;34m()\u001b[0m\n\u001b[1;32m      2\u001b[0m \u001b[0mindex_edges\u001b[0m \u001b[0;34m=\u001b[0m \u001b[0;34m{\u001b[0m\u001b[0;34m}\u001b[0m\u001b[0;34m\u001b[0m\u001b[0m\n\u001b[1;32m      3\u001b[0m \u001b[0;32mfor\u001b[0m \u001b[0me\u001b[0m \u001b[0;32min\u001b[0m \u001b[0mrange\u001b[0m\u001b[0;34m(\u001b[0m\u001b[0;36m0\u001b[0m\u001b[0;34m,\u001b[0m \u001b[0mnx\u001b[0m\u001b[0;34m.\u001b[0m\u001b[0mnumber_of_edges\u001b[0m\u001b[0;34m(\u001b[0m\u001b[0mgraph\u001b[0m\u001b[0;34m)\u001b[0m\u001b[0;34m)\u001b[0m\u001b[0;34m:\u001b[0m\u001b[0;34m\u001b[0m\u001b[0m\n\u001b[0;32m----> 4\u001b[0;31m     \u001b[0mindex_edges\u001b[0m\u001b[0;34m[\u001b[0m\u001b[0mgraph\u001b[0m\u001b[0;34m.\u001b[0m\u001b[0medges\u001b[0m\u001b[0;34m(\u001b[0m\u001b[0;34m)\u001b[0m\u001b[0;34m[\u001b[0m\u001b[0me\u001b[0m\u001b[0;34m]\u001b[0m\u001b[0;34m]\u001b[0m \u001b[0;34m=\u001b[0m \u001b[0me\u001b[0m\u001b[0;34m\u001b[0m\u001b[0m\n\u001b[0m",
      "\u001b[0;32m/opt/anaconda3/lib/python3.5/site-packages/networkx/classes/graph.py\u001b[0m in \u001b[0;36medges\u001b[0;34m(self, nbunch, data, default)\u001b[0m\n\u001b[1;32m   1135\u001b[0m \u001b[0;34m\u001b[0m\u001b[0m\n\u001b[1;32m   1136\u001b[0m         \"\"\"\n\u001b[0;32m-> 1137\u001b[0;31m         \u001b[0;32mreturn\u001b[0m \u001b[0mlist\u001b[0m\u001b[0;34m(\u001b[0m\u001b[0mself\u001b[0m\u001b[0;34m.\u001b[0m\u001b[0medges_iter\u001b[0m\u001b[0;34m(\u001b[0m\u001b[0mnbunch\u001b[0m\u001b[0;34m,\u001b[0m \u001b[0mdata\u001b[0m\u001b[0;34m,\u001b[0m \u001b[0mdefault\u001b[0m\u001b[0;34m)\u001b[0m\u001b[0;34m)\u001b[0m\u001b[0;34m\u001b[0m\u001b[0m\n\u001b[0m\u001b[1;32m   1138\u001b[0m \u001b[0;34m\u001b[0m\u001b[0m\n\u001b[1;32m   1139\u001b[0m     \u001b[0;32mdef\u001b[0m \u001b[0medges_iter\u001b[0m\u001b[0;34m(\u001b[0m\u001b[0mself\u001b[0m\u001b[0;34m,\u001b[0m \u001b[0mnbunch\u001b[0m\u001b[0;34m=\u001b[0m\u001b[0;32mNone\u001b[0m\u001b[0;34m,\u001b[0m \u001b[0mdata\u001b[0m\u001b[0;34m=\u001b[0m\u001b[0;32mFalse\u001b[0m\u001b[0;34m,\u001b[0m \u001b[0mdefault\u001b[0m\u001b[0;34m=\u001b[0m\u001b[0;32mNone\u001b[0m\u001b[0;34m)\u001b[0m\u001b[0;34m:\u001b[0m\u001b[0;34m\u001b[0m\u001b[0m\n",
      "\u001b[0;32m/opt/anaconda3/lib/python3.5/site-packages/networkx/classes/graph.py\u001b[0m in \u001b[0;36medges_iter\u001b[0;34m(self, nbunch, data, default)\u001b[0m\n\u001b[1;32m   1207\u001b[0m         \u001b[0;32melse\u001b[0m\u001b[0;34m:\u001b[0m  \u001b[0;31m# data is False\u001b[0m\u001b[0;34m\u001b[0m\u001b[0m\n\u001b[1;32m   1208\u001b[0m             \u001b[0;32mfor\u001b[0m \u001b[0mn\u001b[0m\u001b[0;34m,\u001b[0m \u001b[0mnbrs\u001b[0m \u001b[0;32min\u001b[0m \u001b[0mnodes_nbrs\u001b[0m\u001b[0;34m:\u001b[0m\u001b[0;34m\u001b[0m\u001b[0m\n\u001b[0;32m-> 1209\u001b[0;31m                 \u001b[0;32mfor\u001b[0m \u001b[0mnbr\u001b[0m \u001b[0;32min\u001b[0m \u001b[0mnbrs\u001b[0m\u001b[0;34m:\u001b[0m\u001b[0;34m\u001b[0m\u001b[0m\n\u001b[0m\u001b[1;32m   1210\u001b[0m                     \u001b[0;32mif\u001b[0m \u001b[0mnbr\u001b[0m \u001b[0;32mnot\u001b[0m \u001b[0;32min\u001b[0m \u001b[0mseen\u001b[0m\u001b[0;34m:\u001b[0m\u001b[0;34m\u001b[0m\u001b[0m\n\u001b[1;32m   1211\u001b[0m                         \u001b[0;32myield\u001b[0m \u001b[0;34m(\u001b[0m\u001b[0mn\u001b[0m\u001b[0;34m,\u001b[0m \u001b[0mnbr\u001b[0m\u001b[0;34m)\u001b[0m\u001b[0;34m\u001b[0m\u001b[0m\n",
      "\u001b[0;31mKeyboardInterrupt\u001b[0m: "
     ]
    }
   ],
   "source": []
  },
  {
   "cell_type": "code",
   "execution_count": 14,
   "metadata": {
    "collapsed": false
   },
   "outputs": [
    {
     "ename": "KeyboardInterrupt",
     "evalue": "",
     "output_type": "error",
     "traceback": [
      "\u001b[0;31m---------------------------------------------------------------------------\u001b[0m",
      "\u001b[0;31mKeyboardInterrupt\u001b[0m                         Traceback (most recent call last)",
      "\u001b[0;32m<ipython-input-14-97907a1539ba>\u001b[0m in \u001b[0;36m<module>\u001b[0;34m()\u001b[0m\n\u001b[1;32m     28\u001b[0m                 \u001b[0;31m# Compute list of shortest paths from n1 to n2\u001b[0m\u001b[0;34m\u001b[0m\u001b[0;34m\u001b[0m\u001b[0m\n\u001b[1;32m     29\u001b[0m                 \u001b[0mshortest_paths\u001b[0m \u001b[0;34m=\u001b[0m \u001b[0mnx\u001b[0m\u001b[0;34m.\u001b[0m\u001b[0mall_shortest_paths\u001b[0m\u001b[0;34m(\u001b[0m\u001b[0mgraph\u001b[0m\u001b[0;34m,\u001b[0m \u001b[0mn1\u001b[0m\u001b[0;34m,\u001b[0m \u001b[0mn2\u001b[0m\u001b[0;34m)\u001b[0m\u001b[0;34m\u001b[0m\u001b[0m\n\u001b[0;32m---> 30\u001b[0;31m                 \u001b[0;32mif\u001b[0m\u001b[0;34m(\u001b[0m\u001b[0me\u001b[0m \u001b[0;32min\u001b[0m \u001b[0mshortest_paths\u001b[0m\u001b[0;34m)\u001b[0m\u001b[0;34m:\u001b[0m\u001b[0;34m\u001b[0m\u001b[0m\n\u001b[0m\u001b[1;32m     31\u001b[0m                     \u001b[0mnb_edge_appearence\u001b[0m\u001b[0;34m[\u001b[0m\u001b[0me\u001b[0m\u001b[0;34m]\u001b[0m \u001b[0;34m+=\u001b[0m \u001b[0;36m1\u001b[0m\u001b[0;34m\u001b[0m\u001b[0m\n\u001b[1;32m     32\u001b[0m \u001b[0;34m\u001b[0m\u001b[0m\n",
      "\u001b[0;32m/opt/anaconda3/lib/python3.5/site-packages/networkx/algorithms/shortest_paths/generic.py\u001b[0m in \u001b[0;36mall_shortest_paths\u001b[0;34m(G, source, target, weight)\u001b[0m\n\u001b[1;32m    355\u001b[0m         \u001b[0mpred\u001b[0m\u001b[0;34m,\u001b[0m\u001b[0mdist\u001b[0m \u001b[0;34m=\u001b[0m \u001b[0mnx\u001b[0m\u001b[0;34m.\u001b[0m\u001b[0mdijkstra_predecessor_and_distance\u001b[0m\u001b[0;34m(\u001b[0m\u001b[0mG\u001b[0m\u001b[0;34m,\u001b[0m\u001b[0msource\u001b[0m\u001b[0;34m,\u001b[0m\u001b[0mweight\u001b[0m\u001b[0;34m=\u001b[0m\u001b[0mweight\u001b[0m\u001b[0;34m)\u001b[0m\u001b[0;34m\u001b[0m\u001b[0m\n\u001b[1;32m    356\u001b[0m     \u001b[0;32melse\u001b[0m\u001b[0;34m:\u001b[0m\u001b[0;34m\u001b[0m\u001b[0m\n\u001b[0;32m--> 357\u001b[0;31m         \u001b[0mpred\u001b[0m \u001b[0;34m=\u001b[0m \u001b[0mnx\u001b[0m\u001b[0;34m.\u001b[0m\u001b[0mpredecessor\u001b[0m\u001b[0;34m(\u001b[0m\u001b[0mG\u001b[0m\u001b[0;34m,\u001b[0m\u001b[0msource\u001b[0m\u001b[0;34m)\u001b[0m\u001b[0;34m\u001b[0m\u001b[0m\n\u001b[0m\u001b[1;32m    358\u001b[0m     \u001b[0;32mif\u001b[0m \u001b[0mtarget\u001b[0m \u001b[0;32mnot\u001b[0m \u001b[0;32min\u001b[0m \u001b[0mpred\u001b[0m\u001b[0;34m:\u001b[0m\u001b[0;34m\u001b[0m\u001b[0m\n\u001b[1;32m    359\u001b[0m         \u001b[0;32mraise\u001b[0m \u001b[0mnx\u001b[0m\u001b[0;34m.\u001b[0m\u001b[0mNetworkXNoPath\u001b[0m\u001b[0;34m(\u001b[0m\u001b[0;34m)\u001b[0m\u001b[0;34m\u001b[0m\u001b[0m\n",
      "\u001b[0;32m/opt/anaconda3/lib/python3.5/site-packages/networkx/algorithms/shortest_paths/unweighted.py\u001b[0m in \u001b[0;36mpredecessor\u001b[0;34m(G, source, target, cutoff, return_seen)\u001b[0m\n\u001b[1;32m    333\u001b[0m             \u001b[0;32mfor\u001b[0m \u001b[0mw\u001b[0m \u001b[0;32min\u001b[0m \u001b[0mG\u001b[0m\u001b[0;34m[\u001b[0m\u001b[0mv\u001b[0m\u001b[0;34m]\u001b[0m\u001b[0;34m:\u001b[0m\u001b[0;34m\u001b[0m\u001b[0m\n\u001b[1;32m    334\u001b[0m                 \u001b[0;32mif\u001b[0m \u001b[0mw\u001b[0m \u001b[0;32mnot\u001b[0m \u001b[0;32min\u001b[0m \u001b[0mseen\u001b[0m\u001b[0;34m:\u001b[0m\u001b[0;34m\u001b[0m\u001b[0m\n\u001b[0;32m--> 335\u001b[0;31m                     \u001b[0mpred\u001b[0m\u001b[0;34m[\u001b[0m\u001b[0mw\u001b[0m\u001b[0;34m]\u001b[0m\u001b[0;34m=\u001b[0m\u001b[0;34m[\u001b[0m\u001b[0mv\u001b[0m\u001b[0;34m]\u001b[0m\u001b[0;34m\u001b[0m\u001b[0m\n\u001b[0m\u001b[1;32m    336\u001b[0m                     \u001b[0mseen\u001b[0m\u001b[0;34m[\u001b[0m\u001b[0mw\u001b[0m\u001b[0;34m]\u001b[0m\u001b[0;34m=\u001b[0m\u001b[0mlevel\u001b[0m\u001b[0;34m\u001b[0m\u001b[0m\n\u001b[1;32m    337\u001b[0m                     \u001b[0mnextlevel\u001b[0m\u001b[0;34m.\u001b[0m\u001b[0mappend\u001b[0m\u001b[0;34m(\u001b[0m\u001b[0mw\u001b[0m\u001b[0;34m)\u001b[0m\u001b[0;34m\u001b[0m\u001b[0m\n",
      "\u001b[0;31mKeyboardInterrupt\u001b[0m: "
     ]
    }
   ],
   "source": [
    "# algorithm: https://www.ncbi.nlm.nih.gov/pmc/articles/PMC4372451/\n",
    "# compute edge centrality of all edges:\n",
    "# increment by one all edges in shortest paths from n1 to n2 (using x.all_shortest_paths(graph, n1, n2))\n",
    "# divide all elements in centrality by number of shortest paths from n1 to n2 (edge centrality is a fraction)\n",
    "# do this for all pair of nodes, add centrality fractions to itself at each iteration of the loop\n",
    "# delete the 2500 edges with highest centrality\n",
    "# there must be a faster way to do this than a third for-loop\n",
    "\n",
    "# Consider only giant component\n",
    "giant_comp = max(nx.connected_component_subgraphs(graph), key=nx.number_of_nodes)\n",
    "\n",
    "# Construct dictionary (edge): index \n",
    "index_edges = {}\n",
    "for e in range(0, nx.number_of_edges(graph)):\n",
    "    index_edges[graph.edges()[e]] = e\n",
    "    \n",
    "# Initialize edge centrality\n",
    "centrality = [0]*nx.number_of_edges(giant_comp)\n",
    "#for e in graph.edges():\n",
    "#    centrality[e] = 0\n",
    "    \n",
    "# TODO might be able to replace this by nx.shortest_paths(graph) and putting centrality as edge weight\n",
    "# Il faudrait un dictionnaire index - edge\n",
    "# Compute edge centrality \n",
    "for n1 in giant_comp.nodes():\n",
    "    # Initialize all edge appearences in shortest path to 0\n",
    "    nb_edge_appearence = [0]*nx.number_of_edges(giant_comp)\n",
    "        \n",
    "    for n2 in giant_comp.nodes():\n",
    "        if(n1 != n2):\n",
    "            # for all edges we check if they appear in a shortest path\n",
    "            for e in nx.number_of_edges(giant_comp):\n",
    "                # Compute list of shortest paths from n1 to n2\n",
    "                shortest_paths = nx.all_shortest_paths(giant_comp, n1, n2) \n",
    "                if(e in shortest_paths):\n",
    "                    nb_edge_appearence[e] += 1\n",
    "    \n",
    "    # Get fraction of centralities            \n",
    "    edge_centrality = nb_edge_appearence / len(shortest_paths) \n",
    "    centrality += edge_centrality\n",
    "\n",
    "print(centrality)\n",
    "# Delete edges with highest centrality \n",
    "nb_edges_to_delete = 2500\n",
    "# Need to get indices of 2500 highest centralities\n",
    "#[i for i, j in enumerate(centrality) if j == max(centrality)]"
   ]
  },
  {
   "cell_type": "code",
   "execution_count": null,
   "metadata": {
    "collapsed": true
   },
   "outputs": [],
   "source": []
  }
 ],
 "metadata": {
  "anaconda-cloud": {},
  "kernelspec": {
   "display_name": "Python 3",
   "language": "python",
   "name": "python3"
  },
  "language_info": {
   "codemirror_mode": {
    "name": "ipython",
    "version": 3
   },
   "file_extension": ".py",
   "mimetype": "text/x-python",
   "name": "python",
   "nbconvert_exporter": "python",
   "pygments_lexer": "ipython3",
   "version": "3.5.2"
  }
 },
 "nbformat": 4,
 "nbformat_minor": 2
}
