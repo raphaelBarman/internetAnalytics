{
 "cells": [
  {
   "cell_type": "markdown",
   "metadata": {},
   "source": [
    "# Networks: structure, evolution & processes\n",
    "**Internet Analytics - Lab 2**\n",
    "\n",
    "---\n",
    "\n",
    "**Group:** *R*\n",
    "\n",
    "**Names:**\n",
    "\n",
    "* *Raphael Barman*\n",
    "* *Thierry Bossy*\n",
    "* *Raphael Strebel*\n",
    "\n",
    "---\n",
    "\n",
    "#### Instructions\n",
    "\n",
    "*This is a template for part 3 of the lab. Clearly write your answers, comments and interpretations in Markodown cells. Don't forget that you can add $\\LaTeX$ equations in these cells. Feel free to add or remove any cell.*\n",
    "\n",
    "*Please properly comment your code. Code readability will be considered for grading. To avoid long cells of codes in the notebook, you can also embed long python functions and classes in a separate module. Don’t forget to hand in your module if that is the case. In multiple exercises, you are required to come up with your own method to solve various problems. Be creative and clearly motivate and explain your methods. Creativity and clarity will be considered for grading.*"
   ]
  },
  {
   "cell_type": "markdown",
   "metadata": {},
   "source": [
    "---\n",
    "\n",
    "## 2.3 Epdemics\n",
    "\n",
    "#### Exercise 2.9: Simulate an epidemic outbreak"
   ]
  },
  {
   "cell_type": "code",
   "execution_count": 4,
   "metadata": {
    "collapsed": false
   },
   "outputs": [],
   "source": [
    "import epidemics_helper\n",
    "import json\n",
    "import networkx as nx\n",
    "%matplotlib inline\n",
    "import matplotlib.pyplot as plt\n",
    "import numpy as np"
   ]
  },
  {
   "cell_type": "code",
   "execution_count": 37,
   "metadata": {
    "collapsed": false,
    "scrolled": true
   },
   "outputs": [
    {
     "name": "stdout",
     "output_type": "stream",
     "text": [
      "Number of nodes: 26481\n",
      "Number of edges: 43436\n"
     ]
    }
   ],
   "source": [
    "# Load the data of nyc network\n",
    "with open('../data/nyc_augmented_network.json') as data_file:    \n",
    "    data = json.load(data_file)\n",
    "    \n",
    "graph = nx.Graph()\n",
    "\n",
    "nb_edges = len(data['links']) - 1\n",
    "\n",
    "# Construct the graph edge by edge (there has to be a nicer way)\n",
    "for i in range(0, nb_edges):\n",
    "    graph.add_edge(data['links'][i]['source'], data['links'][i]['target'])\n",
    "\n",
    "print(\"Number of nodes:\", nx.number_of_nodes(graph))\n",
    "print(\"Number of edges:\", nb_edges)"
   ]
  },
  {
   "cell_type": "code",
   "execution_count": 38,
   "metadata": {
    "collapsed": false
   },
   "outputs": [
    {
     "name": "stdout",
     "output_type": "stream",
     "text": [
      "Epidemic stopped after 108.57 days | 108.57 days elapsed | 0.1% susceptible, 0.0% infected, 99.9% recovered\n"
     ]
    }
   ],
   "source": [
    "# Build the continuous-time SIR epidemic\n",
    "sir = epidemics_helper.SimulationSIR(graph, beta=10.0, gamma=0.1)\n",
    "\n",
    "# Launch epidemic\n",
    "sir.launch_epidemic(source=23654, max_time=100.0)"
   ]
  },
  {
   "cell_type": "code",
   "execution_count": 39,
   "metadata": {
    "collapsed": false
   },
   "outputs": [
    {
     "data": {
      "text/plain": [
       "[<matplotlib.lines.Line2D at 0x7f38b3f16630>]"
      ]
     },
     "execution_count": 39,
     "metadata": {},
     "output_type": "execute_result"
    },
    {
     "data": {
      "image/png": "[encoded data removed]",
      "text/plain": [
       "<matplotlib.figure.Figure at 0x7f38b3f167f0>"
      ]
     },
     "metadata": {},
     "output_type": "display_data"
    }
   ],
   "source": [
    "# plotting value, need to inverse plot\n",
    "nb_nodes = nx.number_of_nodes(graph)\n",
    "susc_nodes = nb_nodes - 1 # all except source \n",
    "plt.plot(sorted(sir.inf_time))\n",
    "plt.plot(sorted(sir.rec_time))\n",
    "\n",
    "#susc_nodes = total nodes - nodes infected at time t, can a recovered node be infected again?"
   ]
  },
  {
   "cell_type": "markdown",
   "metadata": {},
   "source": [
    "---\n",
    "\n",
    "### 2.3.1 Stop the apocalypse!\n",
    "\n",
    "#### Exercise 2.10: Strategy 1"
   ]
  },
  {
   "cell_type": "code",
   "execution_count": 17,
   "metadata": {
    "collapsed": true
   },
   "outputs": [],
   "source": [
    "import random as rand"
   ]
  },
  {
   "cell_type": "code",
   "execution_count": 40,
   "metadata": {
    "collapsed": false
   },
   "outputs": [
    {
     "name": "stdout",
     "output_type": "stream",
     "text": [
      "Epidemic stopped after 105.20 days | 105.20 days elapsed | 20.2% susceptible, 0.0% infected, 79.8% recovered\n"
     ]
    }
   ],
   "source": [
    "# Build the continuous-time SIR epidemic\n",
    "sir = epidemics_helper.SimulationSIR(graph, beta=10.0, gamma=0.1)\n",
    "\n",
    "# Remove edges at random\n",
    "edges_to_remove = 1000\n",
    "randomSample = rand.sample(graph.edges(), edges_to_remove)\n",
    "graph.remove_edges_from(randomSample)\n",
    "\n",
    "# Launch epidemic\n",
    "sir.launch_epidemic(source=rand.randint(0, nb_nodes - 1), max_time=100.0)"
   ]
  },
  {
   "cell_type": "markdown",
   "metadata": {},
   "source": [
    "No, this strategy is not very effective since we remove edges between nodes that might not be infected instead of removing edges between nodes that will be infected with high probability."
   ]
  },
  {
   "cell_type": "code",
   "execution_count": 43,
   "metadata": {
    "collapsed": false
   },
   "outputs": [
    {
     "name": "stdout",
     "output_type": "stream",
     "text": [
      "Number of healthy people after 30 days: 6306\n",
      "Number of infected people after 30 days: 20175\n",
      "Number of dead people after 30 days: 0\n"
     ]
    }
   ],
   "source": [
    "# Hypothesis: at time 0-eps, ALL edges are healthy\n",
    "nb_inf = 0\n",
    "nb_rec = 0\n",
    "nb_healthy = nb_nodes\n",
    "\n",
    "# Count the nodes that are infected or recovered after 30 days\n",
    "for i in range(0, nb_nodes - 1):\n",
    "    if(sir.inf_time[i] < 30):\n",
    "        nb_inf += 1\n",
    "        nb_healthy -= 1\n",
    "    elif(sir.rec_time[i] < 30):\n",
    "        nb_rec += 1\n",
    "        nb_healthy -= 1\n",
    "\n",
    "print(\"Number of healthy people after 30 days:\", nb_healthy)\n",
    "print(\"Number of infected people after 30 days:\", nb_inf)\n",
    "print(\"Number of dead people after 30 days:\", nb_rec)"
   ]
  },
  {
   "cell_type": "code",
   "execution_count": 42,
   "metadata": {
    "collapsed": false
   },
   "outputs": [
    {
     "name": "stdout",
     "output_type": "stream",
     "text": [
      "Epidemic stopped after 100.90 days | 100.90 days elapsed | 23.8% susceptible, 0.0% infected, 76.2% recovered\n"
     ]
    }
   ],
   "source": [
    "# We remove 9000 additional random edges\n",
    "edges_to_remove = 9000\n",
    "randomSample = rand.sample(graph.edges(), edges_to_remove)\n",
    "graph.remove_edges_from(randomSample)\n",
    "\n",
    "# Launch epidemic\n",
    "sir.launch_epidemic(source=rand.randint(0, nb_nodes - 1), max_time=100.0)"
   ]
  },
  {
   "cell_type": "markdown",
   "metadata": {},
   "source": [
    "When removing 10000 edges, there are about 10% (wild guess) more healthy people than after removing 1000 edges."
   ]
  },
  {
   "cell_type": "markdown",
   "metadata": {},
   "source": [
    "#### Exercise 2.11: Strategy 2"
   ]
  },
  {
   "cell_type": "code",
   "execution_count": 44,
   "metadata": {
    "collapsed": true
   },
   "outputs": [],
   "source": [
    "# algorithm: https://www.ncbi.nlm.nih.gov/pmc/articles/PMC4372451/\n",
    "# compute edge centrality of all edges:\n",
    "# increment by one all edges in shortest paths from n1 to n2 (using x.all_shortest_paths(graph, n1, n2))\n",
    "# divide all elements in centrality by number of shortest paths from n1 to n2 (edge centrality is a fraction)\n",
    "# do this for all pair of nodes, add centrality fractions to itself at each iteration of the loop\n",
    "# delete the 2500 edges with highest centrality\n",
    "# there must be a faster way to do this than a third for-loop\n",
    "\n",
    "\n",
    "# Consider only giant component\n",
    "giant_comp = max(nx.connected_component_subgraphs(graph), key=nx.number_of_nodes)\n",
    "\n",
    "# Initialize edge centrality\n",
    "centrality = []\n",
    "for e in graph.edges():\n",
    "    centrality[e] = 0\n",
    "    \n",
    "# Compute edge centrality\n",
    "for n1 in graph.nodes():\n",
    "    # Initialize all edge appearences in shortest path to 0\n",
    "    nb_edge_appearence = [] \n",
    "    for e in graph.edges():\n",
    "        nb_edge_appearence[e] = 0 \n",
    "        \n",
    "    for n2 in graph.nodes():\n",
    "        if(n1 != n2):\n",
    "            # for all edges we check if they appear in a shortest path\n",
    "            for e in graph.edges():\n",
    "                # Compute list of shortest paths from n1 to n2\n",
    "                shortest_paths = nx.all_shortest_paths(graph, n1, n2) \n",
    "                if(e in shortest_paths):\n",
    "                    nb_edge_appearence[e] += 1\n",
    "    \n",
    "    # Get fraction of centralities            \n",
    "    edge_centrality = nb_edge_appearence / len(shortest_paths) \n",
    "    centrality += edge_centrality\n",
    "\n",
    "# Delete edges with highest centrality \n",
    "nb_edges_to_delete = 2500\n",
    "# Need to get indices of 2500 highest centralities"
   ]
  }
 ],
 "metadata": {
  "anaconda-cloud": {},
  "kernelspec": {
   "display_name": "Python 3",
   "language": "python",
   "name": "python3"
  },
  "language_info": {
   "codemirror_mode": {
    "name": "ipython",
    "version": 3
   },
   "file_extension": ".py",
   "mimetype": "text/x-python",
   "name": "python",
   "nbconvert_exporter": "python",
   "pygments_lexer": "ipython3",
   "version": "3.5.2"
  }
 },
 "nbformat": 4,
 "nbformat_minor": 2
}
