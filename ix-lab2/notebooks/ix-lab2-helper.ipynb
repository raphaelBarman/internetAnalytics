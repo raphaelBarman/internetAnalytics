{
 "cells": [
  {
   "cell_type": "markdown",
   "metadata": {},
   "source": [
    "# Networks: structure, evolution & processes\n",
    "**Internet Analytics - Lab 2 helper**\n",
    "\n",
    "In this notebook, you can find snippets of Python code to help you solve the exercises of the lab.\n",
    "\n",
    "---\n",
    "\n",
    "### 2.2 Network Sampling\n",
    "\n",
    "You can use the library [`requests`](http://docs.python-requests.org/en/master/) to extract information about a node as follows:"
   ]
  },
  {
   "cell_type": "code",
   "execution_count": 1,
   "metadata": {
    "collapsed": true
   },
   "outputs": [],
   "source": [
    "import requests"
   ]
  },
  {
   "cell_type": "code",
   "execution_count": 2,
   "metadata": {
    "collapsed": false
   },
   "outputs": [
    {
     "name": "stdout",
     "output_type": "stream",
     "text": [
      "{'age': 19, 'friends': ['c3e586a1b780b0bfac50d61c902f957a', '573fa358af72852d7d36e12ed90aff51', '966c890624bad6d0d807cf24c0b26963', '5cb4178ee9f8a6ea16f7f26f3ebf6e09', '0ac278a84be299dc853aed249ee7528a', 'b8896e5f44795c509af3b7914339bddb', '8244778254179b4196d2c85f316bab38', '9fcf6ebe0f0760fe63b101fbe0f8eb07', '82eef85cd7ce3eae40f2c05bcca965c2', 'b34f0b64b31020bffd2484b3740d982f', '4b14ee0d12780cbfe4726aa6be4a70fb', '0457a6051e65f746bfe894e3ae79557e', '019f45fc9ac03bdf6a0a52fc50b0d858', 'f6d2b80514bb808c016b203b42b506f8', '42e6c5748653be90304b93ac705c356a', '0072e9aaa29f1b57f619b03ef35350fd', '6d5032a8281e540e828ccf98ab6d3808', '1bf8f2b38cf1c753ea5f2601d229395a']}\n"
     ]
    }
   ],
   "source": [
    "# Base url of the API\n",
    "URL_TEMPLATE = 'http://iccluster118.iccluster.epfl.ch:5050/v1.0/facebook?user={user_id}'\n",
    "# Target user id\n",
    "user_id = 'f30ff3966f16ed62f5165a229a19b319'\n",
    "# The actual url to call \n",
    "url = URL_TEMPLATE.format(user_id=user_id)\n",
    "# Execute the HTTP Get request\n",
    "response = requests.get(url)\n",
    "# Format the json response as a Python dict\n",
    "data = response.json()\n",
    "print(data)"
   ]
  },
  {
   "cell_type": "markdown",
   "metadata": {},
   "source": [
    "---\n",
    "\n",
    "### 2.3 Epidemics\n",
    "\n",
    "#### Simulation\n",
    "\n",
    "We provide you with the module `epidemics_helper` including a Python class `SimulationSIR` to simulate epidemics. Read the documentation of the code if you have additional questions concerning its behavior."
   ]
  },
  {
   "cell_type": "code",
   "execution_count": null,
   "metadata": {
    "collapsed": true
   },
   "outputs": [],
   "source": [
    "import epidemics_helper"
   ]
  },
  {
   "cell_type": "markdown",
   "metadata": {},
   "source": [
    "The `SimulationSIR` object can simulate continuous-time [SIR] epidemics propagating over a network. To initialize it, you need to provide 3 parameters:\n",
    "\n",
    "* A graph `G` of type `networkx.Graph` over which the epidemic propagates,\n",
    "* The parameter $\\beta$ of type `float` corresponding to the rate of infection at which nodes infect their neighbors,\n",
    "* The parameter $\\gamma$ of type `float` corresponding to the rate at which nodes recover from the disease-\n",
    "\n",
    "The graph `G` is assumed to have nodes labelled using using consecutive integers starting at $0$. This is the case for the graph `nyc_augmented_network.json` that we are using.\n",
    "\n",
    " [SIR]: https://en.wikipedia.org/wiki/Epidemic_model#The_SIR_model\n",
    " "
   ]
  },
  {
   "cell_type": "code",
   "execution_count": null,
   "metadata": {
    "collapsed": false
   },
   "outputs": [],
   "source": [
    "G = # ... YOUR CODE HERE ..."
   ]
  },
  {
   "cell_type": "code",
   "execution_count": null,
   "metadata": {
    "collapsed": false
   },
   "outputs": [],
   "source": [
    "sir = epidemics_helper.SimulationSIR(G, beta=100.0, gamma=1.0)"
   ]
  },
  {
   "cell_type": "markdown",
   "metadata": {},
   "source": [
    "To start the simulation, use the function `launch_epidemic` which takes as input the source node `source`, and the maximum duration `max_time` the epidemic needs to run for."
   ]
  },
  {
   "cell_type": "code",
   "execution_count": null,
   "metadata": {
    "collapsed": false,
    "scrolled": true
   },
   "outputs": [],
   "source": [
    "sir.launch_epidemic(source=0, max_time=100.0)"
   ]
  },
  {
   "cell_type": "markdown",
   "metadata": {},
   "source": [
    "You may want to extract the time of infection (resp. recovery) of each nodes, accessible by the `SimulationSIR` attribute `inf_time` (resp. `rec_time`). Both attribute are `Numpy` one-dimensional arrays of length $N$ (i.e. the number of nodes in the graph).\n",
    "\n",
    "To get the infection time of node `i`, type:\n",
    "```\n",
    "sir.inf_time[i]\n",
    "```\n",
    "Similarly, to get the recovery time of node `i`, type:\n",
    "```\n",
    "sir.rec_time[i]\n",
    "```\n",
    "As stated before, the nodes are supposed to be labelled using using consecutive integers starting at $0$.\n",
    "\n",
    "By default, if a node has not been infected (resp. recovered) then its infection (resp. recovery) time is set to `inf`."
   ]
  },
  {
   "cell_type": "code",
   "execution_count": null,
   "metadata": {
    "collapsed": false
   },
   "outputs": [],
   "source": [
    "node_id = 123\n",
    "print('Node: ', node_id)\n",
    "print('Infection time: ', sir.inf_time[node_id]) \n",
    "print('Recovery time: ', sir.rec_time[node_id])"
   ]
  }
 ],
 "metadata": {
  "anaconda-cloud": {},
  "kernelspec": {
   "display_name": "Python 3",
   "language": "python",
   "name": "python3"
  },
  "language_info": {
   "codemirror_mode": {
    "name": "ipython",
    "version": 3
   },
   "file_extension": ".py",
   "mimetype": "text/x-python",
   "name": "python",
   "nbconvert_exporter": "python",
   "pygments_lexer": "ipython3",
   "version": "3.6.0"
  }
 },
 "nbformat": 4,
 "nbformat_minor": 2
}
