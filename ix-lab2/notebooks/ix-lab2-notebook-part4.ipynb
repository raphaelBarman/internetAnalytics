{
 "cells": [
  {
   "cell_type": "markdown",
   "metadata": {},
   "source": [
    "# Networks: structure, evolution & processes\n",
    "**Internet Analytics - Lab 2**\n",
    "\n",
    "---\n",
    "\n",
    "**Group:** *R*\n",
    "\n",
    "**Names:**\n",
    "\n",
    "* *Raphael Barman*\n",
    "* *Thierry Bossy*\n",
    "* *Raphael Strebel*\n",
    "\n",
    "---\n",
    "\n",
    "#### Instructions\n",
    "\n",
    "*This is a template for part 4 of the lab. Clearly write your answers, comments and interpretations in Markodown cells. Don't forget that you can add $\\LaTeX$ equations in these cells. Feel free to add or remove any cell.*\n",
    "\n",
    "*Please properly comment your code. Code readability will be considered for grading. To avoid long cells of codes in the notebook, you can also embed long python functions and classes in a separate module. Don’t forget to hand in your module if that is the case. In multiple exercises, you are required to come up with your own method to solve various problems. Be creative and clearly motivate and explain your methods. Creativity and clarity will be considered for grading.*"
   ]
  },
  {
   "cell_type": "markdown",
   "metadata": {},
   "source": [
    "---\n",
    "\n",
    "## 2.4 PageRank\n",
    "\n",
    "### 2.4.1 Random Surfer Model\n",
    "\n",
    "#### Exercise 2.12"
   ]
  },
  {
   "cell_type": "code",
   "execution_count": 1,
   "metadata": {
    "collapsed": false
   },
   "outputs": [],
   "source": [
    "from pagerank_helper import google_matrix, power_iter\n",
    "\n",
    "import random as rand\n",
    "import matplotlib.pyplot as plt\n",
    "import numpy.linalg as la\n",
    "import csv\n",
    "import networkx as nx\n",
    "import numpy as np\n",
    "# We hide the numpy warning for cleaner cells\n",
    "np.seterr(all='ignore')\n",
    "%matplotlib inline"
   ]
  },
  {
   "cell_type": "code",
   "execution_count": 2,
   "metadata": {
    "collapsed": true
   },
   "outputs": [],
   "source": [
    "# Random walk algorithm\n",
    "def randomWalk(graph, nb_visits):\n",
    "    \n",
    "    nb_nodes = len(graph.nodes())\n",
    "    \n",
    "    # Array keeping track of number of times each node is visited (initilized to 0)\n",
    "    total_visits = [0]*nb_nodes\n",
    "\n",
    "    # Choose source node randomly\n",
    "    source = graph.nodes()[rand.randint(0, nb_nodes-1)]\n",
    "    total_visits[int(source)] = 1 \n",
    "    current_node = source\n",
    "    \n",
    "    for i in range(0, nb_visits-1):\n",
    "        nb_neighbors = len(graph.neighbors(current_node))\n",
    "        # Break if we are in an absorbing node\n",
    "        if(nb_neighbors == 0):\n",
    "            break\n",
    "        # Choose next node randomly from the list of neighbors of the current node\n",
    "        next_node = graph.neighbors(current_node)[rand.randint(0, nb_neighbors-1)]\n",
    "        # Increment the total number of visits\n",
    "        total_visits[int(next_node)] = total_visits[int(next_node)] + 1\n",
    "        current_node = next_node \n",
    "    return total_visits"
   ]
  },
  {
   "cell_type": "code",
   "execution_count": 3,
   "metadata": {
    "collapsed": false
   },
   "outputs": [
    {
     "name": "stdout",
     "output_type": "stream",
     "text": [
      "[0, 0, 0, 0, 2864, 1409, 2863, 2864]\n"
     ]
    }
   ],
   "source": [
    "# On components graph\n",
    "components_graph = nx.DiGraph()\n",
    "components_graph = nx.read_adjlist('../data/components.graph', create_using=nx.DiGraph())\n",
    "\n",
    "# Arbitrary number of visits\n",
    "nb_visits = 10000\n",
    "\n",
    "print(randomWalk(components_graph, nb_visits))"
   ]
  },
  {
   "cell_type": "markdown",
   "metadata": {},
   "source": [
    "In the components graph, there are two connected components, the first one being (0,1,2,3) and the second one being (4,5,6,7). Since we choose the source randomly, we either start (and stay) in the first component or in the second. When we draw the graph we get:"
   ]
  },
  {
   "cell_type": "code",
   "execution_count": 4,
   "metadata": {
    "collapsed": false
   },
   "outputs": [
    {
     "data": {
      "image/png": "[encoded data removed]",
      "text/plain": [
       "<matplotlib.figure.Figure at 0x7f1ebe1789e8>"
      ]
     },
     "metadata": {},
     "output_type": "display_data"
    }
   ],
   "source": [
    "nx.draw(components_graph, with_labels=True)"
   ]
  },
  {
   "cell_type": "markdown",
   "metadata": {},
   "source": [
    "When we start in the first component, we always go trough the nodes 0, 1 and 2 but we only take the \"detour\" from node 1 to node 3 with 0.5 probability, before going back to node 2. This explains why nodes 0, 1 and 2 have the same number of visits (+- 1 depending on which is the source) and why node 3 is visited approximately half as much as the other nodes. Similarly, in the second component we pass through nodes 4, 6 and 7 at every turn but we go through node 5 with probability 0.5. So nodes 4, 6 and 7 have the same number of visits (again +-1 depending on the source) and node 5 has approximately half as much visits as the other nodes."
   ]
  },
  {
   "cell_type": "code",
   "execution_count": 5,
   "metadata": {
    "collapsed": false
   },
   "outputs": [
    {
     "name": "stdout",
     "output_type": "stream",
     "text": [
      "[0, 1, 2, 2, 0]\n"
     ]
    }
   ],
   "source": [
    "# On absorbing graph \n",
    "absorbing_graph = nx.DiGraph()\n",
    "absorbing_graph = nx.read_adjlist('../data/absorbing.graph', create_using=nx.DiGraph())\n",
    "\n",
    "# Arbitrary number of visits\n",
    "nb_visits = 10000\n",
    "\n",
    "print(randomWalk(absorbing_graph, nb_visits))"
   ]
  },
  {
   "cell_type": "markdown",
   "metadata": {},
   "source": [
    "Absorbing graph:\n",
    "When drawing the absorbing graph we get the following picture:"
   ]
  },
  {
   "cell_type": "code",
   "execution_count": 6,
   "metadata": {
    "collapsed": false
   },
   "outputs": [
    {
     "data": {
      "image/png": "[encoded data removed]",
      "text/plain": [
       "<matplotlib.figure.Figure at 0x7f1e91b82240>"
      ]
     },
     "metadata": {},
     "output_type": "display_data"
    }
   ],
   "source": [
    "nx.draw(absorbing_graph, with_labels=True)"
   ]
  },
  {
   "cell_type": "markdown",
   "metadata": {},
   "source": [
    "In the absorbing graph we notice that node 1 is absorbing (it has no outgoing edges), so we stay in node 1 once we arrive at it. The only way we can avoid node 1 is by going back and forth from node 2 to node 3 (one of them has to be the source vertex). However, when in node 3, we go back to node 2 only with probability 1/3, and any other node we travel to ends up going to node 1 : either we go to node 1 directly from node 3, or we go to node 0 which can again either go to node 1 or to node 4. From node 4 we can only go to node 1. This explains why we have so few iterations even when trying to visit a large number of nodes."
   ]
  },
  {
   "cell_type": "markdown",
   "metadata": {},
   "source": [
    "#### Exercise 2.13"
   ]
  },
  {
   "cell_type": "code",
   "execution_count": 7,
   "metadata": {
    "collapsed": true
   },
   "outputs": [],
   "source": [
    "# Pagerank algorithm\n",
    "def pageRank(graph, nb_visits):\n",
    "    nb_nodes = len(graph.nodes())\n",
    "    \n",
    "    # Array keeping track of number of times each node is visited (initilized to 0)\n",
    "    total_visits = [0]*nb_nodes\n",
    "\n",
    "    # Choose source node randomly\n",
    "    source = graph.nodes()[rand.randint(0, nb_nodes-1)]\n",
    "        \n",
    "    total_visits[int(source)] = 1 \n",
    "    current_node = source\n",
    "    \n",
    "    for i in range(0, nb_visits-1):\n",
    "        damping_factor = 0.15\n",
    "        # Choose number randomly between 0 and 1\n",
    "        r = rand.uniform(0,1)\n",
    "        # Choose next node randomly with probability 0.15\n",
    "        if(r <= damping_factor):\n",
    "            next_node = graph.nodes()[rand.randint(0, nb_nodes-1)]\n",
    "        else:\n",
    "            # Choose next node randomly from the list of neighbors of the current node\n",
    "            nb_neighbors = len(graph.neighbors(current_node))\n",
    "            # Choose new random node if we are in an absorbing node\n",
    "            if(nb_neighbors == 0):\n",
    "                next_node = graph.nodes()[rand.randint(0, nb_nodes-1)]\n",
    "            else:\n",
    "                next_node = graph.neighbors(current_node)[rand.randint(0, nb_neighbors-1)]\n",
    "        total_visits[int(next_node)] = total_visits[int(next_node)] + 1\n",
    "        current_node = next_node \n",
    "    # Compute ratio of visits for all nodes\n",
    "    ratio = [x / nb_visits for x in total_visits]\n",
    "    return ratio"
   ]
  },
  {
   "cell_type": "markdown",
   "metadata": {},
   "source": [
    "##### Components graph"
   ]
  },
  {
   "cell_type": "code",
   "execution_count": 8,
   "metadata": {
    "collapsed": false
   },
   "outputs": [
    {
     "name": "stdout",
     "output_type": "stream",
     "text": [
      "[0.14126, 0.13891, 0.14328, 0.07617, 0.13772, 0.07768, 0.14399, 0.14099]\n"
     ]
    }
   ],
   "source": [
    "components_graph = nx.DiGraph()\n",
    "components_graph = nx.read_adjlist('../data/components.graph', create_using=nx.DiGraph())\n",
    "\n",
    "# Arbitrary number of visits\n",
    "nb_visits = 100000\n",
    "\n",
    "print(pageRank(components_graph, nb_visits))"
   ]
  },
  {
   "cell_type": "markdown",
   "metadata": {},
   "source": [
    "On this graph we see that we visit nodes 0, 1, 2, 4, 6 and 7 with the same probability 1/7 and nodes 3 and 5 are visited with probability 1/14, which makes sense since, as we saw previously, nodes 3 and 5 are visited every second time we go through their respective connected components whereas the other nodes are always visited. The damping factor makes us hop from one connected component to the other with probability 0.15, which showes the resulting total visits of nodes to be consistent."
   ]
  },
  {
   "cell_type": "markdown",
   "metadata": {},
   "source": [
    "##### Absorbing graph"
   ]
  },
  {
   "cell_type": "code",
   "execution_count": 9,
   "metadata": {
    "collapsed": false
   },
   "outputs": [
    {
     "name": "stdout",
     "output_type": "stream",
     "text": [
      "[0.14879, 0.33946, 0.14784, 0.21339, 0.15052]\n"
     ]
    }
   ],
   "source": [
    "# On absorbing graph \n",
    "absorbing_graph = nx.DiGraph()\n",
    "absorbing_graph = nx.read_adjlist('../data/absorbing.graph', create_using=nx.DiGraph())\n",
    "\n",
    "# Arbitrary number of visits\n",
    "nb_visits = 100000\n",
    "\n",
    "print(pageRank(absorbing_graph, nb_visits))"
   ]
  },
  {
   "cell_type": "markdown",
   "metadata": {},
   "source": [
    "We see that we visit node 1 more or less one out of three times, we visit node 3 approximately one out of five times, nodes 0 and 2 are visited with probability ~0.14 and node 4 is visited with probability ~0.15. This result is consistent since all nodes except for one have outgoing edges to node 1. Furthermore, when in node 2, we necessarily go to node 3, which explains why node 3 has more visits than nodes 0, 2 and 4. Node 4 has a bit more visits than nodes 0 and 2 because when in node 4, we go directly to node 1 and then restart from a new random node, which might be node 4 again whereas when in node 0 there is a chance to go to node 4 and when in node 2, we go to node 3, which goes to node 0 with probability 1/3, which in turn can go to node 4. These are just small probabilities but they are visible when the number of visits is high."
   ]
  },
  {
   "cell_type": "markdown",
   "metadata": {},
   "source": [
    "---\n",
    "\n",
    "### 2.4.2 Power Iteration Method\n",
    "\n",
    "#### Exercise 2.14: Power Iteration method"
   ]
  },
  {
   "cell_type": "code",
   "execution_count": 10,
   "metadata": {
    "collapsed": true
   },
   "outputs": [],
   "source": [
    "# Compute the page rank of the given graph\n",
    "# For details on the implementation of google_matrix\n",
    "# and power_iter, cf. pagerank_help.py\n",
    "def pageRankIter(graph, theta = 0.85, threshold = 0.001):\n",
    "    N = nx.number_of_nodes(graph)\n",
    "    G  = google_matrix(graph,theta)\n",
    "    init = np.full((N,), 1./N, dtype=float)\n",
    "    return power_iter(G,init,threshold)"
   ]
  },
  {
   "cell_type": "code",
   "execution_count": 11,
   "metadata": {
    "collapsed": false
   },
   "outputs": [],
   "source": [
    "# We create a dictionary nodes number -> title\n",
    "titles = {}\n",
    "with open('../data/wikipedia_titles.tsv') as file:\n",
    "    reader = csv.reader(file, delimiter='\\t')\n",
    "    # skip first row\n",
    "    next(reader,None)\n",
    "    for row in reader:\n",
    "        titles[int(row[0])] = row[1]"
   ]
  },
  {
   "cell_type": "code",
   "execution_count": 12,
   "metadata": {
    "collapsed": false
   },
   "outputs": [
    {
     "name": "stdout",
     "output_type": "stream",
     "text": [
      "The top ten pages with the best pagerank score are : \n",
      "1 United States\n",
      "2 United Kingdom\n",
      "3 England\n",
      "4 France\n",
      "5 Europe\n",
      "6 Biological classification\n",
      "7 Animal\n",
      "8 World War II\n",
      "9 London\n",
      "10 Germany\n"
     ]
    }
   ],
   "source": [
    "# Load the wikipedia graph\n",
    "wiki_graph = nx.DiGraph()\n",
    "wiki_graph = nx.read_adjlist('../data/wikipedia.graph', create_using=nx.DiGraph())\n",
    "\n",
    "# Find the top ten pages\n",
    "topPages = pageRankIter(wiki_graph).argsort()[-10:][::-1]\n",
    "print(\"The top ten pages with the best pagerank score are : \")\n",
    "for i in range(0,len(topPages)):\n",
    "    print(i+1, titles[topPages[i]])"
   ]
  },
  {
   "cell_type": "markdown",
   "metadata": {},
   "source": [
    "---\n",
    "\n",
    "### 2.4.3 Gaming the system *(Bonus)*\n",
    "\n",
    "#### Exercise 2.15 *(Bonus)*"
   ]
  },
  {
   "cell_type": "markdown",
   "metadata": {},
   "source": [
    "The idea is simple, we find the 300 pages with the highest rank and add a link from them to the 'History of mathematics' page. This should be enough to make it in the top pages. Note that this strategy would be hard to implement in real life, you would need to sucessfully edit the top 300 pages."
   ]
  },
  {
   "cell_type": "code",
   "execution_count": 13,
   "metadata": {
    "collapsed": false
   },
   "outputs": [
    {
     "name": "stdout",
     "output_type": "stream",
     "text": [
      "Rank of History of mathematics before is 1.65E+153\n",
      "Rank of History of mathematics before is 2.08E+156\n",
      "\n",
      "New top 10 :\n",
      "1 History of mathematics\n",
      "2 United States\n",
      "3 United Kingdom\n",
      "4 England\n",
      "5 France\n",
      "6 Biological classification\n",
      "7 Europe\n",
      "8 Animal\n",
      "9 London\n",
      "10 World War II\n"
     ]
    }
   ],
   "source": [
    "# On wiki graph\n",
    "wiki_graph = nx.DiGraph()\n",
    "wiki_graph = nx.read_adjlist('../data/wikipedia.graph', create_using=nx.DiGraph())\n",
    "page_rank = pageRankIter(wiki_graph)\n",
    "\n",
    "# Index of history of mathematics : 2463\n",
    "history_index = 2463\n",
    "print(\"Rank of %s before is %.2E\"%(titles[history_index],page_rank[history_index]))\n",
    "top_300 = page_rank.argsort()[-300:][::-1]\n",
    "for page in top_300:\n",
    "    wiki_graph.add_edge(page,history_index)\n",
    "page_rank = pageRankIter(wiki_graph)\n",
    "print(\"Rank of %s before is %.2E\"%(titles[history_index],page_rank[history_index]))\n",
    "print(\"\\nNew top 10 :\")\n",
    "topPages = pageRankIter(wiki_graph).argsort()[-10:][::-1]\n",
    "for i in range(0,len(topPages)):\n",
    "    print(i+1, titles[topPages[i]])"
   ]
  }
 ],
 "metadata": {
  "anaconda-cloud": {},
  "kernelspec": {
   "display_name": "Python 3",
   "language": "python",
   "name": "python3"
  },
  "language_info": {
   "codemirror_mode": {
    "name": "ipython",
    "version": 3
   },
   "file_extension": ".py",
   "mimetype": "text/x-python",
   "name": "python",
   "nbconvert_exporter": "python",
   "pygments_lexer": "ipython3",
   "version": "3.5.2"
  }
 },
 "nbformat": 4,
 "nbformat_minor": 2
}
