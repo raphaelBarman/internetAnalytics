{
 "cells": [
  {
   "cell_type": "markdown",
   "metadata": {},
   "source": [
    "# Networks: structure, evolution & processes\n",
    "**Internet Analytics - Lab 2**\n",
    "\n",
    "---\n",
    "\n",
    "**Group:** *R*\n",
    "\n",
    "**Names:**\n",
    "\n",
    "* *Raphael Barman*\n",
    "* *Thierry Bossy*\n",
    "* *Raphael Strebel*\n",
    "\n",
    "---\n",
    "\n",
    "#### Instructions\n",
    "\n",
    "*This is a template for part 4 of the lab. Clearly write your answers, comments and interpretations in Markodown cells. Don't forget that you can add $\\LaTeX$ equations in these cells. Feel free to add or remove any cell.*\n",
    "\n",
    "*Please properly comment your code. Code readability will be considered for grading. To avoid long cells of codes in the notebook, you can also embed long python functions and classes in a separate module. Don’t forget to hand in your module if that is the case. In multiple exercises, you are required to come up with your own method to solve various problems. Be creative and clearly motivate and explain your methods. Creativity and clarity will be considered for grading.*"
   ]
  },
  {
   "cell_type": "markdown",
   "metadata": {},
   "source": [
    "---\n",
    "\n",
    "## 2.4 PageRank\n",
    "\n",
    "### 2.4.1 Random Surfer Model\n",
    "\n",
    "#### Exercise 2.12"
   ]
  },
  {
   "cell_type": "code",
   "execution_count": 182,
   "metadata": {
    "collapsed": true
   },
   "outputs": [],
   "source": [
    "import networkx as nx\n",
    "import random as rand\n",
    "import matplotlib.pyplot as plt\n",
    "import numpy as np\n",
    "import numpy.linalg as la\n",
    "import csv\n",
    "%matplotlib inline"
   ]
  },
  {
   "cell_type": "code",
   "execution_count": 2,
   "metadata": {
    "collapsed": true
   },
   "outputs": [],
   "source": [
    "def randomWalk(graph, nb_visits):\n",
    "    \n",
    "    nb_nodes = len(graph.nodes())\n",
    "    \n",
    "    # Array keeping track of number of times each node is visited (initilized to 0)\n",
    "    total_visits = [0]*nb_nodes\n",
    "\n",
    "    # Choose source node randomly\n",
    "    source = graph.nodes()[rand.randint(0, nb_nodes-1)]\n",
    "    total_visits[int(source)] = 1 \n",
    "    current_node = source\n",
    "    \n",
    "    for i in range(0, nb_visits-1):\n",
    "        # Choose next node randomly from the list of neighbors of the current node\n",
    "        nb_neighbors = len(graph.neighbors(current_node))\n",
    "        # Break if we are in an absorbing node\n",
    "        if(nb_neighbors == 0):\n",
    "            break\n",
    "        next_node = graph.neighbors(current_node)[rand.randint(0, nb_neighbors-1)]\n",
    "        total_visits[int(next_node)] = total_visits[int(next_node)] + 1\n",
    "        current_node = next_node \n",
    "    return total_visits\n"
   ]
  },
  {
   "cell_type": "code",
   "execution_count": 3,
   "metadata": {
    "collapsed": false
   },
   "outputs": [
    {
     "name": "stdout",
     "output_type": "stream",
     "text": [
      "[2860, 2859, 2860, 1421, 0, 0, 0, 0]\n"
     ]
    }
   ],
   "source": [
    "# On components graph\n",
    "components_graph = nx.DiGraph()\n",
    "components_graph = nx.read_adjlist('../data/components.graph', create_using=nx.DiGraph())\n",
    "\n",
    "# Arbitrary number of visits\n",
    "nb_visits = 10000\n",
    "\n",
    "print(randomWalk(components_graph, nb_visits))"
   ]
  },
  {
   "cell_type": "code",
   "execution_count": 4,
   "metadata": {
    "collapsed": false
   },
   "outputs": [
    {
     "name": "stdout",
     "output_type": "stream",
     "text": [
      "[0, 1, 0, 0, 0]\n"
     ]
    }
   ],
   "source": [
    "# On absorbing graph \n",
    "absorbing_graph = nx.DiGraph()\n",
    "absorbing_graph = nx.read_adjlist('../data/absorbing.graph', create_using=nx.DiGraph())\n",
    "\n",
    "# Arbitrary number of visits\n",
    "nb_visits = 10000\n",
    "\n",
    "print(randomWalk(absorbing_graph, nb_visits))"
   ]
  },
  {
   "cell_type": "markdown",
   "metadata": {},
   "source": [
    "Components graph:\n",
    "In the components graph, there are two connected components, the first one being (0,1,2,3) and the second one being (4,5,6,7). Since we choose the source randomly, we either start (and stay) in the first component or in the second. When we draw the graph we get:"
   ]
  },
  {
   "cell_type": "code",
   "execution_count": 5,
   "metadata": {
    "collapsed": false
   },
   "outputs": [
    {
     "data": {
      "image/png": "[encoded data removed]",
      "text/plain": [
       "<matplotlib.figure.Figure at 0x7f6131d0c518>"
      ]
     },
     "metadata": {},
     "output_type": "display_data"
    }
   ],
   "source": [
    "nx.draw(components_graph, with_labels=True)"
   ]
  },
  {
   "cell_type": "markdown",
   "metadata": {},
   "source": [
    "And we see that when we are in the first component we always go trough the nodes 0, 1 and 2 but we only go trough 3 with 0.5 probability, which explains the results we got. Similarly, in the second component we pass through nodes 5, 4 and 7 at every turn but we go through node 5 only every second turn."
   ]
  },
  {
   "cell_type": "markdown",
   "metadata": {},
   "source": [
    "Absorbing graph:\n",
    "When drawing the absorbing graph we get the following picture:"
   ]
  },
  {
   "cell_type": "code",
   "execution_count": 6,
   "metadata": {
    "collapsed": false
   },
   "outputs": [
    {
     "data": {
      "image/png": "[encoded data removed]",
      "text/plain": [
       "<matplotlib.figure.Figure at 0x7f6131d0c358>"
      ]
     },
     "metadata": {},
     "output_type": "display_data"
    }
   ],
   "source": [
    "nx.draw(absorbing_graph, with_labels=True)"
   ]
  },
  {
   "cell_type": "markdown",
   "metadata": {},
   "source": [
    "In the absorbing graph we notice that node 1 is absorbing, so we stay in node 1 once we came accross it. The only way we can avoid node 1 is by going back and forth from node 2 to node 3 (one of them has to be the source vertex), but when in node 3, we go back to node 2 with probability 1/3, and any other node we travel to ends up going to node 1. This explains why we have so few iterations even when trying to visit a large number of nodes."
   ]
  },
  {
   "cell_type": "markdown",
   "metadata": {},
   "source": [
    "#### Exercise 2.13"
   ]
  },
  {
   "cell_type": "code",
   "execution_count": 7,
   "metadata": {
    "collapsed": true
   },
   "outputs": [],
   "source": [
    "def pageRank(graph, nb_visits):\n",
    "    nb_nodes = len(graph.nodes())\n",
    "    \n",
    "    # Array keeping track of number of times each node is visited (initilized to 0)\n",
    "    total_visits = [0]*nb_nodes\n",
    "\n",
    "    # Choose source node randomly\n",
    "    source = graph.nodes()[rand.randint(0, nb_nodes-1)]\n",
    "        \n",
    "    total_visits[int(source)] = 1 \n",
    "    current_node = source\n",
    "    \n",
    "    for i in range(0, nb_visits-1):\n",
    "        damping_factor = rand.uniform(0,1)\n",
    "        # Choose next node randomly with probability 0.15\n",
    "        if(damping_factor <= 0.15):\n",
    "            next_node = graph.nodes()[rand.randint(0, nb_nodes-1)]\n",
    "        else:\n",
    "            # Choose next node randomly from the list of neighbors of the current node\n",
    "            nb_neighbors = len(graph.neighbors(current_node))\n",
    "            # Choose new random node if we are in an absorbing node\n",
    "            if(nb_neighbors == 0):\n",
    "                next_node = graph.nodes()[rand.randint(0, nb_nodes-1)]\n",
    "            else:\n",
    "                next_node = graph.neighbors(current_node)[rand.randint(0, nb_neighbors-1)]\n",
    "        total_visits[int(next_node)] = total_visits[int(next_node)] + 1\n",
    "        current_node = next_node \n",
    "    ratio = [x / nb_visits for x in total_visits]\n",
    "    return ratio"
   ]
  },
  {
   "cell_type": "code",
   "execution_count": 8,
   "metadata": {
    "collapsed": false
   },
   "outputs": [
    {
     "name": "stdout",
     "output_type": "stream",
     "text": [
      "[0.1354, 0.1305, 0.1389, 0.073, 0.1463, 0.0786, 0.1498, 0.1475]\n"
     ]
    }
   ],
   "source": [
    "# On components graph\n",
    "components_graph = nx.DiGraph()\n",
    "components_graph = nx.read_adjlist('../data/components.graph', create_using=nx.DiGraph())\n",
    "\n",
    "# Arbitrary number of visits\n",
    "nb_visits = 10000\n",
    "\n",
    "print(pageRank(components_graph, nb_visits))"
   ]
  },
  {
   "cell_type": "code",
   "execution_count": 9,
   "metadata": {
    "collapsed": false
   },
   "outputs": [
    {
     "name": "stdout",
     "output_type": "stream",
     "text": [
      "[0.147, 0.3395, 0.153, 0.2157, 0.1448]\n"
     ]
    }
   ],
   "source": [
    "# On absorbing graph \n",
    "absorbing_graph = nx.DiGraph()\n",
    "absorbing_graph = nx.read_adjlist('../data/absorbing.graph', create_using=nx.DiGraph())\n",
    "\n",
    "# Arbitrary number of visits\n",
    "nb_visits = 10000\n",
    "\n",
    "print(pageRank(absorbing_graph, nb_visits))"
   ]
  },
  {
   "cell_type": "markdown",
   "metadata": {},
   "source": [
    "Components graph:\n",
    "On this graph we see that we visit nodes 0, 1, 2, 4, 6 and 7 with the same probability 1/7 and nodes 3 and 5 are visited with probability 1/14, which makes sense since, as we saw previously, nodes 3 and 5 are visited every second time we go through their respective connected components whereas the other nodes are always visited. The damping factor makes us go from one connected component to the other with probability 0.15, which makes the resulting total visits of nodes consistent."
   ]
  },
  {
   "cell_type": "markdown",
   "metadata": {},
   "source": [
    "Absorbing graph:\n",
    "On this graph the pageRank algorithm makes a lot of sense. We see that we visit node 1 more or less one out of three times, we visit node 3 approximately one out of five times and nodes 0, 2 and 4 are visited more or less 3 times out of twenty. This result is consistent since node 1 has three incoming edges. Furthermore, when we are in node 2, we necessarily go through node 3, which explains why node 3 has more visits."
   ]
  },
  {
   "cell_type": "markdown",
   "metadata": {},
   "source": [
    "---\n",
    "\n",
    "### 2.4.2 Power Iteration Method\n",
    "\n",
    "#### Exercise 2.14: Power Iteration method"
   ]
  },
  {
   "cell_type": "code",
   "execution_count": 21,
   "metadata": {
    "collapsed": true
   },
   "outputs": [],
   "source": []
  },
  {
   "cell_type": "code",
   "execution_count": 97,
   "metadata": {
    "collapsed": false
   },
   "outputs": [
    {
     "name": "stdout",
     "output_type": "stream",
     "text": [
      "[[ 0.  0.  0.  0.  0.]\n",
      " [ 0.  0.  0.  0.  0.]\n",
      " [ 0.  0.  0.  0.  0.]\n",
      " [ 0.  0.  0.  0.  0.]\n",
      " [ 0.  0.  0.  0.  0.]]\n",
      "[[ 0.   0.2  0.4  0.6  0.8]\n",
      " [ 0.   0.2  0.4  0.6  0.8]\n",
      " [ 0.   0.2  0.4  0.6  0.8]\n",
      " [ 0.   0.2  0.4  0.6  0.8]\n",
      " [ 0.   0.2  0.4  0.6  0.8]]\n",
      "[[ 0.1  0.1  0.2  0.3  0.4]\n",
      " [ 0.   0.2  0.2  0.3  0.4]\n",
      " [ 0.   0.1  0.3  0.3  0.4]\n",
      " [ 0.   0.1  0.2  0.4  0.4]\n",
      " [ 0.   0.1  0.2  0.3  0.5]]\n",
      "[ 0.02  0.12  0.22  0.32  0.42]\n",
      "[ 0.002  0.122  0.242  0.362  0.482]\n",
      "[  2.00000000e-04   1.33200000e-01   2.66200000e-01   3.99200000e-01\n",
      "   5.32200000e-01]\n",
      "[  2.00000000e-05   1.46420000e-01   2.92820000e-01   4.39220000e-01\n",
      "   5.85620000e-01]\n",
      "[  2.00000000e-06   1.61052000e-01   3.22102000e-01   4.83152000e-01\n",
      "   6.44202000e-01]\n",
      "[  2.00000000e-07   1.77156200e-01   3.54312200e-01   5.31468200e-01\n",
      "   7.08624200e-01]\n"
     ]
    },
    {
     "name": "stderr",
     "output_type": "stream",
     "text": [
      "/opt/anaconda3/lib/python3.5/site-packages/ipykernel/__main__.py:8: VisibleDeprecationWarning: using a non-integer number instead of an integer will result in an error in the future\n"
     ]
    }
   ],
   "source": [
    "a = getTransitionMatrix(absorbing_graph)\n",
    "print(a)\n",
    "b = getNewTransitionMatrix(a)\n",
    "print(b)\n",
    "g = getGoogleMatrix(b, 0.5)\n",
    "print(g)\n",
    "# Seems to be wrong, total of doubles > 1\n",
    "pi = [1/5, 1/5, 1/5, 1/5, 1/5]\n",
    "pi = np.dot(pi, g)\n",
    "print(pi)\n",
    "pi = np.dot(pi, g)\n",
    "print(pi)\n",
    "pi = np.dot(pi, g)\n",
    "print(pi)\n",
    "pi = np.dot(pi, g)\n",
    "print(pi)\n",
    "pi = np.dot(pi, g)\n",
    "print(pi)\n",
    "pi = np.dot(pi, g)\n",
    "print(pi)"
   ]
  },
  {
   "cell_type": "code",
   "execution_count": 32,
   "metadata": {
    "collapsed": false
   },
   "outputs": [],
   "source": [
    "def getTransitionMatrix(graph):\n",
    "    N = nx.number_of_nodes(graph)\n",
    "    # Compute the transition matrix :\n",
    "    transition_matrix = np.zeros((N, N), dtype=float)\n",
    "    for n in graph.nodes():\n",
    "        out_deg = graph.out_degree(n)\n",
    "        if(out_deg != 0):\n",
    "            for s in graph.successors(n):\n",
    "                transition_matrix[int(n)][int(s)] = 1./float(out_deg)\n",
    "                \n",
    "    return transition_matrix"
   ]
  },
  {
   "cell_type": "code",
   "execution_count": 63,
   "metadata": {
    "collapsed": true
   },
   "outputs": [],
   "source": [
    "def getNewTransitionMatrix(graph):\n",
    "    transition_matrix = getTransitionMatrix(graph)\n",
    "    N = transition_matrix.shape[0]\n",
    "    # Select rows with only zeros :\n",
    "    zeroes = np.where(~transition_matrix.any(axis=1))[0]\n",
    "    # rows with all zero elements\n",
    "    w = [0.] * N\n",
    "    for i in zeroes:\n",
    "        w[i] = 1.\n",
    "    ones = np.ones(N,)\n",
    "    new_transition_matrix = transition_matrix + np.dot(w, ones) * 1 / N\n",
    "    return new_transition_matrix"
   ]
  },
  {
   "cell_type": "code",
   "execution_count": 69,
   "metadata": {
    "collapsed": true
   },
   "outputs": [],
   "source": [
    "def getGoogleMatrix(graph, theta):\n",
    "    new_transition_matrix = getNewTransitionMatrix(graph)\n",
    "    N = new_transition_matrix.shape[0]\n",
    "    google_matrix = theta * new_transition_matrix + (1 - theta) * np.ones((N,N)) * (1. / N)\n",
    "    return google_matrix"
   ]
  },
  {
   "cell_type": "code",
   "execution_count": 172,
   "metadata": {
    "collapsed": true
   },
   "outputs": [],
   "source": [
    "def powerIter(G,init, threshold):\n",
    "    diff = la.norm(init)\n",
    "    prev = init\n",
    "    curr = init\n",
    "    while(diff > threshold):\n",
    "        curr = np.dot(prev,G)\n",
    "        diff = np.abs(la.norm(curr)-la.norm(prev))\n",
    "        prev = curr\n",
    "    return curr"
   ]
  },
  {
   "cell_type": "code",
   "execution_count": 170,
   "metadata": {
    "collapsed": true
   },
   "outputs": [],
   "source": [
    "def pageRankIter(graph,theta, threshold):\n",
    "    N = nx.number_of_nodes(graph)\n",
    "    G  = getGoogleMatrix(graph,theta)\n",
    "    init = np.full((N,), 1./N, dtype=float)\n",
    "    return powerIter(G,init,threshold)"
   ]
  },
  {
   "cell_type": "code",
   "execution_count": 188,
   "metadata": {
    "collapsed": false
   },
   "outputs": [],
   "source": [
    "titles = {}\n",
    "with open('../data/wikipedia_titles.tsv') as file:\n",
    "    reader = csv.reader(file, delimiter='\\t')\n",
    "    # skip first row\n",
    "    next(reader,None)\n",
    "    for row in reader:\n",
    "        titles[int(row[0])] = row[1]"
   ]
  },
  {
   "cell_type": "code",
   "execution_count": 190,
   "metadata": {
    "collapsed": false
   },
   "outputs": [
    {
     "name": "stdout",
     "output_type": "stream",
     "text": [
      "United States\n",
      "United Kingdom\n",
      "England\n",
      "France\n",
      "Europe\n",
      "Biological classification\n",
      "Animal\n",
      "World War II\n",
      "London\n",
      "Germany\n"
     ]
    },
    {
     "name": "stderr",
     "output_type": "stream",
     "text": [
      "/opt/anaconda3/lib/python3.5/site-packages/ipykernel/__main__.py:7: RuntimeWarning: invalid value encountered in double_scalars\n"
     ]
    }
   ],
   "source": [
    "wiki_graph = nx.DiGraph()\n",
    "wiki_graph = nx.read_adjlist('../data/wikipedia.graph', create_using=nx.DiGraph())\n",
    "topPages = pageRankIter(wiki_graph,0.85,0.001).argsort()[-10:][::-1]\n",
    "for page in topPages:\n",
    "    print(titles[page])"
   ]
  },
  {
   "cell_type": "markdown",
   "metadata": {},
   "source": [
    "---\n",
    "\n",
    "### 2.4.3 Gaming the system *(Bonus)*\n",
    "\n",
    "#### Exercise 2.15 *(Bonus)*"
   ]
  },
  {
   "cell_type": "code",
   "execution_count": 40,
   "metadata": {
    "collapsed": false
   },
   "outputs": [
    {
     "data": {
      "text/plain": [
       "0.0"
      ]
     },
     "execution_count": 40,
     "metadata": {},
     "output_type": "execute_result"
    }
   ],
   "source": [
    "# On wiki graph\n",
    "wiki_graph = nx.DiGraph()\n",
    "wiki_graph = nx.read_adjlist('../data/wikipedia.graph', create_using=nx.DiGraph())\n",
    "page_rank = pageRank(wiki_graph, 1000)\n",
    "\n",
    "# Index of history of methematics : 2463\n",
    "page_rank[2462]\n",
    "\n",
    "# Naive Idea : add edges from 300 pages with highest rank to history of mathematics\n",
    "# Similar to lab 3 to get indices of 300 highest ranked pages"
   ]
  },
  {
   "cell_type": "code",
   "execution_count": null,
   "metadata": {
    "collapsed": true
   },
   "outputs": [],
   "source": []
  }
 ],
 "metadata": {
  "anaconda-cloud": {},
  "kernelspec": {
   "display_name": "Python 3",
   "language": "python",
   "name": "python3"
  },
  "language_info": {
   "codemirror_mode": {
    "name": "ipython",
    "version": 3
   },
   "file_extension": ".py",
   "mimetype": "text/x-python",
   "name": "python",
   "nbconvert_exporter": "python",
   "pygments_lexer": "ipython3",
   "version": "3.5.2"
  }
 },
 "nbformat": 4,
 "nbformat_minor": 2
}
