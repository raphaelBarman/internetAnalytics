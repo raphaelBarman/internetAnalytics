{
 "cells": [
  {
   "cell_type": "markdown",
   "metadata": {},
   "source": [
    "# Networks: structure, evolution & processes\n",
    "**Internet Analytics - Lab 2**\n",
    "\n",
    "---\n",
    "\n",
    "**Group:** *R*\n",
    "\n",
    "**Names:**\n",
    "\n",
    "* *Raphael Barman*\n",
    "* *Thierry Bossy*\n",
    "* *Raphael Strebel*\n",
    "\n",
    "---\n",
    "\n",
    "#### Instructions\n",
    "\n",
    "*This is a template for part 4 of the lab. Clearly write your answers, comments and interpretations in Markodown cells. Don't forget that you can add $\\LaTeX$ equations in these cells. Feel free to add or remove any cell.*\n",
    "\n",
    "*Please properly comment your code. Code readability will be considered for grading. To avoid long cells of codes in the notebook, you can also embed long python functions and classes in a separate module. Don’t forget to hand in your module if that is the case. In multiple exercises, you are required to come up with your own method to solve various problems. Be creative and clearly motivate and explain your methods. Creativity and clarity will be considered for grading.*"
   ]
  },
  {
   "cell_type": "markdown",
   "metadata": {},
   "source": [
    "---\n",
    "\n",
    "## 2.4 PageRank\n",
    "\n",
    "### 2.4.1 Random Surfer Model\n",
    "\n",
    "#### Exercise 2.12"
   ]
  },
  {
   "cell_type": "code",
   "execution_count": 2,
   "metadata": {
    "collapsed": true
   },
   "outputs": [],
   "source": [
    "import networkx as nx\n",
    "import random as rand\n",
    "import matplotlib.pyplot as plt\n",
    "import numpy as np\n",
    "import numpy.linalg as la\n",
    "import csv\n",
    "%matplotlib inline"
   ]
  },
  {
   "cell_type": "code",
   "execution_count": 3,
   "metadata": {
    "collapsed": true
   },
   "outputs": [],
   "source": [
    "# Random walk algorithm\n",
    "def randomWalk(graph, nb_visits):\n",
    "    \n",
    "    nb_nodes = len(graph.nodes())\n",
    "    \n",
    "    # Array keeping track of number of times each node is visited (initilized to 0)\n",
    "    total_visits = [0]*nb_nodes\n",
    "\n",
    "    # Choose source node randomly\n",
    "    source = graph.nodes()[rand.randint(0, nb_nodes-1)]\n",
    "    total_visits[int(source)] = 1 \n",
    "    current_node = source\n",
    "    \n",
    "    for i in range(0, nb_visits-1):\n",
    "        nb_neighbors = len(graph.neighbors(current_node))\n",
    "        # Break if we are in an absorbing node\n",
    "        if(nb_neighbors == 0):\n",
    "            break\n",
    "        # Choose next node randomly from the list of neighbors of the current node\n",
    "        next_node = graph.neighbors(current_node)[rand.randint(0, nb_neighbors-1)]\n",
    "        # Increment the total number of visits\n",
    "        total_visits[int(next_node)] = total_visits[int(next_node)] + 1\n",
    "        current_node = next_node \n",
    "    return total_visits"
   ]
  },
  {
   "cell_type": "code",
   "execution_count": 4,
   "metadata": {
    "collapsed": false
   },
   "outputs": [
    {
     "name": "stdout",
     "output_type": "stream",
     "text": [
      "[0, 0, 0, 0, 2842, 1472, 2843, 2843]\n"
     ]
    }
   ],
   "source": [
    "# On components graph\n",
    "components_graph = nx.DiGraph()\n",
    "components_graph = nx.read_adjlist('../data/components.graph', create_using=nx.DiGraph())\n",
    "\n",
    "# Arbitrary number of visits\n",
    "nb_visits = 10000\n",
    "\n",
    "print(randomWalk(components_graph, nb_visits))"
   ]
  },
  {
   "cell_type": "markdown",
   "metadata": {},
   "source": [
    "In the components graph, there are two connected components, the first one being (0,1,2,3) and the second one being (4,5,6,7). Since we choose the source randomly, we either start (and stay) in the first component or in the second. When we draw the graph we get:"
   ]
  },
  {
   "cell_type": "code",
   "execution_count": 5,
   "metadata": {
    "collapsed": false
   },
   "outputs": [
    {
     "data": {
      "image/png": "[encoded data removed]",
      "text/plain": [
       "<matplotlib.figure.Figure at 0x7f8109521dd8>"
      ]
     },
     "metadata": {},
     "output_type": "display_data"
    }
   ],
   "source": [
    "nx.draw(components_graph, with_labels=True)"
   ]
  },
  {
   "cell_type": "markdown",
   "metadata": {},
   "source": [
    "When we start in the first component, we always go trough the nodes 0, 1 and 2 but we only take the \"detour\" from node 1 to node 3 with 0.5 probability, before going back to node 2. This explains why nodes 0, 1 and 2 have the same number of visits (+- 1 depending on which is the source) and why node 3 is visited approximately half as much as the other nodes. Similarly, in the second component we pass through nodes 4, 6 and 7 at every turn but we go through node 5 with probability 0.5. So nodes 4, 6 and 7 have the same number of visits (again +-1 depending on the source) and node 5 has approximately half as much visits as the other nodes."
   ]
  },
  {
   "cell_type": "code",
   "execution_count": 6,
   "metadata": {
    "collapsed": false
   },
   "outputs": [
    {
     "name": "stdout",
     "output_type": "stream",
     "text": [
      "[0, 1, 4, 4, 0]\n"
     ]
    }
   ],
   "source": [
    "# On absorbing graph \n",
    "absorbing_graph = nx.DiGraph()\n",
    "absorbing_graph = nx.read_adjlist('../data/absorbing.graph', create_using=nx.DiGraph())\n",
    "\n",
    "# Arbitrary number of visits\n",
    "nb_visits = 10000\n",
    "\n",
    "print(randomWalk(absorbing_graph, nb_visits))"
   ]
  },
  {
   "cell_type": "markdown",
   "metadata": {},
   "source": [
    "Absorbing graph:\n",
    "When drawing the absorbing graph we get the following picture:"
   ]
  },
  {
   "cell_type": "code",
   "execution_count": 7,
   "metadata": {
    "collapsed": false
   },
   "outputs": [
    {
     "data": {
      "image/png": "[encoded data removed]",
      "text/plain": [
       "<matplotlib.figure.Figure at 0x7f80dcedea20>"
      ]
     },
     "metadata": {},
     "output_type": "display_data"
    }
   ],
   "source": [
    "nx.draw(absorbing_graph, with_labels=True)"
   ]
  },
  {
   "cell_type": "markdown",
   "metadata": {},
   "source": [
    "In the absorbing graph we notice that node 1 is absorbing (it has no outgoing edges), so we stay in node 1 once we arrive at it. The only way we can avoid node 1 is by going back and forth from node 2 to node 3 (one of them has to be the source vertex). However, when in node 3, we go back to node 2 only with probability 1/3, and any other node we travel to ends up going to node 1 : either we go to node 1 directly from node 3, or we go to node 0 which can again either go to node 1 or to node 4. From node 4 we can only go to node 1. This explains why we have so few iterations even when trying to visit a large number of nodes."
   ]
  },
  {
   "cell_type": "markdown",
   "metadata": {},
   "source": [
    "#### Exercise 2.13"
   ]
  },
  {
   "cell_type": "code",
   "execution_count": 8,
   "metadata": {
    "collapsed": true
   },
   "outputs": [],
   "source": [
    "# Pagerank algorithm\n",
    "def pageRank(graph, nb_visits):\n",
    "    nb_nodes = len(graph.nodes())\n",
    "    \n",
    "    # Array keeping track of number of times each node is visited (initilized to 0)\n",
    "    total_visits = [0]*nb_nodes\n",
    "\n",
    "    # Choose source node randomly\n",
    "    source = graph.nodes()[rand.randint(0, nb_nodes-1)]\n",
    "        \n",
    "    total_visits[int(source)] = 1 \n",
    "    current_node = source\n",
    "    \n",
    "    for i in range(0, nb_visits-1):\n",
    "        damping_factor = 0.15\n",
    "        # Choose number randomly between 0 and 1\n",
    "        r = rand.uniform(0,1)\n",
    "        # Choose next node randomly with probability 0.15\n",
    "        if(r <= damping_factor):\n",
    "            next_node = graph.nodes()[rand.randint(0, nb_nodes-1)]\n",
    "        else:\n",
    "            # Choose next node randomly from the list of neighbors of the current node\n",
    "            nb_neighbors = len(graph.neighbors(current_node))\n",
    "            # Choose new random node if we are in an absorbing node\n",
    "            if(nb_neighbors == 0):\n",
    "                next_node = graph.nodes()[rand.randint(0, nb_nodes-1)]\n",
    "            else:\n",
    "                next_node = graph.neighbors(current_node)[rand.randint(0, nb_neighbors-1)]\n",
    "        total_visits[int(next_node)] = total_visits[int(next_node)] + 1\n",
    "        current_node = next_node \n",
    "    # Compute ratio of visits for all nodes\n",
    "    ratio = [x / nb_visits for x in total_visits]\n",
    "    return ratio"
   ]
  },
  {
   "cell_type": "code",
   "execution_count": 9,
   "metadata": {
    "collapsed": false
   },
   "outputs": [
    {
     "name": "stdout",
     "output_type": "stream",
     "text": [
      "[0.1397, 0.13702, 0.14233, 0.07456, 0.1401, 0.07937, 0.14476, 0.14216]\n"
     ]
    }
   ],
   "source": [
    "# On components graph\n",
    "components_graph = nx.DiGraph()\n",
    "components_graph = nx.read_adjlist('../data/components.graph', create_using=nx.DiGraph())\n",
    "\n",
    "# Arbitrary number of visits\n",
    "nb_visits = 100000\n",
    "\n",
    "print(pageRank(components_graph, nb_visits))"
   ]
  },
  {
   "cell_type": "markdown",
   "metadata": {},
   "source": [
    "Components graph:\n",
    "On this graph we see that we visit nodes 0, 1, 2, 4, 6 and 7 with the same probability 1/7 and nodes 3 and 5 are visited with probability 1/14, which makes sense since, as we saw previously, nodes 3 and 5 are visited every second time we go through their respective connected components whereas the other nodes are always visited. The damping factor makes us hop from one connected component to the other with probability 0.15, which showes the resulting total visits of nodes to be consistent."
   ]
  },
  {
   "cell_type": "code",
   "execution_count": 13,
   "metadata": {
    "collapsed": false
   },
   "outputs": [
    {
     "name": "stdout",
     "output_type": "stream",
     "text": [
      "[0.149, 0.33919, 0.1468, 0.21322, 0.15179]\n"
     ]
    }
   ],
   "source": [
    "# On absorbing graph \n",
    "absorbing_graph = nx.DiGraph()\n",
    "absorbing_graph = nx.read_adjlist('../data/absorbing.graph', create_using=nx.DiGraph())\n",
    "\n",
    "# Arbitrary number of visits\n",
    "nb_visits = 100000\n",
    "\n",
    "print(pageRank(absorbing_graph, nb_visits))"
   ]
  },
  {
   "cell_type": "markdown",
   "metadata": {},
   "source": [
    "Absorbing graph:\n",
    "We see that we visit node 1 more or less one out of three times, we visit node 3 approximately one out of five times, nodes 0 and 2 are visited with probability ~0.14 and node 4 is visited with probability ~0.15. This result is consistent since all nodes except for one have outgoing edges to node 1. Furthermore, when in node 2, we necessarily go to node 3, which explains why node 3 has more visits than nodes 0, 2 and 4. Node 4 has a bit more visits than nodes 0 and 2 because when in node 4, we go directly to node 1 and then restart from a new random node, which might be node 4 again whereas when in node 0 there is a chance to go to node 4 and when in node 2, we go to node 3, which goes to node 0 with probability 1/3, which in turn can go to node 4. These are just small probabilities but they are visible when the number of visits is high."
   ]
  },
  {
   "cell_type": "markdown",
   "metadata": {},
   "source": [
    "---\n",
    "\n",
    "### 2.4.2 Power Iteration Method\n",
    "\n",
    "#### Exercise 2.14: Power Iteration method"
   ]
  },
  {
   "cell_type": "code",
   "execution_count": 10,
   "metadata": {
    "collapsed": false
   },
   "outputs": [],
   "source": [
    "def getTransitionMatrix(graph):\n",
    "    N = nx.number_of_nodes(graph)\n",
    "    # Compute the transition matrix :\n",
    "    transition_matrix = np.zeros((N, N), dtype=float)\n",
    "    for n in graph.nodes():\n",
    "        out_deg = graph.out_degree(n)\n",
    "        if(out_deg != 0):\n",
    "            for s in graph.successors(n):\n",
    "                transition_matrix[int(n)][int(s)] = 1./float(out_deg)\n",
    "    return transition_matrix"
   ]
  },
  {
   "cell_type": "code",
   "execution_count": 11,
   "metadata": {
    "collapsed": true
   },
   "outputs": [],
   "source": [
    "def getNewTransitionMatrix(graph):\n",
    "    transition_matrix = getTransitionMatrix(graph)\n",
    "    N = transition_matrix.shape[0]\n",
    "    # Select rows with only zeros :\n",
    "    zeroes = np.where(~transition_matrix.any(axis=1))[0]\n",
    "    # rows with all zero elements\n",
    "    w = [0.] * N\n",
    "    for i in zeroes:\n",
    "        w[i] = 1.\n",
    "    ones = np.ones(N,)\n",
    "    new_transition_matrix = transition_matrix + np.dot(w, ones) * 1 / N\n",
    "    return new_transition_matrix"
   ]
  },
  {
   "cell_type": "code",
   "execution_count": 12,
   "metadata": {
    "collapsed": true
   },
   "outputs": [],
   "source": [
    "def getGoogleMatrix(graph, theta):\n",
    "    new_transition_matrix = getNewTransitionMatrix(graph)\n",
    "    N = new_transition_matrix.shape[0]\n",
    "    google_matrix = theta * new_transition_matrix + (1 - theta) * np.ones((N,N)) * (1. / N)\n",
    "    return google_matrix"
   ]
  },
  {
   "cell_type": "code",
   "execution_count": 13,
   "metadata": {
    "collapsed": true
   },
   "outputs": [],
   "source": [
    "def powerIter(G,init, threshold):\n",
    "    diff = la.norm(init)\n",
    "    prev = init\n",
    "    curr = init\n",
    "    while(diff > threshold):\n",
    "        curr = np.dot(prev,G)\n",
    "        diff = np.abs(la.norm(curr)-la.norm(prev))\n",
    "        prev = curr\n",
    "    return curr"
   ]
  },
  {
   "cell_type": "code",
   "execution_count": 14,
   "metadata": {
    "collapsed": true
   },
   "outputs": [],
   "source": [
    "def pageRankIter(graph, theta = 0.85, threshold = 0.001):\n",
    "    N = nx.number_of_nodes(graph)\n",
    "    G  = getGoogleMatrix(graph,theta)\n",
    "    init = np.full((N,), 1./N, dtype=float)\n",
    "    return powerIter(G,init,threshold)"
   ]
  },
  {
   "cell_type": "code",
   "execution_count": 15,
   "metadata": {
    "collapsed": false
   },
   "outputs": [],
   "source": [
    "titles = {}\n",
    "with open('../data/wikipedia_titles.tsv') as file:\n",
    "    reader = csv.reader(file, delimiter='\\t')\n",
    "    # skip first row\n",
    "    next(reader,None)\n",
    "    for row in reader:\n",
    "        titles[int(row[0])] = row[1]"
   ]
  },
  {
   "cell_type": "code",
   "execution_count": 16,
   "metadata": {
    "collapsed": false
   },
   "outputs": [
    {
     "name": "stdout",
     "output_type": "stream",
     "text": [
      "United States\n",
      "United Kingdom\n",
      "England\n",
      "France\n",
      "Europe\n",
      "Biological classification\n",
      "Animal\n",
      "World War II\n",
      "London\n",
      "Germany\n"
     ]
    },
    {
     "name": "stderr",
     "output_type": "stream",
     "text": [
      "/opt/anaconda3/lib/python3.5/site-packages/ipykernel/__main__.py:7: RuntimeWarning: invalid value encountered in double_scalars\n"
     ]
    }
   ],
   "source": [
    "wiki_graph = nx.DiGraph()\n",
    "wiki_graph = nx.read_adjlist('../data/wikipedia.graph', create_using=nx.DiGraph())\n",
    "topPages = pageRankIter(wiki_graph).argsort()[-10:][::-1]\n",
    "for page in topPages:\n",
    "    print(titles[page])"
   ]
  },
  {
   "cell_type": "markdown",
   "metadata": {},
   "source": [
    "---\n",
    "\n",
    "### 2.4.3 Gaming the system *(Bonus)*\n",
    "\n",
    "#### Exercise 2.15 *(Bonus)*"
   ]
  },
  {
   "cell_type": "code",
   "execution_count": 17,
   "metadata": {
    "collapsed": false
   },
   "outputs": [
    {
     "name": "stderr",
     "output_type": "stream",
     "text": [
      "/opt/anaconda3/lib/python3.5/site-packages/ipykernel/__main__.py:7: RuntimeWarning: invalid value encountered in double_scalars\n"
     ]
    },
    {
     "name": "stdout",
     "output_type": "stream",
     "text": [
      "Rank of History of mathematics before is 1.65E+153\n",
      "Rank of History of mathematics before is 2.08E+156\n",
      "New top 10\n",
      "History of mathematics\n",
      "United States\n",
      "United Kingdom\n",
      "England\n",
      "France\n",
      "Biological classification\n",
      "Europe\n",
      "Animal\n",
      "London\n",
      "World War II\n"
     ]
    }
   ],
   "source": [
    "# On wiki graph\n",
    "wiki_graph = nx.DiGraph()\n",
    "wiki_graph = nx.read_adjlist('../data/wikipedia.graph', create_using=nx.DiGraph())\n",
    "page_rank = pageRankIter(wiki_graph)\n",
    "\n",
    "# Index of history of mathematics : 2463\n",
    "history_index= 2463\n",
    "print(\"Rank of %s before is %.2E\"%(titles[history_index],page_rank[history_index]))\n",
    "top_300 = page_rank.argsort()[-300:][::-1]\n",
    "for page in top_300:\n",
    "    wiki_graph.add_edge(page,history_index)\n",
    "page_rank = pageRankIter(wiki_graph)\n",
    "print(\"Rank of %s before is %.2E\"%(titles[history_index],page_rank[history_index]))\n",
    "print(\"New top 10\")\n",
    "topPages = pageRankIter(wiki_graph).argsort()[-10:][::-1]\n",
    "for page in topPages:\n",
    "    print(titles[page])\n",
    "# Naive Idea : add edges from 300 pages with highest rank to history of mathematics\n",
    "# Similar to lab 3 to get indices of 300 highest ranked pages"
   ]
  },
  {
   "cell_type": "code",
   "execution_count": 18,
   "metadata": {
    "collapsed": false
   },
   "outputs": [
    {
     "name": "stdout",
     "output_type": "stream",
     "text": [
      "9.705905353496405e-05\n",
      "0.006838343001831803\n",
      "New top 10\n",
      "United States\n",
      "History of mathematics\n",
      "United Kingdom\n",
      "France\n",
      "Europe\n",
      "Germany\n",
      "England\n",
      "World War II\n",
      "Latin\n",
      "India\n"
     ]
    }
   ],
   "source": [
    "wiki_graph = nx.DiGraph()\n",
    "wiki_graph = nx.read_adjlist('../data/wikipedia.graph', create_using=nx.DiGraph())\n",
    "pr = nx.pagerank(wiki_graph)\n",
    "print(pr[str(history_index)])\n",
    "for page in sorted(pr, key=pr.get,reverse=True)[:300]:\n",
    "    wiki_graph.add_edge(int(page),history_index)\n",
    "pr = nx.pagerank(wiki_graph)\n",
    "print(pr[history_index])\n",
    "print(\"New top 10\")\n",
    "topPages = sorted(pr, key=pr.get,reverse=True)[:10]\n",
    "for page in topPages:\n",
    "    print(titles[int(page)])"
   ]
  }
 ],
 "metadata": {
  "anaconda-cloud": {},
  "kernelspec": {
   "display_name": "Python 3",
   "language": "python",
   "name": "python3"
  },
  "language_info": {
   "codemirror_mode": {
    "name": "ipython",
    "version": 3
   },
   "file_extension": ".py",
   "mimetype": "text/x-python",
   "name": "python",
   "nbconvert_exporter": "python",
   "pygments_lexer": "ipython3",
   "version": "3.5.2"
  }
 },
 "nbformat": 4,
 "nbformat_minor": 2
}
