{
 "cells": [
  {
   "cell_type": "markdown",
   "metadata": {},
   "source": [
    "# Networks: structure, evolution & processes\n",
    "**Internet Analytics - Lab 2**\n",
    "\n",
    "---\n",
    "\n",
    "**Group:** *R*\n",
    "\n",
    "**Names:**\n",
    "\n",
    "* *Raphaël Barman*\n",
    "* *Raphael Strebel*\n",
    "* *Thierry Bossy*\n",
    "\n",
    "---\n",
    "\n",
    "#### Instructions\n",
    "\n",
    "*This is a template for part 1 of the lab. Clearly write your answers, comments and interpretations in Markodown cells. Don't forget that you can add $\\LaTeX$ equations in these cells. Feel free to add or remove any cell.*\n",
    "\n",
    "*Please properly comment your code. Code readability will be considered for grading. To avoid long cells of codes in the notebook, you can also embed long python functions and classes in a separate module. Don’t forget to hand in your module if that is the case. In multiple exercises, you are required to come up with your own method to solve various problems. Be creative and clearly motivate and explain your methods. Creativity and clarity will be considered for grading.*"
   ]
  },
  {
   "cell_type": "markdown",
   "metadata": {},
   "source": [
    "---\n",
    "\n",
    "## 2.1 Exploration of real networks\n",
    "\n",
    "#### Exercise 2.1"
   ]
  },
  {
   "cell_type": "code",
   "execution_count": 2,
   "metadata": {
    "collapsed": true
   },
   "outputs": [],
   "source": [
    "import networkx as nx\n",
    "import matplotlib.pyplot as plt\n",
    "import numpy as np\n",
    "%matplotlib inline\n",
    "with open('../data/network1.csv') as f:\n",
    "    lines = f.readlines()\n",
    "edges = [line.strip().split(',') for line in lines if not line.startswith('#')]\n",
    "graph = nx.Graph()\n",
    "graph.add_edges_from(edges)"
   ]
  },
  {
   "cell_type": "code",
   "execution_count": 66,
   "metadata": {
    "collapsed": false
   },
   "outputs": [
    {
     "name": "stdout",
     "output_type": "stream",
     "text": [
      "Number of nodes: 13033\n",
      "Number of edges: 18584\n"
     ]
    }
   ],
   "source": [
    "print(\"Number of nodes:\", nx.number_of_nodes(graph))\n",
    "print(\"Number of edges:\", nx.number_of_edges(graph))"
   ]
  },
  {
   "cell_type": "markdown",
   "metadata": {},
   "source": [
    "#### Exercise 2.2:  Node degree distribution"
   ]
  },
  {
   "cell_type": "code",
   "execution_count": 11,
   "metadata": {
    "collapsed": false
   },
   "outputs": [
    {
     "data": {
      "image/png": "[encoded data removed]",
      "text/plain": [
       "<matplotlib.figure.Figure at 0x7faa4f7aa550>"
      ]
     },
     "metadata": {},
     "output_type": "display_data"
    }
   ],
   "source": [
    "node_degree = nx.degree(graph)\n",
    "histogram = nx.degree_histogram(graph)\n",
    "plt.subplot(211);\n",
    "plt.hist(histogram, bins=10000);\n",
    "plt.xscale('symlog') \n",
    "plt.yscale('symlog')\n",
    "plt.xlabel(\"Node degree\")\n",
    "plt.ylabel(\"Number of node\")\n",
    "plt.show()"
   ]
  },
  {
   "cell_type": "markdown",
   "metadata": {},
   "source": [
    "#### Exercise 2.3: Giant component"
   ]
  },
  {
   "cell_type": "code",
   "execution_count": 9,
   "metadata": {
    "collapsed": false
   },
   "outputs": [
    {
     "name": "stdout",
     "output_type": "stream",
     "text": [
      "Number of connected components: 192\n",
      "Number of nodes of the biggest connected components: 12576\n",
      "Ratio: 0.9649351645822144\n"
     ]
    }
   ],
   "source": [
    "print(\"Number of connected components:\", nx.number_connected_components(graph))\n",
    "giant_candidate = max(nx.connected_component_subgraphs(graph), key=nx.number_of_nodes)\n",
    "print(\"Number of nodes of the biggest connected components:\", nx.number_of_nodes(giant_candidate))\n",
    "print(\"Ratio:\", nx.number_of_nodes(giant_candidate)/nx.number_of_nodes(graph))"
   ]
  },
  {
   "cell_type": "markdown",
   "metadata": {},
   "source": [
    "This is CLEARLY a giant component"
   ]
  },
  {
   "cell_type": "code",
   "execution_count": 10,
   "metadata": {
    "collapsed": false
   },
   "outputs": [],
   "source": [
    "giant_component = giant_candidate"
   ]
  },
  {
   "cell_type": "markdown",
   "metadata": {},
   "source": [
    "#### Exercise 2.4: Short paths & Small-worlds"
   ]
  },
  {
   "cell_type": "code",
   "execution_count": 12,
   "metadata": {
    "collapsed": false
   },
   "outputs": [
    {
     "ename": "NameError",
     "evalue": "name 'giant_component' is not defined",
     "output_type": "error",
     "traceback": [
      "\u001b[0;31m---------------------------------------------------------------------------\u001b[0m",
      "\u001b[0;31mNameError\u001b[0m                                 Traceback (most recent call last)",
      "\u001b[0;32m<ipython-input-12-1569bd6a7069>\u001b[0m in \u001b[0;36m<module>\u001b[0;34m()\u001b[0m\n\u001b[1;32m      2\u001b[0m \u001b[0;34m\u001b[0m\u001b[0m\n\u001b[1;32m      3\u001b[0m \u001b[0;31m#average (shortest path) length between pair of vertices\u001b[0m\u001b[0;34m\u001b[0m\u001b[0;34m\u001b[0m\u001b[0m\n\u001b[0;32m----> 4\u001b[0;31m \u001b[0mprint\u001b[0m\u001b[0;34m(\u001b[0m\u001b[0mnx\u001b[0m\u001b[0;34m.\u001b[0m\u001b[0maverage_shortest_path_length\u001b[0m\u001b[0;34m(\u001b[0m\u001b[0mgiant_component\u001b[0m\u001b[0;34m)\u001b[0m\u001b[0;34m)\u001b[0m \u001b[0;31m# = 4.175488076629283\u001b[0m\u001b[0;34m\u001b[0m\u001b[0m\n\u001b[0m",
      "\u001b[0;31mNameError\u001b[0m: name 'giant_component' is not defined"
     ]
    }
   ],
   "source": [
    "#print(\"longest path between any pair of nodes:\", nx.diameter(giant_component)) # = 12\n",
    "\n",
    "#average (shortest path) length between pair of vertices\n",
    "print(nx.average_shortest_path_length(giant_component)) # = 4.175488076629283"
   ]
  },
  {
   "cell_type": "markdown",
   "metadata": {},
   "source": [
    "#### Exercise 2.5: Network comparison"
   ]
  },
  {
   "cell_type": "code",
   "execution_count": 3,
   "metadata": {
    "collapsed": false
   },
   "outputs": [],
   "source": [
    "with open('../data/network2.csv') as f:\n",
    "    lines2 = f.readlines()\n",
    "edges2 = [line.strip().split(',') for line in lines2 if not line.startswith('#')]\n",
    "graph2 = nx.Graph()\n",
    "graph2.add_edges_from(edges2)"
   ]
  },
  {
   "cell_type": "code",
   "execution_count": 4,
   "metadata": {
    "collapsed": false
   },
   "outputs": [
    {
     "name": "stdout",
     "output_type": "stream",
     "text": [
      "Number of nodes: 13033\n",
      "Number of edges: 18584\n"
     ]
    }
   ],
   "source": [
    "print(\"Number of nodes:\", nx.number_of_nodes(graph))\n",
    "print(\"Number of edges:\", nx.number_of_edges(graph))"
   ]
  },
  {
   "cell_type": "code",
   "execution_count": 10,
   "metadata": {
    "collapsed": false
   },
   "outputs": [
    {
     "data": {
      "image/png": "[encoded data removed]",
      "text/plain": [
       "<matplotlib.figure.Figure at 0x7faa4f483d68>"
      ]
     },
     "metadata": {},
     "output_type": "display_data"
    }
   ],
   "source": [
    "histogram2 = nx.degree_histogram(graph)\n",
    "plt.hist(histogram2, bins=10000);\n",
    "plt.xscale('symlog') \n",
    "plt.yscale('symlog')\n",
    "plt.xlabel(\"Degree of node\")\n",
    "plt.ylabel(\"Number of node\")\n",
    "plt.show()"
   ]
  },
  {
   "cell_type": "code",
   "execution_count": 59,
   "metadata": {
    "collapsed": false
   },
   "outputs": [
    {
     "name": "stdout",
     "output_type": "stream",
     "text": [
      "Number of connected components: 5\n",
      "Number of nodes of the biggest connected components: 26481\n",
      "Ratio: 0.9977017557079346\n"
     ]
    }
   ],
   "source": [
    "print(\"Number of connected components:\", nx.number_connected_components(graph2))\n",
    "giant_candidate2 = max(nx.connected_component_subgraphs(graph2), key=nx.number_of_nodes)\n",
    "print(\"Number of nodes of the biggest connected components:\", nx.number_of_nodes(giant_candidate2))\n",
    "print(\"Ratio:\", nx.number_of_nodes(giant_candidate2)/nx.number_of_nodes(graph2))\n",
    "\n",
    "#TODO compute size of smaller components"
   ]
  },
  {
   "cell_type": "markdown",
   "metadata": {},
   "source": [
    "We can see that there is one giant component that includes almost all the network (except for 4 small connected components) whereas the first network had a greater amount of smaller connected components."
   ]
  },
  {
   "cell_type": "markdown",
   "metadata": {},
   "source": [
    "#### Exercise 2.6: Network identification"
   ]
  },
  {
   "cell_type": "markdown",
   "metadata": {
    "collapsed": true
   },
   "source": [
    "Wild guess : The first is the subgraph of routers comprising the Internet because ...\n",
    "The second is the road network of New York because all roads are connected (except for rare exceptions)."
   ]
  }
 ],
 "metadata": {
  "anaconda-cloud": {},
  "kernelspec": {
   "display_name": "Python 3",
   "language": "python",
   "name": "python3"
  },
  "language_info": {
   "codemirror_mode": {
    "name": "ipython",
    "version": 3
   },
   "file_extension": ".py",
   "mimetype": "text/x-python",
   "name": "python",
   "nbconvert_exporter": "python",
   "pygments_lexer": "ipython3",
   "version": "3.6.0"
  }
 },
 "nbformat": 4,
 "nbformat_minor": 2
}
