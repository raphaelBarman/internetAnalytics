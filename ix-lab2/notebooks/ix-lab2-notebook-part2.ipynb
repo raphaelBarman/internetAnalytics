{
 "cells": [
  {
   "cell_type": "markdown",
   "metadata": {},
   "source": [
    "# Networks: structure, evolution & processes\n",
    "**Internet Analytics - Lab 2**\n",
    "\n",
    "---\n",
    "\n",
    "**Group:** *R*\n",
    "\n",
    "**Names:**\n",
    "\n",
    "* *Raphael Barman*\n",
    "* *Thierry Bossy*\n",
    "* *Raphael Strebel*\n",
    "\n",
    "---\n",
    "\n",
    "#### Instructions\n",
    "\n",
    "*This is a template for part 2 of the lab. Clearly write your answers, comments and interpretations in Markodown cells. Don't forget that you can add $\\LaTeX$ equations in these cells. Feel free to add or remove any cell.*\n",
    "\n",
    "*Please properly comment your code. Code readability will be considered for grading. To avoid long cells of codes in the notebook, you can also embed long python functions and classes in a separate module. Don’t forget to hand in your module if that is the case. In multiple exercises, you are required to come up with your own method to solve various problems. Be creative and clearly motivate and explain your methods. Creativity and clarity will be considered for grading.*"
   ]
  },
  {
   "cell_type": "markdown",
   "metadata": {},
   "source": [
    "---\n",
    "\n",
    "## 2.2 Network sampling\n",
    "\n",
    "#### Exercise 2.7: Random walk on the Facebook network"
   ]
  },
  {
   "cell_type": "code",
   "execution_count": 2,
   "metadata": {
    "collapsed": true
   },
   "outputs": [],
   "source": [
    "import requests\n",
    "import random"
   ]
  },
  {
   "cell_type": "code",
   "execution_count": 6,
   "metadata": {
    "collapsed": false
   },
   "outputs": [],
   "source": [
    "def randomWalker(s, N):\n",
    "    u = s\n",
    "    i = 0\n",
    "    data = dataFromNode(u)\n",
    "    age_sequence = [] # we want to return the ages we came across\n",
    "    while i < N:\n",
    "        age_sequence.append(data['age'])\n",
    "        u = random.sample(data['friends'],1)[0] # choose the next node at random\n",
    "        data = dataFromNode(u) \n",
    "        i += 1\n",
    "    return age_sequence\n",
    "\n",
    "def dataFromNode(s):\n",
    "    # Base url of the API\n",
    "    URL_TEMPLATE = 'http://iccluster118.iccluster.epfl.ch:5050/v1.0/facebook?user={user_id}'\n",
    "    # The actual url to call \n",
    "    url = URL_TEMPLATE.format(user_id=s)\n",
    "    # Execute the HTTP Get request\n",
    "    response = requests.get(url)\n",
    "    # Format the json response as a Python dict\n",
    "    data = response.json()\n",
    "    return data"
   ]
  },
  {
   "cell_type": "code",
   "execution_count": 8,
   "metadata": {
    "collapsed": false
   },
   "outputs": [
    {
     "name": "stdout",
     "output_type": "stream",
     "text": [
      "Estimation of the average age of a Facebook user: 24.629\n",
      "We are at 55.60 percent of the average\n",
      "We visited 1000 nodes\n"
     ]
    }
   ],
   "source": [
    "# Target user id\n",
    "user_id = 'f30ff3966f16ed62f5165a229a19b319'\n",
    "data = dataFromNode(user_id)\n",
    "nb_nodes = 1000\n",
    "ages = randomWalker(user_id, nb_nodes)\n",
    "average = sum(ages) / len(ages)\n",
    "print(\"Estimation of the average age of a Facebook user:\", average)\n",
    "print(\"We are at %.2f percent of the average\"% (average/44.3*100))\n",
    "print(\"We visited\", nb_nodes, \"nodes\")"
   ]
  },
  {
   "cell_type": "code",
   "execution_count": 4,
   "metadata": {
    "collapsed": false
   },
   "outputs": [],
   "source": [
    "def randomWalkerImproved(s, N):\n",
    "    curr = s\n",
    "    prev = ''\n",
    "    i = 0\n",
    "    sum_age = 0\n",
    "    while i < N:\n",
    "        data = dataFromNode(curr)\n",
    "        if(curr != prev):\n",
    "            sum_age += data['age']\n",
    "            i += 1\n",
    "        candidate = random.sample(data['friends'],1)[0]\n",
    "        k_curr = len(data['friends'])\n",
    "        k_candidate = len(dataFromNode(candidate)['friends'])\n",
    "        p = random.uniform(0.0,1.0)\n",
    "        prev = curr\n",
    "        if p < (k_curr/k_candidate):\n",
    "            curr = candidate\n",
    "    return sum_age/N"
   ]
  },
  {
   "cell_type": "code",
   "execution_count": 7,
   "metadata": {
    "collapsed": false
   },
   "outputs": [
    {
     "name": "stdout",
     "output_type": "stream",
     "text": [
      "Estimation of the average age of a Facebook user: 39.092\n",
      "We are at 0.88 percent of the average\n",
      "We visited 1000 nodes\n"
     ]
    }
   ],
   "source": [
    "# Target user id\n",
    "user_id = 'f30ff3966f16ed62f5165a229a19b319'\n",
    "data = dataFromNode(user_id)\n",
    "nb_nodes = 1000\n",
    "\n",
    "average = randomWalkerImproved(user_id, nb_nodes)\n",
    "print(\"Estimation of the average age of a Facebook user:\", average)\n",
    "print(\"We are at %.2f percent of the average\"% (average/44.3))\n",
    "print(\"We visited\", nb_nodes, \"nodes\")"
   ]
  },
  {
   "cell_type": "markdown",
   "metadata": {},
   "source": [
    "#### Exercise 2.8"
   ]
  },
  {
   "cell_type": "markdown",
   "metadata": {
    "collapsed": true
   },
   "source": [
    "##### Exercise 2.8.1"
   ]
  },
  {
   "cell_type": "markdown",
   "metadata": {},
   "source": [
    "Our estimation usually varies between ages 20 to 25."
   ]
  },
  {
   "cell_type": "markdown",
   "metadata": {},
   "source": [
    "##### Exercise 2.8.2"
   ]
  },
  {
   "cell_type": "markdown",
   "metadata": {},
   "source": [
    "There are many variations due to the fact that we do not have the computational power to run more than a few thousand iterations, which is not enough to estimate the age of a billion users.\n",
    "\n",
    "Our estimation is far from the average, this is due to the fact that the random walk is biased. The probability of being at a particular node $u$ converge to $\\pi_u = \\frac{\\text{#neighbours of $u$}}{2\\cdot|E|}$."
   ]
  },
  {
   "cell_type": "markdown",
   "metadata": {},
   "source": [
    "##### Exercise 2.8.2"
   ]
  },
  {
   "cell_type": "markdown",
   "metadata": {},
   "source": [
    "It would be best to change the algorithm to work in a breadth-first search fashion instead of going in deapth as done until now.\n",
    "\n",
    "To have better result, we could use the [Metropolis-Hastings Random Walk](https://en.wikipedia.org/wiki/Metropolis%E2%80%93Hastings_algorithm), which has the advantage of making the probability converge to $\\pi_u = \\frac{1}{|V|}$"
   ]
  }
 ],
 "metadata": {
  "anaconda-cloud": {},
  "kernelspec": {
   "display_name": "Python 3",
   "language": "python",
   "name": "python3"
  },
  "language_info": {
   "codemirror_mode": {
    "name": "ipython",
    "version": 3
   },
   "file_extension": ".py",
   "mimetype": "text/x-python",
   "name": "python",
   "nbconvert_exporter": "python",
   "pygments_lexer": "ipython3",
   "version": "3.5.2"
  }
 },
 "nbformat": 4,
 "nbformat_minor": 2
}
