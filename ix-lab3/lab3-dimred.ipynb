{
 "cells": [
  {
   "cell_type": "markdown",
   "metadata": {},
   "source": [
    "# Lab 3 — dimensionality reduction"
   ]
  },
  {
   "cell_type": "code",
   "execution_count": 24,
   "metadata": {
    "collapsed": true
   },
   "outputs": [],
   "source": [
    "import json\n",
    "import matplotlib.pyplot as plt\n",
    "import numpy as np\n",
    "import numpy.linalg as la\n",
    "\n",
    "from operator import itemgetter\n",
    "from operator import add\n",
    "\n",
    "%matplotlib inline\n",
    "plt.style.use(\"ggplot\")"
   ]
  },
  {
   "cell_type": "markdown",
   "metadata": {
    "collapsed": false
   },
   "source": [
    "!hdfs dfs -cat /ix/ml-20m/genome-tags.txt | tail -n 2"
   ]
  },
  {
   "cell_type": "code",
   "execution_count": 36,
   "metadata": {
    "collapsed": false
   },
   "outputs": [
    {
     "name": "stdout",
     "output_type": "stream",
     "text": [
      "{\"relevance\": 0.11449999999999999, \"tagId\": 1127, \"movieId\": 131170}\r\n",
      "{\"relevance\": 0.02174999999999999, \"tagId\": 1128, \"movieId\": 131170}\r\n"
     ]
    }
   ],
   "source": [
    "!hdfs dfs -cat /ix/ml-20m/genome-scores.txt | tail -n 2"
   ]
  },
  {
   "cell_type": "code",
   "execution_count": 130,
   "metadata": {
    "collapsed": false
   },
   "outputs": [
    {
     "name": "stdout",
     "output_type": "stream",
     "text": [
      "There is 1128 tags\n"
     ]
    }
   ],
   "source": [
    "data = sc.textFile(\"/ix/ml-20m/genome-tags.txt\").map(json.loads)\n",
    "tag2name = dict(data.map(itemgetter(\"tagId\", \"tag\")).collect())\n",
    "name2tag = {v: k for k, v in tag2name.items()}\n",
    "# Number of tags\n",
    "print('There is %d tags'%data.count())"
   ]
  },
  {
   "cell_type": "code",
   "execution_count": 132,
   "metadata": {
    "collapsed": false
   },
   "outputs": [
    {
     "data": {
      "text/plain": [
       "230"
      ]
     },
     "execution_count": 132,
     "metadata": {},
     "output_type": "execute_result"
    }
   ],
   "source": []
  },
  {
   "cell_type": "code",
   "execution_count": 3,
   "metadata": {
    "collapsed": false
   },
   "outputs": [
    {
     "name": "stdout",
     "output_type": "stream",
     "text": [
      "There is 27278 movies\n",
      "(8, '1 (2013)')\n",
      "(191, 'Godzilla, Mothra, and King Ghidorah: Giant Monsters All-Out Attack (Gojira, Mosura, Kingu Gidorâ: Daikaijû sôkôgeki) (Godzilla, Mothra and King Ghidorah: Giant Monsters All-Out Attack) (2001)')\n"
     ]
    }
   ],
   "source": [
    "data = sc.textFile(\"/ix/ml-20m/movies.txt\").map(json.loads)\n",
    "# Number of movies\n",
    "print('There is %d movies'%data.count())\n",
    "# Shortest title\n",
    "print(data.map(lambda movie: (len(movie['title']),movie['title'])).reduce(min))\n",
    "# Longest title\n",
    "print(data.map(lambda movie: (len(movie['title']),movie['title'])).reduce(max))"
   ]
  },
  {
   "cell_type": "code",
   "execution_count": 4,
   "metadata": {
    "collapsed": false
   },
   "outputs": [
    {
     "name": "stdout",
     "output_type": "stream",
     "text": [
      "There is 10381 movies with tags\n",
      "There is 1128 distinct tags\n"
     ]
    }
   ],
   "source": [
    "data = sc.textFile(\"/ix/ml-20m/genome-scores.txt\").map(json.loads)\n",
    "distinctMovies = data.map(lambda score: score['movieId']).distinct().count()\n",
    "print('There is %d movies with tags'%distinctMovies)\n",
    "distinctTags = data.map(lambda score: score['tagId']).distinct().count()\n",
    "print('There is %d distinct tags'%distinctTags)"
   ]
  },
  {
   "cell_type": "code",
   "execution_count": 14,
   "metadata": {
    "collapsed": false
   },
   "outputs": [],
   "source": [
    "data = sc.textFile(\"/ix/ml-20m/genome-scores.txt\").map(json.loads)\n",
    "movie2Idx = data.map(lambda score: score['movieId']).distinct().zipWithIndex().collectAsMap()\n",
    "idx2movie = {v: k for k, v in movie2Idx.items()}"
   ]
  },
  {
   "cell_type": "code",
   "execution_count": 16,
   "metadata": {
    "collapsed": false
   },
   "outputs": [],
   "source": [
    "matrix = np.zeros((distinctTags,distinctMovies),dtype=np.float64)\n",
    "for score in data.map(lambda score: (score['movieId'],score['tagId'],score['relevance'])).collect():\n",
    "    matrix[score[1]-1,movie2Idx[score[0]]] = score[2]"
   ]
  },
  {
   "cell_type": "code",
   "execution_count": 40,
   "metadata": {
    "collapsed": false
   },
   "outputs": [
    {
     "data": {
      "image/png": "[encoded data removed]",
      "text/plain": [
       "<matplotlib.figure.Figure at 0x7fc558c70ac8>"
      ]
     },
     "metadata": {},
     "output_type": "display_data"
    }
   ],
   "source": [
    "variance = np.var(matrix,0)\n",
    "plt.hist(variance,'auto');\n",
    "varianceTot = np.sum(variance)"
   ]
  },
  {
   "cell_type": "code",
   "execution_count": 74,
   "metadata": {
    "collapsed": false
   },
   "outputs": [
    {
     "data": {
      "text/plain": [
       "(1128, 10381)"
      ]
     },
     "execution_count": 74,
     "metadata": {},
     "output_type": "execute_result"
    }
   ],
   "source": [
    "matrix.shape"
   ]
  },
  {
   "cell_type": "code",
   "execution_count": 84,
   "metadata": {
    "collapsed": true
   },
   "outputs": [],
   "source": [
    "# Check \n",
    "eigenvalues, eigenvectors = la.eigh(np.cov(matrix))\n",
    "idx = eigenvalues.argsort()[::-1]\n",
    "eigenvalues = eigenvalues[idx]\n",
    "eigenvectors = eigenvectors[:,idx]"
   ]
  },
  {
   "cell_type": "code",
   "execution_count": 64,
   "metadata": {
    "collapsed": false
   },
   "outputs": [
    {
     "data": {
      "image/png": "[encoded data removed]",
      "text/plain": [
       "<matplotlib.figure.Figure at 0x7fc5716cf160>"
      ]
     },
     "metadata": {},
     "output_type": "display_data"
    }
   ],
   "source": []
  },
  {
   "cell_type": "code",
   "execution_count": 85,
   "metadata": {
    "collapsed": false
   },
   "outputs": [
    {
     "name": "stdout",
     "output_type": "stream",
     "text": [
      "We need 37 principal direction to capture 2/3 of the variability\n"
     ]
    }
   ],
   "source": [
    "targetVar = 2/3.0 * np.sum(eigenvalues)\n",
    "n = 0\n",
    "sumVar = 0\n",
    "for eigenvalue in eigenvalues:\n",
    "    sumVar += eigenvalue\n",
    "    n += 1\n",
    "    if sumVar >= targetVar:\n",
    "        break\n",
    "print(\"We need %d principal direction to capture 2/3 of the variability\"%(n))"
   ]
  },
  {
   "cell_type": "code",
   "execution_count": 96,
   "metadata": {
    "collapsed": false
   },
   "outputs": [
    {
     "data": {
      "text/plain": [
       "[0.10458698975761184,\n",
       " 0.10185325816492775,\n",
       " 0.10138878364995314,\n",
       " 0.09990640035526184,\n",
       " 0.098764320942253458,\n",
       " 0.098425206601210652,\n",
       " 0.097419252922881963,\n",
       " 0.096656463697373088,\n",
       " 0.096185828420326913,\n",
       " 0.095898270227488175]"
      ]
     },
     "execution_count": 96,
     "metadata": {},
     "output_type": "execute_result"
    }
   ],
   "source": [
    "V = eigenvectors[:,:5]\n",
    "smallest = eigenvectors[:,0].argsort()[:10]"
   ]
  },
  {
   "cell_type": "code",
   "execution_count": 141,
   "metadata": {
    "collapsed": false
   },
   "outputs": [],
   "source": [
    "data = sc.textFile(\"/ix/ml-20m/genome-tags.txt\").map(json.loads)\n",
    "tagName2PCA = {}\n",
    "for tag in data.map(lambda tag: (tag['tag'],tag['tagId'])).collect():\n",
    "   tagName2PCA[tag[0]] = V[tag[1]-1]\n",
    "np.save('tag2pca',tagName2PCA)"
   ]
  },
  {
   "cell_type": "code",
   "execution_count": 125,
   "metadata": {
    "collapsed": false
   },
   "outputs": [],
   "source": [
    "goodTags = np.empty((5, 10),dtype=object)\n",
    "badTags = np.empty((5, 10),dtype=object)\n",
    "for i in range (0,5):\n",
    "    good = eigenvectors[:,i].argsort()[-10:][::-1]\n",
    "    for idx, val in enumerate(good):\n",
    "        goodTags[i][idx] = tag2name[val+1]\n",
    "    bad = eigenvectors[:,i].argsort()[:10]\n",
    "    for idx, val in enumerate(bad):\n",
    "        badTags[i][idx] = tag2name[val+1]"
   ]
  },
  {
   "cell_type": "code",
   "execution_count": 137,
   "metadata": {
    "collapsed": false
   },
   "outputs": [
    {
     "name": "stdout",
     "output_type": "stream",
     "text": [
      "[['talky' 'social commentary' 'criterion' 'imdb top 250' 'great acting'\n",
      "  'drama' 'oscar (best directing)' 'bleak' 'dramatic' 'cinematography']\n",
      " ['intimate' 'relationships' 'criterion' 'melancholic' 'loneliness'\n",
      "  'golden palm' 'meditative' 'art house' 'melancholy' 'sexual']\n",
      " ['feel-good' 'sentimental' 'love story' 'heartwarming' 'touching'\n",
      "  'romantic' 'sweet' 'courage' 'girlie movie' 'feel good movie']\n",
      " ['visual' 'visually stunning' 'imagination' 'sci-fi' 'scifi'\n",
      "  'visually appealing' 'science fiction' 'sci fi' 'special effects'\n",
      "  'beautifully filmed']\n",
      " ['thriller' 'conspiracy' 'secrets' 'suspenseful' 'tense' 'mystery'\n",
      "  'suspense' 'investigation' 'murder mystery' 'betrayal']]\n",
      "Bad:\n",
      "[['predictable' \"so bad it's funny\" 'bad plot' 'silly' 'silly fun'\n",
      "  'horrible' 'franchise' 'lame' 'big budget' 'comedy']\n",
      " ['action' 'special effects' 'big budget' 'chase' 'fast paced' 'suspense'\n",
      "  'good action' 'plot' 'pg-13' 'action packed']\n",
      " ['horror' 'weird' 'creepy' 'splatter' 'stylish' 'cult classic'\n",
      "  'disturbing' 'violence' 'cult film' 'dark']\n",
      " ['corruption' 'crime' 'murder' 'police investigation' 'thriller'\n",
      "  'suspense' 'violence' 'police corruption' 'gangsters' 'manipulation']\n",
      " ['comedy' 'funny' 'hilarious' 'goofy' 'humorous' 'humor' 'very funny'\n",
      "  'cult classic' 'quotable' 'funny as hell']]\n"
     ]
    }
   ],
   "source": [
    "print(goodTags)\n",
    "print(\"Bad:\")\n",
    "print(badTags)"
   ]
  }
 ],
 "metadata": {
  "anaconda-cloud": {},
  "kernelspec": {
   "display_name": "Python 3",
   "language": "python",
   "name": "python3"
  },
  "language_info": {
   "codemirror_mode": {
    "name": "ipython",
    "version": 3
   },
   "file_extension": ".py",
   "mimetype": "text/x-python",
   "name": "python",
   "nbconvert_exporter": "python",
   "pygments_lexer": "ipython3",
   "version": "3.5.2"
  }
 },
 "nbformat": 4,
 "nbformat_minor": 1
}
