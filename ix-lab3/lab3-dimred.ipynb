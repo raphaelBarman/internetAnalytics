{
 "cells": [
  {
   "cell_type": "markdown",
   "metadata": {},
   "source": [
    "# Lab 3 — dimensionality reduction"
   ]
  },
  {
   "cell_type": "code",
   "execution_count": 86,
   "metadata": {
    "collapsed": false
   },
   "outputs": [
    {
     "data": {
      "text/html": [
       "\n",
       "    <div class=\"bk-root\">\n",
       "        <a href=\"http://bokeh.pydata.org\" target=\"_blank\" class=\"bk-logo bk-logo-small bk-logo-notebook\"></a>\n",
       "        <span id=\"8db9e830-67b4-4352-a3ff-0fb17928cf23\">Loading BokehJS ...</span>\n",
       "    </div>"
      ]
     },
     "metadata": {},
     "output_type": "display_data"
    },
    {
     "data": {
      "application/javascript": [
       "\n",
       "(function(global) {\n",
       "  function now() {\n",
       "    return new Date();\n",
       "  }\n",
       "\n",
       "  var force = \"1\";\n",
       "\n",
       "  if (typeof (window._bokeh_onload_callbacks) === \"undefined\" || force !== \"\") {\n",
       "    window._bokeh_onload_callbacks = [];\n",
       "    window._bokeh_is_loading = undefined;\n",
       "  }\n",
       "\n",
       "\n",
       "  \n",
       "  if (typeof (window._bokeh_timeout) === \"undefined\" || force !== \"\") {\n",
       "    window._bokeh_timeout = Date.now() + 5000;\n",
       "    window._bokeh_failed_load = false;\n",
       "  }\n",
       "\n",
       "  var NB_LOAD_WARNING = {'data': {'text/html':\n",
       "     \"<div style='background-color: #fdd'>\\n\"+\n",
       "     \"<p>\\n\"+\n",
       "     \"BokehJS does not appear to have successfully loaded. If loading BokehJS from CDN, this \\n\"+\n",
       "     \"may be due to a slow or bad network connection. Possible fixes:\\n\"+\n",
       "     \"</p>\\n\"+\n",
       "     \"<ul>\\n\"+\n",
       "     \"<li>re-rerun `output_notebook()` to attempt to load from CDN again, or</li>\\n\"+\n",
       "     \"<li>use INLINE resources instead, as so:</li>\\n\"+\n",
       "     \"</ul>\\n\"+\n",
       "     \"<code>\\n\"+\n",
       "     \"from bokeh.resources import INLINE\\n\"+\n",
       "     \"output_notebook(resources=INLINE)\\n\"+\n",
       "     \"</code>\\n\"+\n",
       "     \"</div>\"}};\n",
       "\n",
       "  function display_loaded() {\n",
       "    if (window.Bokeh !== undefined) {\n",
       "      Bokeh.$(\"#8db9e830-67b4-4352-a3ff-0fb17928cf23\").text(\"BokehJS successfully loaded.\");\n",
       "    } else if (Date.now() < window._bokeh_timeout) {\n",
       "      setTimeout(display_loaded, 100)\n",
       "    }\n",
       "  }\n",
       "\n",
       "  function run_callbacks() {\n",
       "    window._bokeh_onload_callbacks.forEach(function(callback) { callback() });\n",
       "    delete window._bokeh_onload_callbacks\n",
       "    console.info(\"Bokeh: all callbacks have finished\");\n",
       "  }\n",
       "\n",
       "  function load_libs(js_urls, callback) {\n",
       "    window._bokeh_onload_callbacks.push(callback);\n",
       "    if (window._bokeh_is_loading > 0) {\n",
       "      console.log(\"Bokeh: BokehJS is being loaded, scheduling callback at\", now());\n",
       "      return null;\n",
       "    }\n",
       "    if (js_urls == null || js_urls.length === 0) {\n",
       "      run_callbacks();\n",
       "      return null;\n",
       "    }\n",
       "    console.log(\"Bokeh: BokehJS not loaded, scheduling load and callback at\", now());\n",
       "    window._bokeh_is_loading = js_urls.length;\n",
       "    for (var i = 0; i < js_urls.length; i++) {\n",
       "      var url = js_urls[i];\n",
       "      var s = document.createElement('script');\n",
       "      s.src = url;\n",
       "      s.async = false;\n",
       "      s.onreadystatechange = s.onload = function() {\n",
       "        window._bokeh_is_loading--;\n",
       "        if (window._bokeh_is_loading === 0) {\n",
       "          console.log(\"Bokeh: all BokehJS libraries loaded\");\n",
       "          run_callbacks()\n",
       "        }\n",
       "      };\n",
       "      s.onerror = function() {\n",
       "        console.warn(\"failed to load library \" + url);\n",
       "      };\n",
       "      console.log(\"Bokeh: injecting script tag for BokehJS library: \", url);\n",
       "      document.getElementsByTagName(\"head\")[0].appendChild(s);\n",
       "    }\n",
       "  };var element = document.getElementById(\"8db9e830-67b4-4352-a3ff-0fb17928cf23\");\n",
       "  if (element == null) {\n",
       "    console.log(\"Bokeh: ERROR: autoload.js configured with elementid '8db9e830-67b4-4352-a3ff-0fb17928cf23' but no matching script tag was found. \")\n",
       "    return false;\n",
       "  }\n",
       "\n",
       "  var js_urls = ['https://cdn.pydata.org/bokeh/release/bokeh-0.12.2.min.js', 'https://cdn.pydata.org/bokeh/release/bokeh-widgets-0.12.2.min.js', 'https://cdn.pydata.org/bokeh/release/bokeh-compiler-0.12.2.min.js'];\n",
       "\n",
       "  var inline_js = [\n",
       "    function(Bokeh) {\n",
       "      Bokeh.set_log_level(\"info\");\n",
       "    },\n",
       "    \n",
       "    function(Bokeh) {\n",
       "      \n",
       "      Bokeh.$(\"#8db9e830-67b4-4352-a3ff-0fb17928cf23\").text(\"BokehJS is loading...\");\n",
       "    },\n",
       "    function(Bokeh) {\n",
       "      console.log(\"Bokeh: injecting CSS: https://cdn.pydata.org/bokeh/release/bokeh-0.12.2.min.css\");\n",
       "      Bokeh.embed.inject_css(\"https://cdn.pydata.org/bokeh/release/bokeh-0.12.2.min.css\");\n",
       "      console.log(\"Bokeh: injecting CSS: https://cdn.pydata.org/bokeh/release/bokeh-widgets-0.12.2.min.css\");\n",
       "      Bokeh.embed.inject_css(\"https://cdn.pydata.org/bokeh/release/bokeh-widgets-0.12.2.min.css\");\n",
       "    }\n",
       "  ];\n",
       "\n",
       "  function run_inline_js() {\n",
       "    \n",
       "    if ((window.Bokeh !== undefined) || (force === \"1\")) {\n",
       "      for (var i = 0; i < inline_js.length; i++) {\n",
       "        inline_js[i](window.Bokeh);\n",
       "      }if (force === \"1\") {\n",
       "        display_loaded();\n",
       "      }} else if (Date.now() < window._bokeh_timeout) {\n",
       "      setTimeout(run_inline_js, 100);\n",
       "    } else if (!window._bokeh_failed_load) {\n",
       "      console.log(\"Bokeh: BokehJS failed to load within specified timeout.\");\n",
       "      window._bokeh_failed_load = true;\n",
       "    } else if (!force) {\n",
       "      var cell = $(\"#8db9e830-67b4-4352-a3ff-0fb17928cf23\").parents('.cell').data().cell;\n",
       "      cell.output_area.append_execute_result(NB_LOAD_WARNING)\n",
       "    }\n",
       "\n",
       "  }\n",
       "\n",
       "  if (window._bokeh_is_loading === 0) {\n",
       "    console.log(\"Bokeh: BokehJS loaded, going straight to plotting\");\n",
       "    run_inline_js();\n",
       "  } else {\n",
       "    load_libs(js_urls, function() {\n",
       "      console.log(\"Bokeh: BokehJS plotting callback run at\", now());\n",
       "      run_inline_js();\n",
       "    });\n",
       "  }\n",
       "}(this));"
      ]
     },
     "metadata": {},
     "output_type": "display_data"
    }
   ],
   "source": [
    "import json\n",
    "import matplotlib.pyplot as plt\n",
    "import numpy as np\n",
    "import numpy.linalg as la\n",
    "import pickle\n",
    "\n",
    "from bokeh.plotting import figure, output_notebook,show, ColumnDataSource\n",
    "from bokeh.models import HoverTool\n",
    "\n",
    "from matplotlib.colors import rgb2hex\n",
    "\n",
    "from operator import itemgetter\n",
    "from operator import add\n",
    "\n",
    "%matplotlib inline\n",
    "plt.style.use(\"ggplot\")\n",
    "output_notebook()"
   ]
  },
  {
   "cell_type": "markdown",
   "metadata": {
    "collapsed": false
   },
   "source": [
    "!hdfs dfs -cat /ix/ml-20m/genome-tags.txt | tail -n 2"
   ]
  },
  {
   "cell_type": "code",
   "execution_count": 2,
   "metadata": {
    "collapsed": false
   },
   "outputs": [
    {
     "name": "stdout",
     "output_type": "stream",
     "text": [
      "{\"relevance\": 0.11449999999999999, \"tagId\": 1127, \"movieId\": 131170}\r\n",
      "{\"relevance\": 0.02174999999999999, \"tagId\": 1128, \"movieId\": 131170}\r\n"
     ]
    }
   ],
   "source": [
    "!hdfs dfs -cat /ix/ml-20m/genome-scores.txt | tail -n 2"
   ]
  },
  {
   "cell_type": "code",
   "execution_count": 3,
   "metadata": {
    "collapsed": false
   },
   "outputs": [
    {
     "name": "stdout",
     "output_type": "stream",
     "text": [
      "There is 1128 tags\n"
     ]
    }
   ],
   "source": [
    "data = sc.textFile(\"/ix/ml-20m/genome-tags.txt\").map(json.loads)\n",
    "tag2name = dict(data.map(itemgetter(\"tagId\", \"tag\")).collect())\n",
    "name2tag = {v: k for k, v in tag2name.items()}\n",
    "# Number of tags\n",
    "print('There is %d tags'%data.count())"
   ]
  },
  {
   "cell_type": "code",
   "execution_count": 132,
   "metadata": {
    "collapsed": false
   },
   "outputs": [
    {
     "data": {
      "text/plain": [
       "230"
      ]
     },
     "execution_count": 132,
     "metadata": {},
     "output_type": "execute_result"
    }
   ],
   "source": []
  },
  {
   "cell_type": "code",
   "execution_count": 4,
   "metadata": {
    "collapsed": false
   },
   "outputs": [
    {
     "name": "stdout",
     "output_type": "stream",
     "text": [
      "There is 27278 movies\n",
      "(8, '1 (2013)')\n",
      "(191, 'Godzilla, Mothra, and King Ghidorah: Giant Monsters All-Out Attack (Gojira, Mosura, Kingu Gidorâ: Daikaijû sôkôgeki) (Godzilla, Mothra and King Ghidorah: Giant Monsters All-Out Attack) (2001)')\n"
     ]
    }
   ],
   "source": [
    "data = sc.textFile(\"/ix/ml-20m/movies.txt\").map(json.loads)\n",
    "# Number of movies\n",
    "print('There is %d movies'%data.count())\n",
    "# Shortest title\n",
    "print(data.map(lambda movie: (len(movie['title']),movie['title'])).reduce(min))\n",
    "# Longest title\n",
    "print(data.map(lambda movie: (len(movie['title']),movie['title'])).reduce(max))"
   ]
  },
  {
   "cell_type": "code",
   "execution_count": 5,
   "metadata": {
    "collapsed": false
   },
   "outputs": [
    {
     "name": "stdout",
     "output_type": "stream",
     "text": [
      "There is 10381 movies with tags\n",
      "There is 1128 distinct tags\n"
     ]
    }
   ],
   "source": [
    "data = sc.textFile(\"/ix/ml-20m/genome-scores.txt\").map(json.loads)\n",
    "distinctMovies = data.map(lambda score: score['movieId']).distinct().count()\n",
    "print('There is %d movies with tags'%distinctMovies)\n",
    "distinctTags = data.map(lambda score: score['tagId']).distinct().count()\n",
    "print('There is %d distinct tags'%distinctTags)"
   ]
  },
  {
   "cell_type": "code",
   "execution_count": 6,
   "metadata": {
    "collapsed": false
   },
   "outputs": [],
   "source": [
    "data = sc.textFile(\"/ix/ml-20m/genome-scores.txt\").map(json.loads)\n",
    "movie2Idx = data.map(lambda score: score['movieId']).distinct().zipWithIndex().collectAsMap()\n",
    "idx2movie = {v: k for k, v in movie2Idx.items()}"
   ]
  },
  {
   "cell_type": "code",
   "execution_count": 7,
   "metadata": {
    "collapsed": false
   },
   "outputs": [],
   "source": [
    "matrix = np.zeros((distinctTags,distinctMovies),dtype=np.float64)\n",
    "for score in data.map(lambda score: (score['movieId'],score['tagId'],score['relevance'])).collect():\n",
    "    matrix[score[1]-1,movie2Idx[score[0]]] = score[2]"
   ]
  },
  {
   "cell_type": "code",
   "execution_count": 8,
   "metadata": {
    "collapsed": false
   },
   "outputs": [
    {
     "data": {
      "image/png": "[encoded data removed]",
      "text/plain": [
       "<matplotlib.figure.Figure at 0x7f65f3630d68>"
      ]
     },
     "metadata": {},
     "output_type": "display_data"
    }
   ],
   "source": [
    "variance = np.var(matrix,0)\n",
    "plt.hist(variance,'auto');\n",
    "varianceTot = np.sum(variance)"
   ]
  },
  {
   "cell_type": "code",
   "execution_count": 9,
   "metadata": {
    "collapsed": false
   },
   "outputs": [
    {
     "data": {
      "text/plain": [
       "(1128, 10381)"
      ]
     },
     "execution_count": 9,
     "metadata": {},
     "output_type": "execute_result"
    }
   ],
   "source": []
  },
  {
   "cell_type": "code",
   "execution_count": 10,
   "metadata": {
    "collapsed": true
   },
   "outputs": [],
   "source": [
    "# Check \n",
    "eigenvalues, eigenvectors = la.eigh(np.cov(matrix))\n",
    "idx = eigenvalues.argsort()[::-1]\n",
    "eigenvalues = eigenvalues[idx]\n",
    "eigenvectors = eigenvectors[:,idx]"
   ]
  },
  {
   "cell_type": "code",
   "execution_count": 20,
   "metadata": {
    "collapsed": false
   },
   "outputs": [
    {
     "data": {
      "image/png": "[encoded data removed]",
      "text/plain": [
       "<matplotlib.figure.Figure at 0x7f65c0efb518>"
      ]
     },
     "metadata": {},
     "output_type": "display_data"
    }
   ],
   "source": [
    "plt.hist(eigenvalues);"
   ]
  },
  {
   "cell_type": "code",
   "execution_count": 32,
   "metadata": {
    "collapsed": false
   },
   "outputs": [
    {
     "data": {
      "text/plain": [
       "(1128,)"
      ]
     },
     "execution_count": 32,
     "metadata": {},
     "output_type": "execute_result"
    }
   ],
   "source": [
    "eigenvectors[1].shape"
   ]
  },
  {
   "cell_type": "code",
   "execution_count": 11,
   "metadata": {
    "collapsed": false
   },
   "outputs": [
    {
     "name": "stdout",
     "output_type": "stream",
     "text": [
      "We need 37 principal direction to capture 2/3 of the variability\n"
     ]
    }
   ],
   "source": [
    "targetVar = 2/3.0 * np.sum(eigenvalues)\n",
    "n = 0\n",
    "sumVar = 0\n",
    "for eigenvalue in eigenvalues:\n",
    "    sumVar += eigenvalue\n",
    "    n += 1\n",
    "    if sumVar >= targetVar:\n",
    "        break\n",
    "print(\"We need %d principal direction to capture 2/3 of the variability\"%(n))"
   ]
  },
  {
   "cell_type": "code",
   "execution_count": 12,
   "metadata": {
    "collapsed": false
   },
   "outputs": [],
   "source": [
    "V = eigenvectors[:,:5]\n",
    "smallest = eigenvectors[:,0].argsort()[:10]"
   ]
  },
  {
   "cell_type": "code",
   "execution_count": 37,
   "metadata": {
    "collapsed": false
   },
   "outputs": [
    {
     "data": {
      "text/plain": [
       "(1128, 2)"
      ]
     },
     "execution_count": 37,
     "metadata": {},
     "output_type": "execute_result"
    }
   ],
   "source": []
  },
  {
   "cell_type": "code",
   "execution_count": 13,
   "metadata": {
    "collapsed": false
   },
   "outputs": [],
   "source": [
    "data = sc.textFile(\"/ix/ml-20m/genome-tags.txt\").map(json.loads)\n",
    "tagName2PCA = {}\n",
    "for tag in data.map(lambda tag: (tag['tag'],tag['tagId'])).collect():\n",
    "   tagName2PCA[tag[0]] = V[tag[1]-1]\n",
    "np.save('tag2pca',tagName2PCA)"
   ]
  },
  {
   "cell_type": "code",
   "execution_count": 14,
   "metadata": {
    "collapsed": false
   },
   "outputs": [],
   "source": [
    "numTags=5\n",
    "goodTags = np.empty((5, numTags),dtype=object)\n",
    "badTags = np.empty((5, numTags),dtype=object)\n",
    "for i in range (0,5):\n",
    "    good = eigenvectors[:,i].argsort()[-numTags:][::-1]\n",
    "    for idx, val in enumerate(good):\n",
    "        goodTags[i][idx] = tag2name[val+1]\n",
    "    bad = eigenvectors[:,i].argsort()[:numTags]\n",
    "    for idx, val in enumerate(bad):\n",
    "        badTags[i][idx] = tag2name[val+1]"
   ]
  },
  {
   "cell_type": "code",
   "execution_count": 15,
   "metadata": {
    "collapsed": false
   },
   "outputs": [
    {
     "name": "stdout",
     "output_type": "stream",
     "text": [
      "[['talky' 'social commentary' 'criterion' 'imdb top 250' 'great acting']\n",
      " ['intimate' 'relationships' 'criterion' 'melancholic' 'loneliness']\n",
      " ['feel-good' 'sentimental' 'love story' 'heartwarming' 'touching']\n",
      " ['visual' 'visually stunning' 'imagination' 'sci-fi' 'scifi']\n",
      " ['thriller' 'conspiracy' 'secrets' 'suspenseful' 'tense']]\n",
      "Bad:\n",
      "[['predictable' \"so bad it's funny\" 'bad plot' 'silly' 'silly fun']\n",
      " ['action' 'special effects' 'big budget' 'chase' 'fast paced']\n",
      " ['horror' 'weird' 'creepy' 'splatter' 'stylish']\n",
      " ['corruption' 'crime' 'murder' 'police investigation' 'thriller']\n",
      " ['comedy' 'funny' 'hilarious' 'goofy' 'humorous']]\n"
     ]
    }
   ],
   "source": [
    "print(goodTags)\n",
    "print(\"Bad:\")\n",
    "print(badTags)"
   ]
  },
  {
   "cell_type": "code",
   "execution_count": 106,
   "metadata": {
    "collapsed": false
   },
   "outputs": [
    {
     "data": {
      "text/html": [
       "\n",
       "\n",
       "    <div class=\"bk-root\">\n",
       "        <div class=\"plotdiv\" id=\"166fec3b-58c3-4c93-b1fd-65613d0b2100\"></div>\n",
       "    </div>\n",
       "<script type=\"text/javascript\">\n",
       "  \n",
       "  (function(global) {\n",
       "    function now() {\n",
       "      return new Date();\n",
       "    }\n",
       "  \n",
       "    var force = \"\";\n",
       "  \n",
       "    if (typeof (window._bokeh_onload_callbacks) === \"undefined\" || force !== \"\") {\n",
       "      window._bokeh_onload_callbacks = [];\n",
       "      window._bokeh_is_loading = undefined;\n",
       "    }\n",
       "  \n",
       "  \n",
       "    \n",
       "    if (typeof (window._bokeh_timeout) === \"undefined\" || force !== \"\") {\n",
       "      window._bokeh_timeout = Date.now() + 0;\n",
       "      window._bokeh_failed_load = false;\n",
       "    }\n",
       "  \n",
       "    var NB_LOAD_WARNING = {'data': {'text/html':\n",
       "       \"<div style='background-color: #fdd'>\\n\"+\n",
       "       \"<p>\\n\"+\n",
       "       \"BokehJS does not appear to have successfully loaded. If loading BokehJS from CDN, this \\n\"+\n",
       "       \"may be due to a slow or bad network connection. Possible fixes:\\n\"+\n",
       "       \"</p>\\n\"+\n",
       "       \"<ul>\\n\"+\n",
       "       \"<li>re-rerun `output_notebook()` to attempt to load from CDN again, or</li>\\n\"+\n",
       "       \"<li>use INLINE resources instead, as so:</li>\\n\"+\n",
       "       \"</ul>\\n\"+\n",
       "       \"<code>\\n\"+\n",
       "       \"from bokeh.resources import INLINE\\n\"+\n",
       "       \"output_notebook(resources=INLINE)\\n\"+\n",
       "       \"</code>\\n\"+\n",
       "       \"</div>\"}};\n",
       "  \n",
       "    function display_loaded() {\n",
       "      if (window.Bokeh !== undefined) {\n",
       "        Bokeh.$(\"#166fec3b-58c3-4c93-b1fd-65613d0b2100\").text(\"BokehJS successfully loaded.\");\n",
       "      } else if (Date.now() < window._bokeh_timeout) {\n",
       "        setTimeout(display_loaded, 100)\n",
       "      }\n",
       "    }\n",
       "  \n",
       "    function run_callbacks() {\n",
       "      window._bokeh_onload_callbacks.forEach(function(callback) { callback() });\n",
       "      delete window._bokeh_onload_callbacks\n",
       "      console.info(\"Bokeh: all callbacks have finished\");\n",
       "    }\n",
       "  \n",
       "    function load_libs(js_urls, callback) {\n",
       "      window._bokeh_onload_callbacks.push(callback);\n",
       "      if (window._bokeh_is_loading > 0) {\n",
       "        console.log(\"Bokeh: BokehJS is being loaded, scheduling callback at\", now());\n",
       "        return null;\n",
       "      }\n",
       "      if (js_urls == null || js_urls.length === 0) {\n",
       "        run_callbacks();\n",
       "        return null;\n",
       "      }\n",
       "      console.log(\"Bokeh: BokehJS not loaded, scheduling load and callback at\", now());\n",
       "      window._bokeh_is_loading = js_urls.length;\n",
       "      for (var i = 0; i < js_urls.length; i++) {\n",
       "        var url = js_urls[i];\n",
       "        var s = document.createElement('script');\n",
       "        s.src = url;\n",
       "        s.async = false;\n",
       "        s.onreadystatechange = s.onload = function() {\n",
       "          window._bokeh_is_loading--;\n",
       "          if (window._bokeh_is_loading === 0) {\n",
       "            console.log(\"Bokeh: all BokehJS libraries loaded\");\n",
       "            run_callbacks()\n",
       "          }\n",
       "        };\n",
       "        s.onerror = function() {\n",
       "          console.warn(\"failed to load library \" + url);\n",
       "        };\n",
       "        console.log(\"Bokeh: injecting script tag for BokehJS library: \", url);\n",
       "        document.getElementsByTagName(\"head\")[0].appendChild(s);\n",
       "      }\n",
       "    };var element = document.getElementById(\"166fec3b-58c3-4c93-b1fd-65613d0b2100\");\n",
       "    if (element == null) {\n",
       "      console.log(\"Bokeh: ERROR: autoload.js configured with elementid '166fec3b-58c3-4c93-b1fd-65613d0b2100' but no matching script tag was found. \")\n",
       "      return false;\n",
       "    }\n",
       "  \n",
       "    var js_urls = [];\n",
       "  \n",
       "    var inline_js = [\n",
       "      function(Bokeh) {\n",
       "        Bokeh.$(function() {\n",
       "            var docs_json = {\"8bafa774-d5aa-4dff-8dc9-208fe8ac715c\":{\"roots\":{\"references\":[{\"attributes\":{\"callback\":null},\"id\":\"18707b9b-4d53-423e-9ff0-b0a8078d572f\",\"type\":\"DataRange1d\"},{\"attributes\":{\"active_drag\":\"auto\",\"active_scroll\":\"auto\",\"active_tap\":\"auto\",\"tools\":[{\"id\":\"63980e66-6c09-4a14-a8eb-5fb6e684e5ba\",\"type\":\"HoverTool\"}]},\"id\":\"9a13f766-26b2-421a-a1f1-3b2d9320d5e1\",\"type\":\"Toolbar\"},{\"attributes\":{\"callback\":null},\"id\":\"cfa33e1e-2516-4b5c-9d58-bbb96c876caf\",\"type\":\"DataRange1d\"},{\"attributes\":{\"plot\":{\"id\":\"d9afe65e-b7a9-470a-af7c-de56708fa4ea\",\"subtype\":\"Figure\",\"type\":\"Plot\"},\"ticker\":{\"id\":\"59275bf3-694a-4672-9f5f-c5cf3d8d73ce\",\"type\":\"BasicTicker\"}},\"id\":\"dc3163d8-2a87-4e86-b402-34da8a8c0ced\",\"type\":\"Grid\"},{\"attributes\":{\"callback\":null,\"column_names\":[\"color\",\"score\",\"name\",\"x\",\"y\"],\"data\":{\"color\":[\"#d9ef8b\",\"#219c52\",\"#30a356\",\"#17934e\",\"#4eb15d\",\"#0c7f43\",\"#30a356\",\"#e54e35\",\"#e0422f\",\"#3faa59\",\"#73c264\",\"#3faa59\",\"#148e4b\",\"#118848\",\"#118848\",\"#fff6b0\",\"#0a7b41\",\"#6bbf64\",\"#eb5a3a\",\"#279f53\",\"#199750\",\"#fdc372\",\"#5db961\",\"#006837\",\"#17934e\",\"#98d368\",\"#0c7f43\",\"#66bd63\",\"#afdd70\",\"#c5e67e\",\"#05713c\",\"#fbfdba\",\"#0c7f43\",\"#b5df74\",\"#4eb15d\",\"#279f53\",\"#d9ef8b\"],\"name\":[\"Independence Day (a.k.a. ID4) (1996)\",\"Spider-Man (2002)\",\"Matrix, The (1999)\",\"Shawshank Redemption, The (1994)\",\"American History X (1998)\",\"Wild Strawberries (Smultronst\\u00e4llet) (1957)\",\"Control (2007)\",\"Miss Congeniality 2: Armed and Fabulous (2005)\",\"Just My Luck (2006)\",\"Santa Sangre (1989)\",\"Videodrome (1983)\",\"Billy Elliot (2000)\",\"Pride (2014)\",\"Jurassic Park (1993)\",\"Star Wars: Episode IV - A New Hope (1977)\",\"Princess Diaries, The (2001)\",\"Schindler's List (1993)\",\"Fight Club (1999)\",\"New York Ripper, The (Squartatore di New York, Lo) (1982)\",\"American Beauty (1999)\",\"City of God (Cidade de Deus) (2002)\",\"Battleship (2012)\",\"Take Care of My Cat (Goyangileul butaghae) (2001)\",\"Terminator, The (1984)\",\"Edge of Tomorrow (2014)\",\"Forrest Gump (1994)\",\"King's Speech, The (2010)\",\"Life Is Beautiful (La Vita \\u00e8 bella) (1997)\",\"Stage Fright (Deliria) (1987)\",\"Ichi the Killer (Koroshiya 1) (2001)\",\"Brazil (1985)\",\"Fountain, The (2006)\",\"Accused, The (1988)\",\"Time to Kill, A (1996)\",\"Ghost Writer, The (2010)\",\"Superbad (2007)\",\"American Pie (1999)\"],\"score\":[0.6,0.89,0.87,0.91,0.83,0.95,0.87,0.15,0.13,0.85,0.78,0.85,0.92,0.93,0.93,0.47,0.96,0.79,0.17,0.88,0.9,0.34,0.81,1.0,0.91,0.72,0.95,0.8,0.68,0.64,0.98,0.51,0.95,0.67,0.83,0.88,0.6],\"x\":[1.9563192464706578,2.423473011939732,6.166922994976296,8.263266304963047,8.40728222825496,7.467585235072493,7.309527270150406,0.2763807327027905,0.09133591026512647,5.478011932785144,4.335738415983893,5.112584895129657,5.3502052212358135,3.4670611846015578,5.283249654357826,0.7511985315999717,8.012862850827634,8.448732889671701,2.6281793776486397,8.594701228394442,8.862855699951098,0.0789501480573806,2.558724956197572,4.887597829601467,4.356287831804953,6.080402888934182,6.351129429131259,6.6083529028357635,4.417500015444917,4.314339943618698,6.342243226893645,5.783400284483887,5.784931428017213,3.7555094955836053,5.439232132618226,3.6911395441109196,2.2125037350328127],\"y\":[-7.004651322298655,-6.568361706153169,-8.288756869341016,-5.8469793586820735,-4.879104796308236,-1.0961272811702432,-1.8150512541562573,-2.289430325011642,-1.8303448652081358,-1.860157087282966,-1.8528059086619635,-2.2201140873897733,-1.8469216704740608,-7.283029689024394,-7.576582963071958,-2.300994940111545,-4.795991450586857,-5.661292452125193,-2.995109243900948,-3.1185938681355108,-4.32291045516863,-4.9514078492758085,0.2177052561320566,-7.44434946549482,-7.076629257758823,-5.029462539700733,-3.740124508583719,-3.5359042615520426,-2.826596727515738,-2.541359361363762,-3.2403711678747147,-2.8005467589011515,-3.4826050275184954,-3.808230047148005,-3.722982094802208,-2.7906872889413785,-3.6432593003081424]}},\"id\":\"7791928e-ad8d-425a-9fd3-467e71403089\",\"type\":\"ColumnDataSource\"},{\"attributes\":{\"fill_alpha\":{\"value\":0.1},\"fill_color\":{\"value\":\"#1f77b4\"},\"line_alpha\":{\"value\":0.1},\"line_color\":{\"value\":\"#1f77b4\"},\"size\":{\"units\":\"screen\",\"value\":20},\"x\":{\"field\":\"x\"},\"y\":{\"field\":\"y\"}},\"id\":\"ba8d7560-63d2-4a48-9f05-2811f33b2c9a\",\"type\":\"Circle\"},{\"attributes\":{},\"id\":\"0800f6da-ca27-4c62-9e04-3d2ea621b87e\",\"type\":\"BasicTickFormatter\"},{\"attributes\":{\"axis_label\":\"bad movies - good movies\",\"formatter\":{\"id\":\"0800f6da-ca27-4c62-9e04-3d2ea621b87e\",\"type\":\"BasicTickFormatter\"},\"plot\":{\"id\":\"d9afe65e-b7a9-470a-af7c-de56708fa4ea\",\"subtype\":\"Figure\",\"type\":\"Plot\"},\"ticker\":{\"id\":\"59275bf3-694a-4672-9f5f-c5cf3d8d73ce\",\"type\":\"BasicTicker\"}},\"id\":\"96ada556-2d75-424b-96ff-a702217fe7d8\",\"type\":\"LinearAxis\"},{\"attributes\":{\"axis_label\":\"action - sentimental\",\"formatter\":{\"id\":\"2d57c981-fac9-49cd-8ad4-5a2bded3df96\",\"type\":\"BasicTickFormatter\"},\"plot\":{\"id\":\"d9afe65e-b7a9-470a-af7c-de56708fa4ea\",\"subtype\":\"Figure\",\"type\":\"Plot\"},\"ticker\":{\"id\":\"6690ed18-722f-4541-a96f-5a0cb989e8b2\",\"type\":\"BasicTicker\"}},\"id\":\"d395e4e6-d9f2-49ec-87b7-dc2597607d73\",\"type\":\"LinearAxis\"},{\"attributes\":{\"data_source\":{\"id\":\"7791928e-ad8d-425a-9fd3-467e71403089\",\"type\":\"ColumnDataSource\"},\"glyph\":{\"id\":\"cfae99cb-0dfb-4bc5-be3e-9ad290fe2aad\",\"type\":\"Circle\"},\"hover_glyph\":null,\"nonselection_glyph\":{\"id\":\"ba8d7560-63d2-4a48-9f05-2811f33b2c9a\",\"type\":\"Circle\"},\"selection_glyph\":null},\"id\":\"de5db9ab-63a6-4733-a958-9019b82521d2\",\"type\":\"GlyphRenderer\"},{\"attributes\":{\"below\":[{\"id\":\"96ada556-2d75-424b-96ff-a702217fe7d8\",\"type\":\"LinearAxis\"}],\"left\":[{\"id\":\"d395e4e6-d9f2-49ec-87b7-dc2597607d73\",\"type\":\"LinearAxis\"}],\"renderers\":[{\"id\":\"96ada556-2d75-424b-96ff-a702217fe7d8\",\"type\":\"LinearAxis\"},{\"id\":\"dc3163d8-2a87-4e86-b402-34da8a8c0ced\",\"type\":\"Grid\"},{\"id\":\"d395e4e6-d9f2-49ec-87b7-dc2597607d73\",\"type\":\"LinearAxis\"},{\"id\":\"e14c2511-fb44-4050-8d3b-7ab8db82c384\",\"type\":\"Grid\"},{\"id\":\"de5db9ab-63a6-4733-a958-9019b82521d2\",\"type\":\"GlyphRenderer\"}],\"title\":{\"id\":\"e1f21a84-9d48-4cff-9e78-ce97ca4a6804\",\"type\":\"Title\"},\"tool_events\":{\"id\":\"6ac96362-16d7-46e3-b7e7-d872596cbe3c\",\"type\":\"ToolEvents\"},\"toolbar\":{\"id\":\"9a13f766-26b2-421a-a1f1-3b2d9320d5e1\",\"type\":\"Toolbar\"},\"x_range\":{\"id\":\"cfa33e1e-2516-4b5c-9d58-bbb96c876caf\",\"type\":\"DataRange1d\"},\"y_range\":{\"id\":\"18707b9b-4d53-423e-9ff0-b0a8078d572f\",\"type\":\"DataRange1d\"}},\"id\":\"d9afe65e-b7a9-470a-af7c-de56708fa4ea\",\"subtype\":\"Figure\",\"type\":\"Plot\"},{\"attributes\":{\"dimension\":1,\"plot\":{\"id\":\"d9afe65e-b7a9-470a-af7c-de56708fa4ea\",\"subtype\":\"Figure\",\"type\":\"Plot\"},\"ticker\":{\"id\":\"6690ed18-722f-4541-a96f-5a0cb989e8b2\",\"type\":\"BasicTicker\"}},\"id\":\"e14c2511-fb44-4050-8d3b-7ab8db82c384\",\"type\":\"Grid\"},{\"attributes\":{\"fill_color\":{\"field\":\"color\"},\"line_color\":{\"field\":\"color\"},\"size\":{\"units\":\"screen\",\"value\":20},\"x\":{\"field\":\"x\"},\"y\":{\"field\":\"y\"}},\"id\":\"cfae99cb-0dfb-4bc5-be3e-9ad290fe2aad\",\"type\":\"Circle\"},{\"attributes\":{\"callback\":null,\"plot\":{\"id\":\"d9afe65e-b7a9-470a-af7c-de56708fa4ea\",\"subtype\":\"Figure\",\"type\":\"Plot\"},\"tooltips\":[[\"name\",\"@name\"],[\"RT score\",\"@score\"]]},\"id\":\"63980e66-6c09-4a14-a8eb-5fb6e684e5ba\",\"type\":\"HoverTool\"},{\"attributes\":{},\"id\":\"59275bf3-694a-4672-9f5f-c5cf3d8d73ce\",\"type\":\"BasicTicker\"},{\"attributes\":{},\"id\":\"6690ed18-722f-4541-a96f-5a0cb989e8b2\",\"type\":\"BasicTicker\"},{\"attributes\":{\"plot\":null,\"text\":\"Movies scores\"},\"id\":\"e1f21a84-9d48-4cff-9e78-ce97ca4a6804\",\"type\":\"Title\"},{\"attributes\":{},\"id\":\"6ac96362-16d7-46e3-b7e7-d872596cbe3c\",\"type\":\"ToolEvents\"},{\"attributes\":{},\"id\":\"2d57c981-fac9-49cd-8ad4-5a2bded3df96\",\"type\":\"BasicTickFormatter\"}],\"root_ids\":[\"d9afe65e-b7a9-470a-af7c-de56708fa4ea\"]},\"title\":\"Bokeh Application\",\"version\":\"0.12.2\"}};\n",
       "            var render_items = [{\"docid\":\"8bafa774-d5aa-4dff-8dc9-208fe8ac715c\",\"elementid\":\"166fec3b-58c3-4c93-b1fd-65613d0b2100\",\"modelid\":\"d9afe65e-b7a9-470a-af7c-de56708fa4ea\"}];\n",
       "            \n",
       "            Bokeh.embed.embed_items(docs_json, render_items);\n",
       "        });\n",
       "      },\n",
       "      function(Bokeh) {\n",
       "      }\n",
       "    ];\n",
       "  \n",
       "    function run_inline_js() {\n",
       "      \n",
       "      if ((window.Bokeh !== undefined) || (force === \"1\")) {\n",
       "        for (var i = 0; i < inline_js.length; i++) {\n",
       "          inline_js[i](window.Bokeh);\n",
       "        }if (force === \"1\") {\n",
       "          display_loaded();\n",
       "        }} else if (Date.now() < window._bokeh_timeout) {\n",
       "        setTimeout(run_inline_js, 100);\n",
       "      } else if (!window._bokeh_failed_load) {\n",
       "        console.log(\"Bokeh: BokehJS failed to load within specified timeout.\");\n",
       "        window._bokeh_failed_load = true;\n",
       "      } else if (!force) {\n",
       "        var cell = $(\"#166fec3b-58c3-4c93-b1fd-65613d0b2100\").parents('.cell').data().cell;\n",
       "        cell.output_area.append_execute_result(NB_LOAD_WARNING)\n",
       "      }\n",
       "  \n",
       "    }\n",
       "  \n",
       "    if (window._bokeh_is_loading === 0) {\n",
       "      console.log(\"Bokeh: BokehJS loaded, going straight to plotting\");\n",
       "      run_inline_js();\n",
       "    } else {\n",
       "      load_libs(js_urls, function() {\n",
       "        console.log(\"Bokeh: BokehJS plotting callback run at\", now());\n",
       "        run_inline_js();\n",
       "      });\n",
       "    }\n",
       "  }(this));\n",
       "</script>"
      ]
     },
     "metadata": {},
     "output_type": "display_data"
    }
   ],
   "source": [
    "# Reading an object from disk.\n",
    "with open(\"selected-movies.pickle\", \"rb\") as f:\n",
    "    movies = pickle.load(f, encoding=\"utf-8\")\n",
    "    \n",
    "data=dict(\n",
    "            x=[],\n",
    "            y=[],\n",
    "            name=[],\n",
    "            score=[],\n",
    "            color=[],\n",
    "        )\n",
    "\n",
    "for movie in movies:\n",
    "    coords = matrix.T[movie2Idx[movie[0]]].dot(eigenvectors[:,:2])\n",
    "    data['x'].append(coords[0])\n",
    "    data['y'].append(coords[1])\n",
    "    data['name'].append(movie[1])\n",
    "    data['score'].append(movie[2])\n",
    "    data['color'].append(rgb2hex(plt.get_cmap('RdYlGn')(movie[2])[:3]))\n",
    "source = ColumnDataSource(data)\n",
    "hover = HoverTool(\n",
    "        tooltips=[\n",
    "            (\"name\", \"@name\"),\n",
    "            (\"RT score\",\"@score\"),\n",
    "        ]\n",
    "    )\n",
    "\n",
    "p = figure(plot_width=600, plot_height=600, tools=[hover],\n",
    "           title=\"Movies scores\",x_axis_label='bad movies - good movies',y_axis_label='action - sentimental')\n",
    "\n",
    "p.circle('x', 'y', size=20, source=source, color='color')\n",
    "\n",
    "show(p)"
   ]
  }
 ],
 "metadata": {
  "anaconda-cloud": {},
  "kernelspec": {
   "display_name": "Python 3",
   "language": "python",
   "name": "python3"
  },
  "language_info": {
   "codemirror_mode": {
    "name": "ipython",
    "version": 3
   },
   "file_extension": ".py",
   "mimetype": "text/x-python",
   "name": "python",
   "nbconvert_exporter": "python",
   "pygments_lexer": "ipython3",
   "version": "3.5.2"
  }
 },
 "nbformat": 4,
 "nbformat_minor": 1
}
