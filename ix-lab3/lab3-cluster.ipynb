{
 "cells": [
  {
   "cell_type": "markdown",
   "metadata": {},
   "source": [
    "# Lab 3 — clustering"
   ]
  },
  {
   "cell_type": "code",
   "execution_count": null,
   "metadata": {
    "collapsed": false
   },
   "outputs": [],
   "source": [
    "import numpy as np\n",
    "import sklearn.cluster as cl\n",
    "from scipy.spatial import distance\n",
    "\n",
    "import json\n",
    "import pickle\n",
    "import random as rand\n",
    "from copy import deepcopy\n",
    "from collections import Counter\n",
    "\n",
    "import matplotlib.pyplot as plt\n",
    "\n",
    "from bokeh.layouts import column, row\n",
    "from bokeh.plotting import figure, output_notebook,show, ColumnDataSource\n",
    "from bokeh.models import CustomJS, ColumnDataSource, Slider, HoverTool\n",
    "from bokeh.charts import Bar\n",
    "from bokeh.palettes import small_palettes\n",
    "\n",
    "%matplotlib inline\n",
    "plt.style.use(\"ggplot\")\n",
    "output_notebook()"
   ]
  },
  {
   "cell_type": "markdown",
   "metadata": {
    "collapsed": false
   },
   "source": [
    "## 3.11 Clustering tags"
   ]
  },
  {
   "cell_type": "code",
   "execution_count": null,
   "metadata": {
    "collapsed": false,
    "scrolled": true
   },
   "outputs": [],
   "source": [
    "# Data computed in the exercice 3.2\n",
    "tag2pca = np.load(\"tag2pca.npy\").item()\n",
    "\n",
    "# Computes the k-means for our data\n",
    "def clusters(k):\n",
    "    kmeans = cl.KMeans(k)\n",
    "    kmeans.fit(list(tag2pca.values()))\n",
    "    return kmeans.cluster_centers_\n",
    "\n",
    "# Cluster data\n",
    "data = dict(\n",
    "        x=[],\n",
    "        y=[],\n",
    "        clusters=[],\n",
    "    )\n",
    "# We fill the data with the coordinates of all the clusters\n",
    "# We do one more than needed because we need \n",
    "# len(x)=len(y)=len(clusters), otherwise bokeh won't draw all points...\n",
    "for k in range(2,7):\n",
    "    data['clusters'].append(clusters(k))\n",
    "    \n",
    "# We initialize the coords at 2 clusters\n",
    "# and with the first two principal directions\n",
    "for coords in data['clusters'][0]:\n",
    "    data['x'].append(coords[0])\n",
    "    data['y'].append(coords[1])\n",
    "    \n",
    "source = ColumnDataSource(data=data)\n",
    "\n",
    "colors = small_palettes['Set1'][5]\n",
    "# The points of the data set\n",
    "dataPoints = dict(\n",
    "        x=[],\n",
    "        y=[],\n",
    "        dataCoords=[],\n",
    "        colors=[],\n",
    "    )\n",
    "\n",
    "# We intialize the coords with the\n",
    "# first two principal directions\n",
    "for name, coords in tag2pca.items():\n",
    "    dataPoints['x'].append(coords[0])\n",
    "    dataPoints['y'].append(coords[1])\n",
    "    dataPoints['dataCoords'].append(coords)\n",
    "    idx = np.argmin(list(map(lambda cluster: distance.euclidean(cluster,coords),data['clusters'][0])))\n",
    "\n",
    "sourcePoints=ColumnDataSource(data=dataPoints)\n",
    "\n",
    "p = figure(plot_width=600, plot_height=600, title=\"k-means clustering\")\n",
    "\n",
    "# We draw all the data points\n",
    "p.circle('x', 'y', size=5,legend=\"data\", source=sourcePoints, fill_alpha=0.2, line_color=None)\n",
    "\n",
    "# We draw the clusters\n",
    "p.circle('x', 'y', size=20,legend=\"cluster\", source=source)\n",
    "\n",
    "# Callback function when any of the sliders move\n",
    "def callback(clusters=source, sourcePoints=sourcePoints, window=None):\n",
    "\n",
    "    k = slider.get('value')\n",
    "    x = sliderX.get('value')\n",
    "    y = sliderY.get('value')\n",
    "    # We ensure that the two directions are not the same\n",
    "    if x == y:\n",
    "        y = (x%5)+1\n",
    "        sliderY['value'] = y\n",
    "        \n",
    "    data =clusters.get('data')\n",
    "    data['x'] = []\n",
    "    data['y'] = []\n",
    "    # We iterate over the cluster with k points\n",
    "    for coords in data['clusters'][k-2]:\n",
    "        # We add the cluster in the directions given by the sliders\n",
    "        data['x'].append(coords[x-1])\n",
    "        data['y'].append(coords[y-1])\n",
    "    clusters.trigger('change')\n",
    "    \n",
    "    data = sourcePoints.get('data')\n",
    "    data['x'] = []\n",
    "    data['y'] = []\n",
    "    for coords in data['dataCoords']:\n",
    "        # We add the data in the directions given by the sliders\n",
    "        data['x'].append(coords[x-1])\n",
    "        data['y'].append(coords[y-1])\n",
    "        \n",
    "    sourcePoints.trigger('change')\n",
    "\n",
    "callback = CustomJS.from_py_func(callback)\n",
    "\n",
    "slider = Slider(start=2, end=5, value=2, step=1, title=\"Number of clusters\",callback=callback)\n",
    "callback.args['slider'] = slider\n",
    "\n",
    "sliderX = Slider(start=1, end=5, value=1, step=1, title=\"X principal direction\", callback=callback)\n",
    "callback.args['sliderX'] = sliderX\n",
    "\n",
    "sliderY = Slider(start=1, end=5, value=2, step=1, title=\"Y principal direction\", callback=callback)\n",
    "callback.args['sliderY'] = sliderY\n",
    "\n",
    "layout = row(p,column(slider, sliderX, sliderY))\n",
    "show(layout)"
   ]
  },
  {
   "cell_type": "markdown",
   "metadata": {},
   "source": [
    "The principal directions that separate the cluster well are the tuples (1,5) and (3,4)"
   ]
  },
  {
   "cell_type": "markdown",
   "metadata": {},
   "source": [
    "## 3.12 Clustering movies"
   ]
  },
  {
   "cell_type": "code",
   "execution_count": 11,
   "metadata": {
    "collapsed": true
   },
   "outputs": [],
   "source": [
    "def distance(A, B):\n",
    "    jaccard_index = len(A.intersection(B))/len(A.union(B)) \n",
    "    return 1 - jaccard_index"
   ]
  },
  {
   "cell_type": "code",
   "execution_count": 115,
   "metadata": {
    "collapsed": false
   },
   "outputs": [],
   "source": []
  },
  {
   "cell_type": "code",
   "execution_count": 118,
   "metadata": {
    "collapsed": false
   },
   "outputs": [
    {
     "data": {
      "text/plain": [
       "1"
      ]
     },
     "execution_count": 118,
     "metadata": {},
     "output_type": "execute_result"
    }
   ],
   "source": [
    "rand.randint(0,1)"
   ]
  },
  {
   "cell_type": "code",
   "execution_count": 24,
   "metadata": {
    "collapsed": false
   },
   "outputs": [],
   "source": [
    "def compareListOfSets(list1, list2):\n",
    "    set1 = set([tuple(x) for x in list1])\n",
    "    set2 = set([tuple(x) for x in list2])\n",
    "    return set1 == set2\n",
    "# Xin is a list of list\n",
    "def k_medioids(Xin, k, maxSteps=200):\n",
    "    X = set(map(frozenset,Xin))\n",
    "    m = rand.sample(X,k)\n",
    "    mPrev = deepcopy(m)\n",
    "    C = [set() for x in range(k)]\n",
    "    for step in range(maxSteps):\n",
    "        for x in X:\n",
    "            idx = np.argmin(list(map(lambda y: distance(x,y), m)))\n",
    "            C[idx].add(x)\n",
    "        for i in range(k):\n",
    "            mini = len(C[i])*2\n",
    "#             print(\"Current cluster is\", C[i])\n",
    "            for x in C[i]:\n",
    "                res = np.sum(list(map(lambda y: distance(x,y), C[i])))\n",
    "                if res < mini:\n",
    "#                     print(\"smaller: was\", mini, \"now is\", res)\n",
    "                    mini = res\n",
    "                    m[i] = x\n",
    "#             print(\"Done with cluster\",i, \"minimum set is\", m[i])\n",
    "        if compareListOfSets(m,mPrev):\n",
    "            return list(map(set,m))\n",
    "        mPrev = deepcopy(m)\n",
    "    return list(map(set, m))"
   ]
  },
  {
   "cell_type": "code",
   "execution_count": 26,
   "metadata": {
    "collapsed": false
   },
   "outputs": [
    {
     "data": {
      "text/plain": [
       "[{1, 3}, {1, 2}]"
      ]
     },
     "execution_count": 26,
     "metadata": {},
     "output_type": "execute_result"
    }
   ],
   "source": [
    "k_medioids([[1,2],[1,3],[1,2,3],[4,5,7],[4,5]],2)"
   ]
  },
  {
   "cell_type": "code",
   "execution_count": 13,
   "metadata": {
    "collapsed": false
   },
   "outputs": [],
   "source": [
    "# Reading an object from disk.\n",
    "with open(\"most-rated.pickle\", \"rb\") as f:\n",
    "    movies = pickle.load(f, encoding=\"utf-8\")\n",
    "movieIds = []\n",
    "for id, movie in movies:\n",
    "    movieIds.append(id)"
   ]
  },
  {
   "cell_type": "code",
   "execution_count": 14,
   "metadata": {
    "collapsed": true
   },
   "outputs": [],
   "source": [
    "data = sc.textFile(\"/ix/ml-20m/movies.txt\").map(json.loads)"
   ]
  },
  {
   "cell_type": "code",
   "execution_count": 15,
   "metadata": {
    "collapsed": false
   },
   "outputs": [],
   "source": [
    "moviesGenre = data.filter(lambda movie: movie['movieId'] in movieIds).map(lambda movie: (movie['movieId'],movie['genres'])).collectAsMap()"
   ]
  },
  {
   "cell_type": "code",
   "execution_count": 28,
   "metadata": {
    "collapsed": false
   },
   "outputs": [],
   "source": [
    "medoids = k_medioids(list(moviesGenre.values()),2,1000)"
   ]
  },
  {
   "cell_type": "code",
   "execution_count": 29,
   "metadata": {
    "collapsed": false
   },
   "outputs": [
    {
     "data": {
      "text/html": [
       "\n",
       "\n",
       "    <div class=\"bk-root\">\n",
       "        <div class=\"plotdiv\" id=\"12f497ce-34d9-47ec-ab92-2f02c83c87b5\"></div>\n",
       "    </div>\n",
       "<script type=\"text/javascript\">\n",
       "  \n",
       "  (function(global) {\n",
       "    function now() {\n",
       "      return new Date();\n",
       "    }\n",
       "  \n",
       "    var force = \"\";\n",
       "  \n",
       "    if (typeof (window._bokeh_onload_callbacks) === \"undefined\" || force !== \"\") {\n",
       "      window._bokeh_onload_callbacks = [];\n",
       "      window._bokeh_is_loading = undefined;\n",
       "    }\n",
       "  \n",
       "  \n",
       "    \n",
       "    if (typeof (window._bokeh_timeout) === \"undefined\" || force !== \"\") {\n",
       "      window._bokeh_timeout = Date.now() + 0;\n",
       "      window._bokeh_failed_load = false;\n",
       "    }\n",
       "  \n",
       "    var NB_LOAD_WARNING = {'data': {'text/html':\n",
       "       \"<div style='background-color: #fdd'>\\n\"+\n",
       "       \"<p>\\n\"+\n",
       "       \"BokehJS does not appear to have successfully loaded. If loading BokehJS from CDN, this \\n\"+\n",
       "       \"may be due to a slow or bad network connection. Possible fixes:\\n\"+\n",
       "       \"</p>\\n\"+\n",
       "       \"<ul>\\n\"+\n",
       "       \"<li>re-rerun `output_notebook()` to attempt to load from CDN again, or</li>\\n\"+\n",
       "       \"<li>use INLINE resources instead, as so:</li>\\n\"+\n",
       "       \"</ul>\\n\"+\n",
       "       \"<code>\\n\"+\n",
       "       \"from bokeh.resources import INLINE\\n\"+\n",
       "       \"output_notebook(resources=INLINE)\\n\"+\n",
       "       \"</code>\\n\"+\n",
       "       \"</div>\"}};\n",
       "  \n",
       "    function display_loaded() {\n",
       "      if (window.Bokeh !== undefined) {\n",
       "        Bokeh.$(\"#12f497ce-34d9-47ec-ab92-2f02c83c87b5\").text(\"BokehJS successfully loaded.\");\n",
       "      } else if (Date.now() < window._bokeh_timeout) {\n",
       "        setTimeout(display_loaded, 100)\n",
       "      }\n",
       "    }\n",
       "  \n",
       "    function run_callbacks() {\n",
       "      window._bokeh_onload_callbacks.forEach(function(callback) { callback() });\n",
       "      delete window._bokeh_onload_callbacks\n",
       "      console.info(\"Bokeh: all callbacks have finished\");\n",
       "    }\n",
       "  \n",
       "    function load_libs(js_urls, callback) {\n",
       "      window._bokeh_onload_callbacks.push(callback);\n",
       "      if (window._bokeh_is_loading > 0) {\n",
       "        console.log(\"Bokeh: BokehJS is being loaded, scheduling callback at\", now());\n",
       "        return null;\n",
       "      }\n",
       "      if (js_urls == null || js_urls.length === 0) {\n",
       "        run_callbacks();\n",
       "        return null;\n",
       "      }\n",
       "      console.log(\"Bokeh: BokehJS not loaded, scheduling load and callback at\", now());\n",
       "      window._bokeh_is_loading = js_urls.length;\n",
       "      for (var i = 0; i < js_urls.length; i++) {\n",
       "        var url = js_urls[i];\n",
       "        var s = document.createElement('script');\n",
       "        s.src = url;\n",
       "        s.async = false;\n",
       "        s.onreadystatechange = s.onload = function() {\n",
       "          window._bokeh_is_loading--;\n",
       "          if (window._bokeh_is_loading === 0) {\n",
       "            console.log(\"Bokeh: all BokehJS libraries loaded\");\n",
       "            run_callbacks()\n",
       "          }\n",
       "        };\n",
       "        s.onerror = function() {\n",
       "          console.warn(\"failed to load library \" + url);\n",
       "        };\n",
       "        console.log(\"Bokeh: injecting script tag for BokehJS library: \", url);\n",
       "        document.getElementsByTagName(\"head\")[0].appendChild(s);\n",
       "      }\n",
       "    };var element = document.getElementById(\"12f497ce-34d9-47ec-ab92-2f02c83c87b5\");\n",
       "    if (element == null) {\n",
       "      console.log(\"Bokeh: ERROR: autoload.js configured with elementid '12f497ce-34d9-47ec-ab92-2f02c83c87b5' but no matching script tag was found. \")\n",
       "      return false;\n",
       "    }\n",
       "  \n",
       "    var js_urls = [];\n",
       "  \n",
       "    var inline_js = [\n",
       "      function(Bokeh) {\n",
       "        Bokeh.$(function() {\n",
       "            var docs_json = {\"3356ff08-27be-45ee-848a-58e6067da1df\":{\"roots\":{\"references\":[{\"attributes\":{\"data_source\":{\"id\":\"1f17a9f8-65e9-46c5-931a-c99623fa2051\",\"type\":\"ColumnDataSource\"},\"glyph\":{\"id\":\"00382fb4-9bdd-463f-93f0-b7e38b87608d\",\"type\":\"Rect\"},\"hover_glyph\":null,\"nonselection_glyph\":null,\"selection_glyph\":null},\"id\":\"9ff51fa7-2e99-40e6-9962-e9cccec29aaa\",\"type\":\"GlyphRenderer\"},{\"attributes\":{\"fill_alpha\":{\"field\":\"fill_alpha\"},\"fill_color\":{\"field\":\"color\"},\"height\":{\"field\":\"height\",\"units\":\"data\"},\"line_color\":{\"field\":\"line_color\"},\"width\":{\"field\":\"width\",\"units\":\"data\"},\"x\":{\"field\":\"x\"},\"y\":{\"field\":\"y\"}},\"id\":\"9e1a8e86-0c9d-4f76-8ba3-467fd6e5cccb\",\"type\":\"Rect\"},{\"attributes\":{\"data_source\":{\"id\":\"8e09742f-0286-4979-93bf-39f992f496a3\",\"type\":\"ColumnDataSource\"},\"glyph\":{\"id\":\"2c2c637e-d459-4e89-b631-975af5c35bae\",\"type\":\"Rect\"},\"hover_glyph\":null,\"nonselection_glyph\":null,\"selection_glyph\":null},\"id\":\"251f0cfd-e33e-42c8-81df-e47292951534\",\"type\":\"GlyphRenderer\"},{\"attributes\":{\"data_source\":{\"id\":\"61a24518-6310-4c43-9838-a63459d34188\",\"type\":\"ColumnDataSource\"},\"glyph\":{\"id\":\"33683510-ca1b-4681-9759-18b2e2b1d9b3\",\"type\":\"Rect\"},\"hover_glyph\":null,\"nonselection_glyph\":null,\"selection_glyph\":null},\"id\":\"48d9de6b-6a04-4c5d-86d7-5fc5b0df0f37\",\"type\":\"GlyphRenderer\"},{\"attributes\":{\"data_source\":{\"id\":\"51227090-fc58-4115-b5bc-b2129d66685b\",\"type\":\"ColumnDataSource\"},\"glyph\":{\"id\":\"1cf35363-4be8-42a3-9920-70ed88a078d9\",\"type\":\"Rect\"},\"hover_glyph\":null,\"nonselection_glyph\":null,\"selection_glyph\":null},\"id\":\"fb0fe5bb-ef50-4852-a4de-c587f78f5c3c\",\"type\":\"GlyphRenderer\"},{\"attributes\":{\"callback\":null,\"column_names\":[\"width\",\"line_color\",\"x\",\"fill_alpha\",\"line_alpha\",\"y\",\"label\",\"height\",\"color\"],\"data\":{\"chart_index\":[{\"genre\":\"Musical\"}],\"color\":[\"#984ea3\"],\"fill_alpha\":[0.8],\"genre\":[\"Musical\"],\"height\":[34.0],\"label\":[{\"genre\":\"Musical\"}],\"line_alpha\":[1.0],\"line_color\":[\"white\"],\"width\":[0.8],\"x\":[\"Musical\"],\"y\":[17.0]}},\"id\":\"8e09742f-0286-4979-93bf-39f992f496a3\",\"type\":\"ColumnDataSource\"},{\"attributes\":{},\"id\":\"a1734f3d-bb79-4a07-8f26-4f7d01222e1d\",\"type\":\"CategoricalTickFormatter\"},{\"attributes\":{\"below\":[{\"id\":\"f3713387-ac3e-4571-afc1-564ad267b540\",\"type\":\"CategoricalAxis\"}],\"left\":[{\"id\":\"3d78df0a-5e96-490c-beb3-c6f1b130d7f3\",\"type\":\"LinearAxis\"}],\"plot_width\":450,\"renderers\":[{\"id\":\"e038f436-ca4a-4d64-9cb2-30e10e71b874\",\"type\":\"BoxAnnotation\"},{\"id\":\"fd081b27-7f65-4734-9464-0648be23d1c0\",\"type\":\"GlyphRenderer\"},{\"id\":\"dfff082a-71c3-4575-b7b5-34ee6adea9f4\",\"type\":\"GlyphRenderer\"},{\"id\":\"3eb88d6b-2b58-4e7f-8e21-f02cc75d2280\",\"type\":\"GlyphRenderer\"},{\"id\":\"aa101569-555c-437d-8ca1-de85d15799f7\",\"type\":\"GlyphRenderer\"},{\"id\":\"50b10a4b-3b19-408a-9e00-7f6e4c2ade86\",\"type\":\"GlyphRenderer\"},{\"id\":\"9d3d5001-0af8-4f80-b438-709f4394e551\",\"type\":\"GlyphRenderer\"},{\"id\":\"61922289-0aef-48ae-8328-f0c69da0f73e\",\"type\":\"GlyphRenderer\"},{\"id\":\"a88f8c58-3c17-41fb-9560-769d68573f81\",\"type\":\"GlyphRenderer\"},{\"id\":\"d40d714d-4c5e-4dee-ab1d-9ca307464ec6\",\"type\":\"GlyphRenderer\"},{\"id\":\"7dad6e54-028d-48db-a374-1fb642246d20\",\"type\":\"GlyphRenderer\"},{\"id\":\"d77cd659-b7b0-4bd2-b2c9-7118459eb7a3\",\"type\":\"GlyphRenderer\"},{\"id\":\"842fefb0-5418-4454-8c14-833429b8d8c2\",\"type\":\"GlyphRenderer\"},{\"id\":\"419e32bd-86b1-47e4-87f2-613c56b0fbdc\",\"type\":\"GlyphRenderer\"},{\"id\":\"221f020b-cb47-4e67-9a62-d0462d05643f\",\"type\":\"GlyphRenderer\"},{\"id\":\"27fe9c53-6ff5-4490-b704-ce0993f5dc67\",\"type\":\"GlyphRenderer\"},{\"id\":\"be9cb554-835d-474b-80ea-97de72b91da0\",\"type\":\"GlyphRenderer\"},{\"id\":\"fb0fe5bb-ef50-4852-a4de-c587f78f5c3c\",\"type\":\"GlyphRenderer\"},{\"id\":\"19cc29d9-b19e-4339-a6c4-5891f0deb8e4\",\"type\":\"GlyphRenderer\"},{\"id\":\"5c835b88-27f3-43f8-a5c6-73446a2a3295\",\"type\":\"GlyphRenderer\"},{\"id\":\"f3713387-ac3e-4571-afc1-564ad267b540\",\"type\":\"CategoricalAxis\"},{\"id\":\"3d78df0a-5e96-490c-beb3-c6f1b130d7f3\",\"type\":\"LinearAxis\"},{\"id\":\"6fed3e19-ce10-45b8-ad28-1d506aa6643f\",\"type\":\"Grid\"}],\"title\":{\"id\":\"c789b3b4-a981-4a86-8d22-8d1042e38839\",\"type\":\"Title\"},\"tool_events\":{\"id\":\"bad1d7f7-4b8c-43b0-8094-2b9178fd1036\",\"type\":\"ToolEvents\"},\"toolbar\":{\"id\":\"8c532458-a8e9-43b0-81ba-489cf0fc2320\",\"type\":\"Toolbar\"},\"x_mapper_type\":\"auto\",\"x_range\":{\"id\":\"a401e7b0-6d36-4f60-8688-6e490a0be7aa\",\"type\":\"FactorRange\"},\"y_mapper_type\":\"auto\",\"y_range\":{\"id\":\"ca260224-b313-4b15-af0b-ce94369f7971\",\"type\":\"Range1d\"}},\"id\":\"d37749f5-a6b9-45a9-9e33-c5cef0271b40\",\"subtype\":\"Chart\",\"type\":\"Plot\"},{\"attributes\":{\"data_source\":{\"id\":\"cbc95005-0866-4244-8ebd-1e88ef63de2a\",\"type\":\"ColumnDataSource\"},\"glyph\":{\"id\":\"13fe4f14-ac86-4305-a35c-dbd1d6243b5a\",\"type\":\"Rect\"},\"hover_glyph\":null,\"nonselection_glyph\":null,\"selection_glyph\":null},\"id\":\"27fe9c53-6ff5-4490-b704-ce0993f5dc67\",\"type\":\"GlyphRenderer\"},{\"attributes\":{\"plot\":{\"id\":\"1d31ceda-bb3a-4fef-ab4c-aee581f1fd67\",\"subtype\":\"Chart\",\"type\":\"Plot\"}},\"id\":\"59c2242a-2d01-4180-b011-5c540846ed42\",\"type\":\"SaveTool\"},{\"attributes\":{},\"id\":\"ba899c5a-703b-494c-81a0-3ef68f516e41\",\"type\":\"BasicTicker\"},{\"attributes\":{\"fill_alpha\":{\"field\":\"fill_alpha\"},\"fill_color\":{\"field\":\"color\"},\"height\":{\"field\":\"height\",\"units\":\"data\"},\"line_color\":{\"field\":\"line_color\"},\"width\":{\"field\":\"width\",\"units\":\"data\"},\"x\":{\"field\":\"x\"},\"y\":{\"field\":\"y\"}},\"id\":\"95c36192-7892-461e-a421-d9d1d40471fb\",\"type\":\"Rect\"},{\"attributes\":{\"data_source\":{\"id\":\"728ff823-b208-4a15-993c-abe78cd486df\",\"type\":\"ColumnDataSource\"},\"glyph\":{\"id\":\"bed4502e-0964-4f34-b192-73646ad125e5\",\"type\":\"Rect\"},\"hover_glyph\":null,\"nonselection_glyph\":null,\"selection_glyph\":null},\"id\":\"6bcdebf2-b9e6-4ea5-b07f-5d505d4945d1\",\"type\":\"GlyphRenderer\"},{\"attributes\":{\"data_source\":{\"id\":\"4265a328-d2a6-489e-a0fc-bfbd7660f7f5\",\"type\":\"ColumnDataSource\"},\"glyph\":{\"id\":\"353ef139-8423-4e5f-b6e9-7aa0bea7012e\",\"type\":\"Rect\"},\"hover_glyph\":null,\"nonselection_glyph\":null,\"selection_glyph\":null},\"id\":\"4fa3ead1-e473-472f-800e-517250facdc9\",\"type\":\"GlyphRenderer\"},{\"attributes\":{\"fill_alpha\":{\"field\":\"fill_alpha\"},\"fill_color\":{\"field\":\"color\"},\"height\":{\"field\":\"height\",\"units\":\"data\"},\"line_color\":{\"field\":\"line_color\"},\"width\":{\"field\":\"width\",\"units\":\"data\"},\"x\":{\"field\":\"x\"},\"y\":{\"field\":\"y\"}},\"id\":\"f3913d8b-0e44-4a65-bf12-08f2d7f78a38\",\"type\":\"Rect\"},{\"attributes\":{\"plot\":null,\"text\":\"Cluster 1\"},\"id\":\"88e896a0-6db4-478b-b7a4-f74745a0abb7\",\"type\":\"Title\"},{\"attributes\":{},\"id\":\"1a7408ce-62f1-47a3-baf1-3afe53506894\",\"type\":\"CategoricalTickFormatter\"},{\"attributes\":{\"callback\":null,\"column_names\":[\"width\",\"line_color\",\"x\",\"fill_alpha\",\"line_alpha\",\"y\",\"label\",\"height\",\"color\"],\"data\":{\"chart_index\":[{\"genre\":\"Crime\"}],\"color\":[\"#ffff33\"],\"fill_alpha\":[0.8],\"genre\":[\"Crime\"],\"height\":[42.0],\"label\":[{\"genre\":\"Crime\"}],\"line_alpha\":[1.0],\"line_color\":[\"white\"],\"width\":[0.8],\"x\":[\"Crime\"],\"y\":[21.0]}},\"id\":\"83440231-a2ef-44bb-86f2-9c891afba582\",\"type\":\"ColumnDataSource\"},{\"attributes\":{\"data_source\":{\"id\":\"587bda6f-d9aa-445b-b93d-66a968e2c085\",\"type\":\"ColumnDataSource\"},\"glyph\":{\"id\":\"a7f8f1b3-e687-4251-8d11-d5d7c43ae5d3\",\"type\":\"Rect\"},\"hover_glyph\":null,\"nonselection_glyph\":null,\"selection_glyph\":null},\"id\":\"221f020b-cb47-4e67-9a62-d0462d05643f\",\"type\":\"GlyphRenderer\"},{\"attributes\":{\"fill_alpha\":{\"field\":\"fill_alpha\"},\"fill_color\":{\"field\":\"color\"},\"height\":{\"field\":\"height\",\"units\":\"data\"},\"line_color\":{\"field\":\"line_color\"},\"width\":{\"field\":\"width\",\"units\":\"data\"},\"x\":{\"field\":\"x\"},\"y\":{\"field\":\"y\"}},\"id\":\"e251cf29-6bfe-4f70-a59c-5aaaba144cf8\",\"type\":\"Rect\"},{\"attributes\":{\"data_source\":{\"id\":\"f81b4019-dd93-4a5d-9ccd-640905250a0e\",\"type\":\"ColumnDataSource\"},\"glyph\":{\"id\":\"7c1c2ebd-7f35-46b8-9bb7-8b00c8ac5d1b\",\"type\":\"Rect\"},\"hover_glyph\":null,\"nonselection_glyph\":null,\"selection_glyph\":null},\"id\":\"3eb88d6b-2b58-4e7f-8e21-f02cc75d2280\",\"type\":\"GlyphRenderer\"},{\"attributes\":{\"data_source\":{\"id\":\"15a79010-be71-4c3c-874c-9956d2b65218\",\"type\":\"ColumnDataSource\"},\"glyph\":{\"id\":\"eb2f4b33-6728-4ce1-a6da-6513cbb45662\",\"type\":\"Rect\"},\"hover_glyph\":null,\"nonselection_glyph\":null,\"selection_glyph\":null},\"id\":\"3a2ca9fc-9505-4435-bf1c-29036773b6da\",\"type\":\"GlyphRenderer\"},{\"attributes\":{\"callback\":null,\"column_names\":[\"width\",\"line_color\",\"x\",\"fill_alpha\",\"line_alpha\",\"y\",\"label\",\"height\",\"color\"],\"data\":{\"chart_index\":[{\"genre\":\"Mystery\"}],\"color\":[\"#ff7f00\"],\"fill_alpha\":[0.8],\"genre\":[\"Mystery\"],\"height\":[76.0],\"label\":[{\"genre\":\"Mystery\"}],\"line_alpha\":[1.0],\"line_color\":[\"white\"],\"width\":[0.8],\"x\":[\"Mystery\"],\"y\":[38.0]}},\"id\":\"fbe38270-67d8-4741-a472-bba3ee9d287c\",\"type\":\"ColumnDataSource\"},{\"attributes\":{\"plot\":{\"id\":\"1d31ceda-bb3a-4fef-ab4c-aee581f1fd67\",\"subtype\":\"Chart\",\"type\":\"Plot\"}},\"id\":\"2b9e45e3-39a5-4dc4-86e5-9eb46673ba10\",\"type\":\"WheelZoomTool\"},{\"attributes\":{\"callback\":null,\"column_names\":[\"width\",\"line_color\",\"x\",\"fill_alpha\",\"line_alpha\",\"y\",\"label\",\"height\",\"color\"],\"data\":{\"chart_index\":[{\"genre\":\"Action\"}],\"color\":[\"#e41a1c\"],\"fill_alpha\":[0.8],\"genre\":[\"Action\"],\"height\":[50.0],\"label\":[{\"genre\":\"Action\"}],\"line_alpha\":[1.0],\"line_color\":[\"white\"],\"width\":[0.8],\"x\":[\"Action\"],\"y\":[25.0]}},\"id\":\"842fad79-3c21-45b5-9d76-960895c84e61\",\"type\":\"ColumnDataSource\"},{\"attributes\":{\"callback\":null,\"column_names\":[\"width\",\"line_color\",\"x\",\"fill_alpha\",\"line_alpha\",\"y\",\"label\",\"height\",\"color\"],\"data\":{\"chart_index\":[{\"genre\":\"Romance\"}],\"color\":[\"#ffff33\"],\"fill_alpha\":[0.8],\"genre\":[\"Romance\"],\"height\":[58.0],\"label\":[{\"genre\":\"Romance\"}],\"line_alpha\":[1.0],\"line_color\":[\"white\"],\"width\":[0.8],\"x\":[\"Romance\"],\"y\":[29.0]}},\"id\":\"45668b41-73ef-4db8-8574-e97365ed5374\",\"type\":\"ColumnDataSource\"},{\"attributes\":{\"data_source\":{\"id\":\"1790a2f4-1df1-464b-b44e-a62e90fb41e0\",\"type\":\"ColumnDataSource\"},\"glyph\":{\"id\":\"e70c82c8-d1a7-402b-846f-c46bb46ef903\",\"type\":\"Rect\"},\"hover_glyph\":null,\"nonselection_glyph\":null,\"selection_glyph\":null},\"id\":\"50b10a4b-3b19-408a-9e00-7f6e4c2ade86\",\"type\":\"GlyphRenderer\"},{\"attributes\":{\"callback\":null,\"column_names\":[\"width\",\"line_color\",\"x\",\"fill_alpha\",\"line_alpha\",\"y\",\"label\",\"height\",\"color\"],\"data\":{\"chart_index\":[{\"genre\":\"Children\"}],\"color\":[\"#984ea3\"],\"fill_alpha\":[0.8],\"genre\":[\"Children\"],\"height\":[10.0],\"label\":[{\"genre\":\"Children\"}],\"line_alpha\":[1.0],\"line_color\":[\"white\"],\"width\":[0.8],\"x\":[\"Children\"],\"y\":[5.0]}},\"id\":\"c15de60c-ce7b-43d5-ba02-ce50b3920a4d\",\"type\":\"ColumnDataSource\"},{\"attributes\":{\"fill_alpha\":{\"field\":\"fill_alpha\"},\"fill_color\":{\"field\":\"color\"},\"height\":{\"field\":\"height\",\"units\":\"data\"},\"line_color\":{\"field\":\"line_color\"},\"width\":{\"field\":\"width\",\"units\":\"data\"},\"x\":{\"field\":\"x\"},\"y\":{\"field\":\"y\"}},\"id\":\"ca684f3e-bdf3-41e8-b72b-544afb93b65d\",\"type\":\"Rect\"},{\"attributes\":{\"callback\":null,\"factors\":[\"Action\",\"Adventure\",\"Animation\",\"Children\",\"Comedy\",\"Crime\",\"Documentary\",\"Drama\",\"Fantasy\",\"Film-Noir\",\"Horror\",\"IMAX\",\"Musical\",\"Mystery\",\"Romance\",\"Sci-Fi\",\"Thriller\",\"War\",\"Western\"]},\"id\":\"a401e7b0-6d36-4f60-8688-6e490a0be7aa\",\"type\":\"FactorRange\"},{\"attributes\":{\"data_source\":{\"id\":\"c15de60c-ce7b-43d5-ba02-ce50b3920a4d\",\"type\":\"ColumnDataSource\"},\"glyph\":{\"id\":\"04dbc703-2021-4ee7-b137-09d09d679604\",\"type\":\"Rect\"},\"hover_glyph\":null,\"nonselection_glyph\":null,\"selection_glyph\":null},\"id\":\"d77cd659-b7b0-4bd2-b2c9-7118459eb7a3\",\"type\":\"GlyphRenderer\"},{\"attributes\":{\"callback\":null,\"column_names\":[\"width\",\"line_color\",\"x\",\"fill_alpha\",\"line_alpha\",\"y\",\"label\",\"height\",\"color\"],\"data\":{\"chart_index\":[{\"genre\":\"Thriller\"}],\"color\":[\"#f781bf\"],\"fill_alpha\":[0.8],\"genre\":[\"Thriller\"],\"height\":[101.0],\"label\":[{\"genre\":\"Thriller\"}],\"line_alpha\":[1.0],\"line_color\":[\"white\"],\"width\":[0.8],\"x\":[\"Thriller\"],\"y\":[50.5]}},\"id\":\"8f878431-b614-4f31-bf6e-853fc9a0a8c8\",\"type\":\"ColumnDataSource\"},{\"attributes\":{\"callback\":null,\"end\":294.0},\"id\":\"ca260224-b313-4b15-af0b-ce94369f7971\",\"type\":\"Range1d\"},{\"attributes\":{},\"id\":\"91852e36-d5c5-4352-abff-60819def4c8e\",\"type\":\"CategoricalTicker\"},{\"attributes\":{\"callback\":null,\"column_names\":[\"width\",\"line_color\",\"x\",\"fill_alpha\",\"line_alpha\",\"y\",\"label\",\"height\",\"color\"],\"data\":{\"chart_index\":[{\"genre\":\"Animation\"}],\"color\":[\"#4daf4a\"],\"fill_alpha\":[0.8],\"genre\":[\"Animation\"],\"height\":[7.0],\"label\":[{\"genre\":\"Animation\"}],\"line_alpha\":[1.0],\"line_color\":[\"white\"],\"width\":[0.8],\"x\":[\"Animation\"],\"y\":[3.5]}},\"id\":\"9d280c4d-654c-4f04-b894-ba2bc25bb87e\",\"type\":\"ColumnDataSource\"},{\"attributes\":{},\"id\":\"c0b9bd5a-bfd8-4da8-b265-56d15a0398c5\",\"type\":\"CategoricalTicker\"},{\"attributes\":{\"callback\":null,\"column_names\":[\"width\",\"line_color\",\"x\",\"fill_alpha\",\"line_alpha\",\"y\",\"label\",\"height\",\"color\"],\"data\":{\"chart_index\":[{\"genre\":\"Drama\"}],\"color\":[\"#f781bf\"],\"fill_alpha\":[0.8],\"genre\":[\"Drama\"],\"height\":[280.0],\"label\":[{\"genre\":\"Drama\"}],\"line_alpha\":[1.0],\"line_color\":[\"white\"],\"width\":[0.8],\"x\":[\"Drama\"],\"y\":[140.0]}},\"id\":\"1790a2f4-1df1-464b-b44e-a62e90fb41e0\",\"type\":\"ColumnDataSource\"},{\"attributes\":{\"fill_alpha\":{\"field\":\"fill_alpha\"},\"fill_color\":{\"field\":\"color\"},\"height\":{\"field\":\"height\",\"units\":\"data\"},\"line_color\":{\"field\":\"line_color\"},\"width\":{\"field\":\"width\",\"units\":\"data\"},\"x\":{\"field\":\"x\"},\"y\":{\"field\":\"y\"}},\"id\":\"b73179e3-db38-440f-b04a-bcca3aa5d728\",\"type\":\"Rect\"},{\"attributes\":{\"fill_alpha\":{\"field\":\"fill_alpha\"},\"fill_color\":{\"field\":\"color\"},\"height\":{\"field\":\"height\",\"units\":\"data\"},\"line_color\":{\"field\":\"line_color\"},\"width\":{\"field\":\"width\",\"units\":\"data\"},\"x\":{\"field\":\"x\"},\"y\":{\"field\":\"y\"}},\"id\":\"b83a5152-8400-4b64-84be-07471df3fe82\",\"type\":\"Rect\"},{\"attributes\":{},\"id\":\"e7f64871-78c9-4491-a5a0-7c7da6e6ea37\",\"type\":\"BasicTickFormatter\"},{\"attributes\":{\"callback\":null,\"column_names\":[\"width\",\"line_color\",\"x\",\"fill_alpha\",\"line_alpha\",\"y\",\"label\",\"height\",\"color\"],\"data\":{\"chart_index\":[{\"genre\":\"Western\"}],\"color\":[\"#e41a1c\"],\"fill_alpha\":[0.8],\"genre\":[\"Western\"],\"height\":[4.0],\"label\":[{\"genre\":\"Western\"}],\"line_alpha\":[1.0],\"line_color\":[\"white\"],\"width\":[0.8],\"x\":[\"Western\"],\"y\":[2.0]}},\"id\":\"1edc556a-5d5a-4306-a5ec-3a97486fd519\",\"type\":\"ColumnDataSource\"},{\"attributes\":{\"fill_alpha\":{\"field\":\"fill_alpha\"},\"fill_color\":{\"field\":\"color\"},\"height\":{\"field\":\"height\",\"units\":\"data\"},\"line_color\":{\"field\":\"line_color\"},\"width\":{\"field\":\"width\",\"units\":\"data\"},\"x\":{\"field\":\"x\"},\"y\":{\"field\":\"y\"}},\"id\":\"aa269839-186f-46ab-9d2b-5f9acac19a21\",\"type\":\"Rect\"},{\"attributes\":{\"plot\":null,\"text\":\"Cluster 2\"},\"id\":\"c789b3b4-a981-4a86-8d22-8d1042e38839\",\"type\":\"Title\"},{\"attributes\":{\"callback\":null,\"column_names\":[\"width\",\"line_color\",\"x\",\"fill_alpha\",\"line_alpha\",\"y\",\"label\",\"height\",\"color\"],\"data\":{\"chart_index\":[{\"genre\":\"Comedy\"}],\"color\":[\"#ff7f00\"],\"fill_alpha\":[0.8],\"genre\":[\"Comedy\"],\"height\":[370.0],\"label\":[{\"genre\":\"Comedy\"}],\"line_alpha\":[1.0],\"line_color\":[\"white\"],\"width\":[0.8],\"x\":[\"Comedy\"],\"y\":[185.0]}},\"id\":\"c5dee78c-552c-45f7-8b76-ae9cdf6e64df\",\"type\":\"ColumnDataSource\"},{\"attributes\":{\"fill_alpha\":{\"field\":\"fill_alpha\"},\"fill_color\":{\"field\":\"color\"},\"height\":{\"field\":\"height\",\"units\":\"data\"},\"line_color\":{\"field\":\"line_color\"},\"width\":{\"field\":\"width\",\"units\":\"data\"},\"x\":{\"field\":\"x\"},\"y\":{\"field\":\"y\"}},\"id\":\"fc0f1815-b15d-4fd6-99c5-484c6a32e69f\",\"type\":\"Rect\"},{\"attributes\":{\"data_source\":{\"id\":\"e80ae283-4f72-40ce-911f-cc50736bf4ea\",\"type\":\"ColumnDataSource\"},\"glyph\":{\"id\":\"e50f6ae2-2312-4776-a134-d75e64836f44\",\"type\":\"Rect\"},\"hover_glyph\":null,\"nonselection_glyph\":null,\"selection_glyph\":null},\"id\":\"4e96fb84-4351-4118-a60d-ec162d5b6262\",\"type\":\"GlyphRenderer\"},{\"attributes\":{\"fill_alpha\":{\"field\":\"fill_alpha\"},\"fill_color\":{\"field\":\"color\"},\"height\":{\"field\":\"height\",\"units\":\"data\"},\"line_color\":{\"field\":\"line_color\"},\"width\":{\"field\":\"width\",\"units\":\"data\"},\"x\":{\"field\":\"x\"},\"y\":{\"field\":\"y\"}},\"id\":\"353ef139-8423-4e5f-b6e9-7aa0bea7012e\",\"type\":\"Rect\"},{\"attributes\":{\"data_source\":{\"id\":\"b5e63a85-db15-4c72-81f1-0228a6186605\",\"type\":\"ColumnDataSource\"},\"glyph\":{\"id\":\"c400a480-0edf-4d5e-9672-fd543b212f57\",\"type\":\"Rect\"},\"hover_glyph\":null,\"nonselection_glyph\":null,\"selection_glyph\":null},\"id\":\"f42b808e-4b7d-49a7-b10f-fd9edaccc40e\",\"type\":\"GlyphRenderer\"},{\"attributes\":{\"overlay\":{\"id\":\"35364f32-8805-4df7-8fbd-32d79e471420\",\"type\":\"BoxAnnotation\"},\"plot\":{\"id\":\"1d31ceda-bb3a-4fef-ab4c-aee581f1fd67\",\"subtype\":\"Chart\",\"type\":\"Plot\"}},\"id\":\"dd95a2cd-87e3-437b-aba9-6312416dc94b\",\"type\":\"BoxZoomTool\"},{\"attributes\":{\"active_drag\":\"auto\",\"active_scroll\":\"auto\",\"active_tap\":\"auto\",\"tools\":[{\"id\":\"c3400670-2e71-423a-986c-de74f5b8960f\",\"type\":\"PanTool\"},{\"id\":\"0ec393b0-79c6-46b4-9c09-373f1b628c57\",\"type\":\"WheelZoomTool\"},{\"id\":\"2c8779fe-866e-4e1c-8628-3a497587aab4\",\"type\":\"BoxZoomTool\"},{\"id\":\"deb70384-3b19-4d08-ba03-1650a058b3d0\",\"type\":\"SaveTool\"},{\"id\":\"607e5c60-314e-4ab8-b4a1-bd457ff2a09e\",\"type\":\"ResetTool\"},{\"id\":\"7ff44311-03d2-4caa-9ad7-92758e2d9bc8\",\"type\":\"HelpTool\"}]},\"id\":\"8c532458-a8e9-43b0-81ba-489cf0fc2320\",\"type\":\"Toolbar\"},{\"attributes\":{\"dimension\":1,\"plot\":{\"id\":\"d37749f5-a6b9-45a9-9e33-c5cef0271b40\",\"subtype\":\"Chart\",\"type\":\"Plot\"},\"ticker\":{\"id\":\"ba899c5a-703b-494c-81a0-3ef68f516e41\",\"type\":\"BasicTicker\"}},\"id\":\"6fed3e19-ce10-45b8-ad28-1d506aa6643f\",\"type\":\"Grid\"},{\"attributes\":{\"data_source\":{\"id\":\"433cd3e7-ef1e-4f17-99c2-04a2239958ea\",\"type\":\"ColumnDataSource\"},\"glyph\":{\"id\":\"fadaaa50-8a7f-4303-830b-84335d5c0f3c\",\"type\":\"Rect\"},\"hover_glyph\":null,\"nonselection_glyph\":null,\"selection_glyph\":null},\"id\":\"3132f9fb-2003-4da1-8da5-3d029e35b792\",\"type\":\"GlyphRenderer\"},{\"attributes\":{\"bottom_units\":\"screen\",\"fill_alpha\":{\"value\":0.5},\"fill_color\":{\"value\":\"lightgrey\"},\"left_units\":\"screen\",\"level\":\"overlay\",\"line_alpha\":{\"value\":1.0},\"line_color\":{\"value\":\"black\"},\"line_dash\":[4,4],\"line_width\":{\"value\":2},\"plot\":null,\"render_mode\":\"css\",\"right_units\":\"screen\",\"top_units\":\"screen\"},\"id\":\"35364f32-8805-4df7-8fbd-32d79e471420\",\"type\":\"BoxAnnotation\"},{\"attributes\":{\"callback\":null,\"column_names\":[\"width\",\"line_color\",\"x\",\"fill_alpha\",\"line_alpha\",\"y\",\"label\",\"height\",\"color\"],\"data\":{\"chart_index\":[{\"genre\":\"Drama\"}],\"color\":[\"#f781bf\"],\"fill_alpha\":[0.8],\"genre\":[\"Drama\"],\"height\":[168.0],\"label\":[{\"genre\":\"Drama\"}],\"line_alpha\":[1.0],\"line_color\":[\"white\"],\"width\":[0.8],\"x\":[\"Drama\"],\"y\":[84.0]}},\"id\":\"728ff823-b208-4a15-993c-abe78cd486df\",\"type\":\"ColumnDataSource\"},{\"attributes\":{\"data_source\":{\"id\":\"97516aaa-6e55-4ff9-b1fb-2774c3bce4ce\",\"type\":\"ColumnDataSource\"},\"glyph\":{\"id\":\"45bb91e7-93fa-4337-9424-db9e8d57f201\",\"type\":\"Rect\"},\"hover_glyph\":null,\"nonselection_glyph\":null,\"selection_glyph\":null},\"id\":\"521ed4cd-4b75-48c8-991e-f0ed791b2d91\",\"type\":\"GlyphRenderer\"},{\"attributes\":{\"callback\":null,\"column_names\":[\"width\",\"line_color\",\"x\",\"fill_alpha\",\"line_alpha\",\"y\",\"label\",\"height\",\"color\"],\"data\":{\"chart_index\":[{\"genre\":\"Horror\"}],\"color\":[\"#377eb8\"],\"fill_alpha\":[0.8],\"genre\":[\"Horror\"],\"height\":[39.0],\"label\":[{\"genre\":\"Horror\"}],\"line_alpha\":[1.0],\"line_color\":[\"white\"],\"width\":[0.8],\"x\":[\"Horror\"],\"y\":[19.5]}},\"id\":\"97516aaa-6e55-4ff9-b1fb-2774c3bce4ce\",\"type\":\"ColumnDataSource\"},{\"attributes\":{\"fill_alpha\":{\"field\":\"fill_alpha\"},\"fill_color\":{\"field\":\"color\"},\"height\":{\"field\":\"height\",\"units\":\"data\"},\"line_color\":{\"field\":\"line_color\"},\"width\":{\"field\":\"width\",\"units\":\"data\"},\"x\":{\"field\":\"x\"},\"y\":{\"field\":\"y\"}},\"id\":\"bed4502e-0964-4f34-b192-73646ad125e5\",\"type\":\"Rect\"},{\"attributes\":{\"fill_alpha\":{\"field\":\"fill_alpha\"},\"fill_color\":{\"field\":\"color\"},\"height\":{\"field\":\"height\",\"units\":\"data\"},\"line_color\":{\"field\":\"line_color\"},\"width\":{\"field\":\"width\",\"units\":\"data\"},\"x\":{\"field\":\"x\"},\"y\":{\"field\":\"y\"}},\"id\":\"00382fb4-9bdd-463f-93f0-b7e38b87608d\",\"type\":\"Rect\"},{\"attributes\":{\"fill_alpha\":{\"field\":\"fill_alpha\"},\"fill_color\":{\"field\":\"color\"},\"height\":{\"field\":\"height\",\"units\":\"data\"},\"line_color\":{\"field\":\"line_color\"},\"width\":{\"field\":\"width\",\"units\":\"data\"},\"x\":{\"field\":\"x\"},\"y\":{\"field\":\"y\"}},\"id\":\"23fd0b08-92ef-4721-932b-a28298884fb8\",\"type\":\"Rect\"},{\"attributes\":{\"plot\":{\"id\":\"d37749f5-a6b9-45a9-9e33-c5cef0271b40\",\"subtype\":\"Chart\",\"type\":\"Plot\"}},\"id\":\"deb70384-3b19-4d08-ba03-1650a058b3d0\",\"type\":\"SaveTool\"},{\"attributes\":{\"plot\":{\"id\":\"1d31ceda-bb3a-4fef-ab4c-aee581f1fd67\",\"subtype\":\"Chart\",\"type\":\"Plot\"}},\"id\":\"68c81406-6238-4ab6-8b1b-14fc4bf0e353\",\"type\":\"ResetTool\"},{\"attributes\":{\"fill_alpha\":{\"field\":\"fill_alpha\"},\"fill_color\":{\"field\":\"color\"},\"height\":{\"field\":\"height\",\"units\":\"data\"},\"line_color\":{\"field\":\"line_color\"},\"width\":{\"field\":\"width\",\"units\":\"data\"},\"x\":{\"field\":\"x\"},\"y\":{\"field\":\"y\"}},\"id\":\"1cf35363-4be8-42a3-9920-70ed88a078d9\",\"type\":\"Rect\"},{\"attributes\":{},\"id\":\"ed4d17ba-5cb9-4660-9378-717c1e08e1e4\",\"type\":\"BasicTickFormatter\"},{\"attributes\":{\"fill_alpha\":{\"field\":\"fill_alpha\"},\"fill_color\":{\"field\":\"color\"},\"height\":{\"field\":\"height\",\"units\":\"data\"},\"line_color\":{\"field\":\"line_color\"},\"width\":{\"field\":\"width\",\"units\":\"data\"},\"x\":{\"field\":\"x\"},\"y\":{\"field\":\"y\"}},\"id\":\"117197bd-8d52-48f5-9a91-abbe8c12dbe3\",\"type\":\"Rect\"},{\"attributes\":{},\"id\":\"bad1d7f7-4b8c-43b0-8094-2b9178fd1036\",\"type\":\"ToolEvents\"},{\"attributes\":{\"data_source\":{\"id\":\"c6e1baaf-dae3-4fb3-adcf-c344ca654145\",\"type\":\"ColumnDataSource\"},\"glyph\":{\"id\":\"1f720f97-4045-4f61-bcdc-7524604f1380\",\"type\":\"Rect\"},\"hover_glyph\":null,\"nonselection_glyph\":null,\"selection_glyph\":null},\"id\":\"5c835b88-27f3-43f8-a5c6-73446a2a3295\",\"type\":\"GlyphRenderer\"},{\"attributes\":{\"data_source\":{\"id\":\"e62ebf3c-b58a-4be1-9196-94aa9db2abdc\",\"type\":\"ColumnDataSource\"},\"glyph\":{\"id\":\"fc0f1815-b15d-4fd6-99c5-484c6a32e69f\",\"type\":\"Rect\"},\"hover_glyph\":null,\"nonselection_glyph\":null,\"selection_glyph\":null},\"id\":\"dfff082a-71c3-4575-b7b5-34ee6adea9f4\",\"type\":\"GlyphRenderer\"},{\"attributes\":{\"plot\":{\"id\":\"d37749f5-a6b9-45a9-9e33-c5cef0271b40\",\"subtype\":\"Chart\",\"type\":\"Plot\"}},\"id\":\"7ff44311-03d2-4caa-9ad7-92758e2d9bc8\",\"type\":\"HelpTool\"},{\"attributes\":{\"fill_alpha\":{\"field\":\"fill_alpha\"},\"fill_color\":{\"field\":\"color\"},\"height\":{\"field\":\"height\",\"units\":\"data\"},\"line_color\":{\"field\":\"line_color\"},\"width\":{\"field\":\"width\",\"units\":\"data\"},\"x\":{\"field\":\"x\"},\"y\":{\"field\":\"y\"}},\"id\":\"13fe4f14-ac86-4305-a35c-dbd1d6243b5a\",\"type\":\"Rect\"},{\"attributes\":{\"fill_alpha\":{\"field\":\"fill_alpha\"},\"fill_color\":{\"field\":\"color\"},\"height\":{\"field\":\"height\",\"units\":\"data\"},\"line_color\":{\"field\":\"line_color\"},\"width\":{\"field\":\"width\",\"units\":\"data\"},\"x\":{\"field\":\"x\"},\"y\":{\"field\":\"y\"}},\"id\":\"f09054f3-ca2b-462f-917e-134490146d57\",\"type\":\"Rect\"},{\"attributes\":{},\"id\":\"03c38ae8-abfe-4a11-b62d-ec7400f3f068\",\"type\":\"BasicTicker\"},{\"attributes\":{\"data_source\":{\"id\":\"83440231-a2ef-44bb-86f2-9c891afba582\",\"type\":\"ColumnDataSource\"},\"glyph\":{\"id\":\"bc199881-cb5a-4cba-a445-0616b9892977\",\"type\":\"Rect\"},\"hover_glyph\":null,\"nonselection_glyph\":null,\"selection_glyph\":null},\"id\":\"335c8e50-3333-4f8e-b658-f307b301f15c\",\"type\":\"GlyphRenderer\"},{\"attributes\":{\"callback\":null,\"column_names\":[\"width\",\"line_color\",\"x\",\"fill_alpha\",\"line_alpha\",\"y\",\"label\",\"height\",\"color\"],\"data\":{\"chart_index\":[{\"genre\":\"Thriller\"}],\"color\":[\"#f781bf\"],\"fill_alpha\":[0.8],\"genre\":[\"Thriller\"],\"height\":[169.0],\"label\":[{\"genre\":\"Thriller\"}],\"line_alpha\":[1.0],\"line_color\":[\"white\"],\"width\":[0.8],\"x\":[\"Thriller\"],\"y\":[84.5]}},\"id\":\"68a9d84b-c803-479b-a74c-81bd550085ab\",\"type\":\"ColumnDataSource\"},{\"attributes\":{\"fill_alpha\":{\"field\":\"fill_alpha\"},\"fill_color\":{\"field\":\"color\"},\"height\":{\"field\":\"height\",\"units\":\"data\"},\"line_color\":{\"field\":\"line_color\"},\"width\":{\"field\":\"width\",\"units\":\"data\"},\"x\":{\"field\":\"x\"},\"y\":{\"field\":\"y\"}},\"id\":\"a7f8f1b3-e687-4251-8d11-d5d7c43ae5d3\",\"type\":\"Rect\"},{\"attributes\":{\"plot\":{\"id\":\"d37749f5-a6b9-45a9-9e33-c5cef0271b40\",\"subtype\":\"Chart\",\"type\":\"Plot\"}},\"id\":\"607e5c60-314e-4ab8-b4a1-bd457ff2a09e\",\"type\":\"ResetTool\"},{\"attributes\":{\"data_source\":{\"id\":\"5b8c36b5-5325-498b-8f35-669beb14bd49\",\"type\":\"ColumnDataSource\"},\"glyph\":{\"id\":\"b73179e3-db38-440f-b04a-bcca3aa5d728\",\"type\":\"Rect\"},\"hover_glyph\":null,\"nonselection_glyph\":null,\"selection_glyph\":null},\"id\":\"a7f814ff-eabe-4e15-ac8a-4b22c66c845b\",\"type\":\"GlyphRenderer\"},{\"attributes\":{\"fill_alpha\":{\"field\":\"fill_alpha\"},\"fill_color\":{\"field\":\"color\"},\"height\":{\"field\":\"height\",\"units\":\"data\"},\"line_color\":{\"field\":\"line_color\"},\"width\":{\"field\":\"width\",\"units\":\"data\"},\"x\":{\"field\":\"x\"},\"y\":{\"field\":\"y\"}},\"id\":\"912a039e-bb27-42c9-9618-0a95c3b3ea50\",\"type\":\"Rect\"},{\"attributes\":{\"axis_label\":\"Occurences\",\"formatter\":{\"id\":\"e7f64871-78c9-4491-a5a0-7c7da6e6ea37\",\"type\":\"BasicTickFormatter\"},\"plot\":{\"id\":\"1d31ceda-bb3a-4fef-ab4c-aee581f1fd67\",\"subtype\":\"Chart\",\"type\":\"Plot\"},\"ticker\":{\"id\":\"03c38ae8-abfe-4a11-b62d-ec7400f3f068\",\"type\":\"BasicTicker\"}},\"id\":\"770323b8-2e89-4e23-b485-c18de936b6ae\",\"type\":\"LinearAxis\"},{\"attributes\":{\"callback\":null,\"column_names\":[\"width\",\"line_color\",\"x\",\"fill_alpha\",\"line_alpha\",\"y\",\"label\",\"height\",\"color\"],\"data\":{\"chart_index\":[{\"genre\":\"War\"}],\"color\":[\"#999999\"],\"fill_alpha\":[0.8],\"genre\":[\"War\"],\"height\":[31.0],\"label\":[{\"genre\":\"War\"}],\"line_alpha\":[1.0],\"line_color\":[\"white\"],\"width\":[0.8],\"x\":[\"War\"],\"y\":[15.5]}},\"id\":\"b5e63a85-db15-4c72-81f1-0228a6186605\",\"type\":\"ColumnDataSource\"},{\"attributes\":{\"callback\":null,\"column_names\":[\"width\",\"line_color\",\"x\",\"fill_alpha\",\"line_alpha\",\"y\",\"label\",\"height\",\"color\"],\"data\":{\"chart_index\":[{\"genre\":\"Animation\"}],\"color\":[\"#4daf4a\"],\"fill_alpha\":[0.8],\"genre\":[\"Animation\"],\"height\":[55.0],\"label\":[{\"genre\":\"Animation\"}],\"line_alpha\":[1.0],\"line_color\":[\"white\"],\"width\":[0.8],\"x\":[\"Animation\"],\"y\":[27.5]}},\"id\":\"15a79010-be71-4c3c-874c-9956d2b65218\",\"type\":\"ColumnDataSource\"},{\"attributes\":{\"callback\":null,\"column_names\":[\"width\",\"line_color\",\"x\",\"fill_alpha\",\"line_alpha\",\"y\",\"label\",\"height\",\"color\"],\"data\":{\"chart_index\":[{\"genre\":\"Adventure\"}],\"color\":[\"#377eb8\"],\"fill_alpha\":[0.8],\"genre\":[\"Adventure\"],\"height\":[4.0],\"label\":[{\"genre\":\"Adventure\"}],\"line_alpha\":[1.0],\"line_color\":[\"white\"],\"width\":[0.8],\"x\":[\"Adventure\"],\"y\":[2.0]}},\"id\":\"e62ebf3c-b58a-4be1-9196-94aa9db2abdc\",\"type\":\"ColumnDataSource\"},{\"attributes\":{\"callback\":null,\"column_names\":[\"width\",\"line_color\",\"x\",\"fill_alpha\",\"line_alpha\",\"y\",\"label\",\"height\",\"color\"],\"data\":{\"chart_index\":[{\"genre\":\"Fantasy\"}],\"color\":[\"#999999\"],\"fill_alpha\":[0.8],\"genre\":[\"Fantasy\"],\"height\":[95.0],\"label\":[{\"genre\":\"Fantasy\"}],\"line_alpha\":[1.0],\"line_color\":[\"white\"],\"width\":[0.8],\"x\":[\"Fantasy\"],\"y\":[47.5]}},\"id\":\"433cd3e7-ef1e-4f17-99c2-04a2239958ea\",\"type\":\"ColumnDataSource\"},{\"attributes\":{\"callback\":null,\"column_names\":[\"width\",\"line_color\",\"x\",\"fill_alpha\",\"line_alpha\",\"y\",\"label\",\"height\",\"color\"],\"data\":{\"chart_index\":[{\"genre\":\"IMAX\"}],\"color\":[\"#4daf4a\"],\"fill_alpha\":[0.8],\"genre\":[\"IMAX\"],\"height\":[19.0],\"label\":[{\"genre\":\"IMAX\"}],\"line_alpha\":[1.0],\"line_color\":[\"white\"],\"width\":[0.8],\"x\":[\"IMAX\"],\"y\":[9.5]}},\"id\":\"5b8c36b5-5325-498b-8f35-669beb14bd49\",\"type\":\"ColumnDataSource\"},{\"attributes\":{\"callback\":null,\"column_names\":[\"width\",\"line_color\",\"x\",\"fill_alpha\",\"line_alpha\",\"y\",\"label\",\"height\",\"color\"],\"data\":{\"chart_index\":[{\"genre\":\"Fantasy\"}],\"color\":[\"#999999\"],\"fill_alpha\":[0.8],\"genre\":[\"Fantasy\"],\"height\":[18.0],\"label\":[{\"genre\":\"Fantasy\"}],\"line_alpha\":[1.0],\"line_color\":[\"white\"],\"width\":[0.8],\"x\":[\"Fantasy\"],\"y\":[9.0]}},\"id\":\"cbc95005-0866-4244-8ebd-1e88ef63de2a\",\"type\":\"ColumnDataSource\"},{\"attributes\":{\"callback\":null,\"column_names\":[\"width\",\"line_color\",\"x\",\"fill_alpha\",\"line_alpha\",\"y\",\"label\",\"height\",\"color\"],\"data\":{\"chart_index\":[{\"genre\":\"Musical\"}],\"color\":[\"#984ea3\"],\"fill_alpha\":[0.8],\"genre\":[\"Musical\"],\"height\":[10.0],\"label\":[{\"genre\":\"Musical\"}],\"line_alpha\":[1.0],\"line_color\":[\"white\"],\"width\":[0.8],\"x\":[\"Musical\"],\"y\":[5.0]}},\"id\":\"92a26b1b-e4dc-4304-a15e-815e9ca13cb7\",\"type\":\"ColumnDataSource\"},{\"attributes\":{\"data_source\":{\"id\":\"0d29c1a2-e300-4495-9e60-d952d7bfe72e\",\"type\":\"ColumnDataSource\"},\"glyph\":{\"id\":\"7d2728c4-9825-4cbd-9809-65cfcc8f7e26\",\"type\":\"Rect\"},\"hover_glyph\":null,\"nonselection_glyph\":null,\"selection_glyph\":null},\"id\":\"4f576fba-8a11-440c-8ecc-261fc1bfeb15\",\"type\":\"GlyphRenderer\"},{\"attributes\":{\"fill_alpha\":{\"field\":\"fill_alpha\"},\"fill_color\":{\"field\":\"color\"},\"height\":{\"field\":\"height\",\"units\":\"data\"},\"line_color\":{\"field\":\"line_color\"},\"width\":{\"field\":\"width\",\"units\":\"data\"},\"x\":{\"field\":\"x\"},\"y\":{\"field\":\"y\"}},\"id\":\"04dbc703-2021-4ee7-b137-09d09d679604\",\"type\":\"Rect\"},{\"attributes\":{\"callback\":null,\"column_names\":[\"width\",\"line_color\",\"x\",\"fill_alpha\",\"line_alpha\",\"y\",\"label\",\"height\",\"color\"],\"data\":{\"chart_index\":[{\"genre\":\"Adventure\"}],\"color\":[\"#377eb8\"],\"fill_alpha\":[0.8],\"genre\":[\"Adventure\"],\"height\":[224.0],\"label\":[{\"genre\":\"Adventure\"}],\"line_alpha\":[1.0],\"line_color\":[\"white\"],\"width\":[0.8],\"x\":[\"Adventure\"],\"y\":[112.0]}},\"id\":\"0d29c1a2-e300-4495-9e60-d952d7bfe72e\",\"type\":\"ColumnDataSource\"},{\"attributes\":{\"callback\":null,\"column_names\":[\"width\",\"line_color\",\"x\",\"fill_alpha\",\"line_alpha\",\"y\",\"label\",\"height\",\"color\"],\"data\":{\"chart_index\":[{\"genre\":\"IMAX\"}],\"color\":[\"#4daf4a\"],\"fill_alpha\":[0.8],\"genre\":[\"IMAX\"],\"height\":[3.0],\"label\":[{\"genre\":\"IMAX\"}],\"line_alpha\":[1.0],\"line_color\":[\"white\"],\"width\":[0.8],\"x\":[\"IMAX\"],\"y\":[1.5]}},\"id\":\"85060c08-885c-4fbd-b035-f62d1738e3ca\",\"type\":\"ColumnDataSource\"},{\"attributes\":{\"fill_alpha\":{\"field\":\"fill_alpha\"},\"fill_color\":{\"field\":\"color\"},\"height\":{\"field\":\"height\",\"units\":\"data\"},\"line_color\":{\"field\":\"line_color\"},\"width\":{\"field\":\"width\",\"units\":\"data\"},\"x\":{\"field\":\"x\"},\"y\":{\"field\":\"y\"}},\"id\":\"7c1c2ebd-7f35-46b8-9bb7-8b00c8ac5d1b\",\"type\":\"Rect\"},{\"attributes\":{\"data_source\":{\"id\":\"45668b41-73ef-4db8-8574-e97365ed5374\",\"type\":\"ColumnDataSource\"},\"glyph\":{\"id\":\"ca684f3e-bdf3-41e8-b72b-544afb93b65d\",\"type\":\"Rect\"},\"hover_glyph\":null,\"nonselection_glyph\":null,\"selection_glyph\":null},\"id\":\"419e32bd-86b1-47e4-87f2-613c56b0fbdc\",\"type\":\"GlyphRenderer\"},{\"attributes\":{\"data_source\":{\"id\":\"e6643dde-f3ba-40fd-98b0-4e7f855d81e5\",\"type\":\"ColumnDataSource\"},\"glyph\":{\"id\":\"9bfd70f4-aaf1-4a06-8eeb-0c63685c44a6\",\"type\":\"Rect\"},\"hover_glyph\":null,\"nonselection_glyph\":null,\"selection_glyph\":null},\"id\":\"64e29451-e930-4d2e-9e66-269374872694\",\"type\":\"GlyphRenderer\"},{\"attributes\":{\"data_source\":{\"id\":\"842fad79-3c21-45b5-9d76-960895c84e61\",\"type\":\"ColumnDataSource\"},\"glyph\":{\"id\":\"200e4532-a78d-4f6a-8e2d-348b38c2b193\",\"type\":\"Rect\"},\"hover_glyph\":null,\"nonselection_glyph\":null,\"selection_glyph\":null},\"id\":\"9d3d5001-0af8-4f80-b438-709f4394e551\",\"type\":\"GlyphRenderer\"},{\"attributes\":{\"callback\":null,\"column_names\":[\"width\",\"line_color\",\"x\",\"fill_alpha\",\"line_alpha\",\"y\",\"label\",\"height\",\"color\"],\"data\":{\"chart_index\":[{\"genre\":\"Mystery\"}],\"color\":[\"#ff7f00\"],\"fill_alpha\":[0.8],\"genre\":[\"Mystery\"],\"height\":[8.0],\"label\":[{\"genre\":\"Mystery\"}],\"line_alpha\":[1.0],\"line_color\":[\"white\"],\"width\":[0.8],\"x\":[\"Mystery\"],\"y\":[4.0]}},\"id\":\"61a24518-6310-4c43-9838-a63459d34188\",\"type\":\"ColumnDataSource\"},{\"attributes\":{\"active_drag\":\"auto\",\"active_scroll\":\"auto\",\"active_tap\":\"auto\",\"tools\":[{\"id\":\"c7f32f41-7df5-4e2c-81dc-d17d6480865d\",\"type\":\"PanTool\"},{\"id\":\"2b9e45e3-39a5-4dc4-86e5-9eb46673ba10\",\"type\":\"WheelZoomTool\"},{\"id\":\"dd95a2cd-87e3-437b-aba9-6312416dc94b\",\"type\":\"BoxZoomTool\"},{\"id\":\"59c2242a-2d01-4180-b011-5c540846ed42\",\"type\":\"SaveTool\"},{\"id\":\"68c81406-6238-4ab6-8b1b-14fc4bf0e353\",\"type\":\"ResetTool\"},{\"id\":\"487a2010-81f8-459b-8d15-ffb49dd2e0c5\",\"type\":\"HelpTool\"}]},\"id\":\"85c2f8cb-d5f7-458b-bcaa-c810da2b90d6\",\"type\":\"Toolbar\"},{\"attributes\":{\"axis_label\":\"Genre\",\"formatter\":{\"id\":\"1a7408ce-62f1-47a3-baf1-3afe53506894\",\"type\":\"CategoricalTickFormatter\"},\"major_label_orientation\":0.7853981633974483,\"plot\":{\"id\":\"1d31ceda-bb3a-4fef-ab4c-aee581f1fd67\",\"subtype\":\"Chart\",\"type\":\"Plot\"},\"ticker\":{\"id\":\"91852e36-d5c5-4352-abff-60819def4c8e\",\"type\":\"CategoricalTicker\"}},\"id\":\"fe577e84-956f-4db7-a6dd-7a5e1d01ac0f\",\"type\":\"CategoricalAxis\"},{\"attributes\":{\"axis_label\":\"Occurences\",\"formatter\":{\"id\":\"ed4d17ba-5cb9-4660-9378-717c1e08e1e4\",\"type\":\"BasicTickFormatter\"},\"plot\":{\"id\":\"d37749f5-a6b9-45a9-9e33-c5cef0271b40\",\"subtype\":\"Chart\",\"type\":\"Plot\"},\"ticker\":{\"id\":\"ba899c5a-703b-494c-81a0-3ef68f516e41\",\"type\":\"BasicTicker\"}},\"id\":\"3d78df0a-5e96-490c-beb3-c6f1b130d7f3\",\"type\":\"LinearAxis\"},{\"attributes\":{\"callback\":null,\"factors\":[\"Action\",\"Adventure\",\"Animation\",\"Children\",\"Comedy\",\"Crime\",\"Documentary\",\"Drama\",\"Fantasy\",\"Film-Noir\",\"Horror\",\"IMAX\",\"Musical\",\"Mystery\",\"Romance\",\"Sci-Fi\",\"Thriller\",\"War\",\"Western\"]},\"id\":\"2a815e8d-8b15-47d0-be99-70340b2060b3\",\"type\":\"FactorRange\"},{\"attributes\":{\"data_source\":{\"id\":\"9d280c4d-654c-4f04-b894-ba2bc25bb87e\",\"type\":\"ColumnDataSource\"},\"glyph\":{\"id\":\"23fd0b08-92ef-4721-932b-a28298884fb8\",\"type\":\"Rect\"},\"hover_glyph\":null,\"nonselection_glyph\":null,\"selection_glyph\":null},\"id\":\"61922289-0aef-48ae-8328-f0c69da0f73e\",\"type\":\"GlyphRenderer\"},{\"attributes\":{\"callback\":null,\"column_names\":[\"width\",\"line_color\",\"x\",\"fill_alpha\",\"line_alpha\",\"y\",\"label\",\"height\",\"color\"],\"data\":{\"chart_index\":[{\"genre\":\"Documentary\"}],\"color\":[\"#a65628\"],\"fill_alpha\":[0.8],\"genre\":[\"Documentary\"],\"height\":[0.0],\"label\":[{\"genre\":\"Documentary\"}],\"line_alpha\":[1.0],\"line_color\":[\"white\"],\"width\":[0.8],\"x\":[\"Documentary\"],\"y\":[0.0]}},\"id\":\"cb86de9d-2ac8-4186-9558-47a5d7e9a318\",\"type\":\"ColumnDataSource\"},{\"attributes\":{\"callback\":null,\"column_names\":[\"width\",\"line_color\",\"x\",\"fill_alpha\",\"line_alpha\",\"y\",\"label\",\"height\",\"color\"],\"data\":{\"chart_index\":[{\"genre\":\"Sci-Fi\"}],\"color\":[\"#a65628\"],\"fill_alpha\":[0.8],\"genre\":[\"Sci-Fi\"],\"height\":[149.0],\"label\":[{\"genre\":\"Sci-Fi\"}],\"line_alpha\":[1.0],\"line_color\":[\"white\"],\"width\":[0.8],\"x\":[\"Sci-Fi\"],\"y\":[74.5]}},\"id\":\"a3e2bd39-7f8d-46cc-a475-aa4f5d78ef21\",\"type\":\"ColumnDataSource\"},{\"attributes\":{\"fill_alpha\":{\"field\":\"fill_alpha\"},\"fill_color\":{\"field\":\"color\"},\"height\":{\"field\":\"height\",\"units\":\"data\"},\"line_color\":{\"field\":\"line_color\"},\"width\":{\"field\":\"width\",\"units\":\"data\"},\"x\":{\"field\":\"x\"},\"y\":{\"field\":\"y\"}},\"id\":\"e70c82c8-d1a7-402b-846f-c46bb46ef903\",\"type\":\"Rect\"},{\"attributes\":{\"fill_alpha\":{\"field\":\"fill_alpha\"},\"fill_color\":{\"field\":\"color\"},\"height\":{\"field\":\"height\",\"units\":\"data\"},\"line_color\":{\"field\":\"line_color\"},\"width\":{\"field\":\"width\",\"units\":\"data\"},\"x\":{\"field\":\"x\"},\"y\":{\"field\":\"y\"}},\"id\":\"9bfd70f4-aaf1-4a06-8eeb-0c63685c44a6\",\"type\":\"Rect\"},{\"attributes\":{\"callback\":null,\"column_names\":[\"width\",\"line_color\",\"x\",\"fill_alpha\",\"line_alpha\",\"y\",\"label\",\"height\",\"color\"],\"data\":{\"chart_index\":[{\"genre\":\"Sci-Fi\"}],\"color\":[\"#a65628\"],\"fill_alpha\":[0.8],\"genre\":[\"Sci-Fi\"],\"height\":[20.0],\"label\":[{\"genre\":\"Sci-Fi\"}],\"line_alpha\":[1.0],\"line_color\":[\"white\"],\"width\":[0.8],\"x\":[\"Sci-Fi\"],\"y\":[10.0]}},\"id\":\"6bc5b7f1-f6fe-411a-a1ba-f76abb4aad86\",\"type\":\"ColumnDataSource\"},{\"attributes\":{\"dimension\":1,\"plot\":{\"id\":\"1d31ceda-bb3a-4fef-ab4c-aee581f1fd67\",\"subtype\":\"Chart\",\"type\":\"Plot\"},\"ticker\":{\"id\":\"03c38ae8-abfe-4a11-b62d-ec7400f3f068\",\"type\":\"BasicTicker\"}},\"id\":\"4647492e-f5c4-4432-962f-e866fc84ffaf\",\"type\":\"Grid\"},{\"attributes\":{\"data_source\":{\"id\":\"a3e2bd39-7f8d-46cc-a475-aa4f5d78ef21\",\"type\":\"ColumnDataSource\"},\"glyph\":{\"id\":\"b83a5152-8400-4b64-84be-07471df3fe82\",\"type\":\"Rect\"},\"hover_glyph\":null,\"nonselection_glyph\":null,\"selection_glyph\":null},\"id\":\"3478c77c-1f7c-4d10-a33e-cef8f3a7ed24\",\"type\":\"GlyphRenderer\"},{\"attributes\":{},\"id\":\"acc1d99b-d632-4613-b8d5-fd99edbea751\",\"type\":\"ToolEvents\"},{\"attributes\":{\"data_source\":{\"id\":\"68a9d84b-c803-479b-a74c-81bd550085ab\",\"type\":\"ColumnDataSource\"},\"glyph\":{\"id\":\"95c36192-7892-461e-a421-d9d1d40471fb\",\"type\":\"Rect\"},\"hover_glyph\":null,\"nonselection_glyph\":null,\"selection_glyph\":null},\"id\":\"be9cb554-835d-474b-80ea-97de72b91da0\",\"type\":\"GlyphRenderer\"},{\"attributes\":{\"data_source\":{\"id\":\"6bc5b7f1-f6fe-411a-a1ba-f76abb4aad86\",\"type\":\"ColumnDataSource\"},\"glyph\":{\"id\":\"117197bd-8d52-48f5-9a91-abbe8c12dbe3\",\"type\":\"Rect\"},\"hover_glyph\":null,\"nonselection_glyph\":null,\"selection_glyph\":null},\"id\":\"fd081b27-7f65-4734-9464-0648be23d1c0\",\"type\":\"GlyphRenderer\"},{\"attributes\":{\"callback\":null,\"column_names\":[\"width\",\"line_color\",\"x\",\"fill_alpha\",\"line_alpha\",\"y\",\"label\",\"height\",\"color\"],\"data\":{\"chart_index\":[{\"genre\":\"Film-Noir\"}],\"color\":[\"#e41a1c\"],\"fill_alpha\":[0.8],\"genre\":[\"Film-Noir\"],\"height\":[12.0],\"label\":[{\"genre\":\"Film-Noir\"}],\"line_alpha\":[1.0],\"line_color\":[\"white\"],\"width\":[0.8],\"x\":[\"Film-Noir\"],\"y\":[6.0]}},\"id\":\"c6e1baaf-dae3-4fb3-adcf-c344ca654145\",\"type\":\"ColumnDataSource\"},{\"attributes\":{\"axis_label\":\"Genre\",\"formatter\":{\"id\":\"a1734f3d-bb79-4a07-8f26-4f7d01222e1d\",\"type\":\"CategoricalTickFormatter\"},\"major_label_orientation\":0.7853981633974483,\"plot\":{\"id\":\"d37749f5-a6b9-45a9-9e33-c5cef0271b40\",\"subtype\":\"Chart\",\"type\":\"Plot\"},\"ticker\":{\"id\":\"c0b9bd5a-bfd8-4da8-b265-56d15a0398c5\",\"type\":\"CategoricalTicker\"}},\"id\":\"f3713387-ac3e-4571-afc1-564ad267b540\",\"type\":\"CategoricalAxis\"},{\"attributes\":{\"data_source\":{\"id\":\"05b2ee86-8817-4517-886c-e610e271b45e\",\"type\":\"ColumnDataSource\"},\"glyph\":{\"id\":\"01a1cd13-99ac-4047-805a-75789a268e92\",\"type\":\"Rect\"},\"hover_glyph\":null,\"nonselection_glyph\":null,\"selection_glyph\":null},\"id\":\"127d7fe2-8fd2-4c13-ae5f-83c8537729d2\",\"type\":\"GlyphRenderer\"},{\"attributes\":{\"fill_alpha\":{\"field\":\"fill_alpha\"},\"fill_color\":{\"field\":\"color\"},\"height\":{\"field\":\"height\",\"units\":\"data\"},\"line_color\":{\"field\":\"line_color\"},\"width\":{\"field\":\"width\",\"units\":\"data\"},\"x\":{\"field\":\"x\"},\"y\":{\"field\":\"y\"}},\"id\":\"01a1cd13-99ac-4047-805a-75789a268e92\",\"type\":\"Rect\"},{\"attributes\":{\"plot\":{\"id\":\"d37749f5-a6b9-45a9-9e33-c5cef0271b40\",\"subtype\":\"Chart\",\"type\":\"Plot\"}},\"id\":\"c3400670-2e71-423a-986c-de74f5b8960f\",\"type\":\"PanTool\"},{\"attributes\":{\"fill_alpha\":{\"field\":\"fill_alpha\"},\"fill_color\":{\"field\":\"color\"},\"height\":{\"field\":\"height\",\"units\":\"data\"},\"line_color\":{\"field\":\"line_color\"},\"width\":{\"field\":\"width\",\"units\":\"data\"},\"x\":{\"field\":\"x\"},\"y\":{\"field\":\"y\"}},\"id\":\"1f720f97-4045-4f61-bcdc-7524604f1380\",\"type\":\"Rect\"},{\"attributes\":{\"data_source\":{\"id\":\"cb86de9d-2ac8-4186-9558-47a5d7e9a318\",\"type\":\"ColumnDataSource\"},\"glyph\":{\"id\":\"aa269839-186f-46ab-9d2b-5f9acac19a21\",\"type\":\"Rect\"},\"hover_glyph\":null,\"nonselection_glyph\":null,\"selection_glyph\":null},\"id\":\"d40d714d-4c5e-4dee-ab1d-9ca307464ec6\",\"type\":\"GlyphRenderer\"},{\"attributes\":{\"fill_alpha\":{\"field\":\"fill_alpha\"},\"fill_color\":{\"field\":\"color\"},\"height\":{\"field\":\"height\",\"units\":\"data\"},\"line_color\":{\"field\":\"line_color\"},\"width\":{\"field\":\"width\",\"units\":\"data\"},\"x\":{\"field\":\"x\"},\"y\":{\"field\":\"y\"}},\"id\":\"bc199881-cb5a-4cba-a445-0616b9892977\",\"type\":\"Rect\"},{\"attributes\":{\"callback\":null,\"column_names\":[\"width\",\"line_color\",\"x\",\"fill_alpha\",\"line_alpha\",\"y\",\"label\",\"height\",\"color\"],\"data\":{\"chart_index\":[{\"genre\":\"Action\"}],\"color\":[\"#e41a1c\"],\"fill_alpha\":[0.8],\"genre\":[\"Action\"],\"height\":[240.0],\"label\":[{\"genre\":\"Action\"}],\"line_alpha\":[1.0],\"line_color\":[\"white\"],\"width\":[0.8],\"x\":[\"Action\"],\"y\":[120.0]}},\"id\":\"7bc99b76-d481-445e-8f87-3af5143040c4\",\"type\":\"ColumnDataSource\"},{\"attributes\":{\"fill_alpha\":{\"field\":\"fill_alpha\"},\"fill_color\":{\"field\":\"color\"},\"height\":{\"field\":\"height\",\"units\":\"data\"},\"line_color\":{\"field\":\"line_color\"},\"width\":{\"field\":\"width\",\"units\":\"data\"},\"x\":{\"field\":\"x\"},\"y\":{\"field\":\"y\"}},\"id\":\"fadaaa50-8a7f-4303-830b-84335d5c0f3c\",\"type\":\"Rect\"},{\"attributes\":{\"data_source\":{\"id\":\"92a26b1b-e4dc-4304-a15e-815e9ca13cb7\",\"type\":\"ColumnDataSource\"},\"glyph\":{\"id\":\"9e1a8e86-0c9d-4f76-8ba3-467fd6e5cccb\",\"type\":\"Rect\"},\"hover_glyph\":null,\"nonselection_glyph\":null,\"selection_glyph\":null},\"id\":\"7dad6e54-028d-48db-a374-1fb642246d20\",\"type\":\"GlyphRenderer\"},{\"attributes\":{\"fill_alpha\":{\"field\":\"fill_alpha\"},\"fill_color\":{\"field\":\"color\"},\"height\":{\"field\":\"height\",\"units\":\"data\"},\"line_color\":{\"field\":\"line_color\"},\"width\":{\"field\":\"width\",\"units\":\"data\"},\"x\":{\"field\":\"x\"},\"y\":{\"field\":\"y\"}},\"id\":\"eb2f4b33-6728-4ce1-a6da-6513cbb45662\",\"type\":\"Rect\"},{\"attributes\":{\"children\":[{\"id\":\"1d31ceda-bb3a-4fef-ab4c-aee581f1fd67\",\"subtype\":\"Chart\",\"type\":\"Plot\"},{\"id\":\"d37749f5-a6b9-45a9-9e33-c5cef0271b40\",\"subtype\":\"Chart\",\"type\":\"Plot\"}]},\"id\":\"7d745040-db6d-4112-968c-805fd10a8e9e\",\"type\":\"Row\"},{\"attributes\":{\"fill_alpha\":{\"field\":\"fill_alpha\"},\"fill_color\":{\"field\":\"color\"},\"height\":{\"field\":\"height\",\"units\":\"data\"},\"line_color\":{\"field\":\"line_color\"},\"width\":{\"field\":\"width\",\"units\":\"data\"},\"x\":{\"field\":\"x\"},\"y\":{\"field\":\"y\"}},\"id\":\"832d175e-8621-4a42-ad71-444adf75859c\",\"type\":\"Rect\"},{\"attributes\":{\"data_source\":{\"id\":\"fbe38270-67d8-4741-a472-bba3ee9d287c\",\"type\":\"ColumnDataSource\"},\"glyph\":{\"id\":\"f09054f3-ca2b-462f-917e-134490146d57\",\"type\":\"Rect\"},\"hover_glyph\":null,\"nonselection_glyph\":null,\"selection_glyph\":null},\"id\":\"aa101569-555c-437d-8ca1-de85d15799f7\",\"type\":\"GlyphRenderer\"},{\"attributes\":{\"callback\":null,\"column_names\":[\"width\",\"line_color\",\"x\",\"fill_alpha\",\"line_alpha\",\"y\",\"label\",\"height\",\"color\"],\"data\":{\"chart_index\":[{\"genre\":\"Horror\"}],\"color\":[\"#377eb8\"],\"fill_alpha\":[0.8],\"genre\":[\"Horror\"],\"height\":[33.0],\"label\":[{\"genre\":\"Horror\"}],\"line_alpha\":[1.0],\"line_color\":[\"white\"],\"width\":[0.8],\"x\":[\"Horror\"],\"y\":[16.5]}},\"id\":\"f81b4019-dd93-4a5d-9ccd-640905250a0e\",\"type\":\"ColumnDataSource\"},{\"attributes\":{\"data_source\":{\"id\":\"1edc556a-5d5a-4306-a5ec-3a97486fd519\",\"type\":\"ColumnDataSource\"},\"glyph\":{\"id\":\"912a039e-bb27-42c9-9618-0a95c3b3ea50\",\"type\":\"Rect\"},\"hover_glyph\":null,\"nonselection_glyph\":null,\"selection_glyph\":null},\"id\":\"a88f8c58-3c17-41fb-9560-769d68573f81\",\"type\":\"GlyphRenderer\"},{\"attributes\":{\"data_source\":{\"id\":\"7bc99b76-d481-445e-8f87-3af5143040c4\",\"type\":\"ColumnDataSource\"},\"glyph\":{\"id\":\"b844bb49-e327-4bf4-acaa-e3d9c2ad0db2\",\"type\":\"Rect\"},\"hover_glyph\":null,\"nonselection_glyph\":null,\"selection_glyph\":null},\"id\":\"346e5bf1-961b-43a9-abb7-97cd8e5784a9\",\"type\":\"GlyphRenderer\"},{\"attributes\":{\"callback\":null,\"column_names\":[\"width\",\"line_color\",\"x\",\"fill_alpha\",\"line_alpha\",\"y\",\"label\",\"height\",\"color\"],\"data\":{\"chart_index\":[{\"genre\":\"Comedy\"}],\"color\":[\"#ff7f00\"],\"fill_alpha\":[0.8],\"genre\":[\"Comedy\"],\"height\":[21.0],\"label\":[{\"genre\":\"Comedy\"}],\"line_alpha\":[1.0],\"line_color\":[\"white\"],\"width\":[0.8],\"x\":[\"Comedy\"],\"y\":[10.5]}},\"id\":\"5a7698f1-b9b4-4469-97cd-54fee42848ff\",\"type\":\"ColumnDataSource\"},{\"attributes\":{\"callback\":null,\"column_names\":[\"width\",\"line_color\",\"x\",\"fill_alpha\",\"line_alpha\",\"y\",\"label\",\"height\",\"color\"],\"data\":{\"chart_index\":[{\"genre\":\"Children\"}],\"color\":[\"#984ea3\"],\"fill_alpha\":[0.8],\"genre\":[\"Children\"],\"height\":[72.0],\"label\":[{\"genre\":\"Children\"}],\"line_alpha\":[1.0],\"line_color\":[\"white\"],\"width\":[0.8],\"x\":[\"Children\"],\"y\":[36.0]}},\"id\":\"1f17a9f8-65e9-46c5-931a-c99623fa2051\",\"type\":\"ColumnDataSource\"},{\"attributes\":{\"callback\":null,\"column_names\":[\"width\",\"line_color\",\"x\",\"fill_alpha\",\"line_alpha\",\"y\",\"label\",\"height\",\"color\"],\"data\":{\"chart_index\":[{\"genre\":\"Crime\"}],\"color\":[\"#ffff33\"],\"fill_alpha\":[0.8],\"genre\":[\"Crime\"],\"height\":[119.0],\"label\":[{\"genre\":\"Crime\"}],\"line_alpha\":[1.0],\"line_color\":[\"white\"],\"width\":[0.8],\"x\":[\"Crime\"],\"y\":[59.5]}},\"id\":\"587bda6f-d9aa-445b-b93d-66a968e2c085\",\"type\":\"ColumnDataSource\"},{\"attributes\":{\"bottom_units\":\"screen\",\"fill_alpha\":{\"value\":0.5},\"fill_color\":{\"value\":\"lightgrey\"},\"left_units\":\"screen\",\"level\":\"overlay\",\"line_alpha\":{\"value\":1.0},\"line_color\":{\"value\":\"black\"},\"line_dash\":[4,4],\"line_width\":{\"value\":2},\"plot\":null,\"render_mode\":\"css\",\"right_units\":\"screen\",\"top_units\":\"screen\"},\"id\":\"e038f436-ca4a-4d64-9cb2-30e10e71b874\",\"type\":\"BoxAnnotation\"},{\"attributes\":{\"fill_alpha\":{\"field\":\"fill_alpha\"},\"fill_color\":{\"field\":\"color\"},\"height\":{\"field\":\"height\",\"units\":\"data\"},\"line_color\":{\"field\":\"line_color\"},\"width\":{\"field\":\"width\",\"units\":\"data\"},\"x\":{\"field\":\"x\"},\"y\":{\"field\":\"y\"}},\"id\":\"c400a480-0edf-4d5e-9672-fd543b212f57\",\"type\":\"Rect\"},{\"attributes\":{\"callback\":null,\"column_names\":[\"width\",\"line_color\",\"x\",\"fill_alpha\",\"line_alpha\",\"y\",\"label\",\"height\",\"color\"],\"data\":{\"chart_index\":[{\"genre\":\"War\"}],\"color\":[\"#999999\"],\"fill_alpha\":[0.8],\"genre\":[\"War\"],\"height\":[19.0],\"label\":[{\"genre\":\"War\"}],\"line_alpha\":[1.0],\"line_color\":[\"white\"],\"width\":[0.8],\"x\":[\"War\"],\"y\":[9.5]}},\"id\":\"51227090-fc58-4115-b5bc-b2129d66685b\",\"type\":\"ColumnDataSource\"},{\"attributes\":{\"below\":[{\"id\":\"fe577e84-956f-4db7-a6dd-7a5e1d01ac0f\",\"type\":\"CategoricalAxis\"}],\"left\":[{\"id\":\"770323b8-2e89-4e23-b485-c18de936b6ae\",\"type\":\"LinearAxis\"}],\"plot_width\":450,\"renderers\":[{\"id\":\"35364f32-8805-4df7-8fbd-32d79e471420\",\"type\":\"BoxAnnotation\"},{\"id\":\"3478c77c-1f7c-4d10-a33e-cef8f3a7ed24\",\"type\":\"GlyphRenderer\"},{\"id\":\"4f576fba-8a11-440c-8ecc-261fc1bfeb15\",\"type\":\"GlyphRenderer\"},{\"id\":\"521ed4cd-4b75-48c8-991e-f0ed791b2d91\",\"type\":\"GlyphRenderer\"},{\"id\":\"48d9de6b-6a04-4c5d-86d7-5fc5b0df0f37\",\"type\":\"GlyphRenderer\"},{\"id\":\"6bcdebf2-b9e6-4ea5-b07f-5d505d4945d1\",\"type\":\"GlyphRenderer\"},{\"id\":\"346e5bf1-961b-43a9-abb7-97cd8e5784a9\",\"type\":\"GlyphRenderer\"},{\"id\":\"3a2ca9fc-9505-4435-bf1c-29036773b6da\",\"type\":\"GlyphRenderer\"},{\"id\":\"4fa3ead1-e473-472f-800e-517250facdc9\",\"type\":\"GlyphRenderer\"},{\"id\":\"4e96fb84-4351-4118-a60d-ec162d5b6262\",\"type\":\"GlyphRenderer\"},{\"id\":\"251f0cfd-e33e-42c8-81df-e47292951534\",\"type\":\"GlyphRenderer\"},{\"id\":\"9ff51fa7-2e99-40e6-9962-e9cccec29aaa\",\"type\":\"GlyphRenderer\"},{\"id\":\"bc036f51-3af9-4b7b-83d5-fe97600d74e6\",\"type\":\"GlyphRenderer\"},{\"id\":\"127d7fe2-8fd2-4c13-ae5f-83c8537729d2\",\"type\":\"GlyphRenderer\"},{\"id\":\"335c8e50-3333-4f8e-b658-f307b301f15c\",\"type\":\"GlyphRenderer\"},{\"id\":\"3132f9fb-2003-4da1-8da5-3d029e35b792\",\"type\":\"GlyphRenderer\"},{\"id\":\"ab07be65-7ed9-4fe4-a89a-3dd19af92417\",\"type\":\"GlyphRenderer\"},{\"id\":\"f42b808e-4b7d-49a7-b10f-fd9edaccc40e\",\"type\":\"GlyphRenderer\"},{\"id\":\"a7f814ff-eabe-4e15-ac8a-4b22c66c845b\",\"type\":\"GlyphRenderer\"},{\"id\":\"64e29451-e930-4d2e-9e66-269374872694\",\"type\":\"GlyphRenderer\"},{\"id\":\"fe577e84-956f-4db7-a6dd-7a5e1d01ac0f\",\"type\":\"CategoricalAxis\"},{\"id\":\"770323b8-2e89-4e23-b485-c18de936b6ae\",\"type\":\"LinearAxis\"},{\"id\":\"4647492e-f5c4-4432-962f-e866fc84ffaf\",\"type\":\"Grid\"}],\"title\":{\"id\":\"88e896a0-6db4-478b-b7a4-f74745a0abb7\",\"type\":\"Title\"},\"tool_events\":{\"id\":\"acc1d99b-d632-4613-b8d5-fd99edbea751\",\"type\":\"ToolEvents\"},\"toolbar\":{\"id\":\"85c2f8cb-d5f7-458b-bcaa-c810da2b90d6\",\"type\":\"Toolbar\"},\"x_mapper_type\":\"auto\",\"x_range\":{\"id\":\"2a815e8d-8b15-47d0-be99-70340b2060b3\",\"type\":\"FactorRange\"},\"y_mapper_type\":\"auto\",\"y_range\":{\"id\":\"e11225bc-dde8-478b-bb61-78bedac46c89\",\"type\":\"Range1d\"}},\"id\":\"1d31ceda-bb3a-4fef-ab4c-aee581f1fd67\",\"subtype\":\"Chart\",\"type\":\"Plot\"},{\"attributes\":{\"fill_alpha\":{\"field\":\"fill_alpha\"},\"fill_color\":{\"field\":\"color\"},\"height\":{\"field\":\"height\",\"units\":\"data\"},\"line_color\":{\"field\":\"line_color\"},\"width\":{\"field\":\"width\",\"units\":\"data\"},\"x\":{\"field\":\"x\"},\"y\":{\"field\":\"y\"}},\"id\":\"b844bb49-e327-4bf4-acaa-e3d9c2ad0db2\",\"type\":\"Rect\"},{\"attributes\":{\"data_source\":{\"id\":\"85060c08-885c-4fbd-b035-f62d1738e3ca\",\"type\":\"ColumnDataSource\"},\"glyph\":{\"id\":\"832d175e-8621-4a42-ad71-444adf75859c\",\"type\":\"Rect\"},\"hover_glyph\":null,\"nonselection_glyph\":null,\"selection_glyph\":null},\"id\":\"19cc29d9-b19e-4339-a6c4-5891f0deb8e4\",\"type\":\"GlyphRenderer\"},{\"attributes\":{\"fill_alpha\":{\"field\":\"fill_alpha\"},\"fill_color\":{\"field\":\"color\"},\"height\":{\"field\":\"height\",\"units\":\"data\"},\"line_color\":{\"field\":\"line_color\"},\"width\":{\"field\":\"width\",\"units\":\"data\"},\"x\":{\"field\":\"x\"},\"y\":{\"field\":\"y\"}},\"id\":\"7d2728c4-9825-4cbd-9809-65cfcc8f7e26\",\"type\":\"Rect\"},{\"attributes\":{\"fill_alpha\":{\"field\":\"fill_alpha\"},\"fill_color\":{\"field\":\"color\"},\"height\":{\"field\":\"height\",\"units\":\"data\"},\"line_color\":{\"field\":\"line_color\"},\"width\":{\"field\":\"width\",\"units\":\"data\"},\"x\":{\"field\":\"x\"},\"y\":{\"field\":\"y\"}},\"id\":\"33683510-ca1b-4681-9759-18b2e2b1d9b3\",\"type\":\"Rect\"},{\"attributes\":{\"callback\":null,\"end\":388.5},\"id\":\"e11225bc-dde8-478b-bb61-78bedac46c89\",\"type\":\"Range1d\"},{\"attributes\":{\"callback\":null,\"column_names\":[\"width\",\"line_color\",\"x\",\"fill_alpha\",\"line_alpha\",\"y\",\"label\",\"height\",\"color\"],\"data\":{\"chart_index\":[{\"genre\":\"Western\"}],\"color\":[\"#e41a1c\"],\"fill_alpha\":[0.8],\"genre\":[\"Western\"],\"height\":[19.0],\"label\":[{\"genre\":\"Western\"}],\"line_alpha\":[1.0],\"line_color\":[\"white\"],\"width\":[0.8],\"x\":[\"Western\"],\"y\":[9.5]}},\"id\":\"4265a328-d2a6-489e-a0fc-bfbd7660f7f5\",\"type\":\"ColumnDataSource\"},{\"attributes\":{\"callback\":null,\"column_names\":[\"width\",\"line_color\",\"x\",\"fill_alpha\",\"line_alpha\",\"y\",\"label\",\"height\",\"color\"],\"data\":{\"chart_index\":[{\"genre\":\"Romance\"}],\"color\":[\"#ffff33\"],\"fill_alpha\":[0.8],\"genre\":[\"Romance\"],\"height\":[140.0],\"label\":[{\"genre\":\"Romance\"}],\"line_alpha\":[1.0],\"line_color\":[\"white\"],\"width\":[0.8],\"x\":[\"Romance\"],\"y\":[70.0]}},\"id\":\"05b2ee86-8817-4517-886c-e610e271b45e\",\"type\":\"ColumnDataSource\"},{\"attributes\":{\"callback\":null,\"column_names\":[\"width\",\"line_color\",\"x\",\"fill_alpha\",\"line_alpha\",\"y\",\"label\",\"height\",\"color\"],\"data\":{\"chart_index\":[{\"genre\":\"Documentary\"}],\"color\":[\"#a65628\"],\"fill_alpha\":[0.8],\"genre\":[\"Documentary\"],\"height\":[6.0],\"label\":[{\"genre\":\"Documentary\"}],\"line_alpha\":[1.0],\"line_color\":[\"white\"],\"width\":[0.8],\"x\":[\"Documentary\"],\"y\":[3.0]}},\"id\":\"e80ae283-4f72-40ce-911f-cc50736bf4ea\",\"type\":\"ColumnDataSource\"},{\"attributes\":{\"fill_alpha\":{\"field\":\"fill_alpha\"},\"fill_color\":{\"field\":\"color\"},\"height\":{\"field\":\"height\",\"units\":\"data\"},\"line_color\":{\"field\":\"line_color\"},\"width\":{\"field\":\"width\",\"units\":\"data\"},\"x\":{\"field\":\"x\"},\"y\":{\"field\":\"y\"}},\"id\":\"68e9f889-304b-4a9b-8361-3cff60b94e12\",\"type\":\"Rect\"},{\"attributes\":{\"fill_alpha\":{\"field\":\"fill_alpha\"},\"fill_color\":{\"field\":\"color\"},\"height\":{\"field\":\"height\",\"units\":\"data\"},\"line_color\":{\"field\":\"line_color\"},\"width\":{\"field\":\"width\",\"units\":\"data\"},\"x\":{\"field\":\"x\"},\"y\":{\"field\":\"y\"}},\"id\":\"e50f6ae2-2312-4776-a134-d75e64836f44\",\"type\":\"Rect\"},{\"attributes\":{\"data_source\":{\"id\":\"8f878431-b614-4f31-bf6e-853fc9a0a8c8\",\"type\":\"ColumnDataSource\"},\"glyph\":{\"id\":\"68e9f889-304b-4a9b-8361-3cff60b94e12\",\"type\":\"Rect\"},\"hover_glyph\":null,\"nonselection_glyph\":null,\"selection_glyph\":null},\"id\":\"ab07be65-7ed9-4fe4-a89a-3dd19af92417\",\"type\":\"GlyphRenderer\"},{\"attributes\":{\"fill_alpha\":{\"field\":\"fill_alpha\"},\"fill_color\":{\"field\":\"color\"},\"height\":{\"field\":\"height\",\"units\":\"data\"},\"line_color\":{\"field\":\"line_color\"},\"width\":{\"field\":\"width\",\"units\":\"data\"},\"x\":{\"field\":\"x\"},\"y\":{\"field\":\"y\"}},\"id\":\"200e4532-a78d-4f6a-8e2d-348b38c2b193\",\"type\":\"Rect\"},{\"attributes\":{\"callback\":null,\"column_names\":[\"width\",\"line_color\",\"x\",\"fill_alpha\",\"line_alpha\",\"y\",\"label\",\"height\",\"color\"],\"data\":{\"chart_index\":[{\"genre\":\"Film-Noir\"}],\"color\":[\"#e41a1c\"],\"fill_alpha\":[0.8],\"genre\":[\"Film-Noir\"],\"height\":[1.0],\"label\":[{\"genre\":\"Film-Noir\"}],\"line_alpha\":[1.0],\"line_color\":[\"white\"],\"width\":[0.8],\"x\":[\"Film-Noir\"],\"y\":[0.5]}},\"id\":\"e6643dde-f3ba-40fd-98b0-4e7f855d81e5\",\"type\":\"ColumnDataSource\"},{\"attributes\":{\"fill_alpha\":{\"field\":\"fill_alpha\"},\"fill_color\":{\"field\":\"color\"},\"height\":{\"field\":\"height\",\"units\":\"data\"},\"line_color\":{\"field\":\"line_color\"},\"width\":{\"field\":\"width\",\"units\":\"data\"},\"x\":{\"field\":\"x\"},\"y\":{\"field\":\"y\"}},\"id\":\"45bb91e7-93fa-4337-9424-db9e8d57f201\",\"type\":\"Rect\"},{\"attributes\":{\"plot\":{\"id\":\"1d31ceda-bb3a-4fef-ab4c-aee581f1fd67\",\"subtype\":\"Chart\",\"type\":\"Plot\"}},\"id\":\"c7f32f41-7df5-4e2c-81dc-d17d6480865d\",\"type\":\"PanTool\"},{\"attributes\":{\"data_source\":{\"id\":\"5a7698f1-b9b4-4469-97cd-54fee42848ff\",\"type\":\"ColumnDataSource\"},\"glyph\":{\"id\":\"e251cf29-6bfe-4f70-a59c-5aaaba144cf8\",\"type\":\"Rect\"},\"hover_glyph\":null,\"nonselection_glyph\":null,\"selection_glyph\":null},\"id\":\"842fefb0-5418-4454-8c14-833429b8d8c2\",\"type\":\"GlyphRenderer\"},{\"attributes\":{\"plot\":{\"id\":\"1d31ceda-bb3a-4fef-ab4c-aee581f1fd67\",\"subtype\":\"Chart\",\"type\":\"Plot\"}},\"id\":\"487a2010-81f8-459b-8d15-ffb49dd2e0c5\",\"type\":\"HelpTool\"},{\"attributes\":{\"plot\":{\"id\":\"d37749f5-a6b9-45a9-9e33-c5cef0271b40\",\"subtype\":\"Chart\",\"type\":\"Plot\"}},\"id\":\"0ec393b0-79c6-46b4-9c09-373f1b628c57\",\"type\":\"WheelZoomTool\"},{\"attributes\":{\"fill_alpha\":{\"field\":\"fill_alpha\"},\"fill_color\":{\"field\":\"color\"},\"height\":{\"field\":\"height\",\"units\":\"data\"},\"line_color\":{\"field\":\"line_color\"},\"width\":{\"field\":\"width\",\"units\":\"data\"},\"x\":{\"field\":\"x\"},\"y\":{\"field\":\"y\"}},\"id\":\"2c2c637e-d459-4e89-b631-975af5c35bae\",\"type\":\"Rect\"},{\"attributes\":{\"data_source\":{\"id\":\"c5dee78c-552c-45f7-8b76-ae9cdf6e64df\",\"type\":\"ColumnDataSource\"},\"glyph\":{\"id\":\"f3913d8b-0e44-4a65-bf12-08f2d7f78a38\",\"type\":\"Rect\"},\"hover_glyph\":null,\"nonselection_glyph\":null,\"selection_glyph\":null},\"id\":\"bc036f51-3af9-4b7b-83d5-fe97600d74e6\",\"type\":\"GlyphRenderer\"},{\"attributes\":{\"overlay\":{\"id\":\"e038f436-ca4a-4d64-9cb2-30e10e71b874\",\"type\":\"BoxAnnotation\"},\"plot\":{\"id\":\"d37749f5-a6b9-45a9-9e33-c5cef0271b40\",\"subtype\":\"Chart\",\"type\":\"Plot\"}},\"id\":\"2c8779fe-866e-4e1c-8628-3a497587aab4\",\"type\":\"BoxZoomTool\"}],\"root_ids\":[\"7d745040-db6d-4112-968c-805fd10a8e9e\"]},\"title\":\"Bokeh Application\",\"version\":\"0.12.2\"}};\n",
       "            var render_items = [{\"docid\":\"3356ff08-27be-45ee-848a-58e6067da1df\",\"elementid\":\"12f497ce-34d9-47ec-ab92-2f02c83c87b5\",\"modelid\":\"7d745040-db6d-4112-968c-805fd10a8e9e\"}];\n",
       "            \n",
       "            Bokeh.embed.embed_items(docs_json, render_items);\n",
       "        });\n",
       "      },\n",
       "      function(Bokeh) {\n",
       "      }\n",
       "    ];\n",
       "  \n",
       "    function run_inline_js() {\n",
       "      \n",
       "      if ((window.Bokeh !== undefined) || (force === \"1\")) {\n",
       "        for (var i = 0; i < inline_js.length; i++) {\n",
       "          inline_js[i](window.Bokeh);\n",
       "        }if (force === \"1\") {\n",
       "          display_loaded();\n",
       "        }} else if (Date.now() < window._bokeh_timeout) {\n",
       "        setTimeout(run_inline_js, 100);\n",
       "      } else if (!window._bokeh_failed_load) {\n",
       "        console.log(\"Bokeh: BokehJS failed to load within specified timeout.\");\n",
       "        window._bokeh_failed_load = true;\n",
       "      } else if (!force) {\n",
       "        var cell = $(\"#12f497ce-34d9-47ec-ab92-2f02c83c87b5\").parents('.cell').data().cell;\n",
       "        cell.output_area.append_execute_result(NB_LOAD_WARNING)\n",
       "      }\n",
       "  \n",
       "    }\n",
       "  \n",
       "    if (window._bokeh_is_loading === 0) {\n",
       "      console.log(\"Bokeh: BokehJS loaded, going straight to plotting\");\n",
       "      run_inline_js();\n",
       "    } else {\n",
       "      load_libs(js_urls, function() {\n",
       "        console.log(\"Bokeh: BokehJS plotting callback run at\", now());\n",
       "        run_inline_js();\n",
       "      });\n",
       "    }\n",
       "  }(this));\n",
       "</script>"
      ]
     },
     "metadata": {},
     "output_type": "display_data"
    }
   ],
   "source": [
    "def clusterMovies(movies, medoids):\n",
    "    k = len(medoids)\n",
    "    C = [[] for x in range(k)]\n",
    "    for movieId, genres in movies.items():\n",
    "        idx = np.argmin(list(map(lambda y: distance(set(genres),y), medoids)))\n",
    "        C[idx].extend(genres)\n",
    "    return C\n",
    "\n",
    "clusters = [sorted(x) for x in clusterMovies(moviesGenre,medoids)]\n",
    "\n",
    "allGenres = set(clusters[0]).union(set(clusters[1]))\n",
    "\n",
    "occurences = Counter(clusters[0])\n",
    "occurences.update({k: 0 for k in allGenres.difference(set(occurences.keys()))})\n",
    "\n",
    "data = dict(\n",
    "    genre = list(occurences.keys()),\n",
    "    occ = list(occurences.values()),\n",
    ")\n",
    "bar = Bar(data, label='genre',values='occ', legend=None, color='genre', plot_width=450, title='Cluster 1',ylabel='Occurences',palette=small_palettes['Set1'][9])\n",
    "\n",
    "occurences = Counter(clusters[1])\n",
    "occurences.update({k: 0 for k in allGenres.difference(set(occurences.keys()))})\n",
    "\n",
    "data = dict(\n",
    "    genre = list(occurences.keys()),\n",
    "    occ = list(occurences.values()),\n",
    ")\n",
    "bar2 = Bar(data, label='genre',values='occ', legend=None, color='genre', plot_width=450, title='Cluster 2',ylabel='Occurences',palette=small_palettes['Set1'][9])\n",
    "show(row(bar,bar2))"
   ]
  },
  {
   "cell_type": "code",
   "execution_count": 176,
   "metadata": {
    "collapsed": false
   },
   "outputs": [
    {
     "name": "stdout",
     "output_type": "stream",
     "text": [
      "{\"genres\": [\"(no genres listed)\"], \"movieId\": 131260, \"title\": \"Rentun Ruusu (2001)\"}\r\n",
      "{\"genres\": [\"Adventure\", \"Fantasy\", \"Horror\"], \"movieId\": 131262, \"title\": \"Innocence (2014)\"}\r\n"
     ]
    }
   ],
   "source": [
    "!hdfs dfs -cat /ix/ml-20m/movies.txt | tail -n 2"
   ]
  }
 ],
 "metadata": {
  "anaconda-cloud": {},
  "kernelspec": {
   "display_name": "Python 3",
   "language": "python",
   "name": "python3"
  }
 },
 "nbformat": 4,
 "nbformat_minor": 1
}
