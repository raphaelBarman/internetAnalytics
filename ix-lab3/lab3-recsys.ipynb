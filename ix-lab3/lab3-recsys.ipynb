{
 "cells": [
  {
   "cell_type": "markdown",
   "metadata": {},
   "source": [
    "# Lab 3 — recommender systems"
   ]
  },
  {
   "cell_type": "code",
   "execution_count": 1,
   "metadata": {
    "collapsed": false
   },
   "outputs": [
    {
     "data": {
      "text/html": [
       "\n",
       "    <div class=\"bk-root\">\n",
       "        <a href=\"http://bokeh.pydata.org\" target=\"_blank\" class=\"bk-logo bk-logo-small bk-logo-notebook\"></a>\n",
       "        <span id=\"96490a81-8f83-4a91-9a9e-88794dcb6fab\">Loading BokehJS ...</span>\n",
       "    </div>"
      ]
     },
     "metadata": {},
     "output_type": "display_data"
    },
    {
     "data": {
      "application/javascript": [
       "\n",
       "(function(global) {\n",
       "  function now() {\n",
       "    return new Date();\n",
       "  }\n",
       "\n",
       "  var force = \"1\";\n",
       "\n",
       "  if (typeof (window._bokeh_onload_callbacks) === \"undefined\" || force !== \"\") {\n",
       "    window._bokeh_onload_callbacks = [];\n",
       "    window._bokeh_is_loading = undefined;\n",
       "  }\n",
       "\n",
       "\n",
       "  \n",
       "  if (typeof (window._bokeh_timeout) === \"undefined\" || force !== \"\") {\n",
       "    window._bokeh_timeout = Date.now() + 5000;\n",
       "    window._bokeh_failed_load = false;\n",
       "  }\n",
       "\n",
       "  var NB_LOAD_WARNING = {'data': {'text/html':\n",
       "     \"<div style='background-color: #fdd'>\\n\"+\n",
       "     \"<p>\\n\"+\n",
       "     \"BokehJS does not appear to have successfully loaded. If loading BokehJS from CDN, this \\n\"+\n",
       "     \"may be due to a slow or bad network connection. Possible fixes:\\n\"+\n",
       "     \"</p>\\n\"+\n",
       "     \"<ul>\\n\"+\n",
       "     \"<li>re-rerun `output_notebook()` to attempt to load from CDN again, or</li>\\n\"+\n",
       "     \"<li>use INLINE resources instead, as so:</li>\\n\"+\n",
       "     \"</ul>\\n\"+\n",
       "     \"<code>\\n\"+\n",
       "     \"from bokeh.resources import INLINE\\n\"+\n",
       "     \"output_notebook(resources=INLINE)\\n\"+\n",
       "     \"</code>\\n\"+\n",
       "     \"</div>\"}};\n",
       "\n",
       "  function display_loaded() {\n",
       "    if (window.Bokeh !== undefined) {\n",
       "      Bokeh.$(\"#96490a81-8f83-4a91-9a9e-88794dcb6fab\").text(\"BokehJS successfully loaded.\");\n",
       "    } else if (Date.now() < window._bokeh_timeout) {\n",
       "      setTimeout(display_loaded, 100)\n",
       "    }\n",
       "  }\n",
       "\n",
       "  function run_callbacks() {\n",
       "    window._bokeh_onload_callbacks.forEach(function(callback) { callback() });\n",
       "    delete window._bokeh_onload_callbacks\n",
       "    console.info(\"Bokeh: all callbacks have finished\");\n",
       "  }\n",
       "\n",
       "  function load_libs(js_urls, callback) {\n",
       "    window._bokeh_onload_callbacks.push(callback);\n",
       "    if (window._bokeh_is_loading > 0) {\n",
       "      console.log(\"Bokeh: BokehJS is being loaded, scheduling callback at\", now());\n",
       "      return null;\n",
       "    }\n",
       "    if (js_urls == null || js_urls.length === 0) {\n",
       "      run_callbacks();\n",
       "      return null;\n",
       "    }\n",
       "    console.log(\"Bokeh: BokehJS not loaded, scheduling load and callback at\", now());\n",
       "    window._bokeh_is_loading = js_urls.length;\n",
       "    for (var i = 0; i < js_urls.length; i++) {\n",
       "      var url = js_urls[i];\n",
       "      var s = document.createElement('script');\n",
       "      s.src = url;\n",
       "      s.async = false;\n",
       "      s.onreadystatechange = s.onload = function() {\n",
       "        window._bokeh_is_loading--;\n",
       "        if (window._bokeh_is_loading === 0) {\n",
       "          console.log(\"Bokeh: all BokehJS libraries loaded\");\n",
       "          run_callbacks()\n",
       "        }\n",
       "      };\n",
       "      s.onerror = function() {\n",
       "        console.warn(\"failed to load library \" + url);\n",
       "      };\n",
       "      console.log(\"Bokeh: injecting script tag for BokehJS library: \", url);\n",
       "      document.getElementsByTagName(\"head\")[0].appendChild(s);\n",
       "    }\n",
       "  };var element = document.getElementById(\"96490a81-8f83-4a91-9a9e-88794dcb6fab\");\n",
       "  if (element == null) {\n",
       "    console.log(\"Bokeh: ERROR: autoload.js configured with elementid '96490a81-8f83-4a91-9a9e-88794dcb6fab' but no matching script tag was found. \")\n",
       "    return false;\n",
       "  }\n",
       "\n",
       "  var js_urls = ['https://cdn.pydata.org/bokeh/release/bokeh-0.12.2.min.js', 'https://cdn.pydata.org/bokeh/release/bokeh-widgets-0.12.2.min.js', 'https://cdn.pydata.org/bokeh/release/bokeh-compiler-0.12.2.min.js'];\n",
       "\n",
       "  var inline_js = [\n",
       "    function(Bokeh) {\n",
       "      Bokeh.set_log_level(\"info\");\n",
       "    },\n",
       "    \n",
       "    function(Bokeh) {\n",
       "      \n",
       "      Bokeh.$(\"#96490a81-8f83-4a91-9a9e-88794dcb6fab\").text(\"BokehJS is loading...\");\n",
       "    },\n",
       "    function(Bokeh) {\n",
       "      console.log(\"Bokeh: injecting CSS: https://cdn.pydata.org/bokeh/release/bokeh-0.12.2.min.css\");\n",
       "      Bokeh.embed.inject_css(\"https://cdn.pydata.org/bokeh/release/bokeh-0.12.2.min.css\");\n",
       "      console.log(\"Bokeh: injecting CSS: https://cdn.pydata.org/bokeh/release/bokeh-widgets-0.12.2.min.css\");\n",
       "      Bokeh.embed.inject_css(\"https://cdn.pydata.org/bokeh/release/bokeh-widgets-0.12.2.min.css\");\n",
       "    }\n",
       "  ];\n",
       "\n",
       "  function run_inline_js() {\n",
       "    \n",
       "    if ((window.Bokeh !== undefined) || (force === \"1\")) {\n",
       "      for (var i = 0; i < inline_js.length; i++) {\n",
       "        inline_js[i](window.Bokeh);\n",
       "      }if (force === \"1\") {\n",
       "        display_loaded();\n",
       "      }} else if (Date.now() < window._bokeh_timeout) {\n",
       "      setTimeout(run_inline_js, 100);\n",
       "    } else if (!window._bokeh_failed_load) {\n",
       "      console.log(\"Bokeh: BokehJS failed to load within specified timeout.\");\n",
       "      window._bokeh_failed_load = true;\n",
       "    } else if (!force) {\n",
       "      var cell = $(\"#96490a81-8f83-4a91-9a9e-88794dcb6fab\").parents('.cell').data().cell;\n",
       "      cell.output_area.append_execute_result(NB_LOAD_WARNING)\n",
       "    }\n",
       "\n",
       "  }\n",
       "\n",
       "  if (window._bokeh_is_loading === 0) {\n",
       "    console.log(\"Bokeh: BokehJS loaded, going straight to plotting\");\n",
       "    run_inline_js();\n",
       "  } else {\n",
       "    load_libs(js_urls, function() {\n",
       "      console.log(\"Bokeh: BokehJS plotting callback run at\", now());\n",
       "      run_inline_js();\n",
       "    });\n",
       "  }\n",
       "}(this));"
      ]
     },
     "metadata": {},
     "output_type": "display_data"
    }
   ],
   "source": [
    "import json\n",
    "from collections import defaultdict\n",
    "import matplotlib.pyplot as plt\n",
    "import numpy as np\n",
    "import pyspark.mllib.recommendation as rec\n",
    "import pickle\n",
    "\n",
    "from bokeh.plotting import figure, output_notebook,show, ColumnDataSource\n",
    "from bokeh.models import HoverTool\n",
    "\n",
    "from matplotlib.colors import rgb2hex\n",
    "\n",
    "from operator import itemgetter\n",
    "\n",
    "\n",
    "%matplotlib inline\n",
    "plt.style.use(\"ggplot\")\n",
    "output_notebook()"
   ]
  },
  {
   "cell_type": "markdown",
   "metadata": {},
   "source": [
    "## 3.4 Basic statistics"
   ]
  },
  {
   "cell_type": "code",
   "execution_count": 41,
   "metadata": {
    "collapsed": false
   },
   "outputs": [
    {
     "data": {
      "image/png": "[encoded data removed]",
      "text/plain": [
       "<matplotlib.figure.Figure at 0x7fac72350f28>"
      ]
     },
     "metadata": {},
     "output_type": "display_data"
    },
    {
     "name": "stdout",
     "output_type": "stream",
     "text": [
      "The mean of the number of rating per user is 144 and the variance is 53022\n",
      "The mean of the number of rating per movie is 748 and the variance is 9521945\n"
     ]
    }
   ],
   "source": [
    "data = sc.textFile(\"/ix/ml-20m/ratings.txt\").map(json.loads)\n",
    "\n",
    "# We append our ratings to the ratings\n",
    "myRatings = []\n",
    "with open('my-ratings.txt','r') as file:\n",
    "    for line in file:\n",
    "        myRatings.append(json.loads(line))\n",
    "myRatings = sc.parallelize(myRatings)\n",
    "data = data.union(myRatings)\n",
    "\n",
    "numRatings = data.count()\n",
    "\n",
    "# We get the number of rating per user id\n",
    "usersRatingCount = data.map(lambda rating: (rating['userId'],1)).countByKey().items()\n",
    "usersRatingCount = list(zip(*usersRatingCount))\n",
    "# We get the number of rating per movie id\n",
    "moviesRatingCount = sorted(data.map(lambda rating: (rating['movieId'],1)).countByKey().items())\n",
    "moviesRatingCount = list(zip(*moviesRatingCount))\n",
    "\n",
    "# Plotting\n",
    "fig, axes = plt.subplots(1,2,figsize=(12.0,4.0))\n",
    "\n",
    "ax = axes[0]\n",
    "ax.plot(*usersRatingCount)\n",
    "ax.set_xlabel('User id')\n",
    "ax.set_ylabel('Number of movie rated')\n",
    "ax.set_title('User ratings')\n",
    "\n",
    "ax = axes[1]\n",
    "ax.plot(*moviesRatingCount)\n",
    "ax.set_xlabel('Movie id')\n",
    "ax.set_ylabel('Number of ratings')\n",
    "ax.set_title('Movie ratings')\n",
    "plt.tight_layout()\n",
    "plt.show();\n",
    "print(\"The mean of the number of rating per user is %.f and the variance is %.f\"%(np.mean(usersRatingCount[1]),np.var(usersRatingCount[1])))\n",
    "print(\"The mean of the number of rating per movie is %.f and the variance is %.f\"%(np.mean(moviesRatingCount[1]),np.var(moviesRatingCount[1])))"
   ]
  },
  {
   "cell_type": "markdown",
   "metadata": {},
   "source": [
    "We can see that the the number of rating per user is more balanced than for the movies, with some users with a lot more ratings\n",
    "\n",
    "For the number of rating per movie, we can see that some movies have a big number of ratins, whereas some others have a very low number of ratings."
   ]
  },
  {
   "cell_type": "markdown",
   "metadata": {},
   "source": [
    "## 3.5 Partioning the dataset"
   ]
  },
  {
   "cell_type": "code",
   "execution_count": 3,
   "metadata": {
    "collapsed": false
   },
   "outputs": [
    {
     "name": "stdout",
     "output_type": "stream",
     "text": [
      "Ratio of training is 80.001% and validation is 19.999%\n"
     ]
    }
   ],
   "source": [
    "# If the last digit is 1 or 2, then we put it in the validation set\n",
    "def isValidation(rating):\n",
    "    if rating['timestamp']%10 in [1,2]:\n",
    "        return True\n",
    "    return False\n",
    "def isTraining(rating):\n",
    "    return not isValidation(rating)\n",
    "\n",
    "\n",
    "# We separated the data into training and validation set\n",
    "training, validation = (data.filter(f) for f in(isTraining,isValidation))\n",
    "\n",
    "# We check that the repartition between training and validation is correct\n",
    "trainingSize = training.count()\n",
    "validationSize = validation.count()\n",
    "print(\"Ratio of training is %.3f%% and validation is %.3f%%\"%(trainingSize/numRatings*100,validationSize/numRatings*100))"
   ]
  },
  {
   "cell_type": "markdown",
   "metadata": {
    "collapsed": false
   },
   "source": [
    "## 3.6 Baseline model"
   ]
  },
  {
   "cell_type": "code",
   "execution_count": 7,
   "metadata": {
    "collapsed": false
   },
   "outputs": [
    {
     "name": "stdout",
     "output_type": "stream",
     "text": [
      "The dataset has 138494 different users and 26744 different movies\n",
      "The baseline model has number of user + number of movies parameters, i.e. 165238 parameters\n"
     ]
    }
   ],
   "source": [
    "numUsers = data.map(lambda rating: rating['userId']).distinct().count()\n",
    "numMovies = data.map(lambda rating: rating['movieId']).distinct().count()\n",
    "print(\"The dataset has %d different users and %d different movies\"%(numUsers,numMovies))\n",
    "print(\"The baseline model has number of user + number of movies parameters, i.e. %d parameters\"%(numUsers+numMovies))"
   ]
  },
  {
   "cell_type": "code",
   "execution_count": 82,
   "metadata": {
    "collapsed": false
   },
   "outputs": [],
   "source": [
    "mu = training.map(lambda rating: rating['rating']).mean()\n",
    "# Here is the list of the transformations:\n",
    "# map to: (userId, rating-mu)\n",
    "# group by userId and map values to list: (userId, list(rating-mu))\n",
    "# map to: (userId, mean(list))\n",
    "alpha = training.map(lambda rating: (rating['userId'],rating['rating']-mu))\\\n",
    "    .groupByKey().mapValues(list)\\\n",
    "    .map(lambda rating: (rating[0],np.mean(rating[1])))\n",
    "\n",
    "# Here is the list of the transformations:\n",
    "# map to: (userId,(movieId,rating))\n",
    "# join alpha: (userId,((movieId,rating),alpha[userId]))\n",
    "# map to: (movieId,rating-alpha-mu)\n",
    "# group by movieId and map values to list: (movieId, list(rating-alpha,mu))\n",
    "# map to: (movieId, mean(list))\n",
    "beta = training.map(lambda rating: (rating['userId'],(rating['movieId'],rating['rating'])))\\\n",
    "        .join(alpha)\\\n",
    "        .map(lambda x: (x[1][0][0],x[1][0][1]-x[1][1]-mu))\\\n",
    "        .groupByKey().mapValues(list)\\\n",
    "        .map(lambda x: (x[0],np.mean(x[1])))\n",
    "\n",
    "# We compute the mean of alpha and beta to put it when we have\n",
    "# no information about the user id or movie id\n",
    "alphaMean = alpha.map(lambda rating: rating[1]).mean()\n",
    "betaMean = beta.map(lambda rating: rating[1]).mean()\n",
    "\n",
    "# Here is the list of the transformations:\n",
    "# map to (userId,movieId)\n",
    "# join alpha: (userId,(movieId,alpha or None))\n",
    "# map to (movieId, (userId,alpha or alphaMean))\n",
    "# join beta: (movieId, ((userId,alpha or alphaMean),beta or None)))\n",
    "# map to ((movieId,userId),(alpha or alphaMean,beta or betaMean))\n",
    "# map to (userId,movieId,mu+alpha+beta)\n",
    "estimate = validation.map(lambda rating: (rating['userId'],rating['movieId']))\\\n",
    "    .leftOuterJoin(alpha)\\\n",
    "    .map(lambda x: (x[1][0],(x[0],x[1][1] if x[1][1] else alphaMean)))\\\n",
    "    .leftOuterJoin(beta)\\\n",
    "    .map(lambda x: ((x[1][0][0],x[0]),(x[1][0][1],x[1][1] if x[1][1] else betaMean)))\\\n",
    "    .map(lambda x: (x[0][0],x[0][1],np.clip(mu+x[1][0]+x[1][1],0.5,5.0)))"
   ]
  },
  {
   "cell_type": "markdown",
   "metadata": {},
   "source": [
    "## 3.7 Evaluation"
   ]
  },
  {
   "cell_type": "code",
   "execution_count": 96,
   "metadata": {
    "collapsed": false
   },
   "outputs": [],
   "source": [
    "# Here is the list of the transformations:\n",
    "# estimate, map to: ((userId,movieId),ratingEst))\n",
    "# validation, map to: ((userId, movieId), rating))\n",
    "# estimate join validation: ((userId,movieId),(ratingEst, rating))\n",
    "# map to: (userId,(ratingEst-rating)^2)\n",
    "# group by userId and map values to list: (userId,list[(ratingEst-rating)^2])\n",
    "# map to: (mean(list))\n",
    "# mean of the list = error\n",
    "def error(estimate):\n",
    "    return estimate.map(lambda x: ((x[0],x[1]),x[2]))\\\n",
    "            .join(validation.map(lambda rating: ((rating['userId'],rating['movieId']),rating['rating'])))\\\n",
    "            .map(lambda x: (x[0][0],(x[1][0]-x[1][1])**2))\\\n",
    "            .groupByKey().mapValues(list)\\\n",
    "            .map(lambda x: (np.sqrt(np.mean(x[1]))))\\\n",
    "            .mean()"
   ]
  },
  {
   "cell_type": "code",
   "execution_count": 95,
   "metadata": {
    "collapsed": false
   },
   "outputs": [
    {
     "name": "stdout",
     "output_type": "stream",
     "text": [
      "The error is of 0.867\n"
     ]
    }
   ],
   "source": [
    "baseLineError = error(estimate)\n",
    "print(\"The error is of %.3f\"%baseLineError)"
   ]
  },
  {
   "cell_type": "markdown",
   "metadata": {},
   "source": [
    "## 3.8 Regularization"
   ]
  },
  {
   "cell_type": "markdown",
   "metadata": {},
   "source": [
    "The rank determines the number of latent factors.\n",
    "\n",
    "If we choose a rank too small, we would not have enough factors to explain the data and if we choose a rank too high, we would have factors that do not exist."
   ]
  },
  {
   "cell_type": "code",
   "execution_count": 86,
   "metadata": {
    "collapsed": false
   },
   "outputs": [],
   "source": [
    "# Compute an error for a given rank and lambda\n",
    "def computeError(rank,lambda_=0.01):\n",
    "    model = rec.ALS.train(training.map(lambda rating: (rating['userId'],rating['movieId'],rating['rating'])),5,lambda_=lambda_)\n",
    "    prediction = model.predictAll(validation.map(lambda rating: (rating['userId'],rating['movieId'])))\n",
    "    return error(prediction)"
   ]
  },
  {
   "cell_type": "code",
   "execution_count": 88,
   "metadata": {
    "collapsed": false
   },
   "outputs": [
    {
     "name": "stdout",
     "output_type": "stream",
     "text": [
      "Error with rank 5 and lambda 0.01 is 0.832\n",
      "Error with rank 13 and lambda 0.01 is 0.822\n",
      "Error with rank 25 and lambda 0.01 is 0.830\n"
     ]
    }
   ],
   "source": [
    "for rank in [5,13,25]:\n",
    "    print(\"Error with rank %d and lambda 0.01 is %.3f\"%(rank,computeError(rank)))"
   ]
  },
  {
   "cell_type": "code",
   "execution_count": 90,
   "metadata": {
    "collapsed": false
   },
   "outputs": [
    {
     "name": "stdout",
     "output_type": "stream",
     "text": [
      "Error with rank 10 and lambda 0.01 is 0.826\n",
      "Error with rank 11 and lambda 0.01 is 0.829\n",
      "Error with rank 12 and lambda 0.01 is 0.819\n",
      "Error with rank 14 and lambda 0.01 is 0.831\n"
     ]
    }
   ],
   "source": [
    "for rank in [10,11,12,14]:\n",
    "    print(\"Error with rank %d and lambda 0.01 is %.3f\"%(rank,computeError(rank)))"
   ]
  },
  {
   "cell_type": "markdown",
   "metadata": {},
   "source": [
    "By experimentig with different values, we found that the best value for the rank was 12. We may be able to find a better rank/lambda combination, but since the computation is expense, we settled for rank 12."
   ]
  },
  {
   "cell_type": "code",
   "execution_count": 93,
   "metadata": {
    "collapsed": false
   },
   "outputs": [
    {
     "name": "stdout",
     "output_type": "stream",
     "text": [
      "Error with rank 12 and lambda 0.0001 is 0.853\n"
     ]
    }
   ],
   "source": [
    "print(\"Error with rank 12 and lambda 0.0001 is %.3f\"%computeError(12,0.0001))"
   ]
  },
  {
   "cell_type": "markdown",
   "metadata": {},
   "source": [
    "The error is bigger than with 0.1, this is due to the fact the complexity of the model is a lot less penalized, resulting in overfitting."
   ]
  },
  {
   "cell_type": "code",
   "execution_count": 100,
   "metadata": {
    "collapsed": false
   },
   "outputs": [
    {
     "name": "stdout",
     "output_type": "stream",
     "text": [
      "Error with rank 12 and lambda 10 is 3.745\n"
     ]
    }
   ],
   "source": [
    "print(\"Error with rank 12 and lambda 10 is %.3f\"%computeError(12,10.0))"
   ]
  },
  {
   "cell_type": "markdown",
   "metadata": {},
   "source": [
    "We get a big error, this time the lambda penalizes too much the complexity. The result is a model that is too simple to properly characterize the data."
   ]
  },
  {
   "cell_type": "code",
   "execution_count": 92,
   "metadata": {
    "collapsed": false
   },
   "outputs": [
    {
     "name": "stdout",
     "output_type": "stream",
     "text": [
      "Error with rank 12 and lambda 0.100000 is 0.816\n",
      "Error with rank 12 and lambda 0.001000 is 0.834\n",
      "Error with rank 12 and lambda 1.000000 is 1.326\n",
      "Error with rank 12 and lambda 10.000000 is 3.745\n"
     ]
    }
   ],
   "source": [
    "for rank, lambda_ in [(12,0.1),(12,0.001),(12,1.0),(12,10.0)]:\n",
    "    print(\"Error with rank %d and lambda %f is %.3f\"%(rank,lambda_,computeError(rank,lambda_)))"
   ]
  },
  {
   "cell_type": "markdown",
   "metadata": {},
   "source": [
    "With lambda 0.1 we get the smallest error, once again, we may be able to find a better value, but testing every combinations is too expensive."
   ]
  },
  {
   "cell_type": "code",
   "execution_count": 97,
   "metadata": {
    "collapsed": false
   },
   "outputs": [
    {
     "name": "stdout",
     "output_type": "stream",
     "text": [
      "The ratio between the two system errors is of 0.951\n"
     ]
    }
   ],
   "source": [
    "bestError = computeError(12,0.1)\n",
    "print(\"The ratio between the two system errors is of %.3f\"%(bestError/baseLineError))"
   ]
  },
  {
   "cell_type": "markdown",
   "metadata": {},
   "source": [
    "We get an improvement of around 5%."
   ]
  },
  {
   "cell_type": "markdown",
   "metadata": {},
   "source": [
    "## 3.9 Recommendation"
   ]
  },
  {
   "cell_type": "code",
   "execution_count": 98,
   "metadata": {
    "collapsed": false
   },
   "outputs": [
    {
     "name": "stdout",
     "output_type": "stream",
     "text": [
      "Recommendations for user 123\n",
      "- Autobiography of Miss Jane Pittman, The (1974)\n",
      "- Eve and the Fire Horse (2005)\n",
      "- Moth, The (Cma) (1980)\n",
      "- Gurren Lagann: The Lights in the Sky are Stars (Gekijô ban Tengen toppa guren ragan: Ragan hen) (2009)\n",
      "- Love Loves Coincidences (2011)\n",
      "- I Belong (Som du ser meg) (2012)\n",
      "- Flight of the Conchords: A Texan Odyssey (2006)\n",
      "- My Life as McDull (Mak dau goo si) (2001)\n",
      "- Peppermint Soda (Diabolo menthe) (1977)\n",
      "- Plastic Bag (2009)\n",
      "\n",
      "Recommendations for us\n",
      "- Patton Oswalt: Werewolves and Lollipops (2007)\n",
      "- Norm MacDonald: Me Doing Standup (2011)\n",
      "- Craig Ferguson: A Wee Bit o' Revolution (2009)\n",
      "- Moth, The (Cma) (1980)\n",
      "- Patton Oswalt: My Weakness Is Strong (2009)\n",
      "- Chinese Coffee (2000)\n",
      "- Bulldog Drummond Escapes (1937)\n",
      "- Garfield's Halloween Adventure (1985)\n",
      "- Rewind This! (2013)\n",
      "- Willie & Phil (1980)\n"
     ]
    }
   ],
   "source": [
    "model = rec.ALS.train(training.map(lambda rating: (rating['userId'],rating['movieId'],rating['rating'])),12,lambda_=0.1)\n",
    "\n",
    "dataMovie = sc.textFile(\"/ix/ml-20m/movies.txt\").map(json.loads)\n",
    "movie2name = dict(dataMovie.map(itemgetter(\"movieId\", \"title\")).collect())\n",
    "\n",
    "def recommendMovies(userId,number=10):\n",
    "    movies = []\n",
    "    for rating in model.recommendProducts(userId,number):\n",
    "        movies.append(movie2name[rating[1]])\n",
    "    return movies\n",
    "\n",
    "print(\"Recommendations for user 123\")\n",
    "for movie in recommendMovies(123):\n",
    "    print(\"-\", movie)\n",
    "print(\"\\nRecommendations for us\")\n",
    "for movie in recommendMovies(138494):\n",
    "    print(\"-\",movie)"
   ]
  },
  {
   "cell_type": "markdown",
   "metadata": {},
   "source": [
    "## 3.10 Visualisation"
   ]
  },
  {
   "cell_type": "code",
   "execution_count": 101,
   "metadata": {
    "collapsed": false
   },
   "outputs": [
    {
     "data": {
      "text/html": [
       "\n",
       "\n",
       "    <div class=\"bk-root\">\n",
       "        <div class=\"plotdiv\" id=\"a6191e76-d910-4c99-be84-63c5845eee5f\"></div>\n",
       "    </div>\n",
       "<script type=\"text/javascript\">\n",
       "  \n",
       "  (function(global) {\n",
       "    function now() {\n",
       "      return new Date();\n",
       "    }\n",
       "  \n",
       "    var force = \"\";\n",
       "  \n",
       "    if (typeof (window._bokeh_onload_callbacks) === \"undefined\" || force !== \"\") {\n",
       "      window._bokeh_onload_callbacks = [];\n",
       "      window._bokeh_is_loading = undefined;\n",
       "    }\n",
       "  \n",
       "  \n",
       "    \n",
       "    if (typeof (window._bokeh_timeout) === \"undefined\" || force !== \"\") {\n",
       "      window._bokeh_timeout = Date.now() + 0;\n",
       "      window._bokeh_failed_load = false;\n",
       "    }\n",
       "  \n",
       "    var NB_LOAD_WARNING = {'data': {'text/html':\n",
       "       \"<div style='background-color: #fdd'>\\n\"+\n",
       "       \"<p>\\n\"+\n",
       "       \"BokehJS does not appear to have successfully loaded. If loading BokehJS from CDN, this \\n\"+\n",
       "       \"may be due to a slow or bad network connection. Possible fixes:\\n\"+\n",
       "       \"</p>\\n\"+\n",
       "       \"<ul>\\n\"+\n",
       "       \"<li>re-rerun `output_notebook()` to attempt to load from CDN again, or</li>\\n\"+\n",
       "       \"<li>use INLINE resources instead, as so:</li>\\n\"+\n",
       "       \"</ul>\\n\"+\n",
       "       \"<code>\\n\"+\n",
       "       \"from bokeh.resources import INLINE\\n\"+\n",
       "       \"output_notebook(resources=INLINE)\\n\"+\n",
       "       \"</code>\\n\"+\n",
       "       \"</div>\"}};\n",
       "  \n",
       "    function display_loaded() {\n",
       "      if (window.Bokeh !== undefined) {\n",
       "        Bokeh.$(\"#a6191e76-d910-4c99-be84-63c5845eee5f\").text(\"BokehJS successfully loaded.\");\n",
       "      } else if (Date.now() < window._bokeh_timeout) {\n",
       "        setTimeout(display_loaded, 100)\n",
       "      }\n",
       "    }\n",
       "  \n",
       "    function run_callbacks() {\n",
       "      window._bokeh_onload_callbacks.forEach(function(callback) { callback() });\n",
       "      delete window._bokeh_onload_callbacks\n",
       "      console.info(\"Bokeh: all callbacks have finished\");\n",
       "    }\n",
       "  \n",
       "    function load_libs(js_urls, callback) {\n",
       "      window._bokeh_onload_callbacks.push(callback);\n",
       "      if (window._bokeh_is_loading > 0) {\n",
       "        console.log(\"Bokeh: BokehJS is being loaded, scheduling callback at\", now());\n",
       "        return null;\n",
       "      }\n",
       "      if (js_urls == null || js_urls.length === 0) {\n",
       "        run_callbacks();\n",
       "        return null;\n",
       "      }\n",
       "      console.log(\"Bokeh: BokehJS not loaded, scheduling load and callback at\", now());\n",
       "      window._bokeh_is_loading = js_urls.length;\n",
       "      for (var i = 0; i < js_urls.length; i++) {\n",
       "        var url = js_urls[i];\n",
       "        var s = document.createElement('script');\n",
       "        s.src = url;\n",
       "        s.async = false;\n",
       "        s.onreadystatechange = s.onload = function() {\n",
       "          window._bokeh_is_loading--;\n",
       "          if (window._bokeh_is_loading === 0) {\n",
       "            console.log(\"Bokeh: all BokehJS libraries loaded\");\n",
       "            run_callbacks()\n",
       "          }\n",
       "        };\n",
       "        s.onerror = function() {\n",
       "          console.warn(\"failed to load library \" + url);\n",
       "        };\n",
       "        console.log(\"Bokeh: injecting script tag for BokehJS library: \", url);\n",
       "        document.getElementsByTagName(\"head\")[0].appendChild(s);\n",
       "      }\n",
       "    };var element = document.getElementById(\"a6191e76-d910-4c99-be84-63c5845eee5f\");\n",
       "    if (element == null) {\n",
       "      console.log(\"Bokeh: ERROR: autoload.js configured with elementid 'a6191e76-d910-4c99-be84-63c5845eee5f' but no matching script tag was found. \")\n",
       "      return false;\n",
       "    }\n",
       "  \n",
       "    var js_urls = [];\n",
       "  \n",
       "    var inline_js = [\n",
       "      function(Bokeh) {\n",
       "        Bokeh.$(function() {\n",
       "            var docs_json = {\"c04d7c30-ca3a-4297-bf1d-d91470c8bf94\":{\"roots\":{\"references\":[{\"attributes\":{},\"id\":\"24741f5f-75a2-4f60-a504-830b14929ec1\",\"type\":\"BasicTickFormatter\"},{\"attributes\":{\"formatter\":{\"id\":\"24741f5f-75a2-4f60-a504-830b14929ec1\",\"type\":\"BasicTickFormatter\"},\"plot\":{\"id\":\"da5ea645-ac4e-43be-94a5-ea96385aa8f9\",\"subtype\":\"Figure\",\"type\":\"Plot\"},\"ticker\":{\"id\":\"25744d91-e475-4a8d-bc7c-7f6db70a094b\",\"type\":\"BasicTicker\"}},\"id\":\"a897a905-686c-4de1-ad42-a1f088f4d933\",\"type\":\"LinearAxis\"},{\"attributes\":{\"formatter\":{\"id\":\"7ac09988-85d3-4f78-9bfb-499f72354179\",\"type\":\"BasicTickFormatter\"},\"plot\":{\"id\":\"da5ea645-ac4e-43be-94a5-ea96385aa8f9\",\"subtype\":\"Figure\",\"type\":\"Plot\"},\"ticker\":{\"id\":\"a56f8c4b-39df-4450-9342-5281eeb048e7\",\"type\":\"BasicTicker\"}},\"id\":\"edd26026-3f09-4c63-a388-1f037715e37e\",\"type\":\"LinearAxis\"},{\"attributes\":{\"fill_color\":{\"field\":\"color\"},\"line_color\":{\"field\":\"color\"},\"size\":{\"units\":\"screen\",\"value\":20},\"x\":{\"field\":\"x\"},\"y\":{\"field\":\"y\"}},\"id\":\"c8d4c5fc-3972-44b0-ad8a-b0d19c0a6d97\",\"type\":\"Circle\"},{\"attributes\":{},\"id\":\"271a6ac2-79bc-4465-b98b-8bd627e18f0b\",\"type\":\"ToolEvents\"},{\"attributes\":{\"callback\":null},\"id\":\"83f27600-5673-439a-b15a-1b0bb2292054\",\"type\":\"DataRange1d\"},{\"attributes\":{\"active_drag\":\"auto\",\"active_scroll\":\"auto\",\"active_tap\":\"auto\",\"tools\":[{\"id\":\"cc7cec1e-732d-46c9-81c2-b7256c035dcb\",\"type\":\"HoverTool\"}]},\"id\":\"fc7880a6-e42b-43d8-bd65-d212538fc834\",\"type\":\"Toolbar\"},{\"attributes\":{\"plot\":{\"id\":\"da5ea645-ac4e-43be-94a5-ea96385aa8f9\",\"subtype\":\"Figure\",\"type\":\"Plot\"},\"ticker\":{\"id\":\"25744d91-e475-4a8d-bc7c-7f6db70a094b\",\"type\":\"BasicTicker\"}},\"id\":\"a74caa04-a584-4498-a2ac-b1275d8770b0\",\"type\":\"Grid\"},{\"attributes\":{\"data_source\":{\"id\":\"7c17b66d-3326-459f-82c1-b1463c176927\",\"type\":\"ColumnDataSource\"},\"glyph\":{\"id\":\"c8d4c5fc-3972-44b0-ad8a-b0d19c0a6d97\",\"type\":\"Circle\"},\"hover_glyph\":null,\"nonselection_glyph\":{\"id\":\"67418385-2a19-4c80-acd5-73ac6094bc86\",\"type\":\"Circle\"},\"selection_glyph\":null},\"id\":\"b062b5ea-855d-4487-92c3-acd6d77682cb\",\"type\":\"GlyphRenderer\"},{\"attributes\":{},\"id\":\"7ac09988-85d3-4f78-9bfb-499f72354179\",\"type\":\"BasicTickFormatter\"},{\"attributes\":{\"plot\":null,\"text\":\"Movies\"},\"id\":\"40d9a35e-0f3c-4f31-a4d1-bfd37fd0a23b\",\"type\":\"Title\"},{\"attributes\":{},\"id\":\"a56f8c4b-39df-4450-9342-5281eeb048e7\",\"type\":\"BasicTicker\"},{\"attributes\":{\"fill_alpha\":{\"value\":0.1},\"fill_color\":{\"value\":\"#1f77b4\"},\"line_alpha\":{\"value\":0.1},\"line_color\":{\"value\":\"#1f77b4\"},\"size\":{\"units\":\"screen\",\"value\":20},\"x\":{\"field\":\"x\"},\"y\":{\"field\":\"y\"}},\"id\":\"67418385-2a19-4c80-acd5-73ac6094bc86\",\"type\":\"Circle\"},{\"attributes\":{\"below\":[{\"id\":\"a897a905-686c-4de1-ad42-a1f088f4d933\",\"type\":\"LinearAxis\"}],\"left\":[{\"id\":\"edd26026-3f09-4c63-a388-1f037715e37e\",\"type\":\"LinearAxis\"}],\"renderers\":[{\"id\":\"a897a905-686c-4de1-ad42-a1f088f4d933\",\"type\":\"LinearAxis\"},{\"id\":\"a74caa04-a584-4498-a2ac-b1275d8770b0\",\"type\":\"Grid\"},{\"id\":\"edd26026-3f09-4c63-a388-1f037715e37e\",\"type\":\"LinearAxis\"},{\"id\":\"00c90f7a-db3a-498d-9a77-e67a8d2bb5b7\",\"type\":\"Grid\"},{\"id\":\"b062b5ea-855d-4487-92c3-acd6d77682cb\",\"type\":\"GlyphRenderer\"}],\"title\":{\"id\":\"40d9a35e-0f3c-4f31-a4d1-bfd37fd0a23b\",\"type\":\"Title\"},\"tool_events\":{\"id\":\"271a6ac2-79bc-4465-b98b-8bd627e18f0b\",\"type\":\"ToolEvents\"},\"toolbar\":{\"id\":\"fc7880a6-e42b-43d8-bd65-d212538fc834\",\"type\":\"Toolbar\"},\"x_range\":{\"id\":\"83f27600-5673-439a-b15a-1b0bb2292054\",\"type\":\"DataRange1d\"},\"y_range\":{\"id\":\"3814e8e9-606d-4b2e-a20e-07811431dfc3\",\"type\":\"DataRange1d\"}},\"id\":\"da5ea645-ac4e-43be-94a5-ea96385aa8f9\",\"subtype\":\"Figure\",\"type\":\"Plot\"},{\"attributes\":{\"dimension\":1,\"plot\":{\"id\":\"da5ea645-ac4e-43be-94a5-ea96385aa8f9\",\"subtype\":\"Figure\",\"type\":\"Plot\"},\"ticker\":{\"id\":\"a56f8c4b-39df-4450-9342-5281eeb048e7\",\"type\":\"BasicTicker\"}},\"id\":\"00c90f7a-db3a-498d-9a77-e67a8d2bb5b7\",\"type\":\"Grid\"},{\"attributes\":{\"callback\":null},\"id\":\"3814e8e9-606d-4b2e-a20e-07811431dfc3\",\"type\":\"DataRange1d\"},{\"attributes\":{},\"id\":\"25744d91-e475-4a8d-bc7c-7f6db70a094b\",\"type\":\"BasicTicker\"},{\"attributes\":{\"callback\":null,\"plot\":{\"id\":\"da5ea645-ac4e-43be-94a5-ea96385aa8f9\",\"subtype\":\"Figure\",\"type\":\"Plot\"},\"tooltips\":[[\"name\",\"@name\"],[\"RT score\",\"@score\"]]},\"id\":\"cc7cec1e-732d-46c9-81c2-b7256c035dcb\",\"type\":\"HoverTool\"},{\"attributes\":{\"callback\":null,\"column_names\":[\"color\",\"score\",\"name\",\"x\",\"y\"],\"data\":{\"color\":[\"#d9ef8b\",\"#219c52\",\"#30a356\",\"#17934e\",\"#4eb15d\",\"#0c7f43\",\"#30a356\",\"#e54e35\",\"#e0422f\",\"#3faa59\",\"#73c264\",\"#3faa59\",\"#148e4b\",\"#118848\",\"#118848\",\"#fff6b0\",\"#0a7b41\",\"#6bbf64\",\"#eb5a3a\",\"#279f53\",\"#199750\",\"#fdc372\",\"#5db961\",\"#006837\",\"#17934e\",\"#98d368\",\"#0c7f43\",\"#66bd63\",\"#afdd70\",\"#c5e67e\",\"#05713c\",\"#fbfdba\",\"#0c7f43\",\"#b5df74\",\"#4eb15d\",\"#279f53\",\"#d9ef8b\"],\"name\":[\"Independence Day (a.k.a. ID4) (1996)\",\"Spider-Man (2002)\",\"Matrix, The (1999)\",\"Shawshank Redemption, The (1994)\",\"American History X (1998)\",\"Wild Strawberries (Smultronst\\u00e4llet) (1957)\",\"Control (2007)\",\"Miss Congeniality 2: Armed and Fabulous (2005)\",\"Just My Luck (2006)\",\"Santa Sangre (1989)\",\"Videodrome (1983)\",\"Billy Elliot (2000)\",\"Pride (2014)\",\"Jurassic Park (1993)\",\"Star Wars: Episode IV - A New Hope (1977)\",\"Princess Diaries, The (2001)\",\"Schindler's List (1993)\",\"Fight Club (1999)\",\"New York Ripper, The (Squartatore di New York, Lo) (1982)\",\"American Beauty (1999)\",\"City of God (Cidade de Deus) (2002)\",\"Battleship (2012)\",\"Take Care of My Cat (Goyangileul butaghae) (2001)\",\"Terminator, The (1984)\",\"Edge of Tomorrow (2014)\",\"Forrest Gump (1994)\",\"King's Speech, The (2010)\",\"Life Is Beautiful (La Vita \\u00e8 bella) (1997)\",\"Stage Fright (Deliria) (1987)\",\"Ichi the Killer (Koroshiya 1) (2001)\",\"Brazil (1985)\",\"Fountain, The (2006)\",\"Accused, The (1988)\",\"Time to Kill, A (1996)\",\"Ghost Writer, The (2010)\",\"Superbad (2007)\",\"American Pie (1999)\"],\"score\":[0.6,0.89,0.87,0.91,0.83,0.95,0.87,0.15,0.13,0.85,0.78,0.85,0.92,0.93,0.93,0.47,0.96,0.79,0.17,0.88,0.9,0.34,0.81,1.0,0.91,0.72,0.95,0.8,0.68,0.64,0.98,0.51,0.95,0.67,0.83,0.88,0.6],\"x\":[1.9094178676605225,1.434515118598938,1.377353310585022,1.5204923152923584,1.1429847478866577,0.2446356862783432,0.6041725873947144,1.6991541385650635,1.8157309293746948,0.01853860542178154,0.36914777755737305,1.0476313829421997,0.9989707469940186,1.6715939044952393,1.3955786228179932,1.7671741247177124,1.367350459098816,1.0368684530258179,0.857174277305603,0.8549385666847229,0.8470088243484497,1.8027511835098267,0.32711371779441833,1.2639551162719727,1.461858868598938,1.70931875705719,1.2691136598587036,1.2722493410110474,0.37197667360305786,0.4840610921382904,0.44570547342300415,0.7455037832260132,1.0850310325622559,1.747450828552246,0.9319030046463013,1.1354031562805176,1.4905346632003784],\"y\":[1.4445686340332031,1.9043089151382446,2.3662922382354736,2.500800848007202,2.4729833602905273,2.7075705528259277,2.5055153369903564,0.8564417958259583,0.8626335263252258,2.458954334259033,2.4059174060821533,2.2906179428100586,2.433502674102783,1.8179912567138672,2.363110303878784,1.3066033124923706,2.4881398677825928,2.573014974594116,1.8008458614349365,2.5939016342163086,2.662193775177002,1.0278061628341675,2.4572958946228027,2.2275946140289307,2.099870443344116,2.07369327545166,2.3302793502807617,2.4250943660736084,2.249598979949951,2.2704803943634033,2.6212966442108154,2.3111045360565186,2.2357735633850098,1.7824801206588745,2.2791008949279785,2.2247023582458496,1.7058006525039673]}},\"id\":\"7c17b66d-3326-459f-82c1-b1463c176927\",\"type\":\"ColumnDataSource\"}],\"root_ids\":[\"da5ea645-ac4e-43be-94a5-ea96385aa8f9\"]},\"title\":\"Bokeh Application\",\"version\":\"0.12.2\"}};\n",
       "            var render_items = [{\"docid\":\"c04d7c30-ca3a-4297-bf1d-d91470c8bf94\",\"elementid\":\"a6191e76-d910-4c99-be84-63c5845eee5f\",\"modelid\":\"da5ea645-ac4e-43be-94a5-ea96385aa8f9\"}];\n",
       "            \n",
       "            Bokeh.embed.embed_items(docs_json, render_items);\n",
       "        });\n",
       "      },\n",
       "      function(Bokeh) {\n",
       "      }\n",
       "    ];\n",
       "  \n",
       "    function run_inline_js() {\n",
       "      \n",
       "      if ((window.Bokeh !== undefined) || (force === \"1\")) {\n",
       "        for (var i = 0; i < inline_js.length; i++) {\n",
       "          inline_js[i](window.Bokeh);\n",
       "        }if (force === \"1\") {\n",
       "          display_loaded();\n",
       "        }} else if (Date.now() < window._bokeh_timeout) {\n",
       "        setTimeout(run_inline_js, 100);\n",
       "      } else if (!window._bokeh_failed_load) {\n",
       "        console.log(\"Bokeh: BokehJS failed to load within specified timeout.\");\n",
       "        window._bokeh_failed_load = true;\n",
       "      } else if (!force) {\n",
       "        var cell = $(\"#a6191e76-d910-4c99-be84-63c5845eee5f\").parents('.cell').data().cell;\n",
       "        cell.output_area.append_execute_result(NB_LOAD_WARNING)\n",
       "      }\n",
       "  \n",
       "    }\n",
       "  \n",
       "    if (window._bokeh_is_loading === 0) {\n",
       "      console.log(\"Bokeh: BokehJS loaded, going straight to plotting\");\n",
       "      run_inline_js();\n",
       "    } else {\n",
       "      load_libs(js_urls, function() {\n",
       "        console.log(\"Bokeh: BokehJS plotting callback run at\", now());\n",
       "        run_inline_js();\n",
       "      });\n",
       "    }\n",
       "  }(this));\n",
       "</script>"
      ]
     },
     "metadata": {},
     "output_type": "display_data"
    }
   ],
   "source": [
    "model2 = rec.ALS.train(training.map(lambda rating: (rating['userId'],rating['movieId'],rating['rating'])),2,lambda_=0.1)\n",
    "features = model2.productFeatures().collectAsMap()\n",
    "\n",
    "# Reading an object from disk.\n",
    "with open(\"selected-movies.pickle\", \"rb\") as f:\n",
    "    movies = pickle.load(f, encoding=\"utf-8\")\n",
    "    \n",
    "data=dict(\n",
    "            x=[],\n",
    "            y=[],\n",
    "            name=[],\n",
    "            score=[],\n",
    "            color=[],\n",
    "        )\n",
    "\n",
    "for movie in movies:\n",
    "    coords = features[movie[0]]\n",
    "    data['x'].append(coords[0])\n",
    "    data['y'].append(coords[1])\n",
    "    data['name'].append(movie[1])\n",
    "    data['score'].append(movie[2])\n",
    "    data['color'].append(rgb2hex(plt.get_cmap('RdYlGn')(movie[2])[:3]))\n",
    "source = ColumnDataSource(data)\n",
    "hover = HoverTool(\n",
    "        tooltips=[\n",
    "            (\"name\", \"@name\"),\n",
    "            (\"RT score\",\"@score\"),\n",
    "        ]\n",
    "    )\n",
    "\n",
    "p = figure(plot_width=600, plot_height=600, tools=[hover],\n",
    "           title=\"Movies\")\n",
    "\n",
    "p.circle('x', 'y', size=20, source=source, color='color')\n",
    "\n",
    "show(p)"
   ]
  }
 ],
 "metadata": {
  "anaconda-cloud": {},
  "kernelspec": {
   "display_name": "Python 3",
   "language": "python",
   "name": "python3"
  },
  "language_info": {
   "codemirror_mode": {
    "name": "ipython",
    "version": 3
   },
   "file_extension": ".py",
   "mimetype": "text/x-python",
   "name": "python",
   "nbconvert_exporter": "python",
   "pygments_lexer": "ipython3",
   "version": "3.5.2"
  }
 },
 "nbformat": 4,
 "nbformat_minor": 1
}
