{
 "cells": [
  {
   "cell_type": "markdown",
   "metadata": {},
   "source": [
    "# Lab 3 — recommender systems"
   ]
  },
  {
   "cell_type": "code",
   "execution_count": 40,
   "metadata": {
    "collapsed": false
   },
   "outputs": [
    {
     "data": {
      "text/html": [
       "\n",
       "    <div class=\"bk-root\">\n",
       "        <a href=\"http://bokeh.pydata.org\" target=\"_blank\" class=\"bk-logo bk-logo-small bk-logo-notebook\"></a>\n",
       "        <span id=\"2d033c02-f077-4f48-bbba-8eeeb46e1e5d\">Loading BokehJS ...</span>\n",
       "    </div>"
      ]
     },
     "metadata": {},
     "output_type": "display_data"
    },
    {
     "data": {
      "application/javascript": [
       "\n",
       "(function(global) {\n",
       "  function now() {\n",
       "    return new Date();\n",
       "  }\n",
       "\n",
       "  var force = \"1\";\n",
       "\n",
       "  if (typeof (window._bokeh_onload_callbacks) === \"undefined\" || force !== \"\") {\n",
       "    window._bokeh_onload_callbacks = [];\n",
       "    window._bokeh_is_loading = undefined;\n",
       "  }\n",
       "\n",
       "\n",
       "  \n",
       "  if (typeof (window._bokeh_timeout) === \"undefined\" || force !== \"\") {\n",
       "    window._bokeh_timeout = Date.now() + 5000;\n",
       "    window._bokeh_failed_load = false;\n",
       "  }\n",
       "\n",
       "  var NB_LOAD_WARNING = {'data': {'text/html':\n",
       "     \"<div style='background-color: #fdd'>\\n\"+\n",
       "     \"<p>\\n\"+\n",
       "     \"BokehJS does not appear to have successfully loaded. If loading BokehJS from CDN, this \\n\"+\n",
       "     \"may be due to a slow or bad network connection. Possible fixes:\\n\"+\n",
       "     \"</p>\\n\"+\n",
       "     \"<ul>\\n\"+\n",
       "     \"<li>re-rerun `output_notebook()` to attempt to load from CDN again, or</li>\\n\"+\n",
       "     \"<li>use INLINE resources instead, as so:</li>\\n\"+\n",
       "     \"</ul>\\n\"+\n",
       "     \"<code>\\n\"+\n",
       "     \"from bokeh.resources import INLINE\\n\"+\n",
       "     \"output_notebook(resources=INLINE)\\n\"+\n",
       "     \"</code>\\n\"+\n",
       "     \"</div>\"}};\n",
       "\n",
       "  function display_loaded() {\n",
       "    if (window.Bokeh !== undefined) {\n",
       "      Bokeh.$(\"#2d033c02-f077-4f48-bbba-8eeeb46e1e5d\").text(\"BokehJS successfully loaded.\");\n",
       "    } else if (Date.now() < window._bokeh_timeout) {\n",
       "      setTimeout(display_loaded, 100)\n",
       "    }\n",
       "  }\n",
       "\n",
       "  function run_callbacks() {\n",
       "    window._bokeh_onload_callbacks.forEach(function(callback) { callback() });\n",
       "    delete window._bokeh_onload_callbacks\n",
       "    console.info(\"Bokeh: all callbacks have finished\");\n",
       "  }\n",
       "\n",
       "  function load_libs(js_urls, callback) {\n",
       "    window._bokeh_onload_callbacks.push(callback);\n",
       "    if (window._bokeh_is_loading > 0) {\n",
       "      console.log(\"Bokeh: BokehJS is being loaded, scheduling callback at\", now());\n",
       "      return null;\n",
       "    }\n",
       "    if (js_urls == null || js_urls.length === 0) {\n",
       "      run_callbacks();\n",
       "      return null;\n",
       "    }\n",
       "    console.log(\"Bokeh: BokehJS not loaded, scheduling load and callback at\", now());\n",
       "    window._bokeh_is_loading = js_urls.length;\n",
       "    for (var i = 0; i < js_urls.length; i++) {\n",
       "      var url = js_urls[i];\n",
       "      var s = document.createElement('script');\n",
       "      s.src = url;\n",
       "      s.async = false;\n",
       "      s.onreadystatechange = s.onload = function() {\n",
       "        window._bokeh_is_loading--;\n",
       "        if (window._bokeh_is_loading === 0) {\n",
       "          console.log(\"Bokeh: all BokehJS libraries loaded\");\n",
       "          run_callbacks()\n",
       "        }\n",
       "      };\n",
       "      s.onerror = function() {\n",
       "        console.warn(\"failed to load library \" + url);\n",
       "      };\n",
       "      console.log(\"Bokeh: injecting script tag for BokehJS library: \", url);\n",
       "      document.getElementsByTagName(\"head\")[0].appendChild(s);\n",
       "    }\n",
       "  };var element = document.getElementById(\"2d033c02-f077-4f48-bbba-8eeeb46e1e5d\");\n",
       "  if (element == null) {\n",
       "    console.log(\"Bokeh: ERROR: autoload.js configured with elementid '2d033c02-f077-4f48-bbba-8eeeb46e1e5d' but no matching script tag was found. \")\n",
       "    return false;\n",
       "  }\n",
       "\n",
       "  var js_urls = ['https://cdn.pydata.org/bokeh/release/bokeh-0.12.2.min.js', 'https://cdn.pydata.org/bokeh/release/bokeh-widgets-0.12.2.min.js', 'https://cdn.pydata.org/bokeh/release/bokeh-compiler-0.12.2.min.js'];\n",
       "\n",
       "  var inline_js = [\n",
       "    function(Bokeh) {\n",
       "      Bokeh.set_log_level(\"info\");\n",
       "    },\n",
       "    \n",
       "    function(Bokeh) {\n",
       "      \n",
       "      Bokeh.$(\"#2d033c02-f077-4f48-bbba-8eeeb46e1e5d\").text(\"BokehJS is loading...\");\n",
       "    },\n",
       "    function(Bokeh) {\n",
       "      console.log(\"Bokeh: injecting CSS: https://cdn.pydata.org/bokeh/release/bokeh-0.12.2.min.css\");\n",
       "      Bokeh.embed.inject_css(\"https://cdn.pydata.org/bokeh/release/bokeh-0.12.2.min.css\");\n",
       "      console.log(\"Bokeh: injecting CSS: https://cdn.pydata.org/bokeh/release/bokeh-widgets-0.12.2.min.css\");\n",
       "      Bokeh.embed.inject_css(\"https://cdn.pydata.org/bokeh/release/bokeh-widgets-0.12.2.min.css\");\n",
       "    }\n",
       "  ];\n",
       "\n",
       "  function run_inline_js() {\n",
       "    \n",
       "    if ((window.Bokeh !== undefined) || (force === \"1\")) {\n",
       "      for (var i = 0; i < inline_js.length; i++) {\n",
       "        inline_js[i](window.Bokeh);\n",
       "      }if (force === \"1\") {\n",
       "        display_loaded();\n",
       "      }} else if (Date.now() < window._bokeh_timeout) {\n",
       "      setTimeout(run_inline_js, 100);\n",
       "    } else if (!window._bokeh_failed_load) {\n",
       "      console.log(\"Bokeh: BokehJS failed to load within specified timeout.\");\n",
       "      window._bokeh_failed_load = true;\n",
       "    } else if (!force) {\n",
       "      var cell = $(\"#2d033c02-f077-4f48-bbba-8eeeb46e1e5d\").parents('.cell').data().cell;\n",
       "      cell.output_area.append_execute_result(NB_LOAD_WARNING)\n",
       "    }\n",
       "\n",
       "  }\n",
       "\n",
       "  if (window._bokeh_is_loading === 0) {\n",
       "    console.log(\"Bokeh: BokehJS loaded, going straight to plotting\");\n",
       "    run_inline_js();\n",
       "  } else {\n",
       "    load_libs(js_urls, function() {\n",
       "      console.log(\"Bokeh: BokehJS plotting callback run at\", now());\n",
       "      run_inline_js();\n",
       "    });\n",
       "  }\n",
       "}(this));"
      ]
     },
     "metadata": {},
     "output_type": "display_data"
    }
   ],
   "source": [
    "import json\n",
    "from collections import defaultdict\n",
    "import matplotlib.pyplot as plt\n",
    "import numpy as np\n",
    "import pyspark.mllib.recommendation as rec\n",
    "import pickle\n",
    "\n",
    "from bokeh.plotting import figure, output_notebook,show, ColumnDataSource\n",
    "from bokeh.models import HoverTool\n",
    "\n",
    "from matplotlib.colors import rgb2hex\n",
    "\n",
    "from operator import itemgetter\n",
    "\n",
    "\n",
    "%matplotlib inline\n",
    "plt.style.use(\"ggplot\")\n",
    "output_notebook()"
   ]
  },
  {
   "cell_type": "markdown",
   "metadata": {},
   "source": [
    "What does the data look like?"
   ]
  },
  {
   "cell_type": "code",
   "execution_count": 2,
   "metadata": {
    "collapsed": false
   },
   "outputs": [
    {
     "name": "stdout",
     "output_type": "stream",
     "text": [
      "{\"movieId\": 70286, \"userId\": 138493, \"timestamp\": 1258126944, \"rating\": 5.0}\r\n",
      "{\"movieId\": 71619, \"userId\": 138493, \"timestamp\": 1255811136, \"rating\": 2.5}\r\n"
     ]
    }
   ],
   "source": [
    "!hdfs dfs -cat /ix/ml-20m/ratings.txt | tail -n 2"
   ]
  },
  {
   "cell_type": "code",
   "execution_count": 3,
   "metadata": {
    "collapsed": false
   },
   "outputs": [],
   "source": [
    "data = sc.textFile(\"/ix/ml-20m/ratings.txt\").map(json.loads)\n",
    "myRatings = []\n",
    "with open('my-ratings.txt','r') as file:\n",
    "    for line in file:\n",
    "        myRatings.append(json.loads(line))\n",
    "myRatings = sc.parallelize(myRatings)\n",
    "data = data.union(myRatings)\n",
    "numRatings = data.count()\n",
    "numUsers = data.map(lambda rating: rating['userId']).distinct().count()"
   ]
  },
  {
   "cell_type": "code",
   "execution_count": 4,
   "metadata": {
    "collapsed": false
   },
   "outputs": [
    {
     "data": {
      "image/png": "[encoded data removed]",
      "text/plain": [
       "<matplotlib.figure.Figure at 0x7fd9c0191ba8>"
      ]
     },
     "metadata": {},
     "output_type": "display_data"
    }
   ],
   "source": [
    "usersRatingCount = data.map(lambda rating: (rating['userId'],1)).countByKey().items()\n",
    "plt.plot(*zip(*usersRatingCount));"
   ]
  },
  {
   "cell_type": "code",
   "execution_count": 5,
   "metadata": {
    "collapsed": false
   },
   "outputs": [
    {
     "data": {
      "image/png": "[encoded data removed]",
      "text/plain": [
       "<matplotlib.figure.Figure at 0x7fd9b6d97278>"
      ]
     },
     "metadata": {},
     "output_type": "display_data"
    }
   ],
   "source": [
    "moviesRatingCount = sorted(data.map(lambda rating: (rating['movieId'],1)).countByKey().items())\n",
    "plt.plot(*zip(*moviesRatingCount));"
   ]
  },
  {
   "cell_type": "code",
   "execution_count": 6,
   "metadata": {
    "collapsed": false
   },
   "outputs": [],
   "source": [
    "def isValidation(rating):\n",
    "    if rating['timestamp']%10 in [1,2]:\n",
    "        return True\n",
    "    return False\n",
    "def isTraining(rating):\n",
    "    return not isValidation(rating)\n",
    "training, validation = (data.filter(f) for f in(isTraining,isValidation))"
   ]
  },
  {
   "cell_type": "code",
   "execution_count": 7,
   "metadata": {
    "collapsed": false
   },
   "outputs": [
    {
     "name": "stdout",
     "output_type": "stream",
     "text": [
      "Ratio of training is 80 and validation is 20\n"
     ]
    }
   ],
   "source": [
    "trainingSize = training.count()\n",
    "validationSize = validation.count()\n",
    "print(\"Ratio of training is %2.f and validation is %2.f\"%(trainingSize/numRatings*100,validationSize/numRatings*100))"
   ]
  },
  {
   "cell_type": "code",
   "execution_count": 8,
   "metadata": {
    "collapsed": false
   },
   "outputs": [],
   "source": [
    "mu = training.map(lambda rating: rating['rating']).mean()"
   ]
  },
  {
   "cell_type": "code",
   "execution_count": 9,
   "metadata": {
    "collapsed": false
   },
   "outputs": [],
   "source": [
    "alpha = training.map(lambda rating: (rating['userId'],rating['rating']-mu)).groupByKey().mapValues(list).map(lambda rating: (rating[0],np.mean(rating[1]))).collectAsMap()"
   ]
  },
  {
   "cell_type": "code",
   "execution_count": 10,
   "metadata": {
    "collapsed": false
   },
   "outputs": [],
   "source": [
    "beta = training.map(lambda rating: (rating['movieId'],rating['rating']-alpha[rating['userId']]-mu)).groupByKey().mapValues(list).map(lambda rating: (rating[0],np.mean(rating[1]))).collectAsMap()"
   ]
  },
  {
   "cell_type": "code",
   "execution_count": 11,
   "metadata": {
    "collapsed": false
   },
   "outputs": [],
   "source": [
    "alphaMean = np.mean(list(alpha.values()))\n",
    "betaMean = np.mean(list(beta.values()))\n",
    "validationMap = validation.map(lambda rating: ((rating['userId'],rating['movieId']),rating['rating'])).collectAsMap()"
   ]
  },
  {
   "cell_type": "code",
   "execution_count": 12,
   "metadata": {
    "collapsed": false
   },
   "outputs": [],
   "source": [
    "estimatedMap = defaultdict(lambda: {})\n",
    "for userId, movieId in validationMap.keys():\n",
    "    estimatedMap[userId][movieId] = np.clip(mu+alpha.get(userId,alphaMean)+beta.get(movieId,betaMean),0.5,5.0)"
   ]
  },
  {
   "cell_type": "code",
   "execution_count": 13,
   "metadata": {
    "collapsed": false
   },
   "outputs": [],
   "source": [
    "numUsers = data.map(lambda rating: rating['userId']).distinct().count()    "
   ]
  },
  {
   "cell_type": "code",
   "execution_count": 14,
   "metadata": {
    "collapsed": false
   },
   "outputs": [
    {
     "data": {
      "text/plain": [
       "0.86693421039450369"
      ]
     },
     "execution_count": 14,
     "metadata": {},
     "output_type": "execute_result"
    }
   ],
   "source": [
    "def error(estimate):\n",
    "    sumU = 0\n",
    "    numUsers = 0\n",
    "    for user in estimate.keys():\n",
    "        sumM = 0\n",
    "        numMovies = 0\n",
    "        for movie, rating in estimate[user].items():\n",
    "            sumM += (rating-validationMap[(user,movie)])**2\n",
    "            numMovies += 1\n",
    "        sumU += np.sqrt(1./numMovies*sumM)\n",
    "        numUsers += 1\n",
    "    return 1./numUsers*sumU\n",
    "error(estimatedMap)"
   ]
  },
  {
   "cell_type": "markdown",
   "metadata": {},
   "source": [
    "# 3.2.2 Matrix-factorization model"
   ]
  },
  {
   "cell_type": "code",
   "execution_count": 15,
   "metadata": {
    "collapsed": false
   },
   "outputs": [],
   "source": [
    "model = rec.ALS.train(training.map(lambda rating: (rating['userId'],rating['movieId'],rating['rating'])),5,lambda_=0.0001)\n",
    "prediction = model.predictAll(validation.map(lambda rating: (rating['userId'],rating['movieId'])))\n",
    "estimation = prediction.collect()\n",
    "estimatedMap2 = defaultdict(lambda: {})\n",
    "for userId, movieId, rating in estimation:\n",
    "    estimatedMap2[userId][movieId] =rating"
   ]
  },
  {
   "cell_type": "code",
   "execution_count": 130,
   "metadata": {
    "collapsed": false
   },
   "outputs": [
    {
     "data": {
      "text/plain": [
       "1.1871482170678893"
      ]
     },
     "execution_count": 130,
     "metadata": {},
     "output_type": "execute_result"
    }
   ],
   "source": [
    "error(estimatedMap2) # rank =25"
   ]
  },
  {
   "cell_type": "code",
   "execution_count": 132,
   "metadata": {
    "collapsed": false
   },
   "outputs": [
    {
     "data": {
      "text/plain": [
       "0.9404401945716474"
      ]
     },
     "execution_count": 132,
     "metadata": {},
     "output_type": "execute_result"
    }
   ],
   "source": [
    "error(estimatedMap2) # rank = 12"
   ]
  },
  {
   "cell_type": "code",
   "execution_count": 136,
   "metadata": {
    "collapsed": false
   },
   "outputs": [
    {
     "data": {
      "text/plain": [
       "3.7452269667338722"
      ]
     },
     "execution_count": 136,
     "metadata": {},
     "output_type": "execute_result"
    }
   ],
   "source": [
    "error(estimatedMap2) # rank =5, lambda = 10.0"
   ]
  },
  {
   "cell_type": "code",
   "execution_count": 138,
   "metadata": {
    "collapsed": false
   },
   "outputs": [
    {
     "data": {
      "text/plain": [
       "1.0131218972771603"
      ]
     },
     "execution_count": 138,
     "metadata": {},
     "output_type": "execute_result"
    }
   ],
   "source": [
    "error(estimatedMap2) # rank =5, lambda = 0.5"
   ]
  },
  {
   "cell_type": "code",
   "execution_count": 128,
   "metadata": {
    "collapsed": false
   },
   "outputs": [
    {
     "data": {
      "text/plain": [
       "0.8524675667492102"
      ]
     },
     "execution_count": 128,
     "metadata": {},
     "output_type": "execute_result"
    }
   ],
   "source": [
    "error(estimatedMap2) # rank =5, lambda = 0.0001"
   ]
  },
  {
   "cell_type": "code",
   "execution_count": 140,
   "metadata": {
    "collapsed": false
   },
   "outputs": [
    {
     "data": {
      "text/plain": [
       "0.88821879272498194"
      ]
     },
     "execution_count": 140,
     "metadata": {},
     "output_type": "execute_result"
    }
   ],
   "source": [
    "error(estimatedMap2) # rank =5, lambda = 0.00001"
   ]
  },
  {
   "cell_type": "code",
   "execution_count": 19,
   "metadata": {
    "collapsed": false
   },
   "outputs": [],
   "source": [
    "dataMovie = sc.textFile(\"/ix/ml-20m/movies.txt\").map(json.loads)\n",
    "movie2name = dict(dataMovie.map(itemgetter(\"movieId\", \"title\")).collect())"
   ]
  },
  {
   "cell_type": "code",
   "execution_count": 25,
   "metadata": {
    "collapsed": false
   },
   "outputs": [],
   "source": [
    "def recommendMovies(userId,number=10):\n",
    "    movies = []\n",
    "    for rating in model.recommendProducts(userId,number):\n",
    "        movies.append(movie2name[rating[1]])\n",
    "    return movies"
   ]
  },
  {
   "cell_type": "code",
   "execution_count": 30,
   "metadata": {
    "collapsed": false
   },
   "outputs": [
    {
     "name": "stdout",
     "output_type": "stream",
     "text": [
      "Recommendations for user 123\n",
      "- Action Jackson (2014)\n",
      "- Swan and the Wanderer, The (Kulkuri ja joutsen) (1999)\n",
      "- The Kiss (1900)\n",
      "- Dragon Gate Inn (Dragon Inn) (Long men kezhan) (1967)\n",
      "- Sinbad (Szindbád) (1971)\n",
      "- Black God, White Devil (Deus e o Diabo na Terra do Sol) (1964)\n",
      "- Birth of the Living Dead (2013)\n",
      "- It Is Written in the Stars, Inspector Palmu (Tähdet kertovat, komisario Palmu) (1962)\n",
      "- Cobweb, The (1955)\n",
      "- Purgatory (1999)\n",
      "\n",
      "Recommendations for us\n",
      "- Combat Shock (1986)\n",
      "- Reminiscences of a Journey to Lithuania (1972)\n",
      "- The Kiss (1900)\n",
      "- Liverpool (2008)\n",
      "- My Kingdom (2001)\n",
      "- Maradona, the Hand of God (Maradona, la mano di Dio) (2007)\n",
      "- Barren Lives (Vidas Secas) (1963)\n",
      "- Thick-Walled Room, The (Kabe atsuki heya) (1953)\n",
      "- On Top of the Whale (Het dak van de Walvis) (1982)\n",
      "- Story of Marie and Julien, The (Histoire de Marie et Julien) (2003)\n"
     ]
    }
   ],
   "source": [
    "print(\"Recommendations for user 123\")\n",
    "for movie in recommendMovies(123):\n",
    "    print(\"-\", movie)\n",
    "print(\"\\nRecommendations for us\")\n",
    "for movie in recommendMovies(138494):\n",
    "    print(\"-\",movie)"
   ]
  },
  {
   "cell_type": "code",
   "execution_count": 34,
   "metadata": {
    "collapsed": false
   },
   "outputs": [],
   "source": [
    "model2 = rec.ALS.train(training.map(lambda rating: (rating['userId'],rating['movieId'],rating['rating'])),2,lambda_=0.0001)"
   ]
  },
  {
   "cell_type": "code",
   "execution_count": 35,
   "metadata": {
    "collapsed": true
   },
   "outputs": [],
   "source": [
    "features = model2.productFeatures().collectAsMap()"
   ]
  },
  {
   "cell_type": "code",
   "execution_count": 43,
   "metadata": {
    "collapsed": false
   },
   "outputs": [
    {
     "data": {
      "text/html": [
       "\n",
       "\n",
       "    <div class=\"bk-root\">\n",
       "        <div class=\"plotdiv\" id=\"8fae75d9-2b61-48e8-a7a3-45f6c8554eeb\"></div>\n",
       "    </div>\n",
       "<script type=\"text/javascript\">\n",
       "  \n",
       "  (function(global) {\n",
       "    function now() {\n",
       "      return new Date();\n",
       "    }\n",
       "  \n",
       "    var force = \"\";\n",
       "  \n",
       "    if (typeof (window._bokeh_onload_callbacks) === \"undefined\" || force !== \"\") {\n",
       "      window._bokeh_onload_callbacks = [];\n",
       "      window._bokeh_is_loading = undefined;\n",
       "    }\n",
       "  \n",
       "  \n",
       "    \n",
       "    if (typeof (window._bokeh_timeout) === \"undefined\" || force !== \"\") {\n",
       "      window._bokeh_timeout = Date.now() + 0;\n",
       "      window._bokeh_failed_load = false;\n",
       "    }\n",
       "  \n",
       "    var NB_LOAD_WARNING = {'data': {'text/html':\n",
       "       \"<div style='background-color: #fdd'>\\n\"+\n",
       "       \"<p>\\n\"+\n",
       "       \"BokehJS does not appear to have successfully loaded. If loading BokehJS from CDN, this \\n\"+\n",
       "       \"may be due to a slow or bad network connection. Possible fixes:\\n\"+\n",
       "       \"</p>\\n\"+\n",
       "       \"<ul>\\n\"+\n",
       "       \"<li>re-rerun `output_notebook()` to attempt to load from CDN again, or</li>\\n\"+\n",
       "       \"<li>use INLINE resources instead, as so:</li>\\n\"+\n",
       "       \"</ul>\\n\"+\n",
       "       \"<code>\\n\"+\n",
       "       \"from bokeh.resources import INLINE\\n\"+\n",
       "       \"output_notebook(resources=INLINE)\\n\"+\n",
       "       \"</code>\\n\"+\n",
       "       \"</div>\"}};\n",
       "  \n",
       "    function display_loaded() {\n",
       "      if (window.Bokeh !== undefined) {\n",
       "        Bokeh.$(\"#8fae75d9-2b61-48e8-a7a3-45f6c8554eeb\").text(\"BokehJS successfully loaded.\");\n",
       "      } else if (Date.now() < window._bokeh_timeout) {\n",
       "        setTimeout(display_loaded, 100)\n",
       "      }\n",
       "    }\n",
       "  \n",
       "    function run_callbacks() {\n",
       "      window._bokeh_onload_callbacks.forEach(function(callback) { callback() });\n",
       "      delete window._bokeh_onload_callbacks\n",
       "      console.info(\"Bokeh: all callbacks have finished\");\n",
       "    }\n",
       "  \n",
       "    function load_libs(js_urls, callback) {\n",
       "      window._bokeh_onload_callbacks.push(callback);\n",
       "      if (window._bokeh_is_loading > 0) {\n",
       "        console.log(\"Bokeh: BokehJS is being loaded, scheduling callback at\", now());\n",
       "        return null;\n",
       "      }\n",
       "      if (js_urls == null || js_urls.length === 0) {\n",
       "        run_callbacks();\n",
       "        return null;\n",
       "      }\n",
       "      console.log(\"Bokeh: BokehJS not loaded, scheduling load and callback at\", now());\n",
       "      window._bokeh_is_loading = js_urls.length;\n",
       "      for (var i = 0; i < js_urls.length; i++) {\n",
       "        var url = js_urls[i];\n",
       "        var s = document.createElement('script');\n",
       "        s.src = url;\n",
       "        s.async = false;\n",
       "        s.onreadystatechange = s.onload = function() {\n",
       "          window._bokeh_is_loading--;\n",
       "          if (window._bokeh_is_loading === 0) {\n",
       "            console.log(\"Bokeh: all BokehJS libraries loaded\");\n",
       "            run_callbacks()\n",
       "          }\n",
       "        };\n",
       "        s.onerror = function() {\n",
       "          console.warn(\"failed to load library \" + url);\n",
       "        };\n",
       "        console.log(\"Bokeh: injecting script tag for BokehJS library: \", url);\n",
       "        document.getElementsByTagName(\"head\")[0].appendChild(s);\n",
       "      }\n",
       "    };var element = document.getElementById(\"8fae75d9-2b61-48e8-a7a3-45f6c8554eeb\");\n",
       "    if (element == null) {\n",
       "      console.log(\"Bokeh: ERROR: autoload.js configured with elementid '8fae75d9-2b61-48e8-a7a3-45f6c8554eeb' but no matching script tag was found. \")\n",
       "      return false;\n",
       "    }\n",
       "  \n",
       "    var js_urls = [];\n",
       "  \n",
       "    var inline_js = [\n",
       "      function(Bokeh) {\n",
       "        Bokeh.$(function() {\n",
       "            var docs_json = {\"5441b030-f8a6-4000-bb49-570fc28df491\":{\"roots\":{\"references\":[{\"attributes\":{\"plot\":{\"id\":\"903b0cc8-ee5f-4ea1-892c-f5b7e22086b8\",\"subtype\":\"Figure\",\"type\":\"Plot\"},\"ticker\":{\"id\":\"b367cc8a-8048-407d-8c89-ed705f55e6f6\",\"type\":\"BasicTicker\"}},\"id\":\"14747084-a867-43b8-8852-e372da9df44f\",\"type\":\"Grid\"},{\"attributes\":{\"fill_color\":{\"field\":\"color\"},\"line_color\":{\"field\":\"color\"},\"size\":{\"units\":\"screen\",\"value\":20},\"x\":{\"field\":\"x\"},\"y\":{\"field\":\"y\"}},\"id\":\"d8be1b72-9673-4357-ba0d-ce331fe27e34\",\"type\":\"Circle\"},{\"attributes\":{},\"id\":\"4571e13e-7c75-4737-85d6-9b29e4dbed6b\",\"type\":\"BasicTickFormatter\"},{\"attributes\":{\"dimension\":1,\"plot\":{\"id\":\"903b0cc8-ee5f-4ea1-892c-f5b7e22086b8\",\"subtype\":\"Figure\",\"type\":\"Plot\"},\"ticker\":{\"id\":\"c4995d20-df4b-4be8-aaca-66a5efa37d3f\",\"type\":\"BasicTicker\"}},\"id\":\"a4984fc7-2a73-47f4-917f-bb3b643f3e71\",\"type\":\"Grid\"},{\"attributes\":{},\"id\":\"08dfc482-0d93-4599-98c6-f3f1b03cb8ca\",\"type\":\"ToolEvents\"},{\"attributes\":{\"plot\":null,\"text\":\"Movies\"},\"id\":\"48b1ba23-3846-4adf-bfd3-3346facf36ad\",\"type\":\"Title\"},{\"attributes\":{\"formatter\":{\"id\":\"4571e13e-7c75-4737-85d6-9b29e4dbed6b\",\"type\":\"BasicTickFormatter\"},\"plot\":{\"id\":\"903b0cc8-ee5f-4ea1-892c-f5b7e22086b8\",\"subtype\":\"Figure\",\"type\":\"Plot\"},\"ticker\":{\"id\":\"c4995d20-df4b-4be8-aaca-66a5efa37d3f\",\"type\":\"BasicTicker\"}},\"id\":\"780ddf49-eaac-4a57-ac71-0950a4172f37\",\"type\":\"LinearAxis\"},{\"attributes\":{\"data_source\":{\"id\":\"a4feff7d-3fbd-482a-b55f-995128411612\",\"type\":\"ColumnDataSource\"},\"glyph\":{\"id\":\"d8be1b72-9673-4357-ba0d-ce331fe27e34\",\"type\":\"Circle\"},\"hover_glyph\":null,\"nonselection_glyph\":{\"id\":\"71ee970b-3e05-4526-9b86-9daa492e666d\",\"type\":\"Circle\"},\"selection_glyph\":null},\"id\":\"01d5b99d-ca2f-42ba-9e00-e806a50ccd8b\",\"type\":\"GlyphRenderer\"},{\"attributes\":{},\"id\":\"c4995d20-df4b-4be8-aaca-66a5efa37d3f\",\"type\":\"BasicTicker\"},{\"attributes\":{\"below\":[{\"id\":\"c9034b58-18bf-4438-8853-f93a26060612\",\"type\":\"LinearAxis\"}],\"left\":[{\"id\":\"780ddf49-eaac-4a57-ac71-0950a4172f37\",\"type\":\"LinearAxis\"}],\"renderers\":[{\"id\":\"c9034b58-18bf-4438-8853-f93a26060612\",\"type\":\"LinearAxis\"},{\"id\":\"14747084-a867-43b8-8852-e372da9df44f\",\"type\":\"Grid\"},{\"id\":\"780ddf49-eaac-4a57-ac71-0950a4172f37\",\"type\":\"LinearAxis\"},{\"id\":\"a4984fc7-2a73-47f4-917f-bb3b643f3e71\",\"type\":\"Grid\"},{\"id\":\"01d5b99d-ca2f-42ba-9e00-e806a50ccd8b\",\"type\":\"GlyphRenderer\"}],\"title\":{\"id\":\"48b1ba23-3846-4adf-bfd3-3346facf36ad\",\"type\":\"Title\"},\"tool_events\":{\"id\":\"08dfc482-0d93-4599-98c6-f3f1b03cb8ca\",\"type\":\"ToolEvents\"},\"toolbar\":{\"id\":\"df84d11b-460d-48e4-9a1f-6948fc65a6d4\",\"type\":\"Toolbar\"},\"x_range\":{\"id\":\"c6ca79e6-ce40-4117-a6a0-238d72c50a0a\",\"type\":\"DataRange1d\"},\"y_range\":{\"id\":\"b3491c3d-a4ca-4194-845a-fe0eb02da4a9\",\"type\":\"DataRange1d\"}},\"id\":\"903b0cc8-ee5f-4ea1-892c-f5b7e22086b8\",\"subtype\":\"Figure\",\"type\":\"Plot\"},{\"attributes\":{\"fill_alpha\":{\"value\":0.1},\"fill_color\":{\"value\":\"#1f77b4\"},\"line_alpha\":{\"value\":0.1},\"line_color\":{\"value\":\"#1f77b4\"},\"size\":{\"units\":\"screen\",\"value\":20},\"x\":{\"field\":\"x\"},\"y\":{\"field\":\"y\"}},\"id\":\"71ee970b-3e05-4526-9b86-9daa492e666d\",\"type\":\"Circle\"},{\"attributes\":{\"callback\":null},\"id\":\"b3491c3d-a4ca-4194-845a-fe0eb02da4a9\",\"type\":\"DataRange1d\"},{\"attributes\":{\"formatter\":{\"id\":\"cddd7d03-ce00-4266-8a94-851a766c4d66\",\"type\":\"BasicTickFormatter\"},\"plot\":{\"id\":\"903b0cc8-ee5f-4ea1-892c-f5b7e22086b8\",\"subtype\":\"Figure\",\"type\":\"Plot\"},\"ticker\":{\"id\":\"b367cc8a-8048-407d-8c89-ed705f55e6f6\",\"type\":\"BasicTicker\"}},\"id\":\"c9034b58-18bf-4438-8853-f93a26060612\",\"type\":\"LinearAxis\"},{\"attributes\":{\"callback\":null,\"plot\":{\"id\":\"903b0cc8-ee5f-4ea1-892c-f5b7e22086b8\",\"subtype\":\"Figure\",\"type\":\"Plot\"},\"tooltips\":[[\"name\",\"@name\"],[\"RT score\",\"@score\"]]},\"id\":\"5dcd129b-d469-4bac-809a-b8c4bae0f330\",\"type\":\"HoverTool\"},{\"attributes\":{\"active_drag\":\"auto\",\"active_scroll\":\"auto\",\"active_tap\":\"auto\",\"tools\":[{\"id\":\"5dcd129b-d469-4bac-809a-b8c4bae0f330\",\"type\":\"HoverTool\"}]},\"id\":\"df84d11b-460d-48e4-9a1f-6948fc65a6d4\",\"type\":\"Toolbar\"},{\"attributes\":{},\"id\":\"b367cc8a-8048-407d-8c89-ed705f55e6f6\",\"type\":\"BasicTicker\"},{\"attributes\":{\"callback\":null,\"column_names\":[\"color\",\"score\",\"name\",\"x\",\"y\"],\"data\":{\"color\":[\"#d9ef8b\",\"#219c52\",\"#30a356\",\"#17934e\",\"#4eb15d\",\"#0c7f43\",\"#30a356\",\"#e54e35\",\"#e0422f\",\"#3faa59\",\"#73c264\",\"#3faa59\",\"#148e4b\",\"#118848\",\"#118848\",\"#fff6b0\",\"#0a7b41\",\"#6bbf64\",\"#eb5a3a\",\"#279f53\",\"#199750\",\"#fdc372\",\"#5db961\",\"#006837\",\"#17934e\",\"#98d368\",\"#0c7f43\",\"#66bd63\",\"#afdd70\",\"#c5e67e\",\"#05713c\",\"#fbfdba\",\"#0c7f43\",\"#b5df74\",\"#4eb15d\",\"#279f53\",\"#d9ef8b\"],\"name\":[\"Independence Day (a.k.a. ID4) (1996)\",\"Spider-Man (2002)\",\"Matrix, The (1999)\",\"Shawshank Redemption, The (1994)\",\"American History X (1998)\",\"Wild Strawberries (Smultronst\\u00e4llet) (1957)\",\"Control (2007)\",\"Miss Congeniality 2: Armed and Fabulous (2005)\",\"Just My Luck (2006)\",\"Santa Sangre (1989)\",\"Videodrome (1983)\",\"Billy Elliot (2000)\",\"Pride (2014)\",\"Jurassic Park (1993)\",\"Star Wars: Episode IV - A New Hope (1977)\",\"Princess Diaries, The (2001)\",\"Schindler's List (1993)\",\"Fight Club (1999)\",\"New York Ripper, The (Squartatore di New York, Lo) (1982)\",\"American Beauty (1999)\",\"City of God (Cidade de Deus) (2002)\",\"Battleship (2012)\",\"Take Care of My Cat (Goyangileul butaghae) (2001)\",\"Terminator, The (1984)\",\"Edge of Tomorrow (2014)\",\"Forrest Gump (1994)\",\"King's Speech, The (2010)\",\"Life Is Beautiful (La Vita \\u00e8 bella) (1997)\",\"Stage Fright (Deliria) (1987)\",\"Ichi the Killer (Koroshiya 1) (2001)\",\"Brazil (1985)\",\"Fountain, The (2006)\",\"Accused, The (1988)\",\"Time to Kill, A (1996)\",\"Ghost Writer, The (2010)\",\"Superbad (2007)\",\"American Pie (1999)\"],\"score\":[0.6,0.89,0.87,0.91,0.83,0.95,0.87,0.15,0.13,0.85,0.78,0.85,0.92,0.93,0.93,0.47,0.96,0.79,0.17,0.88,0.9,0.34,0.81,1.0,0.91,0.72,0.95,0.8,0.68,0.64,0.98,0.51,0.95,0.67,0.83,0.88,0.6],\"x\":[-0.04311122000217438,-0.12687498331069946,-0.18366532027721405,-0.18087007105350494,-0.22048713266849518,-0.41247957944869995,-0.32438063621520996,-0.06584883481264114,-0.08145903795957565,-0.38529181480407715,-0.336149126291275,-0.22406227886676788,-0.3594496548175812,-0.09263356029987335,-0.17121349275112152,-0.09551230072975159,-0.18748807907104492,-0.24689921736717224,-0.2908589839935303,-0.2511415481567383,-0.26903480291366577,-0.11004528403282166,-0.5471065044403076,-0.17596091330051422,-0.20867039263248444,-0.11826250702142715,-0.2208046019077301,-0.1985757201910019,-0.3447249233722687,-0.32510823011398315,-0.3177517056465149,-0.27957624197006226,-0.22419878840446472,-0.08904193341732025,-0.2731277644634247,-0.21363389492034912,-0.08822546154260635],\"y\":[-0.16082827746868134,-0.20118944346904755,-0.23979628086090088,-0.24562910199165344,-0.24784578382968903,-0.2545531690120697,-0.244181290268898,-0.14027290046215057,-0.15863627195358276,-0.2211734503507614,-0.22847436368465424,-0.23307189345359802,-0.24573446810245514,-0.185942143201828,-0.23331387341022491,-0.1733005791902542,-0.24230916798114777,-0.25529220700263977,-0.18779852986335754,-0.25209560990333557,-0.26003289222717285,-0.17085382342338562,-0.2309437394142151,-0.22436340153217316,-0.23795482516288757,-0.20952391624450684,-0.2454875260591507,-0.24446401000022888,-0.2087809145450592,-0.21778498589992523,-0.2521609365940094,-0.23052126169204712,-0.23179537057876587,-0.1837889552116394,-0.23639428615570068,-0.23055197298526764,-0.1803637146949768]}},\"id\":\"a4feff7d-3fbd-482a-b55f-995128411612\",\"type\":\"ColumnDataSource\"},{\"attributes\":{},\"id\":\"cddd7d03-ce00-4266-8a94-851a766c4d66\",\"type\":\"BasicTickFormatter\"},{\"attributes\":{\"callback\":null},\"id\":\"c6ca79e6-ce40-4117-a6a0-238d72c50a0a\",\"type\":\"DataRange1d\"}],\"root_ids\":[\"903b0cc8-ee5f-4ea1-892c-f5b7e22086b8\"]},\"title\":\"Bokeh Application\",\"version\":\"0.12.2\"}};\n",
       "            var render_items = [{\"docid\":\"5441b030-f8a6-4000-bb49-570fc28df491\",\"elementid\":\"8fae75d9-2b61-48e8-a7a3-45f6c8554eeb\",\"modelid\":\"903b0cc8-ee5f-4ea1-892c-f5b7e22086b8\"}];\n",
       "            \n",
       "            Bokeh.embed.embed_items(docs_json, render_items);\n",
       "        });\n",
       "      },\n",
       "      function(Bokeh) {\n",
       "      }\n",
       "    ];\n",
       "  \n",
       "    function run_inline_js() {\n",
       "      \n",
       "      if ((window.Bokeh !== undefined) || (force === \"1\")) {\n",
       "        for (var i = 0; i < inline_js.length; i++) {\n",
       "          inline_js[i](window.Bokeh);\n",
       "        }if (force === \"1\") {\n",
       "          display_loaded();\n",
       "        }} else if (Date.now() < window._bokeh_timeout) {\n",
       "        setTimeout(run_inline_js, 100);\n",
       "      } else if (!window._bokeh_failed_load) {\n",
       "        console.log(\"Bokeh: BokehJS failed to load within specified timeout.\");\n",
       "        window._bokeh_failed_load = true;\n",
       "      } else if (!force) {\n",
       "        var cell = $(\"#8fae75d9-2b61-48e8-a7a3-45f6c8554eeb\").parents('.cell').data().cell;\n",
       "        cell.output_area.append_execute_result(NB_LOAD_WARNING)\n",
       "      }\n",
       "  \n",
       "    }\n",
       "  \n",
       "    if (window._bokeh_is_loading === 0) {\n",
       "      console.log(\"Bokeh: BokehJS loaded, going straight to plotting\");\n",
       "      run_inline_js();\n",
       "    } else {\n",
       "      load_libs(js_urls, function() {\n",
       "        console.log(\"Bokeh: BokehJS plotting callback run at\", now());\n",
       "        run_inline_js();\n",
       "      });\n",
       "    }\n",
       "  }(this));\n",
       "</script>"
      ]
     },
     "metadata": {},
     "output_type": "display_data"
    }
   ],
   "source": [
    "# Reading an object from disk.\n",
    "with open(\"selected-movies.pickle\", \"rb\") as f:\n",
    "    movies = pickle.load(f, encoding=\"utf-8\")\n",
    "    \n",
    "data=dict(\n",
    "            x=[],\n",
    "            y=[],\n",
    "            name=[],\n",
    "            score=[],\n",
    "            color=[],\n",
    "        )\n",
    "\n",
    "for movie in movies:\n",
    "    coords = features[movie[0]]\n",
    "    data['x'].append(coords[0])\n",
    "    data['y'].append(coords[1])\n",
    "    data['name'].append(movie[1])\n",
    "    data['score'].append(movie[2])\n",
    "    data['color'].append(rgb2hex(plt.get_cmap('RdYlGn')(movie[2])[:3]))\n",
    "source = ColumnDataSource(data)\n",
    "hover = HoverTool(\n",
    "        tooltips=[\n",
    "            (\"name\", \"@name\"),\n",
    "            (\"RT score\",\"@score\"),\n",
    "        ]\n",
    "    )\n",
    "\n",
    "p = figure(plot_width=600, plot_height=600, tools=[hover],\n",
    "           title=\"Movies\")\n",
    "\n",
    "p.circle('x', 'y', size=20, source=source, color='color')\n",
    "\n",
    "show(p)"
   ]
  }
 ],
 "metadata": {
  "anaconda-cloud": {},
  "kernelspec": {
   "display_name": "Python 3",
   "language": "python",
   "name": "python3"
  },
  "language_info": {
   "codemirror_mode": {
    "name": "ipython",
    "version": 3
   },
   "file_extension": ".py",
   "mimetype": "text/x-python",
   "name": "python",
   "nbconvert_exporter": "python",
   "pygments_lexer": "ipython3",
   "version": "3.5.2"
  }
 },
 "nbformat": 4,
 "nbformat_minor": 1
}
