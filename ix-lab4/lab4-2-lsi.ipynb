{
 "cells": [
  {
   "cell_type": "markdown",
   "metadata": {},
   "source": [
    "# Text 2: Latent semantic indexing\n",
    "**Internet Analytics - Lab 4**\n",
    "\n",
    "---\n",
    "\n",
    "**Group:** R\n",
    "\n",
    "**Names:**\n",
    "\n",
    "* Raphael Strebel\n",
    "* Raphaël Barman\n",
    "* Thierry Bossy\n",
    "\n",
    "---\n",
    "\n",
    "#### Instructions\n",
    "\n",
    "*This is a template for part 2 of the lab. Clearly write your answers, comments and interpretations in Markodown cells. Don't forget that you can add $\\LaTeX$ equations in these cells. Feel free to add or remove any cell.*\n",
    "\n",
    "*Please properly comment your code. Code readability will be considered for grading. To avoid long cells of codes in the notebook, you can also embed long python functions and classes in a separate module. Don’t forget to hand in your module if that is the case. In multiple exercises, you are required to come up with your own method to solve various problems. Be creative and clearly motivate and explain your methods. Creativity and clarity will be considered for grading.*"
   ]
  },
  {
   "cell_type": "code",
   "execution_count": 24,
   "metadata": {},
   "outputs": [],
   "source": [
    "import pickle\n",
    "import numpy as np\n",
    "from scipy.sparse.linalg import svds\n",
    "\n",
    "id2name = np.load('id2name.npy').item()\n",
    "name2id = np.load('name2id.npy').item()\n",
    "idx2Term = np.load('idx2Term.npy').item()\n",
    "term2Idx = np.load('term2Idx.npy').item()\n",
    "idx2Course = np.load('idx2Course.npy').item()\n",
    "course2Idx = np.load('course2Idx.npy').item()\n",
    "numTerms = len(term2Idx)\n",
    "numCourses = len(course2Idx)\n",
    "\n",
    "idf = np.load('idf.npy')\n",
    "\n",
    "X = np.load('X.npy').item()"
   ]
  },
  {
   "cell_type": "markdown",
   "metadata": {},
   "source": [
    "## Exercise 4.4: Latent semantic indexing"
   ]
  },
  {
   "cell_type": "code",
   "execution_count": 15,
   "metadata": {},
   "outputs": [
    {
     "name": "stdout",
     "output_type": "stream",
     "text": [
      "1 loop, best of 3: 2.17 s per loop\n"
     ]
    }
   ],
   "source": [
    "k = 300\n",
    "U, S, Vt = svds(X,k)"
   ]
  },
  {
   "cell_type": "markdown",
   "metadata": {},
   "source": [
    "- U relates the terms to the topic\n",
    "- S gives the importance of the topic\n",
    "- Vt relates the course to the topic"
   ]
  },
  {
   "cell_type": "code",
   "execution_count": 16,
   "metadata": {},
   "outputs": [
    {
     "name": "stdout",
     "output_type": "stream",
     "text": [
      "The top-20 eigenvalues of X : \n"
     ]
    },
    {
     "data": {
      "text/plain": [
       "[39.08928548649714,\n",
       " 24.73264670937084,\n",
       " 23.51299042422734,\n",
       " 21.934011231985618,\n",
       " 21.700080365620373,\n",
       " 21.610618584800157,\n",
       " 20.862342250939097,\n",
       " 20.476572836438603,\n",
       " 20.260554697447549,\n",
       " 19.292993564037143,\n",
       " 19.021476260915772,\n",
       " 18.789530688592901,\n",
       " 18.621696302435758,\n",
       " 18.351176418004744,\n",
       " 18.081469334249938,\n",
       " 17.866904877203627,\n",
       " 17.807177689815024,\n",
       " 17.519950430817588,\n",
       " 17.38204739640604,\n",
       " 17.197000806977691]"
      ]
     },
     "execution_count": 16,
     "metadata": {},
     "output_type": "execute_result"
    }
   ],
   "source": [
    "print(\"The top-20 eigenvalues of X : \")\n",
    "list(S[-20:][::-1])"
   ]
  },
  {
   "cell_type": "markdown",
   "metadata": {},
   "source": [
    "## Exercise 4.5: Topic extraction"
   ]
  },
  {
   "cell_type": "code",
   "execution_count": 17,
   "metadata": {},
   "outputs": [
    {
     "name": "stdout",
     "output_type": "stream",
     "text": [
      "Topic 1 top 10 terms:\n",
      "  - data\t0.097\n",
      "  - problem\t0.092\n",
      "  - research\t0.090\n",
      "  - material\t0.087\n",
      "  - plan\t0.083\n",
      "  - process\t0.083\n",
      "  - report\t0.082\n",
      "  - presentation\t0.082\n",
      "  - engineering\t0.077\n",
      "  - work\t0.077\n",
      "Topic 1 top 10 courses:\n",
      "  - Bioprocesses and downstream processing\t0.129\n",
      "  - Lab immersion III\t0.118\n",
      "  - Renewable energy and solar architecture in Davos\t0.116\n",
      "  - Nanobiotechnology and biophysics\t0.109\n",
      "  - General physics (English) II\t0.097\n",
      "  - Lab immersion I\t0.093\n",
      "  - Principles of finance\t0.091\n",
      "  - Project in bioengineering and biosciences\t0.083\n",
      "  - History of globalization I\t0.083\n",
      "  - Biochemical engineering\t0.081\n",
      "Topic 2 top 10 terms:\n",
      "  - electron\t-0.152\n",
      "  - microscopy\t-0.124\n",
      "  - optical\t-0.120\n",
      "  - data\t0.105\n",
      "  - semiconductor\t-0.104\n",
      "  - cell\t-0.098\n",
      "  - financial\t0.098\n",
      "  - spectroscopy\t-0.097\n",
      "  - plan\t0.095\n",
      "  - sem\t-0.094\n",
      "Topic 2 top 10 courses:\n",
      "  - Nanofabrication with focused electron and ion beams\t-0.236\n",
      "  - Lab immersion III\t0.225\n",
      "  - Lab immersion I\t0.175\n",
      "  - Principles of finance\t0.148\n",
      "  - Nanobiotechnology and biophysics\t-0.143\n",
      "  - Renewable energy and solar architecture in Davos\t0.143\n",
      "  - Bioprocesses and downstream processing\t-0.138\n",
      "  - Project in bioengineering and biosciences\t0.131\n",
      "  - Lab immersion II\t0.130\n",
      "  - Semester project in Bioengineering\t0.117\n",
      "Topic 3 top 10 terms:\n",
      "  - financial\t-0.200\n",
      "  - pricing\t-0.153\n",
      "  - stochastic\t-0.151\n",
      "  - linear\t-0.129\n",
      "  - finance\t-0.124\n",
      "  - probability\t-0.123\n",
      "  - market\t-0.120\n",
      "  - risk\t-0.117\n",
      "  - valuation\t-0.111\n",
      "  - research\t0.111\n",
      "Topic 3 top 10 courses:\n",
      "  - Lab immersion III\t0.244\n",
      "  - Principles of finance\t-0.211\n",
      "  - Lab immersion I\t0.186\n",
      "  - Introduction to finance (IF master and minor only)\t-0.182\n",
      "  - Quantitative methods in finance\t-0.178\n",
      "  - Advanced topics in financial econometrics\t-0.151\n",
      "  - Asset Pricing\t-0.147\n",
      "  - Computational finance\t-0.145\n",
      "  - Martingales in financial mathematics\t-0.141\n",
      "  - Investments\t-0.139\n",
      "Topic 4 top 10 terms:\n",
      "  - bioprocess\t-0.164\n",
      "  - cell\t-0.149\n",
      "  - kinetics\t-0.129\n",
      "  - downstream\t-0.113\n",
      "  - precipitation\t-0.108\n",
      "  - bioreactors\t-0.107\n",
      "  - financial\t-0.103\n",
      "  - adsorption\t-0.101\n",
      "  - optical\t0.097\n",
      "  - linear\t0.094\n",
      "Topic 4 top 10 courses:\n",
      "  - Bioprocesses and downstream processing\t-0.477\n",
      "  - Biochemical engineering\t-0.326\n",
      "  - Lab immersion III\t0.176\n",
      "  - Principles of finance\t-0.143\n",
      "  - Nanofabrication with focused electron and ion beams\t0.139\n",
      "  - Lab immersion I\t0.136\n",
      "  - Introduction to finance (IF master and minor only)\t-0.123\n",
      "  - Asset Pricing\t-0.112\n",
      "  - CCMX Advanced Course - Inorganic Particle Synthesis by Precipitation: From Nanoparticles to Self-organised  Mesocrystals and from Theory to Practice\t-0.103\n",
      "  - Lab immersion II\t0.100\n",
      "Topic 5 top 10 terms:\n",
      "  - financial\t-0.214\n",
      "  - sem\t-0.170\n",
      "  - microscopy\t-0.170\n",
      "  - electron\t-0.153\n",
      "  - risk\t-0.152\n",
      "  - pricing\t-0.147\n",
      "  - market\t-0.138\n",
      "  - microscope\t-0.134\n",
      "  - valuation\t-0.132\n",
      "  - finance\t-0.125\n",
      "Topic 5 top 10 courses:\n",
      "  - Nanofabrication with focused electron and ion beams\t-0.323\n",
      "  - Principles of finance\t-0.275\n",
      "  - Introduction to finance (IF master and minor only)\t-0.226\n",
      "  - Bioprocesses and downstream processing\t0.219\n",
      "  - Nanobiotechnology and biophysics\t-0.182\n",
      "  - Asset Pricing\t-0.180\n",
      "  - Scanning electron microscopy techniques (b)\t-0.172\n",
      "  - Scanning electron microscopy techniques (a)\t-0.172\n",
      "  - Biochemical engineering\t0.145\n",
      "  - Advanced topics in financial econometrics\t-0.139\n",
      "Topic 6 top 10 terms:\n",
      "  - architectural\t0.185\n",
      "  - architecture\t0.179\n",
      "  - studio\t0.176\n",
      "  - urban\t0.134\n",
      "  - wetlab\t-0.121\n",
      "  - experimentation\t-0.111\n",
      "  - laba\t0.110\n",
      "  - obtained\t-0.100\n",
      "  - circuit\t0.098\n",
      "  - experiment\t-0.095\n",
      "Topic 6 top 10 courses:\n",
      "  - Lab immersion III\t-0.276\n",
      "  - Théorie et critique du projet MA1 (Gugger)\t0.272\n",
      "  - Studio MA2 (Escher et GuneWardena)\t0.246\n",
      "  - Théorie et critique du projet MA2 (Gugger)\t0.239\n",
      "  - Lab immersion I\t-0.211\n",
      "  - Théorie et critique du projet MA2 (Huang)\t0.198\n",
      "  - Théorie et critique du projet MA1 (Huang)\t0.185\n",
      "  - Bioprocesses and downstream processing\t-0.185\n",
      "  - Renewable energy and solar architecture in Davos\t0.179\n",
      "  - Lab immersion II\t-0.156\n",
      "Topic 7 top 10 terms:\n",
      "  - cell\t0.188\n",
      "  - protein\t0.158\n",
      "  - edms\t0.151\n",
      "  - doctoral\t0.138\n",
      "  - note\t0.113\n",
      "  - biology\t0.102\n",
      "  - drug\t0.102\n",
      "  - signal\t0.094\n",
      "  - regression\t0.092\n",
      "  - algorithm\t0.091\n",
      "Topic 7 top 10 courses:\n",
      "  - Practical - Constam Lab\t0.251\n",
      "  - Lab immersion III\t-0.187\n",
      "  - Nanobiotechnology and biophysics\t0.162\n",
      "  - Nanofabrication with focused electron and ion beams\t-0.154\n",
      "  - Lab immersion I\t-0.141\n",
      "  - Machine Learning for Engineers\t0.134\n",
      "  - General physics (English) II\t-0.127\n",
      "  - Principles of finance\t-0.120\n",
      "  - Practical - Trono Lab\t0.115\n",
      "  - Practical - Fellay Lab\t0.110\n",
      "Topic 8 top 10 terms:\n",
      "  - device\t0.206\n",
      "  - sem\t-0.196\n",
      "  - circuit\t0.187\n",
      "  - semiconductor\t0.157\n",
      "  - transistor\t0.151\n",
      "  - fib\t-0.141\n",
      "  - electron\t-0.129\n",
      "  - microscope\t-0.127\n",
      "  - sensor\t0.126\n",
      "  - cmos\t0.119\n",
      "Topic 8 top 10 courses:\n",
      "  - Nanofabrication with focused electron and ion beams\t-0.379\n",
      "  - Microelectronics\t0.191\n",
      "  - Scanning electron microscopy techniques (a)\t-0.180\n",
      "  - Scanning electron microscopy techniques (b)\t-0.180\n",
      "  - Studio MA2 (Escher et GuneWardena)\t-0.176\n",
      "  - Semiconductor physics and fundamentals of electronic devices\t0.165\n",
      "  - Nanocomputing: Devices, Circuits and Architectures\t0.163\n",
      "  - Introduction to scanning electron microscopy microanalysis techniques\t-0.154\n",
      "  - Optical detectors\t0.129\n",
      "  - Nanoelectronics\t0.129\n",
      "Topic 9 top 10 terms:\n",
      "  - bioprocess\t-0.180\n",
      "  - processing\t-0.131\n",
      "  - downstream\t-0.125\n",
      "  - bioreactors\t-0.117\n",
      "  - circuit\t-0.111\n",
      "  - sem\t-0.110\n",
      "  - mechanic\t0.109\n",
      "  - fluid\t0.106\n",
      "  - adsorption\t-0.105\n",
      "  - precipitation\t-0.101\n",
      "Topic 9 top 10 courses:\n",
      "  - Bioprocesses and downstream processing\t-0.496\n",
      "  - Biochemical engineering\t-0.317\n",
      "  - Nanofabrication with focused electron and ion beams\t-0.212\n",
      "  - Environmental transport phenomena\t0.132\n",
      "  - General physics (English) II\t0.128\n",
      "  - Atmospheric Boundary Layer\t0.119\n",
      "  - Lab immersion III\t-0.109\n",
      "  - Scanning electron microscopy techniques (a)\t-0.103\n",
      "  - Scanning electron microscopy techniques (b)\t-0.103\n",
      "  - Renewable energy and solar architecture in Davos\t0.086\n",
      "Topic 10 top 10 terms:\n",
      "  - architectural\t-0.199\n",
      "  - american\t-0.154\n",
      "  - modernity\t-0.150\n",
      "  - respecting\t-0.147\n",
      "  - heritage\t-0.147\n",
      "  - iconic\t-0.145\n",
      "  - spatial\t-0.143\n",
      "  - site\t-0.136\n",
      "  - historical\t-0.125\n",
      "  - cultural\t-0.121\n",
      "Topic 10 top 10 courses:\n",
      "  - Studio MA2 (Escher et GuneWardena)\t-0.471\n",
      "  - Structural mechanics (for SV)\t0.255\n",
      "  - Renewable energy and solar architecture in Davos\t0.231\n",
      "  - Nanofabrication with focused electron and ion beams\t0.164\n",
      "  - Studio MA1 (Escher et GuneWardena)\t-0.163\n",
      "  - Théorie et critique du projet MA2 (Huang)\t-0.157\n",
      "  - Hydrogeophysics\t0.152\n",
      "  - Théorie et critique du projet MA1 (Huang)\t-0.145\n",
      "  - Lab immersion III\t-0.134\n",
      "  - Studio MA2 (Lütjens et Padmanabhan)\t-0.117\n"
     ]
    }
   ],
   "source": [
    "for i in reversed(range(k-10,k)):\n",
    "    print('Topic %d top 10 terms:'%(k-i))\n",
    "    topTerms = np.argsort(-np.abs(U.T[i]))[:10]\n",
    "    for term in topTerms:\n",
    "        print('  - %s\\t%.3f'%(idx2Term[term],U.T[i][term]))\n",
    "    print('Topic %d top 10 courses:'%(k-i))\n",
    "    topCourses = np.argsort(-np.abs(Vt[i]))[:10]\n",
    "    for course in topCourses:\n",
    "        print('  - %s\\t%.3f'%(id2name[idx2Course[course]],Vt[i][course]))"
   ]
  },
  {
   "cell_type": "code",
   "execution_count": 5,
   "metadata": {
    "scrolled": true
   },
   "outputs": [
    {
     "name": "stdout",
     "output_type": "stream",
     "text": [
      "Topic 1 top 5 terms:\n",
      "  - architectural\n",
      "  - architecture\n",
      "  - studio\n",
      "  - urban\n",
      "  - laba\n",
      "Topic 1 top 5 courses:\n",
      "  - Théorie et critique du projet MA1 (Gugger)\n",
      "  - Studio MA2 (Escher et GuneWardena)\n",
      "  - Théorie et critique du projet MA2 (Gugger)\n",
      "  - Théorie et critique du projet MA2 (Huang)\n",
      "  - Théorie et critique du projet MA1 (Huang)\n",
      "Topic 2 top 5 terms:\n",
      "  - cell\n",
      "  - protein\n",
      "  - edms\n",
      "  - doctoral\n",
      "  - note\n",
      "Topic 2 top 5 courses:\n",
      "  - Practical - Constam Lab\n",
      "  - Nanobiotechnology and biophysics\n",
      "  - Machine Learning for Engineers\n",
      "  - Practical - Trono Lab\n",
      "  - Practical - Fellay Lab\n",
      "Topic 3 top 5 terms:\n",
      "  - reactor\n",
      "  - reaction\n",
      "  - 8:15-12:00\n",
      "  - optic\n",
      "  - chemical\n",
      "Topic 3 top 5 courses:\n",
      "  - Lab methods : biosafety\n",
      "  - Structural mechanics (for SV)\n",
      "  - Inorganic chemistry \"Applications and spin-offs\"\n",
      "  - Frederic Joliot/Otto Hahn Summer School on nuclear reactors Physics, fuels and systems\n",
      "  - Neutronics\n",
      "Topic 4 top 5 terms:\n",
      "  - edms\n",
      "  - doctoral\n",
      "  - architecture\n",
      "  - circuit\n",
      "  - note\n",
      "Topic 4 top 5 courses:\n",
      "  - Nanofabrication with focused electron and ion beams\n",
      "  - Nanocomputing: Devices, Circuits and Architectures\n",
      "  - Practical - Constam Lab\n",
      "  - Théorie et critique du projet MA1 (Gugger)\n",
      "  - Théorie et critique du projet MA2 (Gugger)\n",
      "Topic 5 top 5 terms:\n",
      "  - artist\n",
      "  - 'the\n",
      "  - reactor\n",
      "  - theoretician\n",
      "  - position\n",
      "Topic 5 top 5 courses:\n",
      "  - Difficult Double Double Histories\n",
      "  - CCMX Advanced Course - Inorganic Particle Synthesis by Precipitation: From Nanoparticles to Self-organised  Mesocrystals and from Theory to Practice\n",
      "  - Scientific project design in translational neurosciences\n",
      "  - Engineering geology for geo-energy\n",
      "  - Engineering of musculoskeletal system and rehabilitation\n",
      "Topic 6 top 5 terms:\n",
      "  - machine\n",
      "  - hydraulic\n",
      "  - turing\n",
      "  - receptor\n",
      "  - lateral\n",
      "Topic 6 top 5 courses:\n",
      "  - Creative Problem Solving in Science and Engineering\n",
      "  - Gödel and recursivity\n",
      "  - Fluvial biogeosciences\n",
      "  - PLLs and clock & data recovery\n",
      "  - New Concretes for Structures\n",
      "Topic 7 top 5 terms:\n",
      "  - electronic\n",
      "  - protein\n",
      "  - fracture\n",
      "  - vibrational\n",
      "  - spectroscopy\n",
      "Topic 7 top 5 courses:\n",
      "  - Advanced experimental methods in condensed matter and nanophysics\n",
      "  - Computation of molecular properties\n",
      "  - Engineering geology for geo-energy\n",
      "  - Reservoir mechanics for geo-energy and the environment\n",
      "  - CCMX Winter School - Additive Manufacturing of Metals and the Material Science Behind It'\n",
      "Topic 8 top 5 terms:\n",
      "  - communication\n",
      "  - quantum\n",
      "  - start-up\n",
      "  - atmospheric\n",
      "  - workshop\n",
      "Topic 8 top 5 courses:\n",
      "  - Asset Pricing\n",
      "  - Entrepreneurship laboratory (e-lab)\n",
      "  - Engineering of musculoskeletal system and rehabilitation\n",
      "  - MINTT: Management of Innovation and technology transfer (EDOC)\n",
      "  - Atmospheric Boundary Layer\n",
      "Topic 9 top 5 terms:\n",
      "  - providing\n",
      "  - geophysical\n",
      "  - vadose\n",
      "  - seminar\n",
      "  - soil\n",
      "Topic 9 top 5 courses:\n",
      "  - Hydrogeophysics\n",
      "  - Advanced experimental methods in condensed matter and nanophysics\n",
      "  - Sensorimotor neuroprosthetics\n",
      "  - Théorie et critique du projet MA1 (Gugger)\n",
      "  - Renewable energy and solar architecture in Davos\n",
      "Topic 10 top 5 terms:\n",
      "  - optic\n",
      "  - alloy\n",
      "  - optical\n",
      "  - tissue\n",
      "  - powder\n",
      "Topic 10 top 5 courses:\n",
      "  - CCMX Winter School - Metal Science\n",
      "  - CCMX Winter School - Additive Manufacturing of Metals and the Material Science Behind It'\n",
      "  - CCMX Advanced Course - Inorganic Particle Synthesis by Precipitation: From Nanoparticles to Self-organised  Mesocrystals and from Theory to Practice\n",
      "  - Engineering of musculoskeletal system and rehabilitation\n",
      "  - Crystallography of structural phase transformations\n"
     ]
    }
   ],
   "source": [
    "topicCourses = np.diag(S) @ Vt\n",
    "topicTerms = np.diag(S) @ U.T\n",
    "topTopics = (np.sum(topicCourses,axis=1)+np.sum(topicTerms, axis=1)).argsort()[-10:][::-1]\n",
    "for idx, topic in enumerate(topTopics):\n",
    "    print(\"Topic %d top 5 terms:\"%(idx+1))\n",
    "    for term in map(lambda x: idx2Term[x], topicTerms[topic].argsort()[-5:][::-1]):\n",
    "        print('  - %s'%term)\n",
    "    print(\"Topic %d top 5 courses:\"%(idx+1))\n",
    "    for course in map(lambda x: id2name[idx2Course[x]], topicCourses[topic].argsort()[-5:][::-1]):\n",
    "        print('  - %s'%course)"
   ]
  },
  {
   "cell_type": "markdown",
   "metadata": {},
   "source": [
    "## Exercise 4.6: Document similarity search in concept-space"
   ]
  },
  {
   "cell_type": "code",
   "execution_count": 37,
   "metadata": {},
   "outputs": [
    {
     "name": "stdout",
     "output_type": "stream",
     "text": [
      "   - Computational Social Media \t0.929\n",
      "   - Social media \t0.663\n",
      "   - How people learn I \t0.400\n",
      "   - How people learn II \t0.320\n",
      "   - Internet analytics \t0.298\n"
     ]
    }
   ],
   "source": [
    "def sim(Ut,d):\n",
    "    Sig = np.diag(S)\n",
    "    SVtd = np.dot(Sig,Vt[:,d])\n",
    "    SVd = np.dot(Sig,Vt.T[d])\n",
    "    return np.dot(Ut,SVtd)/(np.sqrt(np.dot(Ut,Ut))*np.sqrt(np.dot(SVd,SVd)))\n",
    "\n",
    "def query(terms):\n",
    "    terms = terms.split(' ')\n",
    "    Ut = U[term2Idx[terms[0]]]\n",
    "    for term in terms[1:]:\n",
    "        Ut += U[term2Idx[term]]\n",
    "    results = np.array([sim(Ut,d) for d in range(numCourses)])\n",
    "    top = np.argsort(-results)[:5]\n",
    "    # We filter all courses with null scores\n",
    "    top = [course for course in top if results[course] != 0.0]\n",
    "    \n",
    "    for course in top:\n",
    "        print('   -',id2name[idx2Course[course]],'\\t%.3f'%results[course])\n",
    "query('facebook')    "
   ]
  },
  {
   "cell_type": "code",
   "execution_count": 34,
   "metadata": {
    "collapsed": true
   },
   "outputs": [],
   "source": [
    "def sim(t,d):\n",
    "    Sig = np.diag(S)\n",
    "    SVtd = np.dot(Sig,Vt[:,d])\n",
    "    SVd = np.dot(Sig,Vt.T[d])\n",
    "    return np.dot(U[t],SVtd)/(np.sqrt(np.dot(U[t],U[t]))*np.sqrt(np.dot(SVd,SVd)))\n",
    "def sim2Terms(t1,t2,d):\n",
    "    Ut = U[t1]+U[t2]\n",
    "    Sig = np.diag(S)\n",
    "    SVtd = np.dot(Sig,Vt[:,d])\n",
    "    SVd = np.dot(Sig,Vt.T[d])\n",
    "    return np.dot(Ut,SVtd)/(np.sqrt(np.dot(Ut,Ut))*np.sqrt(np.dot(SVd,SVd)))"
   ]
  },
  {
   "cell_type": "code",
   "execution_count": 136,
   "metadata": {},
   "outputs": [
    {
     "name": "stdout",
     "output_type": "stream",
     "text": [
      "Top courses for vsm:\n",
      "   - Computational Social Media \t 3.908\n",
      "Top courses for lsi:\n",
      "   - Computational Social Media\t0.918\n",
      "   - Social media\t0.678\n",
      "   - How people learn I\t0.437\n",
      "   - How people learn II\t0.353\n",
      "   - Media security\t0.298\n"
     ]
    }
   ],
   "source": [
    "top = np.argsort(-np.array(list(map(lambda d: sim(term2Idx['facebook'],d), idx2Course.keys()))))[:5]\n",
    "lsi = list(map(lambda x: (id2name[idx2Course[x]],sim(term2Idx['facebook'],x)), top))\n",
    "print('Top courses for vsm:')\n",
    "print(\"\"\"   - Computational Social Media \t 3.908\"\"\")\n",
    "print('Top courses for lsi:')\n",
    "for course in lsi:\n",
    "    print('   - %s\\t%.3f'%(course))"
   ]
  },
  {
   "cell_type": "code",
   "execution_count": 35,
   "metadata": {},
   "outputs": [
    {
     "name": "stdout",
     "output_type": "stream",
     "text": [
      "Top courses for vsm:\n",
      "   - Applied probability & stochastic processes \t6.342\n",
      "   - Markov chains and algorithmic applications \t5.990\n",
      "   - Applied stochastic processes \t5.159\n",
      "   - Internet analytics \t4.193\n",
      "   - Stochastic calculus I \t4.193\n",
      "\n",
      "Top courses for lsi:\n",
      "   - Supply chain management\t0.843\n",
      "   - Mathematical models in supply chain management\t0.780\n",
      "   - Applied probability & stochastic processes\t0.607\n",
      "   - Markov chains and algorithmic applications\t0.580\n",
      "   - Applied stochastic processes\t0.571\n"
     ]
    }
   ],
   "source": [
    "top = np.argsort(-np.array(list(map(lambda d: sim2Terms(term2Idx['markov'],term2Idx['chain'],d), idx2Course.keys()))))[:5]\n",
    "lsi = list(map(lambda x: (id2name[idx2Course[x]],sim2Terms(term2Idx['markov'],term2Idx['chain'],x)), top))\n",
    "print('Top courses for vsm:')\n",
    "print(\"\"\"   - Applied probability & stochastic processes \t6.342\n",
    "   - Markov chains and algorithmic applications \t5.990\n",
    "   - Applied stochastic processes \t5.159\n",
    "   - Internet analytics \t4.193\n",
    "   - Stochastic calculus I \t4.193\n",
    "\"\"\")\n",
    "print('Top courses for lsi:')\n",
    "for course in lsi:\n",
    "    print('   - %s\\t%.3f'%course)"
   ]
  },
  {
   "cell_type": "markdown",
   "metadata": {},
   "source": [
    "## Exercise 4.7: Document-document similarity"
   ]
  },
  {
   "cell_type": "markdown",
   "metadata": {},
   "source": [
    "We can simply to a cosine similarity between $S\\mathbf{v}^T_{d1}$ and $S\\mathbf{v}^T_{d2}$ "
   ]
  },
  {
   "cell_type": "code",
   "execution_count": 38,
   "metadata": {
    "collapsed": true
   },
   "outputs": [],
   "source": [
    "def docSim(d1,d2):\n",
    "    Sig = np.diag(S)\n",
    "    SVtd1 = np.dot(Sig,Vt[:,d1])\n",
    "    SVtd2 = np.dot(Sig,Vt[:,d2])\n",
    "    return np.dot(SVtd1,SVtd2)/(np.sqrt(np.dot(SVtd1,SVtd1))*np.sqrt(np.dot(SVtd2,SVtd2)))"
   ]
  },
  {
   "cell_type": "code",
   "execution_count": 39,
   "metadata": {},
   "outputs": [
    {
     "name": "stdout",
     "output_type": "stream",
     "text": [
      "Top 5 classes most similar to com-308 :\n"
     ]
    },
    {
     "data": {
      "text/plain": [
       "['Risk management',\n",
       " 'Soft Microsystems Processing and Devices',\n",
       " 'Martingales in financial mathematics',\n",
       " 'Statistical thermodynamics',\n",
       " 'D. Thinking: real problems, human-focused solutions']"
      ]
     },
     "execution_count": 39,
     "metadata": {},
     "output_type": "execute_result"
    }
   ],
   "source": [
    "com308 = course2Idx['COM-308']\n",
    "# All courses without com 308\n",
    "coursesFiltered = [x for x in idx2Course.keys() if not x == com308]\n",
    "top = np.argsort(-np.array(list(map(lambda d: docSim(com308,d), coursesFiltered))))[:5]\n",
    "print(\"Top 5 classes most similar to com-308 :\")\n",
    "list(map(lambda x: id2name[idx2Course[x]], top))"
   ]
  },
  {
   "cell_type": "code",
   "execution_count": null,
   "metadata": {
    "collapsed": true
   },
   "outputs": [],
   "source": []
  }
 ],
 "metadata": {
  "anaconda-cloud": {},
  "kernelspec": {
   "display_name": "Python 3",
   "language": "python",
   "name": "python3"
  },
  "language_info": {
   "codemirror_mode": {
    "name": "ipython",
    "version": 3
   },
   "file_extension": ".py",
   "mimetype": "text/x-python",
   "name": "python",
   "nbconvert_exporter": "python",
   "pygments_lexer": "ipython3",
   "version": "3.6.1"
  }
 },
 "nbformat": 4,
 "nbformat_minor": 2
}
