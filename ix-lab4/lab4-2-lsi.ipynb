{
 "cells": [
  {
   "cell_type": "markdown",
   "metadata": {},
   "source": [
    "# Text 2: Latent semantic indexing\n",
    "**Internet Analytics - Lab 4**\n",
    "\n",
    "---\n",
    "\n",
    "**Group:** R\n",
    "\n",
    "**Names:**\n",
    "\n",
    "* Raphael Strebel\n",
    "* Raphaël Barman\n",
    "* Thierry Bossy\n",
    "\n",
    "---\n",
    "\n",
    "#### Instructions\n",
    "\n",
    "*This is a template for part 2 of the lab. Clearly write your answers, comments and interpretations in Markodown cells. Don't forget that you can add $\\LaTeX$ equations in these cells. Feel free to add or remove any cell.*\n",
    "\n",
    "*Please properly comment your code. Code readability will be considered for grading. To avoid long cells of codes in the notebook, you can also embed long python functions and classes in a separate module. Don’t forget to hand in your module if that is the case. In multiple exercises, you are required to come up with your own method to solve various problems. Be creative and clearly motivate and explain your methods. Creativity and clarity will be considered for grading.*"
   ]
  },
  {
   "cell_type": "code",
   "execution_count": 70,
   "metadata": {
    "collapsed": true
   },
   "outputs": [],
   "source": [
    "import pickle\n",
    "import numpy as np\n",
    "from scipy.sparse.linalg import svds\n",
    "\n",
    "id2name = np.load('id2name.npy').item()\n",
    "name2id = np.load('name2id.npy').item()\n",
    "idx2Term = np.load('idx2Term.npy').item()\n",
    "term2Idx = np.load('term2Idx.npy').item()\n",
    "idx2Course = np.load('idx2Course.npy').item()\n",
    "course2Idx = np.load('course2Idx.npy').item()\n",
    "\n",
    "X = np.load('X.npy')\n"
   ]
  },
  {
   "cell_type": "markdown",
   "metadata": {},
   "source": [
    "## Exercise 4.4: Latent semantic indexing"
   ]
  },
  {
   "cell_type": "code",
   "execution_count": 3,
   "metadata": {
    "collapsed": true
   },
   "outputs": [],
   "source": [
    "U, S, Vt = svds(X,300)"
   ]
  },
  {
   "cell_type": "markdown",
   "metadata": {},
   "source": [
    "- U relates the terms to the topic\n",
    "- S gives the importance of the topic\n",
    "- Vt relates the course to the topic"
   ]
  },
  {
   "cell_type": "code",
   "execution_count": 10,
   "metadata": {
    "collapsed": false
   },
   "outputs": [
    {
     "data": {
      "text/plain": [
       "[112.89121295811678,\n",
       " 62.134533391836847,\n",
       " 61.07624544574157,\n",
       " 55.509001415866798,\n",
       " 53.724520126932838,\n",
       " 50.969248496464914,\n",
       " 50.138053964750121,\n",
       " 49.202610571777953,\n",
       " 45.002340726377092,\n",
       " 44.834905521568743,\n",
       " 43.999509819940528,\n",
       " 42.685815856573846,\n",
       " 41.472874750293798,\n",
       " 40.313796399951215,\n",
       " 38.551404968418041,\n",
       " 38.039367733532963,\n",
       " 37.864860149138543,\n",
       " 37.631913076279936,\n",
       " 37.150842242320614,\n",
       " 36.643986662341959]"
      ]
     },
     "execution_count": 10,
     "metadata": {},
     "output_type": "execute_result"
    }
   ],
   "source": [
    "list(reversed(S[-20:]))"
   ]
  },
  {
   "cell_type": "code",
   "execution_count": null,
   "metadata": {
    "collapsed": true
   },
   "outputs": [],
   "source": []
  },
  {
   "cell_type": "markdown",
   "metadata": {},
   "source": [
    "## Exercise 4.5: Topic extraction"
   ]
  },
  {
   "cell_type": "code",
   "execution_count": 77,
   "metadata": {
    "collapsed": false,
    "scrolled": true
   },
   "outputs": [
    {
     "name": "stdout",
     "output_type": "stream",
     "text": [
      "Topic 1 top 5 terms:\n",
      "  - city\n",
      "  - architectural\n",
      "  - architecture\n",
      "  - narrative\n",
      "  - urban\n",
      "Topic 1 top 5 courses:\n",
      "  - Théorie et critique du projet MA2 (Geers)\n",
      "  - Théorie et critique du projet MA1 (Geers)\n",
      "  - Théorie et critique du projet MA1 (Gugger)\n",
      "  - Théorie et critique du projet MA2 (Gugger)\n",
      "  - Théorie et critique du projet MA1 (Huang)\n",
      "Topic 2 top 5 terms:\n",
      "  - market\n",
      "  - financial\n",
      "  - pricing\n",
      "  - finance\n",
      "  - asset\n",
      "Topic 2 top 5 courses:\n",
      "  - Quantitative methods in finance\n",
      "  - Fundamentals in Systems Engineering\n",
      "  - Derivatives\n",
      "  - Investments\n",
      "  - 2D Layered Materials: Synthesis, Properties and Applications\n",
      "Topic 3 top 5 terms:\n",
      "  - cell\n",
      "  - chemical\n",
      "  - molecular\n",
      "  - energy\n",
      "  - thermal\n",
      "Topic 3 top 5 courses:\n",
      "  - Bioprocesses and downstream processing\n",
      "  - Biochemical engineering\n",
      "  - Théorie et critique du projet MA1 (Gugger)\n",
      "  - Théorie et critique du projet MA2 (Gugger)\n",
      "  - 2D Layered Materials: Synthesis, Properties and Applications\n",
      "Topic 4 top 5 terms:\n",
      "  - optical\n",
      "  - device\n",
      "  - optic\n",
      "  - semiconductor\n",
      "  - sensor\n",
      "Topic 4 top 5 courses:\n",
      "  - Théorie et critique du projet MA1 (Huang)\n",
      "  - Théorie et critique du projet MA2 (Huang)\n",
      "  - 2D Layered Materials: Synthesis, Properties and Applications\n",
      "  - Optical detectors\n",
      "  - Printed systems and large area manufacturing\n",
      "Topic 5 top 5 terms:\n",
      "  - processing\n",
      "  - signal\n",
      "  - image\n",
      "  - algorithm\n",
      "  - imaging\n",
      "Topic 5 top 5 courses:\n",
      "  - Bioprocesses and downstream processing\n",
      "  - Biochemical engineering\n",
      "  - Fundamentals in Systems Engineering\n",
      "  - Biomicroscopy II\n",
      "  - Scientific project design in translational neurosciences\n",
      "Topic 6 top 5 terms:\n",
      "  - flow\n",
      "  - algorithm\n",
      "  - fluid\n",
      "  - mechanic\n",
      "  - numerical\n",
      "Topic 6 top 5 courses:\n",
      "  - Numerical methods in heat transfer\n",
      "  - Symmetry and Conservation in the Cell\n",
      "  - Engineering of musculoskeletal system and rehabilitation\n",
      "  - Particle-based methods\n",
      "  - Brain Bioenergetics: from behavior to pathology\n",
      "Topic 7 top 5 terms:\n",
      "  - roman\n",
      "  - milan\n",
      "  - metropolitan\n",
      "  - common\n",
      "  - periphery\n",
      "Topic 7 top 5 courses:\n",
      "  - Théorie et critique du projet MA2 (Geers)\n",
      "  - Théorie et critique du projet MA1 (Geers)\n",
      "  - Bioprocesses and downstream processing\n",
      "  - Lab immersion in industry B\n",
      "  - Lab immersion in industry A\n",
      "Topic 8 top 5 terms:\n",
      "  - environmental\n",
      "  - image\n",
      "  - signal\n",
      "  - conversion\n",
      "  - efficiency\n",
      "Topic 8 top 5 courses:\n",
      "  - Solid waste engineering\n",
      "  - Engines and fuel cells\n",
      "  - Biomicroscopy II\n",
      "  - Image optics\n",
      "  - Biomicroscopy I\n",
      "Topic 9 top 5 terms:\n",
      "  - magnetic\n",
      "  - storage\n",
      "  - magnetism\n",
      "  - anisotropy\n",
      "  - beyondcmos\n",
      "Topic 9 top 5 courses:\n",
      "  - Introduction to magnetic materials in modern technologies\n",
      "  - Magnetic materials in modern technologies - from concepts to real devices\n",
      "  - Reservoir mechanics for geo-energy and the environment\n",
      "  - Engineering geology for geo-energy\n",
      "  - Renewable energy (for ME)\n",
      "Topic 10 top 5 terms:\n",
      "  - fracture\n",
      "  - decision\n",
      "  - energy\n",
      "  - circuit\n",
      "  - stress\n",
      "Topic 10 top 5 courses:\n",
      "  - Biomedical optics\n",
      "  - Fracture of materials\n",
      "  - Photomedicine\n",
      "  - Engineering geology for geo-energy\n",
      "  - Reservoir mechanics for geo-energy and the environment\n"
     ]
    }
   ],
   "source": [
    "topicCourses = np.diag(S) @ Vt\n",
    "topicTerms = np.diag(S) @ U.T\n",
    "topTopics = (np.sum(topicCourses,axis=1)+np.sum(topicTerms, axis=1)).argsort()[-10:][::-1]\n",
    "for idx, topic in enumerate(topTopics):\n",
    "    print(\"Topic %d top 5 terms:\"%(idx+1))\n",
    "    for term in map(lambda x: idx2Term[x], topicTerms[topic].argsort()[-5:][::-1]):\n",
    "        print('  - %s'%term)\n",
    "    print(\"Topic %d top 5 courses:\"%(idx+1))\n",
    "    for course in map(lambda x: id2name[idx2Course[x]], topicCourses[topic].argsort()[-5:][::-1]):\n",
    "        print('  - %s'%course)"
   ]
  },
  {
   "cell_type": "markdown",
   "metadata": {},
   "source": [
    "## Exercise 4.6: Document similarity search in concept-space"
   ]
  },
  {
   "cell_type": "code",
   "execution_count": 101,
   "metadata": {
    "collapsed": true
   },
   "outputs": [],
   "source": [
    "def sim(t,d):\n",
    "    Sig = np.diag(S)\n",
    "    SVtd = np.dot(Sig,Vt[:,d])\n",
    "    SVd = np.dot(Sig,Vt.T[d])\n",
    "    return np.dot(U[t],SVtd)/(np.sqrt(np.dot(U[t],U[t]))*np.sqrt(np.dot(SVd,SVd)))\n",
    "def sim2Terms(t1,t2,d):\n",
    "    Ut = U[t1]+U[t2]\n",
    "    Sig = np.diag(S)\n",
    "    SVtd = np.dot(Sig,Vt[:,d])\n",
    "    SVd = np.dot(Sig,Vt.T[d])\n",
    "    return np.dot(Ut,SVtd)/(np.sqrt(np.dot(Ut,Ut))*np.sqrt(np.dot(SVd,SVd)))"
   ]
  },
  {
   "cell_type": "code",
   "execution_count": 99,
   "metadata": {
    "collapsed": false
   },
   "outputs": [
    {
     "name": "stdout",
     "output_type": "stream",
     "text": [
      "Top courses for vsm:\n",
      "   - Computational Social Media\n",
      "   - Hydrogeophysics\n",
      "   - Electronic properties of solids and superconductivity\n",
      "   - CCMX Advanced Course - Instrumented Nanoindentation\n",
      "   - Molecular and cellular biophysic II\n",
      "Top courses for lsi:\n",
      "   - Computational Social Media\n",
      "   - Transport phenomena II\n",
      "   - Media security\n",
      "   - History of globalization II\n",
      "   - Mobile networks\n"
     ]
    }
   ],
   "source": [
    "vsm = list(map(lambda x: id2name[idx2Course[x]], X[term2Idx['facebook']].argsort()[-5:][::-1]))\n",
    "lsi = list(map(lambda x: id2name[idx2Course[x]], np.array(list(map(lambda d: sim(term2Idx['facebook'],d), idx2Course.keys()))).argsort()[-5:][::-1]))\n",
    "print('Top courses for vsm:')\n",
    "for course in vsm:\n",
    "    print('   - %s'%course)\n",
    "print('Top courses for lsi:')\n",
    "for course in lsi:\n",
    "    print('   - %s'%course)"
   ]
  },
  {
   "cell_type": "code",
   "execution_count": 103,
   "metadata": {
    "collapsed": false
   },
   "outputs": [
    {
     "name": "stdout",
     "output_type": "stream",
     "text": [
      "Top courses for vsm:\n",
      "   - Markov chains and algorithmic applications\n",
      "   - Applied probability & stochastic processes\n",
      "   - Applied stochastic processes\n",
      "   - Internet analytics\n",
      "   - Optimization and simulation\n",
      "Top courses for lsi:\n",
      "   - Markov chains and algorithmic applications\n",
      "   - Applied stochastic processes\n",
      "   - Applied probability & stochastic processes\n",
      "   - Optimization and simulation\n",
      "   - Networks out of control\n"
     ]
    }
   ],
   "source": [
    "vsm = list(map(lambda x: id2name[idx2Course[x]], (X[term2Idx['markov']]+X[term2Idx['chain']]).argsort()[-5:][::-1]))\n",
    "lsi = list(map(lambda x: id2name[idx2Course[x]], np.array(list(map(lambda d: sim2Terms(term2Idx['markov'],term2Idx['chain'],d), idx2Course.keys()))).argsort()[-5:][::-1]))\n",
    "print('Top courses for vsm:')\n",
    "for course in vsm:\n",
    "    print('   - %s'%course)\n",
    "print('Top courses for lsi:')\n",
    "for course in lsi:\n",
    "    print('   - %s'%course)"
   ]
  },
  {
   "cell_type": "markdown",
   "metadata": {},
   "source": [
    "## Exercise 4.7: Document-document similarity"
   ]
  },
  {
   "cell_type": "markdown",
   "metadata": {},
   "source": [
    "We can simply to a cosine similarity between $S\\vec{v}^T_{d1}$ and $S\\vec{v}^T_{d2}$ "
   ]
  },
  {
   "cell_type": "code",
   "execution_count": 104,
   "metadata": {
    "collapsed": true
   },
   "outputs": [],
   "source": [
    "def docSim(d1,d2):\n",
    "    Sig = np.diag(S)\n",
    "    SVtd1 = np.dot(Sig,Vt[:,d1])\n",
    "    SVtd2 = np.dot(Sig,Vt[:,d2])\n",
    "    return np.dot(SVtd1,SVtd2)/(np.sqrt(np.dot(SVtd1,SVtd1))*np.sqrt(np.dot(SVtd2,SVtd2)))"
   ]
  },
  {
   "cell_type": "code",
   "execution_count": 109,
   "metadata": {
    "collapsed": false
   },
   "outputs": [
    {
     "data": {
      "text/plain": [
       "['Risk management',\n",
       " 'Working group in Topology II',\n",
       " 'Neurosciences II : cellular mechanisms of brain function',\n",
       " 'D. Thinking: real problems, human-focused solutions',\n",
       " 'Introduction to chemical engineering']"
      ]
     },
     "execution_count": 109,
     "metadata": {},
     "output_type": "execute_result"
    }
   ],
   "source": [
    "com308 = course2Idx['COM-308']\n",
    "list(map(lambda x: id2name[idx2Course[x]], np.array(list(map(lambda d: docSim(com308,d), [x for x in idx2Course.keys() if not x == com308]))).argsort()[-5:][::-1]))"
   ]
  }
 ],
 "metadata": {
  "anaconda-cloud": {},
  "kernelspec": {
   "display_name": "Python 3",
   "language": "python",
   "name": "python3"
  },
  "language_info": {
   "codemirror_mode": {
    "name": "ipython",
    "version": 3
   },
   "file_extension": ".py",
   "mimetype": "text/x-python",
   "name": "python",
   "nbconvert_exporter": "python",
   "pygments_lexer": "ipython3",
   "version": "3.5.2"
  }
 },
 "nbformat": 4,
 "nbformat_minor": 2
}
