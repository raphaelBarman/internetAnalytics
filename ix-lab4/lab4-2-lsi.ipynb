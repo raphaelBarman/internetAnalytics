{
 "cells": [
  {
   "cell_type": "markdown",
   "metadata": {},
   "source": [
    "# Text 2: Latent semantic indexing\n",
    "**Internet Analytics - Lab 4**\n",
    "\n",
    "---\n",
    "\n",
    "**Group:** R\n",
    "\n",
    "**Names:**\n",
    "\n",
    "* Raphael Strebel\n",
    "* Raphaël Barman\n",
    "* Thierry Bossy\n",
    "\n",
    "---\n",
    "\n",
    "#### Instructions\n",
    "\n",
    "*This is a template for part 2 of the lab. Clearly write your answers, comments and interpretations in Markodown cells. Don't forget that you can add $\\LaTeX$ equations in these cells. Feel free to add or remove any cell.*\n",
    "\n",
    "*Please properly comment your code. Code readability will be considered for grading. To avoid long cells of codes in the notebook, you can also embed long python functions and classes in a separate module. Don’t forget to hand in your module if that is the case. In multiple exercises, you are required to come up with your own method to solve various problems. Be creative and clearly motivate and explain your methods. Creativity and clarity will be considered for grading.*"
   ]
  },
  {
   "cell_type": "code",
   "execution_count": 7,
   "metadata": {},
   "outputs": [],
   "source": [
    "import pickle\n",
    "import numpy as np\n",
    "from scipy.sparse.linalg import svds\n",
    "\n",
    "id2name = np.load('id2name.npy').item()\n",
    "name2id = np.load('name2id.npy').item()\n",
    "idx2Term = np.load('idx2Term.npy').item()\n",
    "term2Idx = np.load('term2Idx.npy').item()\n",
    "idx2Course = np.load('idx2Course.npy').item()\n",
    "course2Idx = np.load('course2Idx.npy').item()\n",
    "\n",
    "X = np.load('X.npy').item()"
   ]
  },
  {
   "cell_type": "markdown",
   "metadata": {},
   "source": [
    "## Exercise 4.4: Latent semantic indexing"
   ]
  },
  {
   "cell_type": "code",
   "execution_count": 8,
   "metadata": {},
   "outputs": [],
   "source": [
    "U, S, Vt = svds(X,300)"
   ]
  },
  {
   "cell_type": "markdown",
   "metadata": {},
   "source": [
    "- U relates the terms to the topic\n",
    "- S gives the importance of the topic\n",
    "- Vt relates the course to the topic"
   ]
  },
  {
   "cell_type": "code",
   "execution_count": 9,
   "metadata": {},
   "outputs": [
    {
     "data": {
      "text/plain": [
       "[112.87395448064626,\n",
       " 63.335399830964342,\n",
       " 61.433731136378157,\n",
       " 55.410643913787901,\n",
       " 53.629186727736126,\n",
       " 51.043791399150237,\n",
       " 50.07348261608756,\n",
       " 49.265475696268851,\n",
       " 45.001911051494922,\n",
       " 44.730573826720061,\n",
       " 44.052742858966162,\n",
       " 42.85248368957312,\n",
       " 41.494005207412471,\n",
       " 40.579484784396023,\n",
       " 39.499945744535836,\n",
       " 38.499074253856108,\n",
       " 37.916223620402342,\n",
       " 37.68186675547404,\n",
       " 37.575266560806938,\n",
       " 37.195664009496099]"
      ]
     },
     "execution_count": 9,
     "metadata": {},
     "output_type": "execute_result"
    }
   ],
   "source": [
    "list(reversed(S[-20:]))"
   ]
  },
  {
   "cell_type": "code",
   "execution_count": null,
   "metadata": {
    "collapsed": true
   },
   "outputs": [],
   "source": []
  },
  {
   "cell_type": "markdown",
   "metadata": {},
   "source": [
    "## Exercise 4.5: Topic extraction"
   ]
  },
  {
   "cell_type": "code",
   "execution_count": 10,
   "metadata": {
    "scrolled": true
   },
   "outputs": [
    {
     "name": "stdout",
     "output_type": "stream",
     "text": [
      "Topic 1 top 5 terms:\n",
      "  - plan\n",
      "  - report\n",
      "  - presentation\n",
      "  - data\n",
      "  - work\n",
      "Topic 1 top 5 courses:\n",
      "  - Fundamentals in Systems Engineering\n",
      "  - Solid waste engineering\n",
      "  - Bioprocesses and downstream processing\n",
      "  - Lab immersion in industry B\n",
      "  - Biochemical engineering\n",
      "Topic 2 top 5 terms:\n",
      "  - market\n",
      "  - financial\n",
      "  - pricing\n",
      "  - finance\n",
      "  - asset\n",
      "Topic 2 top 5 courses:\n",
      "  - Quantitative methods in finance\n",
      "  - Fundamentals in Systems Engineering\n",
      "  - Derivatives\n",
      "  - Investments\n",
      "  - Lab immersion in industry A\n",
      "Topic 3 top 5 terms:\n",
      "  - cell\n",
      "  - chemical\n",
      "  - molecular\n",
      "  - thermal\n",
      "  - energy\n",
      "Topic 3 top 5 courses:\n",
      "  - Bioprocesses and downstream processing\n",
      "  - Biochemical engineering\n",
      "  - Théorie et critique du projet MA1 (Gugger)\n",
      "  - Théorie et critique du projet MA2 (Gugger)\n",
      "  - 2D Layered Materials: Synthesis, Properties and Applications\n",
      "Topic 4 top 5 terms:\n",
      "  - optical\n",
      "  - device\n",
      "  - optic\n",
      "  - semiconductor\n",
      "  - sensor\n",
      "Topic 4 top 5 courses:\n",
      "  - Théorie et critique du projet MA1 (Huang)\n",
      "  - Théorie et critique du projet MA2 (Huang)\n",
      "  - 2D Layered Materials: Synthesis, Properties and Applications\n",
      "  - Optical detectors\n",
      "  - Printed systems and large area manufacturing\n",
      "Topic 5 top 5 terms:\n",
      "  - EPFL\n",
      "  - algorithm\n",
      "  - flow\n",
      "  - fluid\n",
      "  - mechanic\n",
      "Topic 5 top 5 courses:\n",
      "  - Making structural logic\n",
      "  - Numerical methods in heat transfer\n",
      "  - Symmetry and Conservation in the Cell\n",
      "  - Brain Bioenergetics: from behavior to pathology\n",
      "  - Crystallography of structural phase transformations\n",
      "Topic 6 top 5 terms:\n",
      "  - processing\n",
      "  - signal\n",
      "  - image\n",
      "  - algorithm\n",
      "  - imaging\n",
      "Topic 6 top 5 courses:\n",
      "  - Bioprocesses and downstream processing\n",
      "  - Biochemical engineering\n",
      "  - Fundamentals in Systems Engineering\n",
      "  - Biomicroscopy II\n",
      "  - Image optics\n",
      "Topic 7 top 5 terms:\n",
      "  - studio\n",
      "  - architectural\n",
      "  - singapore\n",
      "  - morphogenesis\n",
      "  - morphogenetic\n",
      "Topic 7 top 5 courses:\n",
      "  - Théorie et critique du projet MA1 (Huang)\n",
      "  - Théorie et critique du projet MA2 (Huang)\n",
      "  - Biochemical engineering\n",
      "  - Bioprocesses and downstream processing\n",
      "  - Personal interaction studio\n",
      "Topic 8 top 5 terms:\n",
      "  - roman\n",
      "  - milan\n",
      "  - metropolitan\n",
      "  - common\n",
      "  - periphery\n",
      "Topic 8 top 5 courses:\n",
      "  - Théorie et critique du projet MA2 (Geers)\n",
      "  - Théorie et critique du projet MA1 (Geers)\n",
      "  - Bioprocesses and downstream processing\n",
      "  - Biochemical engineering\n",
      "  - Lab immersion in industry B\n",
      "Topic 9 top 5 terms:\n",
      "  - house\n",
      "  - solar\n",
      "  - include\n",
      "  - business\n",
      "  - cover\n",
      "Topic 9 top 5 courses:\n",
      "  - Théorie et critique du projet BA3 (De Vylder & Taillieu)\n",
      "  - Applied data analysis\n",
      "  - Quality assurance and quality management systems\n",
      "  - B2B - high-tech marketing\n",
      "  - Enterprise and service-oriented architecture\n",
      "Topic 10 top 5 terms:\n",
      "  - acoustic\n",
      "  - transmission\n",
      "  - III\n",
      "  - reach\n",
      "  - requirement\n",
      "Topic 10 top 5 courses:\n",
      "  - Quantitative methods in finance\n",
      "  - Mechanical design principles\n",
      "  - Fluvial biogeosciences\n",
      "  - Audio engineering\n",
      "  - History of globalization I\n"
     ]
    }
   ],
   "source": [
    "topicCourses = np.diag(S) @ Vt\n",
    "topicTerms = np.diag(S) @ U.T\n",
    "topTopics = (np.sum(topicCourses,axis=1)+np.sum(topicTerms, axis=1)).argsort()[-10:][::-1]\n",
    "for idx, topic in enumerate(topTopics):\n",
    "    print(\"Topic %d top 5 terms:\"%(idx+1))\n",
    "    for term in map(lambda x: idx2Term[x], topicTerms[topic].argsort()[-5:][::-1]):\n",
    "        print('  - %s'%term)\n",
    "    print(\"Topic %d top 5 courses:\"%(idx+1))\n",
    "    for course in map(lambda x: id2name[idx2Course[x]], topicCourses[topic].argsort()[-5:][::-1]):\n",
    "        print('  - %s'%course)"
   ]
  },
  {
   "cell_type": "markdown",
   "metadata": {},
   "source": [
    "## Exercise 4.6: Document similarity search in concept-space"
   ]
  },
  {
   "cell_type": "code",
   "execution_count": 11,
   "metadata": {
    "collapsed": true
   },
   "outputs": [],
   "source": [
    "def sim(t,d):\n",
    "    Sig = np.diag(S)\n",
    "    SVtd = np.dot(Sig,Vt[:,d])\n",
    "    SVd = np.dot(Sig,Vt.T[d])\n",
    "    return np.dot(U[t],SVtd)/(np.sqrt(np.dot(U[t],U[t]))*np.sqrt(np.dot(SVd,SVd)))\n",
    "def sim2Terms(t1,t2,d):\n",
    "    Ut = U[t1]+U[t2]\n",
    "    Sig = np.diag(S)\n",
    "    SVtd = np.dot(Sig,Vt[:,d])\n",
    "    SVd = np.dot(Sig,Vt.T[d])\n",
    "    return np.dot(Ut,SVtd)/(np.sqrt(np.dot(Ut,Ut))*np.sqrt(np.dot(SVd,SVd)))"
   ]
  },
  {
   "cell_type": "code",
   "execution_count": 31,
   "metadata": {},
   "outputs": [
    {
     "name": "stdout",
     "output_type": "stream",
     "text": [
      "Top courses for vsm:\n",
      "   - Computational Social Media \t 3.908\n",
      "Top courses for lsi:\n",
      "   - Computational Social Media\t0.953\n",
      "   - Transport phenomena II\t0.203\n",
      "   - History of globalization II\t0.181\n",
      "   - Games for Crowds and Networks\t0.178\n",
      "   - Media security\t0.178\n"
     ]
    }
   ],
   "source": [
    "top = np.argsort(-np.array(list(map(lambda d: sim(term2Idx['facebook'],d), idx2Course.keys()))))[:5]\n",
    "lsi = list(map(lambda x: (id2name[idx2Course[x]],sim(term2Idx['facebook'],x)), top))\n",
    "print('Top courses for vsm:')\n",
    "print(\"\"\"   - Computational Social Media \t 3.908\"\"\")\n",
    "print('Top courses for lsi:')\n",
    "for course in lsi:\n",
    "    print('   - %s\\t%.3f'%(course))"
   ]
  },
  {
   "cell_type": "code",
   "execution_count": 29,
   "metadata": {},
   "outputs": [
    {
     "name": "stdout",
     "output_type": "stream",
     "text": [
      "Top courses for vsm:\n",
      "   - Applied probability & stochastic processes \t6.342\n",
      "   - Markov chains and algorithmic applications \t5.990\n",
      "   - Applied stochastic processes \t5.159\n",
      "   - Internet analytics \t4.193\n",
      "   - Stochastic calculus I \t4.193\n",
      "\n",
      "Top courses for lsi:\n",
      "   - Applied stochastic processes\t0.561\n",
      "   - Markov chains and algorithmic applications\t0.551\n",
      "   - Optimization and simulation\t0.498\n",
      "   - Applied probability & stochastic processes\t0.497\n",
      "   - Networks out of control\t0.413\n"
     ]
    }
   ],
   "source": [
    "top = np.argsort(-np.array(list(map(lambda d: sim2Terms(term2Idx['markov'],term2Idx['chain'],d), idx2Course.keys()))))[:5]\n",
    "lsi = list(map(lambda x: (id2name[idx2Course[x]],sim2Terms(term2Idx['markov'],term2Idx['chain'],x)), top))\n",
    "print('Top courses for vsm:')\n",
    "print(\"\"\"   - Applied probability & stochastic processes \t6.342\n",
    "   - Markov chains and algorithmic applications \t5.990\n",
    "   - Applied stochastic processes \t5.159\n",
    "   - Internet analytics \t4.193\n",
    "   - Stochastic calculus I \t4.193\n",
    "\"\"\")\n",
    "print('Top courses for lsi:')\n",
    "for course in lsi:\n",
    "    print('   - %s\\t%.3f'%course)"
   ]
  },
  {
   "cell_type": "markdown",
   "metadata": {},
   "source": [
    "## Exercise 4.7: Document-document similarity"
   ]
  },
  {
   "cell_type": "markdown",
   "metadata": {},
   "source": [
    "We can simply to a cosine similarity between $S\\vec{v}^T_{d1}$ and $S\\vec{v}^T_{d2}$ "
   ]
  },
  {
   "cell_type": "code",
   "execution_count": 32,
   "metadata": {
    "collapsed": true
   },
   "outputs": [],
   "source": [
    "def docSim(d1,d2):\n",
    "    Sig = np.diag(S)\n",
    "    SVtd1 = np.dot(Sig,Vt[:,d1])\n",
    "    SVtd2 = np.dot(Sig,Vt[:,d2])\n",
    "    return np.dot(SVtd1,SVtd2)/(np.sqrt(np.dot(SVtd1,SVtd1))*np.sqrt(np.dot(SVtd2,SVtd2)))"
   ]
  },
  {
   "cell_type": "code",
   "execution_count": 36,
   "metadata": {},
   "outputs": [
    {
     "data": {
      "text/plain": [
       "['Risk management',\n",
       " 'Working group in Topology II',\n",
       " 'D. Thinking: real problems, human-focused solutions',\n",
       " 'Neurosciences II : cellular mechanisms of brain function',\n",
       " 'Foundations of software']"
      ]
     },
     "execution_count": 36,
     "metadata": {},
     "output_type": "execute_result"
    }
   ],
   "source": [
    "com308 = course2Idx['COM-308']\n",
    "# All courses without com 308\n",
    "coursesFiltered = [x for x in idx2Course.keys() if not x == com308]\n",
    "top = np.argsort(-np.array(list(map(lambda d: docSim(com308,d), coursesFiltered))))[:5]\n",
    "list(map(lambda x: id2name[idx2Course[x]], top))"
   ]
  }
 ],
 "metadata": {
  "anaconda-cloud": {},
  "kernelspec": {
   "display_name": "Python 3",
   "language": "python",
   "name": "python3"
  },
  "language_info": {
   "codemirror_mode": {
    "name": "ipython",
    "version": 3
   },
   "file_extension": ".py",
   "mimetype": "text/x-python",
   "name": "python",
   "nbconvert_exporter": "python",
   "pygments_lexer": "ipython3",
   "version": "3.6.1"
  }
 },
 "nbformat": 4,
 "nbformat_minor": 2
}
