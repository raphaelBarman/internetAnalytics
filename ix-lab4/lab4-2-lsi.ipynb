{
 "cells": [
  {
   "cell_type": "markdown",
   "metadata": {},
   "source": [
    "# Text 2: Latent semantic indexing\n",
    "**Internet Analytics - Lab 4**\n",
    "\n",
    "---\n",
    "\n",
    "**Group:** R\n",
    "\n",
    "**Names:**\n",
    "\n",
    "* Raphael Strebel\n",
    "* Raphaël Barman\n",
    "* Thierry Bossy\n",
    "\n",
    "---\n",
    "\n",
    "#### Instructions\n",
    "\n",
    "*This is a template for part 2 of the lab. Clearly write your answers, comments and interpretations in Markodown cells. Don't forget that you can add $\\LaTeX$ equations in these cells. Feel free to add or remove any cell.*\n",
    "\n",
    "*Please properly comment your code. Code readability will be considered for grading. To avoid long cells of codes in the notebook, you can also embed long python functions and classes in a separate module. Don’t forget to hand in your module if that is the case. In multiple exercises, you are required to come up with your own method to solve various problems. Be creative and clearly motivate and explain your methods. Creativity and clarity will be considered for grading.*"
   ]
  },
  {
   "cell_type": "code",
   "execution_count": 1,
   "metadata": {
    "collapsed": true
   },
   "outputs": [],
   "source": [
    "import pickle\n",
    "import numpy as np\n",
    "from scipy.sparse.linalg import svds\n",
    "\n",
    "id2name = np.load('id2name.npy').item()\n",
    "name2id = np.load('name2id.npy').item()\n",
    "idx2Term = np.load('idx2Term.npy').item()\n",
    "term2Idx = np.load('term2Idx.npy').item()\n",
    "idx2Course = np.load('idx2Course.npy').item()\n",
    "course2Idx = np.load('course2Idx.npy').item()\n",
    "numTerms = len(term2Idx)\n",
    "numCourses = len(course2Idx)\n",
    "\n",
    "idf = np.load('idf.npy')\n",
    "\n",
    "X = np.load('X.npy').item()"
   ]
  },
  {
   "cell_type": "markdown",
   "metadata": {},
   "source": [
    "## Exercise 4.4: Latent semantic indexing"
   ]
  },
  {
   "cell_type": "code",
   "execution_count": 103,
   "metadata": {
    "collapsed": true
   },
   "outputs": [],
   "source": [
    "k = 300\n",
    "U, S, Vt = svds(X,k)"
   ]
  },
  {
   "cell_type": "markdown",
   "metadata": {},
   "source": [
    "- S is the scaling of the matrix, thus it represents the importance of the topic\n",
    "- U in SVD represents the row space, so in our case it relates the terms to the topics\n",
    "- Vt is the column space, so it relates the course to the topics"
   ]
  },
  {
   "cell_type": "code",
   "execution_count": 104,
   "metadata": {
    "collapsed": false
   },
   "outputs": [
    {
     "name": "stdout",
     "output_type": "stream",
     "text": [
      "The top-20 eigenvalues of X : \n"
     ]
    },
    {
     "data": {
      "text/plain": [
       "[39.419623854044232,\n",
       " 25.923089457921758,\n",
       " 24.210111699354407,\n",
       " 22.594426256236058,\n",
       " 21.831873950133076,\n",
       " 21.682666730617587,\n",
       " 20.954186974052032,\n",
       " 20.347456189532462,\n",
       " 20.172810241138365,\n",
       " 19.455031816896174,\n",
       " 19.001939163825636,\n",
       " 18.815930051692394,\n",
       " 18.752118551849126,\n",
       " 18.445992548658776,\n",
       " 18.009541190364775,\n",
       " 17.848554284297016,\n",
       " 17.732130297409917,\n",
       " 17.540732006707788,\n",
       " 17.44874764370509,\n",
       " 17.410762340181716]"
      ]
     },
     "execution_count": 104,
     "metadata": {},
     "output_type": "execute_result"
    }
   ],
   "source": [
    "print(\"The top-20 eigenvalues of X : \")\n",
    "list(S[-20:][::-1])"
   ]
  },
  {
   "cell_type": "markdown",
   "metadata": {},
   "source": [
    "## Exercise 4.5: Topic extraction"
   ]
  },
  {
   "cell_type": "code",
   "execution_count": 105,
   "metadata": {
    "collapsed": false,
    "scrolled": false
   },
   "outputs": [
    {
     "name": "stdout",
     "output_type": "stream",
     "text": [
      "Topic 1 top 10 terms:\n",
      "  - problem\t0.099\n",
      "  - report\t0.094\n",
      "  - research\t0.092\n",
      "  - presentation\t0.091\n",
      "  - plan\t0.089\n",
      "  - material\t0.085\n",
      "  - process\t0.083\n",
      "  - scientific\t0.078\n",
      "  - engineering\t0.078\n",
      "  - work\t0.077\n",
      "Topic 1 top 10 courses:\n",
      "  - Lab immersion III\t0.131\n",
      "  - Lab immersion I\t0.128\n",
      "  - Bioprocesses and downstream processing\t0.123\n",
      "  - Renewable energy and solar architecture in Davos\t0.116\n",
      "  - Lab immersion II\t0.113\n",
      "  - Nanobiotechnology and biophysics\t0.106\n",
      "  - Semester project in Bioengineering\t0.106\n",
      "  - General physics (English) II\t0.093\n",
      "  - Principles of finance\t0.089\n",
      "  - Project in bioengineering and biosciences\t0.087\n",
      "Topic 2 top 10 terms:\n",
      "  - wetlab\t0.221\n",
      "  - experimentation\t0.205\n",
      "  - obtained\t0.173\n",
      "  - experiment\t0.157\n",
      "  - laboratory-based\t0.144\n",
      "  - ou\t0.126\n",
      "  - semaines\t0.126\n",
      "  - plan\t0.114\n",
      "  - research\t0.105\n",
      "  - neuroscience\t0.104\n",
      "Topic 2 top 10 courses:\n",
      "  - Lab immersion III\t0.408\n",
      "  - Lab immersion I\t0.392\n",
      "  - Lab immersion II\t0.355\n",
      "  - Semester project in Bioengineering\t0.293\n",
      "  - Project in bioengineering and biosciences\t0.206\n",
      "  - Nanofabrication with focused electron and ion beams\t-0.129\n",
      "  - Bioprocesses and downstream processing\t-0.100\n",
      "  - Lab immersion in industry A\t0.098\n",
      "  - Lab immersion in industry B\t0.096\n",
      "  - Lab immersion academic (outside EPFL) A\t0.096\n",
      "Topic 3 top 10 terms:\n",
      "  - financial\t-0.202\n",
      "  - pricing\t-0.142\n",
      "  - market\t-0.132\n",
      "  - finance\t-0.130\n",
      "  - microscopy\t0.126\n",
      "  - electron\t0.125\n",
      "  - stochastic\t-0.122\n",
      "  - risk\t-0.122\n",
      "  - cell\t0.121\n",
      "  - probability\t-0.109\n",
      "Topic 3 top 10 courses:\n",
      "  - Principles of finance\t-0.234\n",
      "  - Nanofabrication with focused electron and ion beams\t0.208\n",
      "  - Introduction to finance (IF master and minor only)\t-0.189\n",
      "  - Nanobiotechnology and biophysics\t0.171\n",
      "  - Quantitative methods in finance\t-0.163\n",
      "  - Advanced topics in financial econometrics\t-0.150\n",
      "  - Lab immersion III\t0.144\n",
      "  - Asset Pricing\t-0.141\n",
      "  - Lab immersion I\t0.137\n",
      "  - Investments\t-0.133\n",
      "Topic 4 top 10 terms:\n",
      "  - studio\t0.159\n",
      "  - architectural\t0.143\n",
      "  - development\t0.125\n",
      "  - linear\t-0.122\n",
      "  - urban\t0.119\n",
      "  - architecture\t0.116\n",
      "  - wetlab\t-0.112\n",
      "  - equation\t-0.104\n",
      "  - problem\t-0.102\n",
      "  - semester\t0.099\n",
      "Topic 4 top 10 courses:\n",
      "  - Théorie et critique du projet MA2 (Gugger)\t0.290\n",
      "  - Théorie et critique du projet MA1 (Gugger)\t0.269\n",
      "  - Renewable energy and solar architecture in Davos\t0.253\n",
      "  - Lab immersion III\t-0.187\n",
      "  - Studio MA2 (Escher et GuneWardena)\t0.180\n",
      "  - Lab immersion I\t-0.179\n",
      "  - Lab immersion II\t-0.164\n",
      "  - Théorie et critique du projet MA2 (Huang)\t0.158\n",
      "  - Théorie et critique du projet MA1 (Huang)\t0.150\n",
      "  - Studio MA1 (Escher et GuneWardena)\t0.130\n",
      "Topic 5 top 10 terms:\n",
      "  - financial\t-0.161\n",
      "  - bioprocess\t-0.154\n",
      "  - cell\t-0.150\n",
      "  - architecture\t0.126\n",
      "  - kinetics\t-0.123\n",
      "  - risk\t-0.120\n",
      "  - pricing\t-0.118\n",
      "  - circuit\t0.107\n",
      "  - market\t-0.106\n",
      "  - downstream\t-0.105\n",
      "Topic 5 top 10 courses:\n",
      "  - Bioprocesses and downstream processing\t-0.442\n",
      "  - Biochemical engineering\t-0.306\n",
      "  - Principles of finance\t-0.183\n",
      "  - Introduction to finance (IF master and minor only)\t-0.161\n",
      "  - Asset Pricing\t-0.149\n",
      "  - Théorie et critique du projet MA2 (Gugger)\t0.144\n",
      "  - Théorie et critique du projet MA1 (Gugger)\t0.135\n",
      "  - Investments\t-0.119\n",
      "  - Nanocomputing: Devices, Circuits and Architectures\t0.119\n",
      "  - Advanced topics in financial econometrics\t-0.114\n",
      "Topic 6 top 10 terms:\n",
      "  - financial\t-0.189\n",
      "  - microscopy\t-0.176\n",
      "  - sem\t-0.172\n",
      "  - electron\t-0.158\n",
      "  - microscope\t-0.143\n",
      "  - risk\t-0.134\n",
      "  - pricing\t-0.128\n",
      "  - market\t-0.126\n",
      "  - equation\t0.123\n",
      "  - fib\t-0.120\n",
      "Topic 6 top 10 courses:\n",
      "  - Nanofabrication with focused electron and ion beams\t-0.328\n",
      "  - Bioprocesses and downstream processing\t0.295\n",
      "  - Principles of finance\t-0.241\n",
      "  - Biochemical engineering\t0.200\n",
      "  - Introduction to finance (IF master and minor only)\t-0.197\n",
      "  - Nanobiotechnology and biophysics\t-0.179\n",
      "  - Scanning electron microscopy techniques (b)\t-0.178\n",
      "  - Scanning electron microscopy techniques (a)\t-0.178\n",
      "  - Asset Pricing\t-0.157\n",
      "  - Introduction to scanning electron microscopy microanalysis techniques\t-0.139\n",
      "Topic 7 top 10 terms:\n",
      "  - cell\t0.191\n",
      "  - protein\t0.177\n",
      "  - edms\t0.143\n",
      "  - doctoral\t0.130\n",
      "  - biology\t0.109\n",
      "  - drug\t0.107\n",
      "  - algorithm\t0.104\n",
      "  - regression\t0.103\n",
      "  - note\t0.098\n",
      "  - network\t0.097\n",
      "Topic 7 top 10 courses:\n",
      "  - Practical - Constam Lab\t0.240\n",
      "  - Nanobiotechnology and biophysics\t0.178\n",
      "  - Principles of finance\t-0.145\n",
      "  - Machine Learning for Engineers\t0.139\n",
      "  - General physics (English) II\t-0.129\n",
      "  - Nanofabrication with focused electron and ion beams\t-0.127\n",
      "  - Chemistry of small biological molecules\t0.116\n",
      "  - Semiconductor physics and fundamentals of electronic devices\t-0.115\n",
      "  - Solid state physics II\t-0.110\n",
      "  - Fundamentals in statistical pattern recognition\t0.109\n",
      "Topic 8 top 10 terms:\n",
      "  - sem\t-0.218\n",
      "  - device\t0.173\n",
      "  - fib\t-0.160\n",
      "  - microscope\t-0.149\n",
      "  - electron\t-0.145\n",
      "  - circuit\t0.145\n",
      "  - semiconductor\t0.128\n",
      "  - beam\t-0.127\n",
      "  - transistor\t0.120\n",
      "  - studio\t-0.113\n",
      "Topic 8 top 10 courses:\n",
      "  - Nanofabrication with focused electron and ion beams\t-0.427\n",
      "  - Bioprocesses and downstream processing\t-0.236\n",
      "  - Scanning electron microscopy techniques (b)\t-0.205\n",
      "  - Scanning electron microscopy techniques (a)\t-0.205\n",
      "  - Studio MA2 (Escher et GuneWardena)\t-0.176\n",
      "  - Introduction to scanning electron microscopy microanalysis techniques\t-0.170\n",
      "  - Biochemical engineering\t-0.152\n",
      "  - Semiconductor physics and fundamentals of electronic devices\t0.149\n",
      "  - Théorie et critique du projet MA2 (Gugger)\t-0.147\n",
      "  - Nanocomputing: Devices, Circuits and Architectures\t0.138\n",
      "Topic 9 top 10 terms:\n",
      "  - circuit\t0.182\n",
      "  - bioprocess\t0.165\n",
      "  - device\t0.130\n",
      "  - processing\t0.122\n",
      "  - sensor\t0.122\n",
      "  - mechanic\t-0.116\n",
      "  - downstream\t0.114\n",
      "  - fluid\t-0.114\n",
      "  - bioreactors\t0.107\n",
      "  - transistor\t0.102\n",
      "Topic 9 top 10 courses:\n",
      "  - Bioprocesses and downstream processing\t0.453\n",
      "  - Biochemical engineering\t0.291\n",
      "  - Environmental transport phenomena\t-0.139\n",
      "  - Nanocomputing: Devices, Circuits and Architectures\t0.138\n",
      "  - General physics (English) II\t-0.134\n",
      "  - Atmospheric Boundary Layer\t-0.121\n",
      "  - Microelectronics\t0.120\n",
      "  - IC design for robustness\t0.115\n",
      "  - Optical detectors\t0.114\n",
      "  - Structural mechanics (for SV)\t-0.113\n",
      "Topic 10 top 10 terms:\n",
      "  - architectural\t-0.187\n",
      "  - studio\t-0.163\n",
      "  - american\t-0.125\n",
      "  - spatial\t-0.122\n",
      "  - modernity\t-0.119\n",
      "  - respecting\t-0.116\n",
      "  - heritage\t-0.116\n",
      "  - iconic\t-0.114\n",
      "  - site\t-0.112\n",
      "  - historical\t-0.104\n",
      "Topic 10 top 10 courses:\n",
      "  - Studio MA2 (Escher et GuneWardena)\t-0.374\n",
      "  - Renewable energy and solar architecture in Davos\t0.240\n",
      "  - Théorie et critique du projet MA2 (Gugger)\t-0.229\n",
      "  - Théorie et critique du projet MA1 (Gugger)\t-0.200\n",
      "  - Structural mechanics (for SV)\t0.183\n",
      "  - Nanofabrication with focused electron and ion beams\t0.180\n",
      "  - Théorie et critique du projet MA2 (Huang)\t-0.165\n",
      "  - Hydrogeophysics\t0.158\n",
      "  - Théorie et critique du projet MA1 (Huang)\t-0.154\n",
      "  - Studio MA1 (Escher et GuneWardena)\t-0.133\n"
     ]
    }
   ],
   "source": [
    "for i in reversed(range(k-10,k)):\n",
    "    print('Topic %d top 10 terms:'%(k-i))\n",
    "    topTerms = np.argsort(-np.abs(U.T[i]))[:10]\n",
    "    for term in topTerms:\n",
    "        print('  - %s\\t%.3f'%(idx2Term[term],U.T[i][term]))\n",
    "    print('Topic %d top 10 courses:'%(k-i))\n",
    "    topCourses = np.argsort(-np.abs(Vt[i]))[:10]\n",
    "    for course in topCourses:\n",
    "        print('  - %s\\t%.3f'%(id2name[idx2Course[course]],Vt[i][course]))"
   ]
  },
  {
   "cell_type": "markdown",
   "metadata": {},
   "source": [
    "1. Research\n",
    "2. Laboratory\n",
    "3. Finances\n",
    "4. Architecture\n",
    "5. Bio economy \n",
    "6. Microscopy\n",
    "7. Life science\n",
    "8. Micro technology\n",
    "9. Biomechanics\n",
    "10. Cultural Heritage"
   ]
  },
  {
   "cell_type": "markdown",
   "metadata": {},
   "source": [
    "## Exercise 4.6: Document similarity search in concept-space"
   ]
  },
  {
   "cell_type": "code",
   "execution_count": 131,
   "metadata": {
    "collapsed": false
   },
   "outputs": [
    {
     "data": {
      "text/plain": [
       "(300,)"
      ]
     },
     "execution_count": 131,
     "metadata": {},
     "output_type": "execute_result"
    }
   ],
   "source": [
    "U[0].shape"
   ]
  },
  {
   "cell_type": "code",
   "execution_count": 130,
   "metadata": {
    "collapsed": true
   },
   "outputs": [],
   "source": [
    "def sim(Ut,d):\n",
    "    Sig = np.diag(S)\n",
    "    Vd = Vt.T[d]\n",
    "    SVd = np.dot(Sig,Vd)\n",
    "    return np.dot(Ut,np.dot(Sig,Vd.T))/(np.sqrt(np.dot(Ut,Ut))*np.sqrt(np.dot(SVd,SVd)))\n",
    "\n",
    "def query(terms):\n",
    "    terms = terms.split(' ')\n",
    "    \n",
    "    Ut = U[term2Idx[terms[0]]]\n",
    "    for term in terms[1:]:\n",
    "        Ut += U[term2Idx[term]]\n",
    "    results = np.array([sim(Ut,d) for d in range(numCourses)])\n",
    "    top = np.argsort(-results)[:5]\n",
    "    # We filter all courses with null scores\n",
    "    top = [course for course in top if results[course] != 0.0]\n",
    "    \n",
    "    for course in top:\n",
    "        print('   -',id2name[idx2Course[course]],'\\t%.3f'%results[course])"
   ]
  },
  {
   "cell_type": "code",
   "execution_count": 132,
   "metadata": {
    "collapsed": false
   },
   "outputs": [
    {
     "name": "stdout",
     "output_type": "stream",
     "text": [
      "Top courses for vsm:\n",
      "   - Computational Social Media \t0.186\n",
      "Top courses for lsi:\n",
      "   - Computational Social Media \t0.918\n",
      "   - Social media \t0.680\n",
      "   - How people learn I \t0.434\n",
      "   - How people learn II \t0.352\n",
      "   - Privacy Protection \t0.297\n"
     ]
    }
   ],
   "source": [
    "print('Top courses for vsm:')\n",
    "print(\"\"\"   - Computational Social Media \t0.186\"\"\")\n",
    "print('Top courses for lsi:')\n",
    "query('facebook')"
   ]
  },
  {
   "cell_type": "markdown",
   "metadata": {},
   "source": [
    "We have more courses suggestion than previously. This is due to the dimensionality reduction, before the exact term 'Facebook' only appeared in Computational Social Media.\n",
    "\n",
    "However now, some other terms have been \"assimilated\" in the same topic as 'facebook', thus giving us more results. The course Computational Social Media still is at the top, since it has the term facebook."
   ]
  },
  {
   "cell_type": "code",
   "execution_count": 135,
   "metadata": {
    "collapsed": false
   },
   "outputs": [
    {
     "name": "stdout",
     "output_type": "stream",
     "text": [
      "Top courses for vsm:\n",
      "   - Applied probability & stochastic processes \t0.568\n",
      "   - Applied stochastic processes \t0.566\n",
      "   - Markov chains and algorithmic applications \t0.358\n",
      "   - Supply chain management \t0.357\n",
      "   - Statistical Sequence Processing \t0.299\n",
      "Top courses for lsi:\n",
      "   - Supply chain management \t0.840\n",
      "   - Mathematical models in supply chain management \t0.777\n",
      "   - Applied probability & stochastic processes \t0.610\n",
      "   - Markov chains and algorithmic applications \t0.587\n",
      "   - Applied stochastic processes \t0.578\n"
     ]
    }
   ],
   "source": [
    "print('Top courses for vsm:')\n",
    "print(\"\"\"   - Applied probability & stochastic processes \t0.568\n",
    "   - Applied stochastic processes \t0.566\n",
    "   - Markov chains and algorithmic applications \t0.358\n",
    "   - Supply chain management \t0.357\n",
    "   - Statistical Sequence Processing \t0.299\"\"\")\n",
    "print('Top courses for lsi:')\n",
    "query('markov chain')"
   ]
  },
  {
   "cell_type": "markdown",
   "metadata": {},
   "source": [
    "Since the similarity formula tries to 'reconstruct' the term/document value of the intial matrix $X$, but it approximates it with only 300 topics.\n",
    "\n",
    "Thus it is likely that 'markov' has been associated with 'chain', and thus has less weight than previously, resulting in having the course with an high tf-idf for 'chain' being the most relevant to the query."
   ]
  },
  {
   "cell_type": "markdown",
   "metadata": {},
   "source": [
    "## Exercise 4.7: Document-document similarity"
   ]
  },
  {
   "cell_type": "markdown",
   "metadata": {},
   "source": [
    "We can simply to a cosine similarity between $S\\mathbf{v}^T_{d1}$ and $S\\mathbf{v}^T_{d2}$.\n",
    "The idea is to compare the two documents to topic similarity, but to also weight it by the importance of the topic.\n",
    "\n",
    "For example, let's say we have 3 documents $d_{1,2,3}$, with $k$ topics $t_{1,2,..k}$ with the importance of $t_1$ > $t_2$ > $t_k$ and that $d_1$ and $d_2$ have a topic $t_i$ very similar and all other not similar at all and that $d_1$ and $d_3$ have a topic $t_j$ very similar and also other topics not similar (and that $t_i$ and $t_j$ are not similar for $d_2 and $d_3$).\n",
    "\n",
    "Then it makes more sense that $d_1$ is rated as more similar to $d_2$ than to $d_3$, since the $t_1$ is more important thatn $t_2$."
   ]
  },
  {
   "cell_type": "code",
   "execution_count": 111,
   "metadata": {
    "collapsed": true
   },
   "outputs": [],
   "source": [
    "def docSim(d1,d2):\n",
    "    Sig = np.diag(S)\n",
    "    SVtd1 = np.dot(Sig,Vt[:,d1])\n",
    "    SVtd2 = np.dot(Sig,Vt[:,d2])\n",
    "    return np.dot(SVtd1,SVtd2)/(np.sqrt(np.dot(SVtd1,SVtd1))*np.sqrt(np.dot(SVtd2,SVtd2)))"
   ]
  },
  {
   "cell_type": "code",
   "execution_count": 112,
   "metadata": {
    "collapsed": false
   },
   "outputs": [
    {
     "name": "stdout",
     "output_type": "stream",
     "text": [
      "Top 5 classes most similar to com-308 :\n"
     ]
    },
    {
     "data": {
      "text/plain": [
       "['Martingales in financial mathematics',\n",
       " 'Risk management',\n",
       " 'D. Thinking: real problems, human-focused solutions',\n",
       " 'Neurosciences II : cellular mechanisms of brain function',\n",
       " 'Working group in Topology II']"
      ]
     },
     "execution_count": 112,
     "metadata": {},
     "output_type": "execute_result"
    }
   ],
   "source": [
    "com308 = course2Idx['COM-308']\n",
    "# All courses without com 308\n",
    "coursesFiltered = [x for x in idx2Course.keys() if not x == com308]\n",
    "top = np.argsort(-np.array(list(map(lambda d: docSim(com308,d), coursesFiltered))))[:5]\n",
    "print(\"Top 5 classes most similar to com-308 :\")\n",
    "list(map(lambda x: id2name[idx2Course[x]], top))"
   ]
  },
  {
   "cell_type": "code",
   "execution_count": null,
   "metadata": {
    "collapsed": true
   },
   "outputs": [],
   "source": []
  }
 ],
 "metadata": {
  "anaconda-cloud": {},
  "kernelspec": {
   "display_name": "Python 3",
   "language": "python",
   "name": "python3"
  },
  "language_info": {
   "codemirror_mode": {
    "name": "ipython",
    "version": 3
   },
   "file_extension": ".py",
   "mimetype": "text/x-python",
   "name": "python",
   "nbconvert_exporter": "python",
   "pygments_lexer": "ipython3",
   "version": "3.5.2"
  }
 },
 "nbformat": 4,
 "nbformat_minor": 2
}
