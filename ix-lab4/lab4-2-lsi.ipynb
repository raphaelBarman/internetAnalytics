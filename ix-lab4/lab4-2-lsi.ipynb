{
 "cells": [
  {
   "cell_type": "markdown",
   "metadata": {},
   "source": [
    "# Text 2: Latent semantic indexing\n",
    "**Internet Analytics - Lab 4**\n",
    "\n",
    "---\n",
    "\n",
    "**Group:** R\n",
    "\n",
    "**Names:**\n",
    "\n",
    "* Raphael Strebel\n",
    "* Raphaël Barman\n",
    "* Thierry Bossy\n",
    "\n",
    "---\n",
    "\n",
    "#### Instructions\n",
    "\n",
    "*This is a template for part 2 of the lab. Clearly write your answers, comments and interpretations in Markodown cells. Don't forget that you can add $\\LaTeX$ equations in these cells. Feel free to add or remove any cell.*\n",
    "\n",
    "*Please properly comment your code. Code readability will be considered for grading. To avoid long cells of codes in the notebook, you can also embed long python functions and classes in a separate module. Don’t forget to hand in your module if that is the case. In multiple exercises, you are required to come up with your own method to solve various problems. Be creative and clearly motivate and explain your methods. Creativity and clarity will be considered for grading.*"
   ]
  },
  {
   "cell_type": "code",
   "execution_count": 1,
   "metadata": {
    "collapsed": true
   },
   "outputs": [],
   "source": [
    "import pickle\n",
    "import numpy as np\n",
    "from scipy.sparse.linalg import svds\n",
    "\n",
    "id2name = np.load('id2name.npy').item()\n",
    "name2id = np.load('name2id.npy').item()\n",
    "idx2Term = np.load('idx2Term.npy').item()\n",
    "term2Idx = np.load('term2Idx.npy').item()\n",
    "idx2Course = np.load('idx2Course.npy').item()\n",
    "course2Idx = np.load('course2Idx.npy').item()\n",
    "numTerms = len(term2Idx)\n",
    "numCourses = len(course2Idx)\n",
    "\n",
    "idf = np.load('idf.npy')\n",
    "\n",
    "X = np.load('X.npy').item()"
   ]
  },
  {
   "cell_type": "markdown",
   "metadata": {},
   "source": [
    "## Exercise 4.4: Latent semantic indexing"
   ]
  },
  {
   "cell_type": "code",
   "execution_count": 2,
   "metadata": {
    "collapsed": true
   },
   "outputs": [],
   "source": [
    "k = 300\n",
    "U, S, Vt = svds(X,k)"
   ]
  },
  {
   "cell_type": "markdown",
   "metadata": {},
   "source": [
    "- S is the scaling of the matrix, thus it represents the importance of the topic\n",
    "- U in SVD represents the row space, so in our case it relates the terms to the topics\n",
    "- Vt is the column space, so it relates the course to the topics"
   ]
  },
  {
   "cell_type": "code",
   "execution_count": 3,
   "metadata": {},
   "outputs": [
    {
     "name": "stdout",
     "output_type": "stream",
     "text": [
      "The top-20 eigenvalues of X : \n",
      "39.4021191763\n",
      "25.9185495559\n",
      "24.2083222301\n",
      "22.5214587075\n",
      "21.8281447463\n",
      "21.6825048095\n",
      "20.9470019875\n",
      "20.345246589\n",
      "20.165944542\n",
      "19.405631305\n",
      "18.9725390588\n",
      "18.7981133945\n",
      "18.7352250225\n",
      "18.4012226199\n",
      "17.9634010338\n",
      "17.735473807\n",
      "17.7320502856\n",
      "17.4728501849\n",
      "17.4167092251\n",
      "17.1811733303\n"
     ]
    }
   ],
   "source": [
    "print(\"The top-20 eigenvalues of X : \")\n",
    "for val in S[-20:][::-1]:\n",
    "    print(val)"
   ]
  },
  {
   "cell_type": "markdown",
   "metadata": {},
   "source": [
    "## Exercise 4.5: Topic extraction"
   ]
  },
  {
   "cell_type": "code",
   "execution_count": 4,
   "metadata": {
    "scrolled": false
   },
   "outputs": [
    {
     "name": "stdout",
     "output_type": "stream",
     "text": [
      "Topic 1 top 10 terms:\n",
      "  - problem\t0.099\n",
      "  - report\t0.094\n",
      "  - research\t0.093\n",
      "  - presentation\t0.090\n",
      "  - plan\t0.089\n",
      "  - material\t0.085\n",
      "  - process\t0.083\n",
      "  - scientific\t0.078\n",
      "  - engineering\t0.078\n",
      "  - work\t0.077\n",
      "Topic 1 top 10 courses:\n",
      "  - Lab immersion III\t0.131\n",
      "  - Lab immersion I\t0.128\n",
      "  - Bioprocesses and downstream processing\t0.124\n",
      "  - Lab immersion II\t0.113\n",
      "  - Renewable energy and solar architecture in Davos\t0.109\n",
      "  - Nanobiotechnology and biophysics\t0.106\n",
      "  - Semester project in Bioengineering\t0.106\n",
      "  - General physics (English) II\t0.093\n",
      "  - Principles of finance\t0.089\n",
      "  - Project in bioengineering and biosciences\t0.087\n",
      "Topic 2 top 10 terms:\n",
      "  - wetlab\t0.222\n",
      "  - experimentation\t0.205\n",
      "  - obtained\t0.173\n",
      "  - experiment\t0.157\n",
      "  - laboratory-based\t0.144\n",
      "  - ou\t0.126\n",
      "  - semaines\t0.126\n",
      "  - plan\t0.115\n",
      "  - research\t0.105\n",
      "  - neuroscience\t0.105\n",
      "Topic 2 top 10 courses:\n",
      "  - Lab immersion III\t0.409\n",
      "  - Lab immersion I\t0.393\n",
      "  - Lab immersion II\t0.356\n",
      "  - Semester project in Bioengineering\t0.294\n",
      "  - Project in bioengineering and biosciences\t0.207\n",
      "  - Nanofabrication with focused electron and ion beams\t-0.128\n",
      "  - Bioprocesses and downstream processing\t-0.099\n",
      "  - Lab immersion in industry A\t0.098\n",
      "  - Lab immersion in industry B\t0.096\n",
      "  - Lab immersion academic (outside EPFL) A\t0.096\n",
      "Topic 3 top 10 terms:\n",
      "  - financial\t0.202\n",
      "  - pricing\t0.142\n",
      "  - market\t0.133\n",
      "  - finance\t0.130\n",
      "  - microscopy\t-0.126\n",
      "  - electron\t-0.125\n",
      "  - stochastic\t0.123\n",
      "  - risk\t0.122\n",
      "  - cell\t-0.121\n",
      "  - probability\t0.109\n",
      "Topic 3 top 10 courses:\n",
      "  - Principles of finance\t0.234\n",
      "  - Nanofabrication with focused electron and ion beams\t-0.208\n",
      "  - Introduction to finance (IF master and minor only)\t0.190\n",
      "  - Nanobiotechnology and biophysics\t-0.171\n",
      "  - Quantitative methods in finance\t0.163\n",
      "  - Advanced topics in financial econometrics\t0.150\n",
      "  - Asset Pricing\t0.142\n",
      "  - Lab immersion III\t-0.141\n",
      "  - Lab immersion I\t-0.135\n",
      "  - Investments\t0.133\n",
      "Topic 4 top 10 terms:\n",
      "  - studio\t-0.162\n",
      "  - architectural\t-0.146\n",
      "  - linear\t0.123\n",
      "  - development\t-0.122\n",
      "  - urban\t-0.121\n",
      "  - architecture\t-0.115\n",
      "  - wetlab\t0.111\n",
      "  - equation\t0.105\n",
      "  - problem\t0.102\n",
      "  - semester\t-0.101\n",
      "Topic 4 top 10 courses:\n",
      "  - Théorie et critique du projet MA2 (Gugger)\t-0.294\n",
      "  - Théorie et critique du projet MA1 (Gugger)\t-0.271\n",
      "  - Renewable energy and solar architecture in Davos\t-0.197\n",
      "  - Studio MA2 (Escher et GuneWardena)\t-0.186\n",
      "  - Lab immersion III\t0.184\n",
      "  - Lab immersion I\t0.176\n",
      "  - Théorie et critique du projet MA2 (Huang)\t-0.162\n",
      "  - Lab immersion II\t0.161\n",
      "  - Théorie et critique du projet MA1 (Huang)\t-0.154\n",
      "  - Studio MA1 (Escher et GuneWardena)\t-0.133\n",
      "Topic 5 top 10 terms:\n",
      "  - financial\t0.160\n",
      "  - bioprocess\t0.153\n",
      "  - cell\t0.147\n",
      "  - architecture\t-0.129\n",
      "  - kinetics\t0.123\n",
      "  - risk\t0.119\n",
      "  - pricing\t0.118\n",
      "  - circuit\t-0.107\n",
      "  - market\t0.106\n",
      "  - downstream\t0.105\n",
      "Topic 5 top 10 courses:\n",
      "  - Bioprocesses and downstream processing\t0.440\n",
      "  - Biochemical engineering\t0.304\n",
      "  - Principles of finance\t0.181\n",
      "  - Introduction to finance (IF master and minor only)\t0.160\n",
      "  - Théorie et critique du projet MA2 (Gugger)\t-0.152\n",
      "  - Asset Pricing\t0.148\n",
      "  - Théorie et critique du projet MA1 (Gugger)\t-0.142\n",
      "  - Nanocomputing: Devices, Circuits and Architectures\t-0.120\n",
      "  - Investments\t0.119\n",
      "  - Théorie et critique du projet MA2 (Huang)\t-0.119\n",
      "Topic 6 top 10 terms:\n",
      "  - financial\t-0.190\n",
      "  - microscopy\t-0.176\n",
      "  - sem\t-0.172\n",
      "  - electron\t-0.158\n",
      "  - microscope\t-0.143\n",
      "  - risk\t-0.135\n",
      "  - pricing\t-0.129\n",
      "  - market\t-0.127\n",
      "  - equation\t0.122\n",
      "  - fib\t-0.120\n",
      "Topic 6 top 10 courses:\n",
      "  - Nanofabrication with focused electron and ion beams\t-0.328\n",
      "  - Bioprocesses and downstream processing\t0.294\n",
      "  - Principles of finance\t-0.242\n",
      "  - Biochemical engineering\t0.199\n",
      "  - Introduction to finance (IF master and minor only)\t-0.198\n",
      "  - Nanobiotechnology and biophysics\t-0.179\n",
      "  - Scanning electron microscopy techniques (b)\t-0.178\n",
      "  - Scanning electron microscopy techniques (a)\t-0.178\n",
      "  - Asset Pricing\t-0.158\n",
      "  - Introduction to scanning electron microscopy microanalysis techniques\t-0.139\n",
      "Topic 7 top 10 terms:\n",
      "  - cell\t-0.190\n",
      "  - protein\t-0.177\n",
      "  - edms\t-0.143\n",
      "  - doctoral\t-0.129\n",
      "  - biology\t-0.109\n",
      "  - drug\t-0.107\n",
      "  - algorithm\t-0.105\n",
      "  - regression\t-0.104\n",
      "  - note\t-0.098\n",
      "  - network\t-0.097\n",
      "Topic 7 top 10 courses:\n",
      "  - Practical - Constam Lab\t-0.240\n",
      "  - Nanobiotechnology and biophysics\t-0.179\n",
      "  - Principles of finance\t0.145\n",
      "  - Machine Learning for Engineers\t-0.140\n",
      "  - General physics (English) II\t0.128\n",
      "  - Nanofabrication with focused electron and ion beams\t0.126\n",
      "  - Chemistry of small biological molecules\t-0.116\n",
      "  - Semiconductor physics and fundamentals of electronic devices\t0.115\n",
      "  - Solid state physics II\t0.110\n",
      "  - Fundamentals in statistical pattern recognition\t-0.110\n",
      "Topic 8 top 10 terms:\n",
      "  - sem\t-0.219\n",
      "  - device\t0.177\n",
      "  - fib\t-0.160\n",
      "  - circuit\t0.149\n",
      "  - microscope\t-0.149\n",
      "  - electron\t-0.146\n",
      "  - semiconductor\t0.130\n",
      "  - beam\t-0.128\n",
      "  - transistor\t0.123\n",
      "  - in-situ\t-0.112\n",
      "Topic 8 top 10 courses:\n",
      "  - Nanofabrication with focused electron and ion beams\t-0.429\n",
      "  - Bioprocesses and downstream processing\t-0.227\n",
      "  - Scanning electron microscopy techniques (b)\t-0.206\n",
      "  - Scanning electron microscopy techniques (a)\t-0.206\n",
      "  - Introduction to scanning electron microscopy microanalysis techniques\t-0.171\n",
      "  - Studio MA2 (Escher et GuneWardena)\t-0.168\n",
      "  - Semiconductor physics and fundamentals of electronic devices\t0.152\n",
      "  - Biochemical engineering\t-0.147\n",
      "  - Nanocomputing: Devices, Circuits and Architectures\t0.143\n",
      "  - Théorie et critique du projet MA2 (Gugger)\t-0.142\n",
      "Topic 9 top 10 terms:\n",
      "  - circuit\t-0.178\n",
      "  - bioprocess\t-0.168\n",
      "  - processing\t-0.125\n",
      "  - device\t-0.124\n",
      "  - sensor\t-0.120\n",
      "  - mechanic\t0.117\n",
      "  - downstream\t-0.116\n",
      "  - fluid\t0.114\n",
      "  - bioreactors\t-0.109\n",
      "  - adsorption\t-0.101\n",
      "Topic 9 top 10 courses:\n",
      "  - Bioprocesses and downstream processing\t-0.461\n",
      "  - Biochemical engineering\t-0.296\n",
      "  - Environmental transport phenomena\t0.139\n",
      "  - General physics (English) II\t0.136\n",
      "  - Nanocomputing: Devices, Circuits and Architectures\t-0.132\n",
      "  - Atmospheric Boundary Layer\t0.121\n",
      "  - Microelectronics\t-0.115\n",
      "  - Structural mechanics (for SV)\t0.114\n",
      "  - IC design for robustness\t-0.113\n",
      "  - Optical detectors\t-0.111\n",
      "Topic 10 top 10 terms:\n",
      "  - architectural\t0.173\n",
      "  - studio\t0.154\n",
      "  - american\t0.118\n",
      "  - spatial\t0.115\n",
      "  - modernity\t0.111\n",
      "  - respecting\t0.109\n",
      "  - heritage\t0.108\n",
      "  - iconic\t0.106\n",
      "  - site\t0.103\n",
      "  - optical\t0.101\n",
      "Topic 10 top 10 courses:\n",
      "  - Studio MA2 (Escher et GuneWardena)\t0.350\n",
      "  - Structural mechanics (for SV)\t-0.240\n",
      "  - Théorie et critique du projet MA2 (Gugger)\t0.227\n",
      "  - Théorie et critique du projet MA1 (Gugger)\t0.201\n",
      "  - Hydrogeophysics\t-0.176\n",
      "  - Nanofabrication with focused electron and ion beams\t-0.165\n",
      "  - Théorie et critique du projet MA2 (Huang)\t0.151\n",
      "  - Théorie et critique du projet MA1 (Huang)\t0.141\n",
      "  - Nanobiotechnology and biophysics\t0.139\n",
      "  - Renewable energy and solar architecture in Davos\t-0.129\n"
     ]
    }
   ],
   "source": [
    "for i in reversed(range(k-10,k)):\n",
    "    print('Topic %d top 10 terms:'%(k-i))\n",
    "    topTerms = np.argsort(-np.abs(U.T[i]))[:10]\n",
    "    for term in topTerms:\n",
    "        print('  - %s\\t%.3f'%(idx2Term[term],U.T[i][term]))\n",
    "    print('Topic %d top 10 courses:'%(k-i))\n",
    "    topCourses = np.argsort(-np.abs(Vt[i]))[:10]\n",
    "    for course in topCourses:\n",
    "        print('  - %s\\t%.3f'%(id2name[idx2Course[course]],Vt[i][course]))"
   ]
  },
  {
   "cell_type": "markdown",
   "metadata": {},
   "source": [
    "Labels :\n",
    "1. Research\n",
    "2. Laboratory\n",
    "3. Finances\n",
    "4. Architecture\n",
    "5. Bio economy \n",
    "6. Microscopy\n",
    "7. Life science\n",
    "8. Micro technology\n",
    "9. Biomechanics\n",
    "10. Cultural Heritage"
   ]
  },
  {
   "cell_type": "markdown",
   "metadata": {},
   "source": [
    "## Exercise 4.6: Document similarity search in concept-space"
   ]
  },
  {
   "cell_type": "code",
   "execution_count": 5,
   "metadata": {
    "collapsed": true
   },
   "outputs": [],
   "source": [
    "def sim(Ut,d):\n",
    "    Sig = np.diag(S)\n",
    "    Vd = Vt.T[d]\n",
    "    SVd = np.dot(Sig,Vd)\n",
    "    return np.dot(Ut,np.dot(Sig,Vd.T))/(np.sqrt(np.dot(Ut,Ut))*np.sqrt(np.dot(SVd,SVd)))\n",
    "\n",
    "def query(terms):\n",
    "    terms = terms.split(' ')\n",
    "    \n",
    "    Ut = U[term2Idx[terms[0]]]\n",
    "    for term in terms[1:]:\n",
    "        Ut += U[term2Idx[term]]\n",
    "    results = np.array([sim(Ut,d) for d in range(numCourses)])\n",
    "    top = np.argsort(-results)[:5]\n",
    "    # We filter all courses with null scores\n",
    "    top = [course for course in top if results[course] != 0.0]\n",
    "    \n",
    "    for course in top:\n",
    "        print('   -',id2name[idx2Course[course]],'\\t%.3f'%results[course])"
   ]
  },
  {
   "cell_type": "code",
   "execution_count": 6,
   "metadata": {},
   "outputs": [
    {
     "name": "stdout",
     "output_type": "stream",
     "text": [
      "Top courses for vsm:\n",
      "   - Computational Social Media \t0.186\n",
      "Top courses for lsi:\n",
      "   - Computational Social Media \t0.918\n",
      "   - Social media \t0.679\n",
      "   - How people learn I \t0.435\n",
      "   - How people learn II \t0.353\n",
      "   - Privacy Protection \t0.297\n"
     ]
    }
   ],
   "source": [
    "print('Top courses for vsm:')\n",
    "print(\"\"\"   - Computational Social Media \t0.186\"\"\")\n",
    "print('Top courses for lsi:')\n",
    "query('facebook')"
   ]
  },
  {
   "cell_type": "markdown",
   "metadata": {},
   "source": [
    "We have more course suggestions than previously. This is due to the dimensionality reduction. Before, the exact term 'facebook' only appeared in Computational Social Media but now some other terms have been \"assimilated\" in the same topic as 'facebook', thus giving us more results. The course Computational Social Media is still at the top, since it has the term 'facebook'."
   ]
  },
  {
   "cell_type": "code",
   "execution_count": 7,
   "metadata": {},
   "outputs": [
    {
     "name": "stdout",
     "output_type": "stream",
     "text": [
      "Top courses for vsm:\n",
      "   - Applied probability & stochastic processes \t0.568\n",
      "   - Applied stochastic processes \t0.566\n",
      "   - Markov chains and algorithmic applications \t0.358\n",
      "   - Supply chain management \t0.357\n",
      "   - Statistical Sequence Processing \t0.299\n",
      "Top courses for lsi:\n",
      "   - Applied probability & stochastic processes \t0.758\n",
      "   - Applied stochastic processes \t0.708\n",
      "   - Markov chains and algorithmic applications \t0.671\n",
      "   - Supply chain management \t0.656\n",
      "   - Mathematical models in supply chain management \t0.590\n"
     ]
    }
   ],
   "source": [
    "print('Top courses for vsm:')\n",
    "print(\"\"\"   - Applied probability & stochastic processes \t0.568\n",
    "   - Applied stochastic processes \t0.566\n",
    "   - Markov chains and algorithmic applications \t0.358\n",
    "   - Supply chain management \t0.357\n",
    "   - Statistical Sequence Processing \t0.299\"\"\")\n",
    "print('Top courses for lsi:')\n",
    "query('markov chain')"
   ]
  },
  {
   "cell_type": "markdown",
   "metadata": {},
   "source": [
    "The similarity formula tries to 'reconstruct' the term/document value of the intial matrix $X$, but it approximates it with only 300 topics.\n",
    "\n",
    "Hence it is likely that 'markov' has been associated with 'chain', and thus has less weight than previously. As a result, the course with a high tf-idf for 'chain' is the most relevant to the query."
   ]
  },
  {
   "cell_type": "markdown",
   "metadata": {},
   "source": [
    "## Exercise 4.7: Document-document similarity"
   ]
  },
  {
   "cell_type": "markdown",
   "metadata": {},
   "source": [
    "We can simply do a cosine similarity between $S\\mathbf{v}^T_{d1}$ and $S\\mathbf{v}^T_{d2}$.\n",
    "The idea is to compare the two documents to topic similarity, but also weight them by the importance of the topic.\n",
    "\n",
    "For example, let's say we have 3 documents $d_{1,2,3}$, with $2$ topics $t_{1,2}$ with the importance singular value of $t_1$ bigger than the one of $t_2$ and that $d_1$ and $d_2$ have a very similar topic $t_1$ and a dissimalr topic $t_2$ and that $d_1$ and $d_3$ have the inverse (similar $t_2$, dissimilar $t_1$)\n",
    "\n",
    "Then it makes more sense that $d_1$ is rated as more similar to $d_2$ than to $d_3$, since the $t_1$ is more important that $t_2$."
   ]
  },
  {
   "cell_type": "code",
   "execution_count": 8,
   "metadata": {
    "collapsed": true
   },
   "outputs": [],
   "source": [
    "def docSim(d1,d2):\n",
    "    Sig = np.diag(S)\n",
    "    SVtd1 = np.dot(Sig,Vt[:,d1])\n",
    "    SVtd2 = np.dot(Sig,Vt[:,d2])\n",
    "    return np.dot(SVtd1,SVtd2)/(np.sqrt(np.dot(SVtd1,SVtd1))*np.sqrt(np.dot(SVtd2,SVtd2)))"
   ]
  },
  {
   "cell_type": "code",
   "execution_count": 9,
   "metadata": {},
   "outputs": [
    {
     "name": "stdout",
     "output_type": "stream",
     "text": [
      "Top 5 classes most similar to com-308 :\n",
      "   - Parallel and high-performance computing\n",
      "   - Scientific literature analysis in cell and developmental biology\n",
      "   - Experimental biochemistry and biophysics\n",
      "   - Numerical Analysis and Computational Mathematics\n",
      "   - Seminar series on advances in materials (autumn)\n"
     ]
    }
   ],
   "source": [
    "com308 = course2Idx['COM-308']\n",
    "\n",
    "# All courses without com 308\n",
    "coursesFiltered = [x for x in idx2Course.keys() if not x == com308]\n",
    "# Indexes of the 5 most similar courses\n",
    "top = np.argsort(-np.array(list(map(lambda d: docSim(com308,d), coursesFiltered))))[:5]\n",
    "\n",
    "print(\"Top 5 classes most similar to com-308 :\")\n",
    "for course in map(lambda x: id2name[idx2Course[x]], top):\n",
    "    print(\"   -\",course)"
   ]
  }
 ],
 "metadata": {
  "anaconda-cloud": {},
  "kernelspec": {
   "display_name": "Python 3",
   "language": "python",
   "name": "python3"
  },
  "language_info": {
   "codemirror_mode": {
    "name": "ipython",
    "version": 3
   },
   "file_extension": ".py",
   "mimetype": "text/x-python",
   "name": "python",
   "nbconvert_exporter": "python",
   "pygments_lexer": "ipython3",
   "version": "3.6.1"
  }
 },
 "nbformat": 4,
 "nbformat_minor": 2
}
